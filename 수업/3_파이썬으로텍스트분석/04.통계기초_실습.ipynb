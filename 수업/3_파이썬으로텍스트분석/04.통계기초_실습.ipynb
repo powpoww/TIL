{
 "cells": [
  {
   "cell_type": "code",
   "execution_count": 1,
   "id": "6289a0d2",
   "metadata": {},
   "outputs": [],
   "source": [
    "import numpy as np\n",
    "import pandas as pd\n",
    "import matplotlib.pyplot as plt\n",
    "import seaborn as sns\n",
    "\n",
    "from scipy.stats import chisquare\n",
    "from scipy import stats\n",
    "import scipy as sp\n",
    "import statsmodels.api as sm\n",
    "from statsmodels.formula.api import ols, logit, glm"
   ]
  },
  {
   "cell_type": "code",
   "execution_count": 2,
   "id": "4181305d",
   "metadata": {},
   "outputs": [
    {
     "data": {
      "text/html": [
       "<div>\n",
       "<style scoped>\n",
       "    .dataframe tbody tr th:only-of-type {\n",
       "        vertical-align: middle;\n",
       "    }\n",
       "\n",
       "    .dataframe tbody tr th {\n",
       "        vertical-align: top;\n",
       "    }\n",
       "\n",
       "    .dataframe thead th {\n",
       "        text-align: right;\n",
       "    }\n",
       "</style>\n",
       "<table border=\"1\" class=\"dataframe\">\n",
       "  <thead>\n",
       "    <tr style=\"text-align: right;\">\n",
       "      <th></th>\n",
       "      <th>번호</th>\n",
       "      <th>사용브랜드</th>\n",
       "      <th>사용기간</th>\n",
       "      <th>구매장소</th>\n",
       "      <th>구매가격</th>\n",
       "      <th>정보획득</th>\n",
       "      <th>구입조언</th>\n",
       "      <th>하루사용시간</th>\n",
       "      <th>브랜드이미지</th>\n",
       "      <th>가격만족도</th>\n",
       "      <th>...</th>\n",
       "      <th>구매중요도9_A/S</th>\n",
       "      <th>구매중요도10_명성</th>\n",
       "      <th>성별</th>\n",
       "      <th>연령</th>\n",
       "      <th>연령2</th>\n",
       "      <th>학력</th>\n",
       "      <th>직업</th>\n",
       "      <th>월수입</th>\n",
       "      <th>결혼</th>\n",
       "      <th>가족수</th>\n",
       "    </tr>\n",
       "  </thead>\n",
       "  <tbody>\n",
       "    <tr>\n",
       "      <th>0</th>\n",
       "      <td>181</td>\n",
       "      <td>1</td>\n",
       "      <td>3</td>\n",
       "      <td>1</td>\n",
       "      <td>15</td>\n",
       "      <td>1</td>\n",
       "      <td>2</td>\n",
       "      <td>1</td>\n",
       "      <td>2</td>\n",
       "      <td>4</td>\n",
       "      <td>...</td>\n",
       "      <td>4</td>\n",
       "      <td>3</td>\n",
       "      <td>0</td>\n",
       "      <td>4</td>\n",
       "      <td>2</td>\n",
       "      <td>2</td>\n",
       "      <td>4</td>\n",
       "      <td>2</td>\n",
       "      <td>2</td>\n",
       "      <td>3</td>\n",
       "    </tr>\n",
       "    <tr>\n",
       "      <th>1</th>\n",
       "      <td>94</td>\n",
       "      <td>1</td>\n",
       "      <td>3</td>\n",
       "      <td>3</td>\n",
       "      <td>20</td>\n",
       "      <td>4</td>\n",
       "      <td>3</td>\n",
       "      <td>3</td>\n",
       "      <td>4</td>\n",
       "      <td>3</td>\n",
       "      <td>...</td>\n",
       "      <td>4</td>\n",
       "      <td>5</td>\n",
       "      <td>1</td>\n",
       "      <td>3</td>\n",
       "      <td>2</td>\n",
       "      <td>4</td>\n",
       "      <td>4</td>\n",
       "      <td>4</td>\n",
       "      <td>2</td>\n",
       "      <td>3</td>\n",
       "    </tr>\n",
       "    <tr>\n",
       "      <th>2</th>\n",
       "      <td>12</td>\n",
       "      <td>1</td>\n",
       "      <td>2</td>\n",
       "      <td>1</td>\n",
       "      <td>25</td>\n",
       "      <td>1</td>\n",
       "      <td>1</td>\n",
       "      <td>1</td>\n",
       "      <td>3</td>\n",
       "      <td>2</td>\n",
       "      <td>...</td>\n",
       "      <td>4</td>\n",
       "      <td>4</td>\n",
       "      <td>0</td>\n",
       "      <td>4</td>\n",
       "      <td>2</td>\n",
       "      <td>4</td>\n",
       "      <td>7</td>\n",
       "      <td>4</td>\n",
       "      <td>2</td>\n",
       "      <td>1</td>\n",
       "    </tr>\n",
       "    <tr>\n",
       "      <th>3</th>\n",
       "      <td>156</td>\n",
       "      <td>1</td>\n",
       "      <td>5</td>\n",
       "      <td>3</td>\n",
       "      <td>26</td>\n",
       "      <td>4</td>\n",
       "      <td>3</td>\n",
       "      <td>1</td>\n",
       "      <td>4</td>\n",
       "      <td>4</td>\n",
       "      <td>...</td>\n",
       "      <td>4</td>\n",
       "      <td>4</td>\n",
       "      <td>0</td>\n",
       "      <td>6</td>\n",
       "      <td>3</td>\n",
       "      <td>2</td>\n",
       "      <td>2</td>\n",
       "      <td>5</td>\n",
       "      <td>3</td>\n",
       "      <td>1</td>\n",
       "    </tr>\n",
       "    <tr>\n",
       "      <th>4</th>\n",
       "      <td>19</td>\n",
       "      <td>1</td>\n",
       "      <td>3</td>\n",
       "      <td>5</td>\n",
       "      <td>30</td>\n",
       "      <td>6</td>\n",
       "      <td>2</td>\n",
       "      <td>3</td>\n",
       "      <td>2</td>\n",
       "      <td>2</td>\n",
       "      <td>...</td>\n",
       "      <td>3</td>\n",
       "      <td>3</td>\n",
       "      <td>0</td>\n",
       "      <td>2</td>\n",
       "      <td>1</td>\n",
       "      <td>4</td>\n",
       "      <td>9</td>\n",
       "      <td>2</td>\n",
       "      <td>1</td>\n",
       "      <td>3</td>\n",
       "    </tr>\n",
       "  </tbody>\n",
       "</table>\n",
       "<p>5 rows × 29 columns</p>\n",
       "</div>"
      ],
      "text/plain": [
       "    번호  사용브랜드  사용기간  구매장소  구매가격  정보획득  구입조언  하루사용시간  브랜드이미지  가격만족도  ...  \\\n",
       "0  181      1     3     1    15     1     2       1       2      4  ...   \n",
       "1   94      1     3     3    20     4     3       3       4      3  ...   \n",
       "2   12      1     2     1    25     1     1       1       3      2  ...   \n",
       "3  156      1     5     3    26     4     3       1       4      4  ...   \n",
       "4   19      1     3     5    30     6     2       3       2      2  ...   \n",
       "\n",
       "   구매중요도9_A/S  구매중요도10_명성   성별  연령  연령2  학력  직업  월수입  결혼  가족수  \n",
       "0           4            3   0   4    2   2   4    2   2    3  \n",
       "1           4            5   1   3    2   4   4    4   2    3  \n",
       "2           4            4   0   4    2   4   7    4   2    1  \n",
       "3           4            4   0   6    3   2   2    5   3    1  \n",
       "4           3            3   0   2    1   4   9    2   1    3  \n",
       "\n",
       "[5 rows x 29 columns]"
      ]
     },
     "execution_count": 2,
     "metadata": {},
     "output_type": "execute_result"
    }
   ],
   "source": [
    "df = pd.read_csv('./data/spstat1.csv', encoding='euc-kr')\n",
    "df.head()"
   ]
  },
  {
   "cell_type": "markdown",
   "id": "8f101916",
   "metadata": {},
   "source": [
    "# 1. 기술통계"
   ]
  },
  {
   "cell_type": "code",
   "execution_count": 44,
   "id": "f5cabf2d",
   "metadata": {
    "scrolled": true
   },
   "outputs": [
    {
     "name": "stdout",
     "output_type": "stream",
     "text": [
      "<class 'pandas.core.frame.DataFrame'>\n",
      "RangeIndex: 252 entries, 0 to 251\n",
      "Data columns (total 29 columns):\n",
      " #   Column       Non-Null Count  Dtype\n",
      "---  ------       --------------  -----\n",
      " 0   번호           252 non-null    int64\n",
      " 1   사용브랜드        252 non-null    int64\n",
      " 2   사용기간         252 non-null    int64\n",
      " 3   구매장소         252 non-null    int64\n",
      " 4   구매가격         252 non-null    int64\n",
      " 5   정보획득         252 non-null    int64\n",
      " 6   구입조언         252 non-null    int64\n",
      " 7   하루사용시간       252 non-null    int64\n",
      " 8   브랜드이미지       252 non-null    int64\n",
      " 9   가격만족도        252 non-null    int64\n",
      " 10  재구매의향        252 non-null    int64\n",
      " 11  구매중요도1_메모리   252 non-null    int64\n",
      " 12  구매중요도2_배터리   252 non-null    int64\n",
      " 13  구매중요도3_카메라   252 non-null    int64\n",
      " 14  구매중요도4_처리속도  252 non-null    int64\n",
      " 15  구매중요도5_보안기능  252 non-null    int64\n",
      " 16  구매중요도6_운영체계  252 non-null    int64\n",
      " 17  구매중요도7_디자인   252 non-null    int64\n",
      " 18  구매중요도8_음질    252 non-null    int64\n",
      " 19  구매중요도9_A/S   252 non-null    int64\n",
      " 20  구매중요도10_명성   252 non-null    int64\n",
      " 21  성별           252 non-null    int64\n",
      " 22  연령           252 non-null    int64\n",
      " 23  연령2          252 non-null    int64\n",
      " 24  학력           252 non-null    int64\n",
      " 25  직업           252 non-null    int64\n",
      " 26  월수입          252 non-null    int64\n",
      " 27  결혼           252 non-null    int64\n",
      " 28  가족수          252 non-null    int64\n",
      "dtypes: int64(29)\n",
      "memory usage: 57.2 KB\n"
     ]
    }
   ],
   "source": [
    "# column, null, dtype check\n",
    "df.info()"
   ]
  },
  {
   "cell_type": "code",
   "execution_count": 15,
   "id": "31ee47ce",
   "metadata": {},
   "outputs": [
    {
     "data": {
      "text/html": [
       "<div>\n",
       "<style scoped>\n",
       "    .dataframe tbody tr th:only-of-type {\n",
       "        vertical-align: middle;\n",
       "    }\n",
       "\n",
       "    .dataframe tbody tr th {\n",
       "        vertical-align: top;\n",
       "    }\n",
       "\n",
       "    .dataframe thead th {\n",
       "        text-align: right;\n",
       "    }\n",
       "</style>\n",
       "<table border=\"1\" class=\"dataframe\">\n",
       "  <thead>\n",
       "    <tr style=\"text-align: right;\">\n",
       "      <th></th>\n",
       "      <th>번호</th>\n",
       "      <th>사용브랜드</th>\n",
       "      <th>사용기간</th>\n",
       "      <th>구매장소</th>\n",
       "      <th>구매가격</th>\n",
       "      <th>정보획득</th>\n",
       "      <th>구입조언</th>\n",
       "      <th>하루사용시간</th>\n",
       "      <th>브랜드이미지</th>\n",
       "      <th>가격만족도</th>\n",
       "      <th>...</th>\n",
       "      <th>구매중요도9_A/S</th>\n",
       "      <th>구매중요도10_명성</th>\n",
       "      <th>성별</th>\n",
       "      <th>연령</th>\n",
       "      <th>연령2</th>\n",
       "      <th>학력</th>\n",
       "      <th>직업</th>\n",
       "      <th>월수입</th>\n",
       "      <th>결혼</th>\n",
       "      <th>가족수</th>\n",
       "    </tr>\n",
       "  </thead>\n",
       "  <tbody>\n",
       "    <tr>\n",
       "      <th>count</th>\n",
       "      <td>252.000000</td>\n",
       "      <td>252.000000</td>\n",
       "      <td>252.000000</td>\n",
       "      <td>252.000000</td>\n",
       "      <td>252.000000</td>\n",
       "      <td>252.000000</td>\n",
       "      <td>252.000000</td>\n",
       "      <td>252.000000</td>\n",
       "      <td>252.000000</td>\n",
       "      <td>252.000000</td>\n",
       "      <td>...</td>\n",
       "      <td>252.000000</td>\n",
       "      <td>252.000000</td>\n",
       "      <td>252.000000</td>\n",
       "      <td>252.000000</td>\n",
       "      <td>252.000000</td>\n",
       "      <td>252.000000</td>\n",
       "      <td>252.000000</td>\n",
       "      <td>252.000000</td>\n",
       "      <td>252.000000</td>\n",
       "      <td>252.000000</td>\n",
       "    </tr>\n",
       "    <tr>\n",
       "      <th>mean</th>\n",
       "      <td>126.500000</td>\n",
       "      <td>1.496032</td>\n",
       "      <td>3.091270</td>\n",
       "      <td>2.940476</td>\n",
       "      <td>101.226190</td>\n",
       "      <td>3.924603</td>\n",
       "      <td>2.313492</td>\n",
       "      <td>2.896825</td>\n",
       "      <td>2.730159</td>\n",
       "      <td>2.777778</td>\n",
       "      <td>...</td>\n",
       "      <td>3.146825</td>\n",
       "      <td>3.027778</td>\n",
       "      <td>0.500000</td>\n",
       "      <td>3.130952</td>\n",
       "      <td>1.809524</td>\n",
       "      <td>4.484127</td>\n",
       "      <td>4.678571</td>\n",
       "      <td>3.702381</td>\n",
       "      <td>1.722222</td>\n",
       "      <td>2.468254</td>\n",
       "    </tr>\n",
       "    <tr>\n",
       "      <th>std</th>\n",
       "      <td>72.890329</td>\n",
       "      <td>0.500979</td>\n",
       "      <td>1.328362</td>\n",
       "      <td>1.318135</td>\n",
       "      <td>38.654982</td>\n",
       "      <td>2.193405</td>\n",
       "      <td>1.111752</td>\n",
       "      <td>1.393379</td>\n",
       "      <td>1.128499</td>\n",
       "      <td>1.024706</td>\n",
       "      <td>...</td>\n",
       "      <td>1.128352</td>\n",
       "      <td>1.346096</td>\n",
       "      <td>0.500995</td>\n",
       "      <td>1.244396</td>\n",
       "      <td>0.699622</td>\n",
       "      <td>1.766145</td>\n",
       "      <td>2.246701</td>\n",
       "      <td>1.701509</td>\n",
       "      <td>0.499225</td>\n",
       "      <td>0.937799</td>\n",
       "    </tr>\n",
       "    <tr>\n",
       "      <th>min</th>\n",
       "      <td>1.000000</td>\n",
       "      <td>1.000000</td>\n",
       "      <td>1.000000</td>\n",
       "      <td>1.000000</td>\n",
       "      <td>10.000000</td>\n",
       "      <td>1.000000</td>\n",
       "      <td>1.000000</td>\n",
       "      <td>1.000000</td>\n",
       "      <td>1.000000</td>\n",
       "      <td>1.000000</td>\n",
       "      <td>...</td>\n",
       "      <td>1.000000</td>\n",
       "      <td>1.000000</td>\n",
       "      <td>0.000000</td>\n",
       "      <td>1.000000</td>\n",
       "      <td>1.000000</td>\n",
       "      <td>1.000000</td>\n",
       "      <td>1.000000</td>\n",
       "      <td>1.000000</td>\n",
       "      <td>1.000000</td>\n",
       "      <td>1.000000</td>\n",
       "    </tr>\n",
       "    <tr>\n",
       "      <th>25%</th>\n",
       "      <td>63.750000</td>\n",
       "      <td>1.000000</td>\n",
       "      <td>2.000000</td>\n",
       "      <td>2.000000</td>\n",
       "      <td>80.000000</td>\n",
       "      <td>1.000000</td>\n",
       "      <td>2.000000</td>\n",
       "      <td>2.000000</td>\n",
       "      <td>2.000000</td>\n",
       "      <td>2.000000</td>\n",
       "      <td>...</td>\n",
       "      <td>2.000000</td>\n",
       "      <td>2.000000</td>\n",
       "      <td>0.000000</td>\n",
       "      <td>2.000000</td>\n",
       "      <td>1.000000</td>\n",
       "      <td>4.000000</td>\n",
       "      <td>3.000000</td>\n",
       "      <td>2.000000</td>\n",
       "      <td>1.000000</td>\n",
       "      <td>2.000000</td>\n",
       "    </tr>\n",
       "    <tr>\n",
       "      <th>50%</th>\n",
       "      <td>126.500000</td>\n",
       "      <td>1.000000</td>\n",
       "      <td>3.000000</td>\n",
       "      <td>3.000000</td>\n",
       "      <td>100.000000</td>\n",
       "      <td>5.000000</td>\n",
       "      <td>2.000000</td>\n",
       "      <td>3.000000</td>\n",
       "      <td>3.000000</td>\n",
       "      <td>3.000000</td>\n",
       "      <td>...</td>\n",
       "      <td>3.000000</td>\n",
       "      <td>3.000000</td>\n",
       "      <td>0.500000</td>\n",
       "      <td>3.000000</td>\n",
       "      <td>2.000000</td>\n",
       "      <td>4.000000</td>\n",
       "      <td>4.000000</td>\n",
       "      <td>4.000000</td>\n",
       "      <td>2.000000</td>\n",
       "      <td>3.000000</td>\n",
       "    </tr>\n",
       "    <tr>\n",
       "      <th>75%</th>\n",
       "      <td>189.250000</td>\n",
       "      <td>2.000000</td>\n",
       "      <td>4.000000</td>\n",
       "      <td>4.000000</td>\n",
       "      <td>120.000000</td>\n",
       "      <td>6.000000</td>\n",
       "      <td>3.000000</td>\n",
       "      <td>4.000000</td>\n",
       "      <td>3.250000</td>\n",
       "      <td>3.000000</td>\n",
       "      <td>...</td>\n",
       "      <td>4.000000</td>\n",
       "      <td>4.000000</td>\n",
       "      <td>1.000000</td>\n",
       "      <td>4.000000</td>\n",
       "      <td>2.000000</td>\n",
       "      <td>6.000000</td>\n",
       "      <td>6.250000</td>\n",
       "      <td>5.000000</td>\n",
       "      <td>2.000000</td>\n",
       "      <td>3.000000</td>\n",
       "    </tr>\n",
       "    <tr>\n",
       "      <th>max</th>\n",
       "      <td>252.000000</td>\n",
       "      <td>2.000000</td>\n",
       "      <td>5.000000</td>\n",
       "      <td>5.000000</td>\n",
       "      <td>250.000000</td>\n",
       "      <td>6.000000</td>\n",
       "      <td>5.000000</td>\n",
       "      <td>5.000000</td>\n",
       "      <td>5.000000</td>\n",
       "      <td>5.000000</td>\n",
       "      <td>...</td>\n",
       "      <td>5.000000</td>\n",
       "      <td>5.000000</td>\n",
       "      <td>1.000000</td>\n",
       "      <td>6.000000</td>\n",
       "      <td>3.000000</td>\n",
       "      <td>8.000000</td>\n",
       "      <td>10.000000</td>\n",
       "      <td>6.000000</td>\n",
       "      <td>3.000000</td>\n",
       "      <td>5.000000</td>\n",
       "    </tr>\n",
       "  </tbody>\n",
       "</table>\n",
       "<p>8 rows × 29 columns</p>\n",
       "</div>"
      ],
      "text/plain": [
       "               번호       사용브랜드        사용기간        구매장소        구매가격        정보획득  \\\n",
       "count  252.000000  252.000000  252.000000  252.000000  252.000000  252.000000   \n",
       "mean   126.500000    1.496032    3.091270    2.940476  101.226190    3.924603   \n",
       "std     72.890329    0.500979    1.328362    1.318135   38.654982    2.193405   \n",
       "min      1.000000    1.000000    1.000000    1.000000   10.000000    1.000000   \n",
       "25%     63.750000    1.000000    2.000000    2.000000   80.000000    1.000000   \n",
       "50%    126.500000    1.000000    3.000000    3.000000  100.000000    5.000000   \n",
       "75%    189.250000    2.000000    4.000000    4.000000  120.000000    6.000000   \n",
       "max    252.000000    2.000000    5.000000    5.000000  250.000000    6.000000   \n",
       "\n",
       "             구입조언      하루사용시간      브랜드이미지       가격만족도  ...  구매중요도9_A/S  \\\n",
       "count  252.000000  252.000000  252.000000  252.000000  ...  252.000000   \n",
       "mean     2.313492    2.896825    2.730159    2.777778  ...    3.146825   \n",
       "std      1.111752    1.393379    1.128499    1.024706  ...    1.128352   \n",
       "min      1.000000    1.000000    1.000000    1.000000  ...    1.000000   \n",
       "25%      2.000000    2.000000    2.000000    2.000000  ...    2.000000   \n",
       "50%      2.000000    3.000000    3.000000    3.000000  ...    3.000000   \n",
       "75%      3.000000    4.000000    3.250000    3.000000  ...    4.000000   \n",
       "max      5.000000    5.000000    5.000000    5.000000  ...    5.000000   \n",
       "\n",
       "       구매중요도10_명성           성별          연령         연령2          학력  \\\n",
       "count   252.000000  252.000000  252.000000  252.000000  252.000000   \n",
       "mean      3.027778    0.500000    3.130952    1.809524    4.484127   \n",
       "std       1.346096    0.500995    1.244396    0.699622    1.766145   \n",
       "min       1.000000    0.000000    1.000000    1.000000    1.000000   \n",
       "25%       2.000000    0.000000    2.000000    1.000000    4.000000   \n",
       "50%       3.000000    0.500000    3.000000    2.000000    4.000000   \n",
       "75%       4.000000    1.000000    4.000000    2.000000    6.000000   \n",
       "max       5.000000    1.000000    6.000000    3.000000    8.000000   \n",
       "\n",
       "               직업         월수입          결혼         가족수  \n",
       "count  252.000000  252.000000  252.000000  252.000000  \n",
       "mean     4.678571    3.702381    1.722222    2.468254  \n",
       "std      2.246701    1.701509    0.499225    0.937799  \n",
       "min      1.000000    1.000000    1.000000    1.000000  \n",
       "25%      3.000000    2.000000    1.000000    2.000000  \n",
       "50%      4.000000    4.000000    2.000000    3.000000  \n",
       "75%      6.250000    5.000000    2.000000    3.000000  \n",
       "max     10.000000    6.000000    3.000000    5.000000  \n",
       "\n",
       "[8 rows x 29 columns]"
      ]
     },
     "execution_count": 15,
     "metadata": {},
     "output_type": "execute_result"
    }
   ],
   "source": [
    "# 전체 요약통계량\n",
    "df.describe()"
   ]
  },
  {
   "cell_type": "code",
   "execution_count": 17,
   "id": "735b6dab",
   "metadata": {},
   "outputs": [
    {
     "data": {
      "text/plain": [
       "1.3613500036652209"
      ]
     },
     "execution_count": 17,
     "metadata": {},
     "output_type": "execute_result"
    }
   ],
   "source": [
    "# 첨도 : 종방향 크기\n",
    "df['구매가격'].kurtosis()"
   ]
  },
  {
   "cell_type": "code",
   "execution_count": 18,
   "id": "79068d3a",
   "metadata": {},
   "outputs": [
    {
     "data": {
      "text/plain": [
       "0.8074518614845148"
      ]
     },
     "execution_count": 18,
     "metadata": {},
     "output_type": "execute_result"
    }
   ],
   "source": [
    "# 왜도 : 횡방향 기울기\n",
    "df['구매가격'].skew()"
   ]
  },
  {
   "cell_type": "code",
   "execution_count": 19,
   "id": "357c35d4",
   "metadata": {},
   "outputs": [
    {
     "data": {
      "text/plain": [
       "1    127\n",
       "2    125\n",
       "Name: 사용브랜드, dtype: int64"
      ]
     },
     "execution_count": 19,
     "metadata": {},
     "output_type": "execute_result"
    }
   ],
   "source": [
    "df['사용브랜드'].value_counts()"
   ]
  },
  {
   "cell_type": "code",
   "execution_count": 22,
   "id": "0827db52",
   "metadata": {},
   "outputs": [
    {
     "data": {
      "text/plain": [
       "['Malgun Gothic']"
      ]
     },
     "execution_count": 22,
     "metadata": {},
     "output_type": "execute_result"
    }
   ],
   "source": [
    "from matplotlib import font_manager, rc, rcParams\n",
    "rc('font', family='Malgun Gothic')\n",
    "rcParams['font.family']"
   ]
  },
  {
   "cell_type": "code",
   "execution_count": 25,
   "id": "1bf23ae2",
   "metadata": {},
   "outputs": [
    {
     "data": {
      "text/plain": [
       "<AxesSubplot:>"
      ]
     },
     "execution_count": 25,
     "metadata": {},
     "output_type": "execute_result"
    },
    {
     "data": {
      "image/png": "[encoded data removed]",
      "text/plain": [
       "<Figure size 432x288 with 1 Axes>"
      ]
     },
     "metadata": {
      "needs_background": "light"
     },
     "output_type": "display_data"
    }
   ],
   "source": [
    "%matplotlib inline\n",
    "df['사용브랜드'].replace([1,2],['삼성','애플']).value_counts().plot(kind='bar')"
   ]
  },
  {
   "cell_type": "code",
   "execution_count": 26,
   "id": "f6a809f1",
   "metadata": {},
   "outputs": [
    {
     "data": {
      "text/plain": [
       "<AxesSubplot:ylabel='구매장소'>"
      ]
     },
     "execution_count": 26,
     "metadata": {},
     "output_type": "execute_result"
    },
    {
     "data": {
      "image/png": "[encoded data removed]",
      "text/plain": [
       "<Figure size 432x288 with 1 Axes>"
      ]
     },
     "metadata": {},
     "output_type": "display_data"
    }
   ],
   "source": [
    "%matplotlib inline\n",
    "df['구매장소'].value_counts().plot(kind='pie')"
   ]
  },
  {
   "cell_type": "code",
   "execution_count": 39,
   "id": "a9d85ad6",
   "metadata": {},
   "outputs": [
    {
     "data": {
      "text/html": [
       "<div>\n",
       "<style scoped>\n",
       "    .dataframe tbody tr th:only-of-type {\n",
       "        vertical-align: middle;\n",
       "    }\n",
       "\n",
       "    .dataframe tbody tr th {\n",
       "        vertical-align: top;\n",
       "    }\n",
       "\n",
       "    .dataframe thead th {\n",
       "        text-align: right;\n",
       "    }\n",
       "</style>\n",
       "<table border=\"1\" class=\"dataframe\">\n",
       "  <thead>\n",
       "    <tr style=\"text-align: right;\">\n",
       "      <th>사용브랜드</th>\n",
       "      <th>애플</th>\n",
       "      <th>삼성</th>\n",
       "    </tr>\n",
       "    <tr>\n",
       "      <th>월수입</th>\n",
       "      <th></th>\n",
       "      <th></th>\n",
       "    </tr>\n",
       "  </thead>\n",
       "  <tbody>\n",
       "    <tr>\n",
       "      <th>1</th>\n",
       "      <td>20</td>\n",
       "      <td>13</td>\n",
       "    </tr>\n",
       "    <tr>\n",
       "      <th>2</th>\n",
       "      <td>14</td>\n",
       "      <td>22</td>\n",
       "    </tr>\n",
       "    <tr>\n",
       "      <th>3</th>\n",
       "      <td>28</td>\n",
       "      <td>24</td>\n",
       "    </tr>\n",
       "    <tr>\n",
       "      <th>4</th>\n",
       "      <td>20</td>\n",
       "      <td>17</td>\n",
       "    </tr>\n",
       "    <tr>\n",
       "      <th>5</th>\n",
       "      <td>12</td>\n",
       "      <td>28</td>\n",
       "    </tr>\n",
       "    <tr>\n",
       "      <th>6</th>\n",
       "      <td>33</td>\n",
       "      <td>21</td>\n",
       "    </tr>\n",
       "  </tbody>\n",
       "</table>\n",
       "</div>"
      ],
      "text/plain": [
       "사용브랜드  애플  삼성\n",
       "월수입          \n",
       "1      20  13\n",
       "2      14  22\n",
       "3      28  24\n",
       "4      20  17\n",
       "5      12  28\n",
       "6      33  21"
      ]
     },
     "execution_count": 39,
     "metadata": {},
     "output_type": "execute_result"
    }
   ],
   "source": [
    "# 명목척도의 테이블표 생성\n",
    "pd.crosstab(df['월수입'], df['사용브랜드']).rename(columns={1:'애플',2:'삼성'})"
   ]
  },
  {
   "cell_type": "code",
   "execution_count": 20,
   "id": "1564ce51",
   "metadata": {},
   "outputs": [
    {
     "data": {
      "text/plain": [
       "array([[20, 13],\n",
       "       [14, 22],\n",
       "       [28, 24],\n",
       "       [20, 17],\n",
       "       [12, 28],\n",
       "       [33, 21]], dtype=int64)"
      ]
     },
     "execution_count": 20,
     "metadata": {},
     "output_type": "execute_result"
    }
   ],
   "source": [
    "a = pd.crosstab(df['월수입'], df['사용브랜드']).values\n",
    "a"
   ]
  },
  {
   "cell_type": "code",
   "execution_count": 27,
   "id": "36e9e944",
   "metadata": {},
   "outputs": [
    {
     "ename": "ValueError",
     "evalue": "For each axis slice, the sum of the observed frequencies must agree with the sum of the expected frequencies to a relative tolerance of 1e-08, but the percent differences are:\n1.4748010610079576",
     "output_type": "error",
     "traceback": [
      "\u001b[1;31m---------------------------------------------------------------------------\u001b[0m",
      "\u001b[1;31mValueError\u001b[0m                                Traceback (most recent call last)",
      "\u001b[1;32m~\\AppData\\Local\\Temp/ipykernel_8512/2371912771.py\u001b[0m in \u001b[0;36m<module>\u001b[1;34m\u001b[0m\n\u001b[1;32m----> 1\u001b[1;33m \u001b[0mchisquare\u001b[0m\u001b[1;33m(\u001b[0m\u001b[0mdf\u001b[0m\u001b[1;33m[\u001b[0m\u001b[1;34m'월수입'\u001b[0m\u001b[1;33m]\u001b[0m\u001b[1;33m,\u001b[0m\u001b[0mdf\u001b[0m\u001b[1;33m[\u001b[0m\u001b[1;34m'사용브랜드'\u001b[0m\u001b[1;33m]\u001b[0m\u001b[1;33m)\u001b[0m\u001b[1;33m\u001b[0m\u001b[1;33m\u001b[0m\u001b[0m\n\u001b[0m",
      "\u001b[1;32m~\\anaconda3\\lib\\site-packages\\scipy\\stats\\stats.py\u001b[0m in \u001b[0;36mchisquare\u001b[1;34m(f_obs, f_exp, ddof, axis)\u001b[0m\n\u001b[0;32m   6850\u001b[0m \u001b[1;33m\u001b[0m\u001b[0m\n\u001b[0;32m   6851\u001b[0m     \"\"\"\n\u001b[1;32m-> 6852\u001b[1;33m     return power_divergence(f_obs, f_exp=f_exp, ddof=ddof, axis=axis,\n\u001b[0m\u001b[0;32m   6853\u001b[0m                             lambda_=\"pearson\")\n\u001b[0;32m   6854\u001b[0m \u001b[1;33m\u001b[0m\u001b[0m\n",
      "\u001b[1;32m~\\anaconda3\\lib\\site-packages\\scipy\\stats\\stats.py\u001b[0m in \u001b[0;36mpower_divergence\u001b[1;34m(f_obs, f_exp, ddof, axis, lambda_)\u001b[0m\n\u001b[0;32m   6692\u001b[0m                    \u001b[1;34mf\"of {rtol}, but the percent differences are:\\n\"\u001b[0m\u001b[1;33m\u001b[0m\u001b[1;33m\u001b[0m\u001b[0m\n\u001b[0;32m   6693\u001b[0m                    f\"{relative_diff}\")\n\u001b[1;32m-> 6694\u001b[1;33m             \u001b[1;32mraise\u001b[0m \u001b[0mValueError\u001b[0m\u001b[1;33m(\u001b[0m\u001b[0mmsg\u001b[0m\u001b[1;33m)\u001b[0m\u001b[1;33m\u001b[0m\u001b[1;33m\u001b[0m\u001b[0m\n\u001b[0m\u001b[0;32m   6695\u001b[0m \u001b[1;33m\u001b[0m\u001b[0m\n\u001b[0;32m   6696\u001b[0m     \u001b[1;32melse\u001b[0m\u001b[1;33m:\u001b[0m\u001b[1;33m\u001b[0m\u001b[1;33m\u001b[0m\u001b[0m\n",
      "\u001b[1;31mValueError\u001b[0m: For each axis slice, the sum of the observed frequencies must agree with the sum of the expected frequencies to a relative tolerance of 1e-08, but the percent differences are:\n1.4748010610079576"
     ]
    }
   ],
   "source": [
    "chisquare(df['월수입'],df['사용브랜드'])"
   ]
  },
  {
   "cell_type": "code",
   "execution_count": 28,
   "id": "a37e631b",
   "metadata": {},
   "outputs": [
    {
     "data": {
      "text/html": [
       "<div>\n",
       "<style scoped>\n",
       "    .dataframe tbody tr th:only-of-type {\n",
       "        vertical-align: middle;\n",
       "    }\n",
       "\n",
       "    .dataframe tbody tr th {\n",
       "        vertical-align: top;\n",
       "    }\n",
       "\n",
       "    .dataframe thead th {\n",
       "        text-align: right;\n",
       "    }\n",
       "</style>\n",
       "<table border=\"1\" class=\"dataframe\">\n",
       "  <thead>\n",
       "    <tr style=\"text-align: right;\">\n",
       "      <th>성별</th>\n",
       "      <th>0</th>\n",
       "      <th>1</th>\n",
       "    </tr>\n",
       "    <tr>\n",
       "      <th>구매장소</th>\n",
       "      <th></th>\n",
       "      <th></th>\n",
       "    </tr>\n",
       "  </thead>\n",
       "  <tbody>\n",
       "    <tr>\n",
       "      <th>1</th>\n",
       "      <td>24</td>\n",
       "      <td>19</td>\n",
       "    </tr>\n",
       "    <tr>\n",
       "      <th>2</th>\n",
       "      <td>42</td>\n",
       "      <td>29</td>\n",
       "    </tr>\n",
       "    <tr>\n",
       "      <th>3</th>\n",
       "      <td>9</td>\n",
       "      <td>13</td>\n",
       "    </tr>\n",
       "    <tr>\n",
       "      <th>4</th>\n",
       "      <td>38</td>\n",
       "      <td>52</td>\n",
       "    </tr>\n",
       "    <tr>\n",
       "      <th>5</th>\n",
       "      <td>13</td>\n",
       "      <td>13</td>\n",
       "    </tr>\n",
       "  </tbody>\n",
       "</table>\n",
       "</div>"
      ],
      "text/plain": [
       "성별     0   1\n",
       "구매장소        \n",
       "1     24  19\n",
       "2     42  29\n",
       "3      9  13\n",
       "4     38  52\n",
       "5     13  13"
      ]
     },
     "execution_count": 28,
     "metadata": {},
     "output_type": "execute_result"
    }
   ],
   "source": [
    "pd.crosstab(df['구매장소'],df['성별'])"
   ]
  },
  {
   "cell_type": "code",
   "execution_count": 29,
   "id": "fbd163c6",
   "metadata": {},
   "outputs": [
    {
     "data": {
      "text/plain": [
       "Power_divergenceResult(statistic=148.31174089068827, pvalue=array([0.99999996, 0.99999995]))"
      ]
     },
     "execution_count": 29,
     "metadata": {},
     "output_type": "execute_result"
    }
   ],
   "source": [
    "chisquare(df['구매장소'], ddof=[0,1])"
   ]
  },
  {
   "cell_type": "code",
   "execution_count": null,
   "id": "00da531c",
   "metadata": {},
   "outputs": [],
   "source": []
  },
  {
   "cell_type": "code",
   "execution_count": null,
   "id": "b7f48802",
   "metadata": {},
   "outputs": [],
   "source": []
  },
  {
   "cell_type": "code",
   "execution_count": null,
   "id": "fc305f11",
   "metadata": {},
   "outputs": [],
   "source": []
  },
  {
   "cell_type": "code",
   "execution_count": null,
   "id": "71eb695c",
   "metadata": {},
   "outputs": [],
   "source": []
  },
  {
   "cell_type": "markdown",
   "id": "fca0f443",
   "metadata": {},
   "source": [
    "## 2. T-test"
   ]
  },
  {
   "cell_type": "code",
   "execution_count": 6,
   "id": "de78371e",
   "metadata": {},
   "outputs": [],
   "source": [
    "mean = df['구매가격'].values\n",
    "mean1 = df.loc[df['사용브랜드']==1,'구매가격'].values\n",
    "mean2 = df.loc[df['사용브랜드']==2,'구매가격'].values"
   ]
  },
  {
   "cell_type": "code",
   "execution_count": 10,
   "id": "9964bd75",
   "metadata": {},
   "outputs": [
    {
     "name": "stderr",
     "output_type": "stream",
     "text": [
      "C:\\Users\\GW\\anaconda3\\lib\\site-packages\\seaborn\\distributions.py:2619: FutureWarning: `distplot` is a deprecated function and will be removed in a future version. Please adapt your code to use either `displot` (a figure-level function with similar flexibility) or `histplot` (an axes-level function for histograms).\n",
      "  warnings.warn(msg, FutureWarning)\n",
      "C:\\Users\\GW\\anaconda3\\lib\\site-packages\\seaborn\\distributions.py:2619: FutureWarning: `distplot` is a deprecated function and will be removed in a future version. Please adapt your code to use either `displot` (a figure-level function with similar flexibility) or `histplot` (an axes-level function for histograms).\n",
      "  warnings.warn(msg, FutureWarning)\n"
     ]
    },
    {
     "data": {
      "image/png": "[encoded data removed]",
      "text/plain": [
       "<Figure size 432x288 with 1 Axes>"
      ]
     },
     "metadata": {
      "needs_background": "light"
     },
     "output_type": "display_data"
    }
   ],
   "source": [
    "%matplotlib inline\n",
    "\n",
    "sns.distplot(mean1, kde=True, fit=sp.stats.norm)\n",
    "sns.distplot(mean2, kde=True, fit=sp.stats.norm)\n",
    "sp.stats.shapiro(mean1)\n",
    "plt.show()"
   ]
  },
  {
   "cell_type": "code",
   "execution_count": 56,
   "id": "b8095a8a",
   "metadata": {},
   "outputs": [
    {
     "data": {
      "text/plain": [
       "LeveneResult(statistic=13.443717170975082, pvalue=0.00030027808643848084)"
      ]
     },
     "execution_count": 56,
     "metadata": {},
     "output_type": "execute_result"
    }
   ],
   "source": [
    "# 등분산 검정 : null hypothesis(귀무가설)가 수락되야 함.\n",
    "# null hypothesis가 기각되면 등분산성을 이루지 않음. \n",
    "# alternative hypothesis(대립가설)의 수락\n",
    "sp.stats.levene(mean1, mean2)"
   ]
  },
  {
   "cell_type": "code",
   "execution_count": 57,
   "id": "9cb33149",
   "metadata": {},
   "outputs": [
    {
     "data": {
      "text/plain": [
       "Ttest_indResult(statistic=-9.2004623883404, pvalue=3.598124628532717e-17)"
      ]
     },
     "execution_count": 57,
     "metadata": {},
     "output_type": "execute_result"
    }
   ],
   "source": [
    "# 등분산성 위배 조건 설정.\n",
    "# 그럼에도 불구하고 p-value 결과에 의해 두 집단간 유의한 차이가 있음.\n",
    "stats.ttest_ind(mean1, mean2, equal_var=False)"
   ]
  },
  {
   "cell_type": "code",
   "execution_count": null,
   "id": "0b2bd785",
   "metadata": {},
   "outputs": [],
   "source": []
  }
 ],
 "metadata": {
  "kernelspec": {
   "display_name": "Python 3 (ipykernel)",
   "language": "python",
   "name": "python3"
  },
  "language_info": {
   "codemirror_mode": {
    "name": "ipython",
    "version": 3
   },
   "file_extension": ".py",
   "mimetype": "text/x-python",
   "name": "python",
   "nbconvert_exporter": "python",
   "pygments_lexer": "ipython3",
   "version": "3.9.7"
  }
 },
 "nbformat": 4,
 "nbformat_minor": 5
}
