{
 "cells": [
  {
   "cell_type": "code",
   "execution_count": 2,
   "id": "0809a62f",
   "metadata": {},
   "outputs": [],
   "source": [
    "import numpy as np\n",
    "import pandas as pd\n",
    "import matplotlib.pyplot as plt\n",
    "import seaborn as sns\n",
    "\n",
    "from scipy.stats import chisquare\n",
    "from scipy import stats\n",
    "import scipy as sp\n",
    "import statsmodels.api as sm\n",
    "from statsmodels.formula.api import ols, logit, glm"
   ]
  },
  {
   "cell_type": "code",
   "execution_count": 21,
   "id": "8bf4fbf5",
   "metadata": {},
   "outputs": [
    {
     "data": {
      "text/html": [
       "<div>\n",
       "<style scoped>\n",
       "    .dataframe tbody tr th:only-of-type {\n",
       "        vertical-align: middle;\n",
       "    }\n",
       "\n",
       "    .dataframe tbody tr th {\n",
       "        vertical-align: top;\n",
       "    }\n",
       "\n",
       "    .dataframe thead th {\n",
       "        text-align: right;\n",
       "    }\n",
       "</style>\n",
       "<table border=\"1\" class=\"dataframe\">\n",
       "  <thead>\n",
       "    <tr style=\"text-align: right;\">\n",
       "      <th></th>\n",
       "      <th>번호</th>\n",
       "      <th>사용브랜드</th>\n",
       "      <th>사용기간</th>\n",
       "      <th>구매장소</th>\n",
       "      <th>구매가격</th>\n",
       "      <th>정보획득</th>\n",
       "      <th>구입조언</th>\n",
       "      <th>하루사용시간</th>\n",
       "      <th>브랜드이미지</th>\n",
       "      <th>가격만족도</th>\n",
       "      <th>...</th>\n",
       "      <th>구매중요도9_A/S</th>\n",
       "      <th>구매중요도10_명성</th>\n",
       "      <th>성별</th>\n",
       "      <th>연령</th>\n",
       "      <th>연령2</th>\n",
       "      <th>학력</th>\n",
       "      <th>직업</th>\n",
       "      <th>월수입</th>\n",
       "      <th>결혼</th>\n",
       "      <th>가족수</th>\n",
       "    </tr>\n",
       "  </thead>\n",
       "  <tbody>\n",
       "    <tr>\n",
       "      <th>0</th>\n",
       "      <td>181</td>\n",
       "      <td>1</td>\n",
       "      <td>3</td>\n",
       "      <td>1</td>\n",
       "      <td>15</td>\n",
       "      <td>1</td>\n",
       "      <td>2</td>\n",
       "      <td>1</td>\n",
       "      <td>2</td>\n",
       "      <td>4</td>\n",
       "      <td>...</td>\n",
       "      <td>4</td>\n",
       "      <td>3</td>\n",
       "      <td>0</td>\n",
       "      <td>4</td>\n",
       "      <td>2</td>\n",
       "      <td>2</td>\n",
       "      <td>4</td>\n",
       "      <td>2</td>\n",
       "      <td>2</td>\n",
       "      <td>3</td>\n",
       "    </tr>\n",
       "    <tr>\n",
       "      <th>1</th>\n",
       "      <td>94</td>\n",
       "      <td>1</td>\n",
       "      <td>3</td>\n",
       "      <td>3</td>\n",
       "      <td>20</td>\n",
       "      <td>4</td>\n",
       "      <td>3</td>\n",
       "      <td>3</td>\n",
       "      <td>4</td>\n",
       "      <td>3</td>\n",
       "      <td>...</td>\n",
       "      <td>4</td>\n",
       "      <td>5</td>\n",
       "      <td>1</td>\n",
       "      <td>3</td>\n",
       "      <td>2</td>\n",
       "      <td>4</td>\n",
       "      <td>4</td>\n",
       "      <td>4</td>\n",
       "      <td>2</td>\n",
       "      <td>3</td>\n",
       "    </tr>\n",
       "    <tr>\n",
       "      <th>2</th>\n",
       "      <td>12</td>\n",
       "      <td>1</td>\n",
       "      <td>2</td>\n",
       "      <td>1</td>\n",
       "      <td>25</td>\n",
       "      <td>1</td>\n",
       "      <td>1</td>\n",
       "      <td>1</td>\n",
       "      <td>3</td>\n",
       "      <td>2</td>\n",
       "      <td>...</td>\n",
       "      <td>4</td>\n",
       "      <td>4</td>\n",
       "      <td>0</td>\n",
       "      <td>4</td>\n",
       "      <td>2</td>\n",
       "      <td>4</td>\n",
       "      <td>7</td>\n",
       "      <td>4</td>\n",
       "      <td>2</td>\n",
       "      <td>1</td>\n",
       "    </tr>\n",
       "    <tr>\n",
       "      <th>3</th>\n",
       "      <td>156</td>\n",
       "      <td>1</td>\n",
       "      <td>5</td>\n",
       "      <td>3</td>\n",
       "      <td>26</td>\n",
       "      <td>4</td>\n",
       "      <td>3</td>\n",
       "      <td>1</td>\n",
       "      <td>4</td>\n",
       "      <td>4</td>\n",
       "      <td>...</td>\n",
       "      <td>4</td>\n",
       "      <td>4</td>\n",
       "      <td>0</td>\n",
       "      <td>6</td>\n",
       "      <td>3</td>\n",
       "      <td>2</td>\n",
       "      <td>2</td>\n",
       "      <td>5</td>\n",
       "      <td>3</td>\n",
       "      <td>1</td>\n",
       "    </tr>\n",
       "    <tr>\n",
       "      <th>4</th>\n",
       "      <td>19</td>\n",
       "      <td>1</td>\n",
       "      <td>3</td>\n",
       "      <td>5</td>\n",
       "      <td>30</td>\n",
       "      <td>6</td>\n",
       "      <td>2</td>\n",
       "      <td>3</td>\n",
       "      <td>2</td>\n",
       "      <td>2</td>\n",
       "      <td>...</td>\n",
       "      <td>3</td>\n",
       "      <td>3</td>\n",
       "      <td>0</td>\n",
       "      <td>2</td>\n",
       "      <td>1</td>\n",
       "      <td>4</td>\n",
       "      <td>9</td>\n",
       "      <td>2</td>\n",
       "      <td>1</td>\n",
       "      <td>3</td>\n",
       "    </tr>\n",
       "  </tbody>\n",
       "</table>\n",
       "<p>5 rows × 29 columns</p>\n",
       "</div>"
      ],
      "text/plain": [
       "    번호  사용브랜드  사용기간  구매장소  구매가격  정보획득  구입조언  하루사용시간  브랜드이미지  가격만족도  ...  \\\n",
       "0  181      1     3     1    15     1     2       1       2      4  ...   \n",
       "1   94      1     3     3    20     4     3       3       4      3  ...   \n",
       "2   12      1     2     1    25     1     1       1       3      2  ...   \n",
       "3  156      1     5     3    26     4     3       1       4      4  ...   \n",
       "4   19      1     3     5    30     6     2       3       2      2  ...   \n",
       "\n",
       "   구매중요도9_A/S  구매중요도10_명성   성별  연령  연령2  학력  직업  월수입  결혼  가족수  \n",
       "0           4            3   0   4    2   2   4    2   2    3  \n",
       "1           4            5   1   3    2   4   4    4   2    3  \n",
       "2           4            4   0   4    2   4   7    4   2    1  \n",
       "3           4            4   0   6    3   2   2    5   3    1  \n",
       "4           3            3   0   2    1   4   9    2   1    3  \n",
       "\n",
       "[5 rows x 29 columns]"
      ]
     },
     "execution_count": 21,
     "metadata": {},
     "output_type": "execute_result"
    }
   ],
   "source": [
    "df = pd.read_csv('./data/spstat1.csv', encoding='euc-kr')\n",
    "df.head()"
   ]
  },
  {
   "cell_type": "markdown",
   "id": "efe2f7c8",
   "metadata": {},
   "source": [
    "# Test1 : 월수입, 사용브랜드"
   ]
  },
  {
   "cell_type": "code",
   "execution_count": 22,
   "id": "42c81f54",
   "metadata": {},
   "outputs": [
    {
     "data": {
      "text/plain": [
       "array([[20, 13],\n",
       "       [14, 22],\n",
       "       [28, 24],\n",
       "       [20, 17],\n",
       "       [12, 28],\n",
       "       [33, 21]], dtype=int64)"
      ]
     },
     "execution_count": 22,
     "metadata": {},
     "output_type": "execute_result"
    }
   ],
   "source": [
    "a = pd.crosstab(df['월수입'], df['사용브랜드']).values\n",
    "a"
   ]
  },
  {
   "cell_type": "code",
   "execution_count": 23,
   "id": "fe2dba41",
   "metadata": {},
   "outputs": [
    {
     "data": {
      "text/plain": [
       "array([[16.63095238, 16.36904762],\n",
       "       [18.14285714, 17.85714286],\n",
       "       [26.20634921, 25.79365079],\n",
       "       [18.6468254 , 18.3531746 ],\n",
       "       [20.15873016, 19.84126984],\n",
       "       [27.21428571, 26.78571429]])"
      ]
     },
     "execution_count": 23,
     "metadata": {},
     "output_type": "execute_result"
    }
   ],
   "source": [
    "rsum = a.sum(axis=0).reshape(1,-1)\n",
    "csum = a.sum(axis=1).reshape(-1,1)\n",
    "xe = rsum*csum/rsum.sum()\n",
    "xe"
   ]
  },
  {
   "cell_type": "code",
   "execution_count": 24,
   "id": "67d757c6",
   "metadata": {},
   "outputs": [
    {
     "data": {
      "text/plain": [
       "12.86516581745558"
      ]
     },
     "execution_count": 24,
     "metadata": {},
     "output_type": "execute_result"
    }
   ],
   "source": [
    "((a - xe)**2/xe).sum()"
   ]
  },
  {
   "cell_type": "code",
   "execution_count": 32,
   "id": "27617a7e",
   "metadata": {},
   "outputs": [
    {
     "data": {
      "text/plain": [
       "Power_divergenceResult(statistic=12.86516581745558, pvalue=0.045227798622814)"
      ]
     },
     "execution_count": 32,
     "metadata": {},
     "output_type": "execute_result"
    }
   ],
   "source": [
    "# 유의함\n",
    "chisquare(a, xe, ddof=5, axis=None)"
   ]
  },
  {
   "cell_type": "markdown",
   "id": "34fbee3e",
   "metadata": {},
   "source": [
    "link : https://junsik-hwang.tistory.com/23"
   ]
  },
  {
   "cell_type": "code",
   "execution_count": 33,
   "id": "2aea615b",
   "metadata": {},
   "outputs": [
    {
     "data": {
      "text/plain": [
       "(12.86516581745558,\n",
       " 0.024675611662926037,\n",
       " 5,\n",
       " array([[16.63095238, 16.36904762],\n",
       "        [18.14285714, 17.85714286],\n",
       "        [26.20634921, 25.79365079],\n",
       "        [18.6468254 , 18.3531746 ],\n",
       "        [20.15873016, 19.84126984],\n",
       "        [27.21428571, 26.78571429]]))"
      ]
     },
     "execution_count": 33,
     "metadata": {},
     "output_type": "execute_result"
    }
   ],
   "source": [
    "# chisquare 함수의 ddof가 6일 때 결과와 같음\n",
    "stats.chi2_contingency(observed=a)"
   ]
  },
  {
   "cell_type": "code",
   "execution_count": 34,
   "id": "dac488ca",
   "metadata": {},
   "outputs": [
    {
     "data": {
      "text/plain": [
       "Power_divergenceResult(statistic=12.86516581745558, pvalue=0.024675611662926037)"
      ]
     },
     "execution_count": 34,
     "metadata": {},
     "output_type": "execute_result"
    }
   ],
   "source": [
    "chisquare(a, xe, ddof=6, axis=None)"
   ]
  },
  {
   "cell_type": "markdown",
   "id": "c88c2084",
   "metadata": {},
   "source": [
    "# Test2 : 구매장소, 성별"
   ]
  },
  {
   "cell_type": "code",
   "execution_count": 85,
   "id": "93e62f2b",
   "metadata": {},
   "outputs": [
    {
     "data": {
      "text/plain": [
       "array([[24, 19],\n",
       "       [42, 29],\n",
       "       [ 9, 13],\n",
       "       [38, 52],\n",
       "       [13, 13]], dtype=int64)"
      ]
     },
     "execution_count": 85,
     "metadata": {},
     "output_type": "execute_result"
    }
   ],
   "source": [
    "a = pd.crosstab(df['구매장소'],df['성별']).values\n",
    "a"
   ]
  },
  {
   "cell_type": "code",
   "execution_count": 86,
   "id": "8474a7f9",
   "metadata": {},
   "outputs": [
    {
     "data": {
      "text/plain": [
       "array([[21.5, 21.5],\n",
       "       [35.5, 35.5],\n",
       "       [11. , 11. ],\n",
       "       [45. , 45. ],\n",
       "       [13. , 13. ]])"
      ]
     },
     "execution_count": 86,
     "metadata": {},
     "output_type": "execute_result"
    }
   ],
   "source": [
    "rsum = a.sum(axis=0).reshape(1,-1)\n",
    "csum = a.sum(axis=1).reshape(-1,1)\n",
    "xe = rsum*csum/rsum.sum()\n",
    "xe"
   ]
  },
  {
   "cell_type": "code",
   "execution_count": 87,
   "id": "12514063",
   "metadata": {},
   "outputs": [
    {
     "data": {
      "text/plain": [
       "5.866727544028559"
      ]
     },
     "execution_count": 87,
     "metadata": {},
     "output_type": "execute_result"
    }
   ],
   "source": [
    "((a - xe)**2/xe).sum()"
   ]
  },
  {
   "cell_type": "code",
   "execution_count": 89,
   "id": "f0e493a7",
   "metadata": {},
   "outputs": [
    {
     "data": {
      "text/plain": [
       "Power_divergenceResult(statistic=5.866727544028559, pvalue=0.555394410553356)"
      ]
     },
     "execution_count": 89,
     "metadata": {},
     "output_type": "execute_result"
    }
   ],
   "source": [
    "chisquare(a, xe, ddof=2, axis=None)"
   ]
  },
  {
   "cell_type": "markdown",
   "id": "9ac56b8c",
   "metadata": {},
   "source": [
    "# Test3\n",
    "link : https://angeloyeo.github.io/2021/12/13/chi_square.html"
   ]
  },
  {
   "cell_type": "code",
   "execution_count": 73,
   "id": "3f76f1ea",
   "metadata": {},
   "outputs": [
    {
     "data": {
      "text/plain": [
       "array([[21, 16],\n",
       "       [13, 15],\n",
       "       [ 6, 14]])"
      ]
     },
     "execution_count": 73,
     "metadata": {},
     "output_type": "execute_result"
    }
   ],
   "source": [
    "a = np.array([[21,13,6],[16,15,14]]).T\n",
    "a"
   ]
  },
  {
   "cell_type": "code",
   "execution_count": 74,
   "id": "444f43fb",
   "metadata": {},
   "outputs": [
    {
     "data": {
      "text/plain": [
       "array([[17.41176471, 19.58823529],\n",
       "       [13.17647059, 14.82352941],\n",
       "       [ 9.41176471, 10.58823529]])"
      ]
     },
     "execution_count": 74,
     "metadata": {},
     "output_type": "execute_result"
    }
   ],
   "source": [
    "rsum = a.sum(axis=0).reshape(1,-1)\n",
    "csum = a.sum(axis=1).reshape(-1,1)\n",
    "xe = rsum*csum/rsum.sum()\n",
    "xe"
   ]
  },
  {
   "cell_type": "code",
   "execution_count": 75,
   "id": "600bbe77",
   "metadata": {},
   "outputs": [
    {
     "data": {
      "text/plain": [
       "3.7373471685971698"
      ]
     },
     "execution_count": 75,
     "metadata": {},
     "output_type": "execute_result"
    }
   ],
   "source": [
    "((a - xe)**2/xe).sum()"
   ]
  },
  {
   "cell_type": "code",
   "execution_count": 80,
   "id": "23c5ac5f",
   "metadata": {},
   "outputs": [
    {
     "data": {
      "text/plain": [
       "Power_divergenceResult(statistic=3.7373471685971698, pvalue=0.2912582956880207)"
      ]
     },
     "execution_count": 80,
     "metadata": {},
     "output_type": "execute_result"
    }
   ],
   "source": [
    "chisquare(a, xe, ddof=2, axis=None)"
   ]
  },
  {
   "cell_type": "markdown",
   "id": "6765d36b",
   "metadata": {},
   "source": [
    "# Test4\n",
    "link : http://contents.kocw.net/KOCW/document/2013/koreasejong/HongSungsik4/10.pdf page3"
   ]
  },
  {
   "cell_type": "code",
   "execution_count": 98,
   "id": "38da3a46",
   "metadata": {},
   "outputs": [
    {
     "data": {
      "text/plain": [
       "array([[120,  89, 173, 118],\n",
       "       [124, 155, 147,  74]])"
      ]
     },
     "execution_count": 98,
     "metadata": {},
     "output_type": "execute_result"
    }
   ],
   "source": [
    "a = np.array([[120,89,173,118], [124,155,147,74]])\n",
    "a"
   ]
  },
  {
   "cell_type": "code",
   "execution_count": 102,
   "id": "669e3fcb",
   "metadata": {},
   "outputs": [
    {
     "data": {
      "text/plain": [
       "array([[122., 122., 160.,  96.],\n",
       "       [122., 122., 160.,  96.]])"
      ]
     },
     "execution_count": 102,
     "metadata": {},
     "output_type": "execute_result"
    }
   ],
   "source": [
    "rsum = a.sum(axis=0).reshape(1,-1)\n",
    "csum = a.sum(axis=1).reshape(-1,1)\n",
    "xe = rsum*csum/rsum.sum()\n",
    "xe"
   ]
  },
  {
   "cell_type": "code",
   "execution_count": 103,
   "id": "c3c307c8",
   "metadata": {},
   "outputs": [
    {
     "data": {
      "text/plain": [
       "30.113866120218578"
      ]
     },
     "execution_count": 103,
     "metadata": {},
     "output_type": "execute_result"
    }
   ],
   "source": [
    "((a - xe)**2/xe).sum()"
   ]
  },
  {
   "cell_type": "code",
   "execution_count": 104,
   "id": "f82f36a4",
   "metadata": {},
   "outputs": [
    {
     "data": {
      "text/plain": [
       "Power_divergenceResult(statistic=30.113866120218578, pvalue=4.640017883913084e-06)"
      ]
     },
     "execution_count": 104,
     "metadata": {},
     "output_type": "execute_result"
    }
   ],
   "source": [
    "chisquare(a, xe, ddof=3, axis=None)"
   ]
  },
  {
   "cell_type": "code",
   "execution_count": 105,
   "id": "ee010308",
   "metadata": {},
   "outputs": [
    {
     "data": {
      "text/plain": [
       "Power_divergenceResult(statistic=61.279999999999994, pvalue=1.561182050211938e-12)"
      ]
     },
     "execution_count": 105,
     "metadata": {},
     "output_type": "execute_result"
    }
   ],
   "source": [
    "chisquare(a, ddof=3, axis=None)"
   ]
  },
  {
   "cell_type": "code",
   "execution_count": 106,
   "id": "0ea03cc0",
   "metadata": {},
   "outputs": [
    {
     "data": {
      "text/plain": [
       "Power_divergenceResult(statistic=0.0, pvalue=1.0)"
      ]
     },
     "execution_count": 106,
     "metadata": {},
     "output_type": "execute_result"
    }
   ],
   "source": [
    "chisquare(a, ddof=3, axis=None)"
   ]
  },
  {
   "cell_type": "markdown",
   "id": "18120c50",
   "metadata": {},
   "source": [
    "# Test5 : f_obs 만 입력\n",
    "- One-way chisquare test : 전체 빈도수를 동일하게 나눈 수치만큼 기대빈도를 설정해 검정 진행."
   ]
  },
  {
   "cell_type": "code",
   "execution_count": 109,
   "id": "a1cd2431",
   "metadata": {},
   "outputs": [
    {
     "data": {
      "text/plain": [
       "Power_divergenceResult(statistic=2.0, pvalue=0.8491450360846096)"
      ]
     },
     "execution_count": 109,
     "metadata": {},
     "output_type": "execute_result"
    }
   ],
   "source": [
    "chisquare([16, 18, 16, 14, 12, 12])"
   ]
  },
  {
   "cell_type": "code",
   "execution_count": 113,
   "id": "13107936",
   "metadata": {},
   "outputs": [
    {
     "data": {
      "text/plain": [
       "Power_divergenceResult(statistic=2.0, pvalue=0.8491450360846096)"
      ]
     },
     "execution_count": 113,
     "metadata": {},
     "output_type": "execute_result"
    }
   ],
   "source": [
    "s_ = sum([16, 18, 16, 14, 12, 12])\n",
    "chisquare([16, 18, 16, 14, 12, 12], [s_/6]*6)"
   ]
  },
  {
   "cell_type": "markdown",
   "id": "18e10b5a",
   "metadata": {},
   "source": [
    "# Test 6 : 세탁기 크기와 가족규모\n",
    "link : https://brunch.co.kr/@linecard/623"
   ]
  },
  {
   "cell_type": "code",
   "execution_count": 3,
   "id": "3f3bb3fe",
   "metadata": {},
   "outputs": [
    {
     "data": {
      "text/plain": [
       "array([[25, 37,  8],\n",
       "       [10, 62, 53],\n",
       "       [ 5, 41, 59]])"
      ]
     },
     "execution_count": 3,
     "metadata": {},
     "output_type": "execute_result"
    }
   ],
   "source": [
    "# 교차표(corsstabulation)\n",
    "a = np.array([[25,37,8], [10,62,53], [5,41,59]])\n",
    "a"
   ]
  },
  {
   "cell_type": "code",
   "execution_count": 4,
   "id": "fe1f5122",
   "metadata": {},
   "outputs": [
    {
     "data": {
      "text/plain": [
       "array([[ 9.33333333, 32.66666667, 28.        ],\n",
       "       [16.66666667, 58.33333333, 50.        ],\n",
       "       [14.        , 49.        , 42.        ]])"
      ]
     },
     "execution_count": 4,
     "metadata": {},
     "output_type": "execute_result"
    }
   ],
   "source": [
    "# 기대값(f_exp, explectation 계산)\n",
    "rsum = a.sum(axis=0).reshape(1,-1)\n",
    "csum = a.sum(axis=1).reshape(-1,1)\n",
    "xe = rsum*csum/rsum.sum()\n",
    "xe"
   ]
  },
  {
   "cell_type": "code",
   "execution_count": 5,
   "id": "adecd48f",
   "metadata": {},
   "outputs": [
    {
     "data": {
      "text/plain": [
       "58.20809523809523"
      ]
     },
     "execution_count": 5,
     "metadata": {},
     "output_type": "execute_result"
    }
   ],
   "source": [
    "# 카이스퀘어 계산\n",
    "((a - xe)**2/xe).sum()"
   ]
  },
  {
   "cell_type": "code",
   "execution_count": 8,
   "id": "7da6b79b",
   "metadata": {},
   "outputs": [
    {
     "data": {
      "text/plain": [
       "Power_divergenceResult(statistic=58.20809523809523, pvalue=6.900770913722909e-12)"
      ]
     },
     "execution_count": 8,
     "metadata": {},
     "output_type": "execute_result"
    }
   ],
   "source": [
    "chisquare(f_obs=a, f_exp=xe, ddof=4, axis=None)"
   ]
  },
  {
   "cell_type": "markdown",
   "id": "24ec6815",
   "metadata": {},
   "source": [
    "**과제파일**"
   ]
  },
  {
   "cell_type": "code",
   "execution_count": 9,
   "id": "dabdf267",
   "metadata": {},
   "outputs": [
    {
     "data": {
      "text/plain": [
       "array([[ 9,  5,  1],\n",
       "       [ 2,  8,  5],\n",
       "       [11, 13,  6]])"
      ]
     },
     "execution_count": 9,
     "metadata": {},
     "output_type": "execute_result"
    }
   ],
   "source": [
    "# 교차표(corsstabulation)\n",
    "a = np.array([[9,5,1], [2,8,5], [11,13,6]])\n",
    "a"
   ]
  },
  {
   "cell_type": "code",
   "execution_count": 10,
   "id": "dec16334",
   "metadata": {},
   "outputs": [
    {
     "data": {
      "text/plain": [
       "array([[ 5.5,  6.5,  3. ],\n",
       "       [ 5.5,  6.5,  3. ],\n",
       "       [11. , 13. ,  6. ]])"
      ]
     },
     "execution_count": 10,
     "metadata": {},
     "output_type": "execute_result"
    }
   ],
   "source": [
    "# 기대값(f_exp, explectation 계산)\n",
    "rsum = a.sum(axis=0).reshape(1,-1)\n",
    "csum = a.sum(axis=1).reshape(-1,1)\n",
    "xe = rsum*csum/rsum.sum()\n",
    "xe"
   ]
  },
  {
   "cell_type": "code",
   "execution_count": 11,
   "id": "0b1ae1a1",
   "metadata": {},
   "outputs": [
    {
     "data": {
      "text/plain": [
       "7.813519813519813"
      ]
     },
     "execution_count": 11,
     "metadata": {},
     "output_type": "execute_result"
    }
   ],
   "source": [
    "# 카이스퀘어 계산\n",
    "((a - xe)**2/xe).sum()"
   ]
  },
  {
   "cell_type": "code",
   "execution_count": 12,
   "id": "47c42bd4",
   "metadata": {},
   "outputs": [
    {
     "data": {
      "text/plain": [
       "Power_divergenceResult(statistic=7.813519813519813, pvalue=0.09865305493613609)"
      ]
     },
     "execution_count": 12,
     "metadata": {},
     "output_type": "execute_result"
    }
   ],
   "source": [
    "chisquare(f_obs=a, f_exp=xe, ddof=4, axis=None)"
   ]
  },
  {
   "cell_type": "code",
   "execution_count": null,
   "id": "577999a0",
   "metadata": {},
   "outputs": [],
   "source": []
  }
 ],
 "metadata": {
  "kernelspec": {
   "display_name": "Python 3 (ipykernel)",
   "language": "python",
   "name": "python3"
  },
  "language_info": {
   "codemirror_mode": {
    "name": "ipython",
    "version": 3
   },
   "file_extension": ".py",
   "mimetype": "text/x-python",
   "name": "python",
   "nbconvert_exporter": "python",
   "pygments_lexer": "ipython3",
   "version": "3.9.7"
  }
 },
 "nbformat": 4,
 "nbformat_minor": 5
}
