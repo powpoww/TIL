{
 "cells": [
  {
   "cell_type": "markdown",
   "id": "b4fa4bd4",
   "metadata": {},
   "source": [
    "# OpenCV 기초 사용법"
   ]
  },
  {
   "cell_type": "code",
   "execution_count": 1,
   "id": "ce08768c",
   "metadata": {},
   "outputs": [],
   "source": [
    "import cv2\n",
    "import numpy as np\n",
    "import sys\n",
    "import glob"
   ]
  },
  {
   "cell_type": "markdown",
   "id": "4c3e56c8",
   "metadata": {},
   "source": [
    "## 1. image 속성"
   ]
  },
  {
   "cell_type": "code",
   "execution_count": 3,
   "id": "72aa1d7a",
   "metadata": {},
   "outputs": [
    {
     "name": "stdout",
     "output_type": "stream",
     "text": [
      "img1 type = <class 'numpy.ndarray'>\n",
      "img2 type = <class 'numpy.ndarray'>\n",
      "img1 demesion = (480, 640, 3)\n",
      "img2 demesion = (853, 1280, 3)\n",
      "img1 dtype = uint8\n",
      "img2 dtype = uint8\n"
     ]
    }
   ],
   "source": [
    "img1 = cv2.imread('./fig/puppy.bmp', cv2.IMREAD_COLOR)\n",
    "img2 = cv2.imread('./fig/puppy_1280_853.jpg', cv2.IMREAD_COLOR)\n",
    "\n",
    "if img1 is None or img2 is None:\n",
    "    print('image read filed')\n",
    "    sys.exit()\n",
    "\n",
    "print('img1 type =', type(img1))\n",
    "print('img2 type =', type(img2))\n",
    "    \n",
    "print('img1 demesion =', img1.shape)\n",
    "print('img2 demesion =', img2.shape)\n",
    "\n",
    "print('img1 dtype =', img1.dtype)\n",
    "print('img2 dtype =', img2.dtype)\n",
    "\n",
    "cv2.imshow('image1', img1)\n",
    "cv2.imshow('image2', img2)\n",
    "\n",
    "cv2.waitKey()\n",
    "cv2.destroyAllWindows()"
   ]
  },
  {
   "cell_type": "markdown",
   "id": "346da242",
   "metadata": {},
   "source": [
    "## 2. 픽셀 값 호출"
   ]
  },
  {
   "cell_type": "code",
   "execution_count": 13,
   "id": "050fcf8f",
   "metadata": {},
   "outputs": [
    {
     "name": "stdout",
     "output_type": "stream",
     "text": [
      "color center = [194 198 209]\n",
      "gray center = 201\n"
     ]
    }
   ],
   "source": [
    "## 픽셀값 참고\n",
    "# default : 1(color), 0(gray)\n",
    "img1 = cv2.imread('./fig/puppy.bmp',1)\n",
    "img2 = cv2.imread('./fig/puppy.bmp',0)\n",
    "\n",
    "# show center value ( color : (1,3)RGB, gray : scalar )\n",
    "x = 120\n",
    "y = 320\n",
    "img1_center = img1[y,x]\n",
    "print('color center =', img1_center)\n",
    "img2_center = img2[y,x]\n",
    "print('gray center =', img2_center)\n",
    "\n",
    "cv2.imshow('img1', img1)\n",
    "cv2.imshow('img2', img2)\n",
    "\n",
    "cv2.waitKey()\n",
    "cv2.destroyAllWindows()"
   ]
  },
  {
   "cell_type": "markdown",
   "id": "c65459fb",
   "metadata": {},
   "source": [
    "## 3. 픽셀 값 수정"
   ]
  },
  {
   "cell_type": "code",
   "execution_count": 15,
   "id": "d63a8bed",
   "metadata": {},
   "outputs": [],
   "source": [
    "## 픽셀값 수정\n",
    "# default : 1(color), 0(gray)\n",
    "img1 = cv2.imread('./fig/puppy.bmp',1)\n",
    "img2 = cv2.imread('./fig/puppy.bmp',0)\n",
    "\n",
    "# replace value\n",
    "img1[10:100, 100:200]= (0,255,255)\n",
    "\n",
    "cv2.imshow('img1', img1)\n",
    "cv2.imshow('img2', img2)\n",
    "\n",
    "cv2.waitKey()\n",
    "cv2.destroyAllWindows()"
   ]
  },
  {
   "cell_type": "markdown",
   "id": "2520fe3b",
   "metadata": {},
   "source": [
    "## 4. 이미지 생성"
   ]
  },
  {
   "cell_type": "code",
   "execution_count": 14,
   "id": "8368b4de",
   "metadata": {},
   "outputs": [],
   "source": [
    "# 새 영상 생성하기\n",
    "img1 = np.random.randint(0, 255, (240, 320), dtype = np.uint8) # gray random scale \n",
    "img2 = np.zeros((240, 320, 3), dtype=np.uint8)    # color image\n",
    "img3 = np.ones((240, 320), dtype=np.uint8) * 255  # dark gray\n",
    "img4 = np.full((240, 320, 3), (0, 255, 255), dtype=np.uint8)  # yellow\n",
    "\n",
    "cv2.imshow('img1', img1)\n",
    "cv2.imshow('img2', img2)\n",
    "cv2.imshow('img3', img3)\n",
    "cv2.imshow('img4', img4)\n",
    "\n",
    "cv2.waitKey()\n",
    "cv2.destroyAllWindows()"
   ]
  },
  {
   "cell_type": "markdown",
   "id": "cd921643",
   "metadata": {},
   "source": [
    "## 5. 이미지 복사\n",
    "- 얕은복사, 깊은복사 차이 : https://wikidocs.net/16038\n"
   ]
  },
  {
   "cell_type": "code",
   "execution_count": 23,
   "id": "ad579d7f",
   "metadata": {},
   "outputs": [],
   "source": [
    "# 얕은 복사와 깊은 복사 차이\n",
    "\n",
    "img = cv2.imread('./fig/cat.bmp')\n",
    "\n",
    "if img is None:\n",
    "    print('image read failed')\n",
    "    sys.exit()\n",
    "    \n",
    "img1 = img\n",
    "img2 = img.copy()\n",
    "\n",
    "img[100:200,200:300] = (0,0,0)\n",
    "\n",
    "cv2.imshow('image', img)\n",
    "cv2.imshow('image1', img1)\n",
    "cv2.imshow('image2', img2)\n",
    "\n",
    "while True:\n",
    "    if cv2.waitKey(20)==27:\n",
    "        break\n",
    "\n",
    "cv2.destroyAllWindows()"
   ]
  },
  {
   "cell_type": "markdown",
   "id": "605b1277",
   "metadata": {},
   "source": [
    "## 6. 원형 얹기\n",
    "- cv2.circle(src, (fx, fy), radius, color, thickness, linetype) : retval image"
   ]
  },
  {
   "cell_type": "code",
   "execution_count": 38,
   "id": "6b0150e9",
   "metadata": {},
   "outputs": [],
   "source": [
    "img = np.ones((400,400,3), dtype=np.uint8)*255\n",
    "img1 = img.copy()\n",
    "\n",
    "# circle(img, center, radius, color[, thickness[. linetype[,shift]) retval : img\n",
    "# img 위에 원을 그리는 함수\n",
    "# center : x,y축 순서.\n",
    "# thickness : -1 (fullfill)\n",
    "# cv2.LINE_AA : LINE_8 등 각진 모양을 스무딩한 형태\n",
    "cv2.circle(img, (100,200), 100, (0,0,255), 3, cv2.LINE_8)\n",
    "cv2.circle(img, (300,200), 100, (0,0,255), 3, cv2.LINE_AA)\n",
    "cv2.circle(img, (200,100), 100, (0,0,255), -1)\n",
    "\n",
    "cv2.imshow('image', img)\n",
    "\n",
    "cv2.waitKey()\n",
    "cv2.destroyAllWindows()"
   ]
  },
  {
   "cell_type": "markdown",
   "id": "1d731acd",
   "metadata": {},
   "source": [
    "## 7. 부분 추출"
   ]
  },
  {
   "cell_type": "code",
   "execution_count": 37,
   "id": "03e8c7e8",
   "metadata": {},
   "outputs": [],
   "source": [
    "img1 = cv2.imread('./fig/puppy.bmp')\n",
    "\n",
    "if img1 is None:\n",
    "    print('image read failed')\n",
    "    sys.exit()\n",
    "\n",
    "img2 = img1[200:400, 300:500]\n",
    "img3 = img1[200:400, 300:500].copy()\n",
    "\n",
    "cv2.circle(img2, (110,90), 50, (0,0,255), 3, cv2.LINE_AA)\n",
    "    \n",
    "cv2.imshow('image1', img1)\n",
    "cv2.imshow('image2', img3)\n",
    "cv2.imshow('image3', img2)\n",
    "\n",
    "cv2.waitKey()\n",
    "cv2.destroyAllWindows()"
   ]
  },
  {
   "cell_type": "markdown",
   "id": "d8451376",
   "metadata": {},
   "source": [
    "## 8. 마스크 연산과 ROI\n",
    "- copyTo(src, mask, dst)\n",
    "    - src : 입력 영상\n",
    "    - mask : 마스크 영상\n",
    "    - dst(destination) : 출력 영상. 만약 src와 크기, 타입이 같은 경우 연산을 바로 수행"
   ]
  },
  {
   "cell_type": "code",
   "execution_count": 18,
   "id": "dc721285",
   "metadata": {},
   "outputs": [
    {
     "name": "stdout",
     "output_type": "stream",
     "text": [
      "src shape : (400, 600, 3)\n",
      "mask shape : (400, 600)\n",
      "dst shape : (400, 600, 3)\n",
      "copyTo mask shape : (400, 600, 3)\n"
     ]
    }
   ],
   "source": [
    "src = cv2.imread('./fig/airplane.bmp', cv2.IMREAD_COLOR)\n",
    "mask = cv2.imread('./fig/mask_plane.bmp', cv2.IMREAD_GRAYSCALE)\n",
    "dst = cv2.imread('./fig/field.bmp', cv2.IMREAD_COLOR)\n",
    "print('src shape :', src.shape)\n",
    "print('mask shape :', mask.shape)\n",
    "print('dst shape :', dst.shape)\n",
    "\n",
    "\n",
    "if src is None and mask is None and dst is None:\n",
    "    print('image read failed')\n",
    "    sys.exit()\n",
    "\n",
    "\n",
    "cv2.copyTo(src, mask, dst)\n",
    "# src, mask만 입력시 value return\n",
    "dst = cv2.copyTo(src, mask)\n",
    "print('copyTo mask shape :', dst.shape)\n",
    "\n",
    "cv2.imshow('src', src)\n",
    "cv2.imshow('mask', mask)\n",
    "cv2.imshow('dst', dst)\n",
    "\n",
    "cv2.waitKey()\n",
    "cv2.destroyAllWindows()"
   ]
  },
  {
   "cell_type": "markdown",
   "id": "5492a2c4",
   "metadata": {},
   "source": [
    "## 9. 송아지 합성\n",
    "- cv2.threshold(src, thesh, maxval, type)\n",
    "    - thresh : 임계값\n",
    "    - maxval : 임계값을 넘을 때 적용할 value"
   ]
  },
  {
   "cell_type": "code",
   "execution_count": 21,
   "id": "d7ece9cd",
   "metadata": {},
   "outputs": [],
   "source": [
    "# threshold mask\n",
    "img1 = cv2.imread('./fig/cow.png')\n",
    "img2 = cv2.imread('./fig/green.png')\n",
    "\n",
    "img1_gray = cv2.cvtColor(img1, cv2.COLOR_BGR2GRAY)\n",
    "ret, mask = cv2.threshold(img1_gray, 245, 255, cv2.THRESH_BINARY_INV)\n",
    "\n",
    "cv2.imshow('mask', mask)\n",
    "\n",
    "cv2.waitKey()\n",
    "cv2.destroyAllWindows()"
   ]
  },
  {
   "cell_type": "code",
   "execution_count": 7,
   "id": "ebf3afe6",
   "metadata": {},
   "outputs": [
    {
     "name": "stdout",
     "output_type": "stream",
     "text": [
      "img1 shape : (600, 600, 3)\n",
      "img2 shape : (1125, 1500, 3)\n",
      "mask shape : (600, 600)\n",
      "mask unique value : [  0 255]\n"
     ]
    }
   ],
   "source": [
    "# img shape\n",
    "print('img1 shape :', img1.shape)\n",
    "print('img2 shape :', img2.shape)\n",
    "# 데이터 shape, 구성 값\n",
    "print('mask shape :', mask.shape)\n",
    "print('mask unique value :', np.unique(mask))"
   ]
  },
  {
   "cell_type": "code",
   "execution_count": 48,
   "id": "be7282a5",
   "metadata": {},
   "outputs": [],
   "source": [
    "img1 = cv2.imread('./fig/cow.png')\n",
    "img2 = cv2.imread('./fig/green.png')\n",
    "\n",
    "# masking 작업\n",
    "img1_gray = cv2.cvtColor(img1, cv2.COLOR_BGR2GRAY)\n",
    "ret, mask = cv2.threshold(img1_gray, 245, 255, cv2.THRESH_BINARY_INV)\n",
    "\n",
    "# copyTo를 위한 resizing\n",
    "img2 = cv2.resize(img2, img1.shape[:2])\n",
    "cv2.copyTo(img1, mask, img2)\n",
    "\n",
    "cv2.imshow('img1', img1)\n",
    "cv2.imshow('img2', img2)\n",
    "\n",
    "cv2.waitKey()\n",
    "cv2.destroyAllWindows()"
   ]
  },
  {
   "cell_type": "markdown",
   "id": "f8138c3d",
   "metadata": {},
   "source": [
    "## excercise"
   ]
  },
  {
   "cell_type": "code",
   "execution_count": 91,
   "id": "60f7aae6",
   "metadata": {},
   "outputs": [],
   "source": [
    "cat = cv2.imread('./fig/p_cat.jpg', cv2.IMREAD_COLOR)\n",
    "traffic = cv2.imread('./fig/p_traffic.jpg', cv2.IMREAD_COLOR)\n",
    "h, w = traffic.shape[:2]\n",
    "cat = cv2.resize(cat, (w, h), interpolation = cv2.INTER_AREA)\n",
    "\n",
    "cat_gray = cv2.cvtColor(cat, cv2.COLOR_BGR2GRAY)\n",
    "ret, mask = cv2.threshold(cat_gray, 110, 255, cv2.THRESH_BINARY_INV)\n",
    "\n",
    "cv2.copyTo(cat, mask, traffic)\n",
    "\n",
    "cv2.imshow('cat_gray', cat)\n",
    "cv2.imshow('mask', mask)\n",
    "cv2.imshow('traffic', traffic)\n",
    "\n",
    "cv2.waitKey()\n",
    "cv2.destroyAllWindows()"
   ]
  },
  {
   "cell_type": "code",
   "execution_count": null,
   "id": "abf09197",
   "metadata": {},
   "outputs": [],
   "source": []
  }
 ],
 "metadata": {
  "kernelspec": {
   "display_name": "Python 3 (ipykernel)",
   "language": "python",
   "name": "python3"
  },
  "language_info": {
   "codemirror_mode": {
    "name": "ipython",
    "version": 3
   },
   "file_extension": ".py",
   "mimetype": "text/x-python",
   "name": "python",
   "nbconvert_exporter": "python",
   "pygments_lexer": "ipython3",
   "version": "3.9.7"
  }
 },
 "nbformat": 4,
 "nbformat_minor": 5
}
