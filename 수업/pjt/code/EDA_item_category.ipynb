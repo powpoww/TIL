{
 "cells": [
  {
   "cell_type": "code",
   "execution_count": 15,
   "id": "a187c8be",
   "metadata": {},
   "outputs": [],
   "source": [
    "import pandas as pd\n",
    "import numpy as np\n",
    "import seaborn as sns\n",
    "import matplotlib.pyplot as plt\n",
    "\n",
    "# 한글 폰트 사용을 위해서 세팅\n",
    "from matplotlib import font_manager, rc\n",
    "font_path = \"C:/Windows/Fonts/NGULIM.TTF\"\n",
    "font = font_manager.FontProperties(fname=font_path).get_name()\n",
    "rc('font', family=font)"
   ]
  },
  {
   "cell_type": "code",
   "execution_count": 16,
   "id": "f2670f0c",
   "metadata": {},
   "outputs": [],
   "source": [
    "cat = pd.read_csv('../data/item_categories_kor.csv')\n",
    "sales = pd.read_csv('../data/raw/sales_train.csv')\n",
    "item = pd.read_csv('../data/raw/items.csv')"
   ]
  },
  {
   "cell_type": "code",
   "execution_count": 17,
   "id": "78aa0327",
   "metadata": {},
   "outputs": [
    {
     "data": {
      "text/html": [
       "<div>\n",
       "<style scoped>\n",
       "    .dataframe tbody tr th:only-of-type {\n",
       "        vertical-align: middle;\n",
       "    }\n",
       "\n",
       "    .dataframe tbody tr th {\n",
       "        vertical-align: top;\n",
       "    }\n",
       "\n",
       "    .dataframe thead th {\n",
       "        text-align: right;\n",
       "    }\n",
       "</style>\n",
       "<table border=\"1\" class=\"dataframe\">\n",
       "  <thead>\n",
       "    <tr style=\"text-align: right;\">\n",
       "      <th></th>\n",
       "      <th>item_category_name</th>\n",
       "      <th>item_category_id</th>\n",
       "    </tr>\n",
       "  </thead>\n",
       "  <tbody>\n",
       "    <tr>\n",
       "      <th>0</th>\n",
       "      <td>PC - 헤드셋 / 헤드폰</td>\n",
       "      <td>0</td>\n",
       "    </tr>\n",
       "    <tr>\n",
       "      <th>1</th>\n",
       "      <td>액세서리 - PS2.</td>\n",
       "      <td>1</td>\n",
       "    </tr>\n",
       "    <tr>\n",
       "      <th>2</th>\n",
       "      <td>액세서리 - PS3.</td>\n",
       "      <td>2</td>\n",
       "    </tr>\n",
       "    <tr>\n",
       "      <th>3</th>\n",
       "      <td>액세서리 - PS4.</td>\n",
       "      <td>3</td>\n",
       "    </tr>\n",
       "    <tr>\n",
       "      <th>4</th>\n",
       "      <td>액세서리 - PSP.</td>\n",
       "      <td>4</td>\n",
       "    </tr>\n",
       "  </tbody>\n",
       "</table>\n",
       "</div>"
      ],
      "text/plain": [
       "  item_category_name  item_category_id\n",
       "0     PC - 헤드셋 / 헤드폰                 0\n",
       "1        액세서리 - PS2.                 1\n",
       "2        액세서리 - PS3.                 2\n",
       "3        액세서리 - PS4.                 3\n",
       "4        액세서리 - PSP.                 4"
      ]
     },
     "execution_count": 17,
     "metadata": {},
     "output_type": "execute_result"
    }
   ],
   "source": [
    "cat.head()"
   ]
  },
  {
   "cell_type": "code",
   "execution_count": 18,
   "id": "cd5ce1c7",
   "metadata": {},
   "outputs": [
    {
     "data": {
      "text/html": [
       "<div>\n",
       "<style scoped>\n",
       "    .dataframe tbody tr th:only-of-type {\n",
       "        vertical-align: middle;\n",
       "    }\n",
       "\n",
       "    .dataframe tbody tr th {\n",
       "        vertical-align: top;\n",
       "    }\n",
       "\n",
       "    .dataframe thead th {\n",
       "        text-align: right;\n",
       "    }\n",
       "</style>\n",
       "<table border=\"1\" class=\"dataframe\">\n",
       "  <thead>\n",
       "    <tr style=\"text-align: right;\">\n",
       "      <th></th>\n",
       "      <th>item_name</th>\n",
       "      <th>item_id</th>\n",
       "      <th>item_category_id</th>\n",
       "    </tr>\n",
       "  </thead>\n",
       "  <tbody>\n",
       "    <tr>\n",
       "      <th>0</th>\n",
       "      <td>! ВО ВЛАСТИ НАВАЖДЕНИЯ (ПЛАСТ.)         D</td>\n",
       "      <td>0</td>\n",
       "      <td>40</td>\n",
       "    </tr>\n",
       "    <tr>\n",
       "      <th>1</th>\n",
       "      <td>!ABBYY FineReader 12 Professional Edition Full...</td>\n",
       "      <td>1</td>\n",
       "      <td>76</td>\n",
       "    </tr>\n",
       "    <tr>\n",
       "      <th>2</th>\n",
       "      <td>***В ЛУЧАХ СЛАВЫ   (UNV)                    D</td>\n",
       "      <td>2</td>\n",
       "      <td>40</td>\n",
       "    </tr>\n",
       "    <tr>\n",
       "      <th>3</th>\n",
       "      <td>***ГОЛУБАЯ ВОЛНА  (Univ)                      D</td>\n",
       "      <td>3</td>\n",
       "      <td>40</td>\n",
       "    </tr>\n",
       "    <tr>\n",
       "      <th>4</th>\n",
       "      <td>***КОРОБКА (СТЕКЛО)                       D</td>\n",
       "      <td>4</td>\n",
       "      <td>40</td>\n",
       "    </tr>\n",
       "  </tbody>\n",
       "</table>\n",
       "</div>"
      ],
      "text/plain": [
       "                                           item_name  item_id  \\\n",
       "0          ! ВО ВЛАСТИ НАВАЖДЕНИЯ (ПЛАСТ.)         D        0   \n",
       "1  !ABBYY FineReader 12 Professional Edition Full...        1   \n",
       "2      ***В ЛУЧАХ СЛАВЫ   (UNV)                    D        2   \n",
       "3    ***ГОЛУБАЯ ВОЛНА  (Univ)                      D        3   \n",
       "4        ***КОРОБКА (СТЕКЛО)                       D        4   \n",
       "\n",
       "   item_category_id  \n",
       "0                40  \n",
       "1                76  \n",
       "2                40  \n",
       "3                40  \n",
       "4                40  "
      ]
     },
     "execution_count": 18,
     "metadata": {},
     "output_type": "execute_result"
    }
   ],
   "source": [
    "item.head()"
   ]
  },
  {
   "cell_type": "code",
   "execution_count": 19,
   "id": "6fa2b61b",
   "metadata": {},
   "outputs": [
    {
     "data": {
      "text/html": [
       "<div>\n",
       "<style scoped>\n",
       "    .dataframe tbody tr th:only-of-type {\n",
       "        vertical-align: middle;\n",
       "    }\n",
       "\n",
       "    .dataframe tbody tr th {\n",
       "        vertical-align: top;\n",
       "    }\n",
       "\n",
       "    .dataframe thead th {\n",
       "        text-align: right;\n",
       "    }\n",
       "</style>\n",
       "<table border=\"1\" class=\"dataframe\">\n",
       "  <thead>\n",
       "    <tr style=\"text-align: right;\">\n",
       "      <th></th>\n",
       "      <th>date</th>\n",
       "      <th>date_block_num</th>\n",
       "      <th>shop_id</th>\n",
       "      <th>item_id</th>\n",
       "      <th>item_price</th>\n",
       "      <th>item_cnt_day</th>\n",
       "    </tr>\n",
       "  </thead>\n",
       "  <tbody>\n",
       "    <tr>\n",
       "      <th>0</th>\n",
       "      <td>02.01.2013</td>\n",
       "      <td>0</td>\n",
       "      <td>59</td>\n",
       "      <td>22154</td>\n",
       "      <td>999.00</td>\n",
       "      <td>1.0</td>\n",
       "    </tr>\n",
       "    <tr>\n",
       "      <th>1</th>\n",
       "      <td>03.01.2013</td>\n",
       "      <td>0</td>\n",
       "      <td>25</td>\n",
       "      <td>2552</td>\n",
       "      <td>899.00</td>\n",
       "      <td>1.0</td>\n",
       "    </tr>\n",
       "    <tr>\n",
       "      <th>2</th>\n",
       "      <td>05.01.2013</td>\n",
       "      <td>0</td>\n",
       "      <td>25</td>\n",
       "      <td>2552</td>\n",
       "      <td>899.00</td>\n",
       "      <td>-1.0</td>\n",
       "    </tr>\n",
       "    <tr>\n",
       "      <th>3</th>\n",
       "      <td>06.01.2013</td>\n",
       "      <td>0</td>\n",
       "      <td>25</td>\n",
       "      <td>2554</td>\n",
       "      <td>1709.05</td>\n",
       "      <td>1.0</td>\n",
       "    </tr>\n",
       "    <tr>\n",
       "      <th>4</th>\n",
       "      <td>15.01.2013</td>\n",
       "      <td>0</td>\n",
       "      <td>25</td>\n",
       "      <td>2555</td>\n",
       "      <td>1099.00</td>\n",
       "      <td>1.0</td>\n",
       "    </tr>\n",
       "  </tbody>\n",
       "</table>\n",
       "</div>"
      ],
      "text/plain": [
       "         date  date_block_num  shop_id  item_id  item_price  item_cnt_day\n",
       "0  02.01.2013               0       59    22154      999.00           1.0\n",
       "1  03.01.2013               0       25     2552      899.00           1.0\n",
       "2  05.01.2013               0       25     2552      899.00          -1.0\n",
       "3  06.01.2013               0       25     2554     1709.05           1.0\n",
       "4  15.01.2013               0       25     2555     1099.00           1.0"
      ]
     },
     "execution_count": 19,
     "metadata": {},
     "output_type": "execute_result"
    }
   ],
   "source": [
    "sales.head()"
   ]
  },
  {
   "cell_type": "markdown",
   "id": "dd30e722",
   "metadata": {},
   "source": [
    "# Preprocessing - item category"
   ]
  },
  {
   "cell_type": "code",
   "execution_count": 20,
   "id": "29308305",
   "metadata": {},
   "outputs": [
    {
     "data": {
      "text/plain": [
       "(['서비스', '서비스', '클린 미디어 (첨탑)', '클린 미디어 (조각)', '전원 요소'],\n",
       " [nan, '티켓', nan, nan, nan])"
      ]
     },
     "execution_count": 20,
     "metadata": {},
     "output_type": "execute_result"
    }
   ],
   "source": [
    "cat1, cat2 = [], []\n",
    "for n in cat.item_category_name:\n",
    "    \n",
    "    _ = n.split('-')\n",
    "    cat1.append(_[0].strip())\n",
    "    try: \n",
    "        cat2.append(_[1].strip())\n",
    "    except:\n",
    "        cat2.append(np.nan)\n",
    "        \n",
    "cat1[-5:], cat2[-5:]"
   ]
  },
  {
   "cell_type": "code",
   "execution_count": 21,
   "id": "518cc082",
   "metadata": {},
   "outputs": [
    {
     "data": {
      "text/html": [
       "<div>\n",
       "<style scoped>\n",
       "    .dataframe tbody tr th:only-of-type {\n",
       "        vertical-align: middle;\n",
       "    }\n",
       "\n",
       "    .dataframe tbody tr th {\n",
       "        vertical-align: top;\n",
       "    }\n",
       "\n",
       "    .dataframe thead th {\n",
       "        text-align: right;\n",
       "    }\n",
       "</style>\n",
       "<table border=\"1\" class=\"dataframe\">\n",
       "  <thead>\n",
       "    <tr style=\"text-align: right;\">\n",
       "      <th></th>\n",
       "      <th>item_category_name</th>\n",
       "      <th>item_category_id</th>\n",
       "      <th>category1</th>\n",
       "      <th>category2</th>\n",
       "    </tr>\n",
       "  </thead>\n",
       "  <tbody>\n",
       "    <tr>\n",
       "      <th>79</th>\n",
       "      <td>서비스</td>\n",
       "      <td>79</td>\n",
       "      <td>서비스</td>\n",
       "      <td>NaN</td>\n",
       "    </tr>\n",
       "    <tr>\n",
       "      <th>80</th>\n",
       "      <td>서비스 - 티켓</td>\n",
       "      <td>80</td>\n",
       "      <td>서비스</td>\n",
       "      <td>티켓</td>\n",
       "    </tr>\n",
       "    <tr>\n",
       "      <th>81</th>\n",
       "      <td>클린 미디어 (첨탑)</td>\n",
       "      <td>81</td>\n",
       "      <td>클린 미디어 (첨탑)</td>\n",
       "      <td>NaN</td>\n",
       "    </tr>\n",
       "    <tr>\n",
       "      <th>82</th>\n",
       "      <td>클린 미디어 (조각)</td>\n",
       "      <td>82</td>\n",
       "      <td>클린 미디어 (조각)</td>\n",
       "      <td>NaN</td>\n",
       "    </tr>\n",
       "    <tr>\n",
       "      <th>83</th>\n",
       "      <td>전원 요소</td>\n",
       "      <td>83</td>\n",
       "      <td>전원 요소</td>\n",
       "      <td>NaN</td>\n",
       "    </tr>\n",
       "  </tbody>\n",
       "</table>\n",
       "</div>"
      ],
      "text/plain": [
       "   item_category_name  item_category_id    category1 category2\n",
       "79                서비스                79          서비스       NaN\n",
       "80           서비스 - 티켓                80          서비스        티켓\n",
       "81        클린 미디어 (첨탑)                81  클린 미디어 (첨탑)       NaN\n",
       "82        클린 미디어 (조각)                82  클린 미디어 (조각)       NaN\n",
       "83              전원 요소                83        전원 요소       NaN"
      ]
     },
     "execution_count": 21,
     "metadata": {},
     "output_type": "execute_result"
    }
   ],
   "source": [
    "cat['category1'] = cat1\n",
    "cat['category2'] = cat2\n",
    "\n",
    "cat.tail()"
   ]
  },
  {
   "cell_type": "markdown",
   "id": "cf061dd1",
   "metadata": {},
   "source": [
    "# EDA - 카테고리별 판매량 비교"
   ]
  },
  {
   "cell_type": "markdown",
   "id": "89126310",
   "metadata": {},
   "source": [
    "## 1. 분류기준 : item_category_id"
   ]
  },
  {
   "cell_type": "markdown",
   "id": "15e3a856",
   "metadata": {},
   "source": [
    "### 상위 20개 카테고리의 Bar plot"
   ]
  },
  {
   "cell_type": "code",
   "execution_count": 22,
   "id": "513bcbed",
   "metadata": {},
   "outputs": [
    {
     "data": {
      "text/html": [
       "<div>\n",
       "<style scoped>\n",
       "    .dataframe tbody tr th:only-of-type {\n",
       "        vertical-align: middle;\n",
       "    }\n",
       "\n",
       "    .dataframe tbody tr th {\n",
       "        vertical-align: top;\n",
       "    }\n",
       "\n",
       "    .dataframe thead th {\n",
       "        text-align: right;\n",
       "    }\n",
       "</style>\n",
       "<table border=\"1\" class=\"dataframe\">\n",
       "  <thead>\n",
       "    <tr style=\"text-align: right;\">\n",
       "      <th></th>\n",
       "      <th>date</th>\n",
       "      <th>date_block_num</th>\n",
       "      <th>shop_id</th>\n",
       "      <th>item_id</th>\n",
       "      <th>item_price</th>\n",
       "      <th>item_cnt_day</th>\n",
       "      <th>item_category_name</th>\n",
       "      <th>item_category_id</th>\n",
       "      <th>category1</th>\n",
       "      <th>category2</th>\n",
       "      <th>item_name</th>\n",
       "    </tr>\n",
       "  </thead>\n",
       "  <tbody>\n",
       "    <tr>\n",
       "      <th>0</th>\n",
       "      <td>02.01.2013</td>\n",
       "      <td>0</td>\n",
       "      <td>59</td>\n",
       "      <td>22154</td>\n",
       "      <td>999.00</td>\n",
       "      <td>1.0</td>\n",
       "      <td>필름 - 블루 레이</td>\n",
       "      <td>37</td>\n",
       "      <td>필름</td>\n",
       "      <td>블루 레이</td>\n",
       "      <td>ЯВЛЕНИЕ 2012 (BD)</td>\n",
       "    </tr>\n",
       "    <tr>\n",
       "      <th>1</th>\n",
       "      <td>03.01.2013</td>\n",
       "      <td>0</td>\n",
       "      <td>25</td>\n",
       "      <td>2552</td>\n",
       "      <td>899.00</td>\n",
       "      <td>1.0</td>\n",
       "      <td>음악 - 비닐</td>\n",
       "      <td>58</td>\n",
       "      <td>음악</td>\n",
       "      <td>비닐</td>\n",
       "      <td>DEEP PURPLE  The House Of Blue Light  LP</td>\n",
       "    </tr>\n",
       "    <tr>\n",
       "      <th>2</th>\n",
       "      <td>05.01.2013</td>\n",
       "      <td>0</td>\n",
       "      <td>25</td>\n",
       "      <td>2552</td>\n",
       "      <td>899.00</td>\n",
       "      <td>-1.0</td>\n",
       "      <td>음악 - 비닐</td>\n",
       "      <td>58</td>\n",
       "      <td>음악</td>\n",
       "      <td>비닐</td>\n",
       "      <td>DEEP PURPLE  The House Of Blue Light  LP</td>\n",
       "    </tr>\n",
       "    <tr>\n",
       "      <th>3</th>\n",
       "      <td>06.01.2013</td>\n",
       "      <td>0</td>\n",
       "      <td>25</td>\n",
       "      <td>2554</td>\n",
       "      <td>1709.05</td>\n",
       "      <td>1.0</td>\n",
       "      <td>음악 - 비닐</td>\n",
       "      <td>58</td>\n",
       "      <td>음악</td>\n",
       "      <td>비닐</td>\n",
       "      <td>DEEP PURPLE  Who Do You Think We Are  LP</td>\n",
       "    </tr>\n",
       "    <tr>\n",
       "      <th>4</th>\n",
       "      <td>15.01.2013</td>\n",
       "      <td>0</td>\n",
       "      <td>25</td>\n",
       "      <td>2555</td>\n",
       "      <td>1099.00</td>\n",
       "      <td>1.0</td>\n",
       "      <td>음악 - CD 기업 생산</td>\n",
       "      <td>56</td>\n",
       "      <td>음악</td>\n",
       "      <td>CD 기업 생산</td>\n",
       "      <td>DEEP PURPLE 30 Very Best Of 2CD (Фирм.)</td>\n",
       "    </tr>\n",
       "  </tbody>\n",
       "</table>\n",
       "</div>"
      ],
      "text/plain": [
       "         date  date_block_num  shop_id  item_id  item_price  item_cnt_day  \\\n",
       "0  02.01.2013               0       59    22154      999.00           1.0   \n",
       "1  03.01.2013               0       25     2552      899.00           1.0   \n",
       "2  05.01.2013               0       25     2552      899.00          -1.0   \n",
       "3  06.01.2013               0       25     2554     1709.05           1.0   \n",
       "4  15.01.2013               0       25     2555     1099.00           1.0   \n",
       "\n",
       "  item_category_name  item_category_id category1 category2  \\\n",
       "0         필름 - 블루 레이                37        필름     블루 레이   \n",
       "1            음악 - 비닐                58        음악        비닐   \n",
       "2            음악 - 비닐                58        음악        비닐   \n",
       "3            음악 - 비닐                58        음악        비닐   \n",
       "4      음악 - CD 기업 생산                56        음악  CD 기업 생산   \n",
       "\n",
       "                                  item_name  \n",
       "0                         ЯВЛЕНИЕ 2012 (BD)  \n",
       "1  DEEP PURPLE  The House Of Blue Light  LP  \n",
       "2  DEEP PURPLE  The House Of Blue Light  LP  \n",
       "3  DEEP PURPLE  Who Do You Think We Are  LP  \n",
       "4   DEEP PURPLE 30 Very Best Of 2CD (Фирм.)  "
      ]
     },
     "execution_count": 22,
     "metadata": {},
     "output_type": "execute_result"
    }
   ],
   "source": [
    "_ = pd.merge(left=cat, right=item, how='left')\n",
    "\n",
    "sales_cat = pd.merge(left=sales, right=_,\n",
    "                    how='left', on='item_id')\n",
    "sales_cat.head()"
   ]
  },
  {
   "cell_type": "code",
   "execution_count": 41,
   "id": "ab5ce339",
   "metadata": {},
   "outputs": [
    {
     "name": "stdout",
     "output_type": "stream",
     "text": [
      "total : 84\n"
     ]
    },
    {
     "data": {
      "image/png": "[encoded data removed]",
      "text/plain": [
       "<Figure size 1440x360 with 1 Axes>"
      ]
     },
     "metadata": {
      "needs_background": "light"
     },
     "output_type": "display_data"
    }
   ],
   "source": [
    "# 컬럼 선별\n",
    "var_list = ['date', 'date_block_num', 'item_category_id', 'item_cnt_day']\n",
    "\n",
    "# 총 기간\n",
    "period_t = sales_cat[var_list].groupby('item_category_id').apply(len)\n",
    "print('total :', period_t.shape[0])\n",
    "_ = period_t.nlargest(20)\n",
    "plt.figure(figsize=(20,5))\n",
    "sns.barplot(x=_.index, y=_.values)\n",
    "plt.show()"
   ]
  },
  {
   "cell_type": "code",
   "execution_count": 50,
   "id": "21563158",
   "metadata": {
    "scrolled": true
   },
   "outputs": [
    {
     "data": {
      "text/html": [
       "<div>\n",
       "<style scoped>\n",
       "    .dataframe tbody tr th:only-of-type {\n",
       "        vertical-align: middle;\n",
       "    }\n",
       "\n",
       "    .dataframe tbody tr th {\n",
       "        vertical-align: top;\n",
       "    }\n",
       "\n",
       "    .dataframe thead th {\n",
       "        text-align: right;\n",
       "    }\n",
       "</style>\n",
       "<table border=\"1\" class=\"dataframe\">\n",
       "  <thead>\n",
       "    <tr style=\"text-align: right;\">\n",
       "      <th></th>\n",
       "      <th>item_category_name</th>\n",
       "      <th>item_category_id</th>\n",
       "    </tr>\n",
       "    <tr>\n",
       "      <th>item_category_id</th>\n",
       "      <th></th>\n",
       "      <th></th>\n",
       "    </tr>\n",
       "  </thead>\n",
       "  <tbody>\n",
       "    <tr>\n",
       "      <th>40</th>\n",
       "      <td>시네마 - DVD.</td>\n",
       "      <td>40</td>\n",
       "    </tr>\n",
       "    <tr>\n",
       "      <th>30</th>\n",
       "      <td>PC 게임 - Standard Editions.</td>\n",
       "      <td>30</td>\n",
       "    </tr>\n",
       "    <tr>\n",
       "      <th>55</th>\n",
       "      <td>음악 - 지역 생산 CD.</td>\n",
       "      <td>55</td>\n",
       "    </tr>\n",
       "    <tr>\n",
       "      <th>19</th>\n",
       "      <td>게임 - PS3.</td>\n",
       "      <td>19</td>\n",
       "    </tr>\n",
       "    <tr>\n",
       "      <th>37</th>\n",
       "      <td>필름 - 블루 레이</td>\n",
       "      <td>37</td>\n",
       "    </tr>\n",
       "    <tr>\n",
       "      <th>23</th>\n",
       "      <td>게임 - Xbox 360.</td>\n",
       "      <td>23</td>\n",
       "    </tr>\n",
       "    <tr>\n",
       "      <th>28</th>\n",
       "      <td>PC 게임 - 추가 버전</td>\n",
       "      <td>28</td>\n",
       "    </tr>\n",
       "    <tr>\n",
       "      <th>20</th>\n",
       "      <td>게임 - PS4.</td>\n",
       "      <td>20</td>\n",
       "    </tr>\n",
       "    <tr>\n",
       "      <th>63</th>\n",
       "      <td>선물 - 부드러운 장난감</td>\n",
       "      <td>63</td>\n",
       "    </tr>\n",
       "    <tr>\n",
       "      <th>65</th>\n",
       "      <td>선물 - 보드 게임 (컴팩트)</td>\n",
       "      <td>65</td>\n",
       "    </tr>\n",
       "    <tr>\n",
       "      <th>72</th>\n",
       "      <td>선물 - 그림</td>\n",
       "      <td>72</td>\n",
       "    </tr>\n",
       "    <tr>\n",
       "      <th>38</th>\n",
       "      <td>시네마 - 블루 레이 3D.</td>\n",
       "      <td>38</td>\n",
       "    </tr>\n",
       "    <tr>\n",
       "      <th>75</th>\n",
       "      <td>프로그램 - 가정과 사무실의 경우</td>\n",
       "      <td>75</td>\n",
       "    </tr>\n",
       "    <tr>\n",
       "      <th>67</th>\n",
       "      <td>선물 - 개발</td>\n",
       "      <td>67</td>\n",
       "    </tr>\n",
       "    <tr>\n",
       "      <th>64</th>\n",
       "      <td>선물 - 보드 게임</td>\n",
       "      <td>64</td>\n",
       "    </tr>\n",
       "    <tr>\n",
       "      <th>70</th>\n",
       "      <td>선물 - 기념품 (히치)</td>\n",
       "      <td>70</td>\n",
       "    </tr>\n",
       "    <tr>\n",
       "      <th>41</th>\n",
       "      <td>시네마 - 수령</td>\n",
       "      <td>41</td>\n",
       "    </tr>\n",
       "    <tr>\n",
       "      <th>57</th>\n",
       "      <td>음악 - MP3.</td>\n",
       "      <td>57</td>\n",
       "    </tr>\n",
       "    <tr>\n",
       "      <th>21</th>\n",
       "      <td>게임 - PSP.</td>\n",
       "      <td>21</td>\n",
       "    </tr>\n",
       "    <tr>\n",
       "      <th>71</th>\n",
       "      <td>선물 - 가방, 앨범, 러그 D / 마우스</td>\n",
       "      <td>71</td>\n",
       "    </tr>\n",
       "  </tbody>\n",
       "</table>\n",
       "</div>"
      ],
      "text/plain": [
       "                          item_category_name  item_category_id\n",
       "item_category_id                                              \n",
       "40                                시네마 - DVD.                40\n",
       "30                PC 게임 - Standard Editions.                30\n",
       "55                            음악 - 지역 생산 CD.                55\n",
       "19                                 게임 - PS3.                19\n",
       "37                                필름 - 블루 레이                37\n",
       "23                            게임 - Xbox 360.                23\n",
       "28                             PC 게임 - 추가 버전                28\n",
       "20                                 게임 - PS4.                20\n",
       "63                             선물 - 부드러운 장난감                63\n",
       "65                          선물 - 보드 게임 (컴팩트)                65\n",
       "72                                   선물 - 그림                72\n",
       "38                           시네마 - 블루 레이 3D.                38\n",
       "75                        프로그램 - 가정과 사무실의 경우                75\n",
       "67                                   선물 - 개발                67\n",
       "64                                선물 - 보드 게임                64\n",
       "70                             선물 - 기념품 (히치)                70\n",
       "41                                  시네마 - 수령                41\n",
       "57                                 음악 - MP3.                57\n",
       "21                                 게임 - PSP.                21\n",
       "71                   선물 - 가방, 앨범, 러그 D / 마우스                71"
      ]
     },
     "execution_count": 50,
     "metadata": {},
     "output_type": "execute_result"
    }
   ],
   "source": [
    "cat.loc[_.index]"
   ]
  },
  {
   "cell_type": "markdown",
   "id": "a0c2ac71",
   "metadata": {},
   "source": [
    "### 하위 카테고리"
   ]
  },
  {
   "cell_type": "code",
   "execution_count": 44,
   "id": "fad7ee76",
   "metadata": {},
   "outputs": [
    {
     "name": "stdout",
     "output_type": "stream",
     "text": [
      "total : 84\n"
     ]
    },
    {
     "data": {
      "image/png": "[encoded data removed]",
      "text/plain": [
       "<Figure size 1440x360 with 1 Axes>"
      ]
     },
     "metadata": {
      "needs_background": "light"
     },
     "output_type": "display_data"
    }
   ],
   "source": [
    "print('total :', period_t.shape[0])\n",
    "_ = period_t.nsmallest(64)\n",
    "plt.figure(figsize=(20,5))\n",
    "sns.barplot(x=_.index, y=_.values)\n",
    "plt.show()"
   ]
  },
  {
   "cell_type": "markdown",
   "id": "7de81f7b",
   "metadata": {},
   "source": [
    "### 파이차트"
   ]
  },
  {
   "cell_type": "code",
   "execution_count": 79,
   "id": "e13f1ea8",
   "metadata": {},
   "outputs": [
    {
     "data": {
      "image/png": "[encoded data removed]",
      "text/plain": [
       "<Figure size 504x504 with 1 Axes>"
      ]
     },
     "metadata": {},
     "output_type": "display_data"
    }
   ],
   "source": [
    "top7 = period_t.nlargest(7)\n",
    "x = list(top7) + [period_t.sum() - top7.sum()]\n",
    "y = list(top7.index) + ['etc']\n",
    "\n",
    "plt.figure(figsize=(7,7))\n",
    "plt.pie(x, labels=y, autopct='%.2f%%')\n",
    "plt.show()"
   ]
  },
  {
   "cell_type": "code",
   "execution_count": null,
   "id": "70c9b7f1",
   "metadata": {},
   "outputs": [],
   "source": []
  },
  {
   "cell_type": "markdown",
   "id": "53905b8e",
   "metadata": {},
   "source": [
    "## 2. 분류기준: category1"
   ]
  },
  {
   "cell_type": "markdown",
   "id": "512c5fb3",
   "metadata": {},
   "source": [
    "### 상위 10개 항목"
   ]
  },
  {
   "cell_type": "code",
   "execution_count": 81,
   "id": "dc59cbd7",
   "metadata": {},
   "outputs": [
    {
     "name": "stdout",
     "output_type": "stream",
     "text": [
      "length : 21\n"
     ]
    },
    {
     "data": {
      "text/plain": [
       "책                      13\n",
       "선물                     12\n",
       "게임 콘솔                   8\n",
       "게임                      8\n",
       "액세서리                    7\n",
       "프로그램                    6\n",
       "음악                      6\n",
       "지불 카드                   4\n",
       "PC 게임                   4\n",
       "시네마                     4\n",
       "서비스                     2\n",
       "클린 미디어 (조각)             1\n",
       "클린 미디어 (첨탑)             1\n",
       "PC                      1\n",
       "필름                      1\n",
       "지불 카드 (시네마, 음악, 게임)     1\n",
       "맥 게임                    1\n",
       "안드로이드 게임                1\n",
       "상품 배달                   1\n",
       "티켓 (숫자)                 1\n",
       "전원 요소                   1\n",
       "Name: category1, dtype: int64"
      ]
     },
     "execution_count": 81,
     "metadata": {},
     "output_type": "execute_result"
    }
   ],
   "source": [
    "# category1 개수\n",
    "print('length :', len(cat.category1.value_counts()))\n",
    "cat.category1.value_counts()"
   ]
  },
  {
   "cell_type": "code",
   "execution_count": 82,
   "id": "635b2794",
   "metadata": {},
   "outputs": [
    {
     "name": "stderr",
     "output_type": "stream",
     "text": [
      "C:\\Users\\GW\\anaconda3\\lib\\site-packages\\seaborn\\_decorators.py:36: FutureWarning: Pass the following variables as keyword args: x, y. From version 0.12, the only valid positional argument will be `data`, and passing other arguments without an explicit keyword will result in an error or misinterpretation.\n",
      "  warnings.warn(\n"
     ]
    },
    {
     "data": {
      "text/plain": [
       "<AxesSubplot:xlabel='category1'>"
      ]
     },
     "execution_count": 82,
     "metadata": {},
     "output_type": "execute_result"
    },
    {
     "data": {
      "image/png": "[encoded data removed]",
      "text/plain": [
       "<Figure size 1440x360 with 1 Axes>"
      ]
     },
     "metadata": {
      "needs_background": "light"
     },
     "output_type": "display_data"
    }
   ],
   "source": [
    "# 컬럼 선별\n",
    "var_list = ['date', 'date_block_num', 'item_category_id', 'item_cnt_day', 'category1']\n",
    "\n",
    "# 총 기간\n",
    "period_t = sales_cat[var_list].groupby('category1').apply(len)\n",
    "_ = period_t.nlargest(10)\n",
    "plt.figure(figsize=(20,5))\n",
    "sns.barplot(_.index, _.values)"
   ]
  },
  {
   "cell_type": "markdown",
   "id": "2f7b3377",
   "metadata": {},
   "source": [
    "### 파이차트 - 상위 4개 항목"
   ]
  },
  {
   "cell_type": "code",
   "execution_count": 87,
   "id": "46f403fe",
   "metadata": {},
   "outputs": [
    {
     "data": {
      "image/png": "[encoded data removed]",
      "text/plain": [
       "<Figure size 504x504 with 1 Axes>"
      ]
     },
     "metadata": {},
     "output_type": "display_data"
    }
   ],
   "source": [
    "top7 = period_t.nlargest(4)\n",
    "x = list(top7) + [period_t.sum() - top7.sum()]\n",
    "y = list(top7.index) + ['etc']\n",
    "\n",
    "plt.figure(figsize=(7,7))\n",
    "plt.pie(x, labels=y, autopct='%.2f%%')\n",
    "plt.show()"
   ]
  },
  {
   "cell_type": "markdown",
   "id": "2f33fe9b",
   "metadata": {},
   "source": [
    "**탐색가능방향**\n",
    "- 기간, 분기별 판매량\n",
    "- 지역별 판매량\n",
    "- 시계열"
   ]
  },
  {
   "cell_type": "markdown",
   "id": "4c18bdec",
   "metadata": {},
   "source": [
    "**적용기법**\n",
    "\n",
    "0. Linear Regression Model\n",
    "1. KNN Regression Model\n",
    "2. ARIMA Model\n",
    "3. XGboost(Decision Tree -> Ensamble Model)\n",
    "4. LSTM 등 Neural Network Model"
   ]
  },
  {
   "cell_type": "code",
   "execution_count": null,
   "id": "97defa67",
   "metadata": {},
   "outputs": [],
   "source": []
  },
  {
   "cell_type": "code",
   "execution_count": 89,
   "id": "38c63a18",
   "metadata": {},
   "outputs": [
    {
     "data": {
      "text/html": [
       "<div>\n",
       "<style scoped>\n",
       "    .dataframe tbody tr th:only-of-type {\n",
       "        vertical-align: middle;\n",
       "    }\n",
       "\n",
       "    .dataframe tbody tr th {\n",
       "        vertical-align: top;\n",
       "    }\n",
       "\n",
       "    .dataframe thead th {\n",
       "        text-align: right;\n",
       "    }\n",
       "</style>\n",
       "<table border=\"1\" class=\"dataframe\">\n",
       "  <thead>\n",
       "    <tr style=\"text-align: right;\">\n",
       "      <th></th>\n",
       "      <th>item_category_name</th>\n",
       "      <th>item_category_id</th>\n",
       "      <th>category1</th>\n",
       "      <th>category2</th>\n",
       "    </tr>\n",
       "  </thead>\n",
       "  <tbody>\n",
       "    <tr>\n",
       "      <th>0</th>\n",
       "      <td>PC - 헤드셋 / 헤드폰</td>\n",
       "      <td>0</td>\n",
       "      <td>PC</td>\n",
       "      <td>헤드셋 / 헤드폰</td>\n",
       "    </tr>\n",
       "    <tr>\n",
       "      <th>1</th>\n",
       "      <td>액세서리 - PS2.</td>\n",
       "      <td>1</td>\n",
       "      <td>액세서리</td>\n",
       "      <td>PS2.</td>\n",
       "    </tr>\n",
       "    <tr>\n",
       "      <th>2</th>\n",
       "      <td>액세서리 - PS3.</td>\n",
       "      <td>2</td>\n",
       "      <td>액세서리</td>\n",
       "      <td>PS3.</td>\n",
       "    </tr>\n",
       "    <tr>\n",
       "      <th>3</th>\n",
       "      <td>액세서리 - PS4.</td>\n",
       "      <td>3</td>\n",
       "      <td>액세서리</td>\n",
       "      <td>PS4.</td>\n",
       "    </tr>\n",
       "    <tr>\n",
       "      <th>4</th>\n",
       "      <td>액세서리 - PSP.</td>\n",
       "      <td>4</td>\n",
       "      <td>액세서리</td>\n",
       "      <td>PSP.</td>\n",
       "    </tr>\n",
       "    <tr>\n",
       "      <th>...</th>\n",
       "      <td>...</td>\n",
       "      <td>...</td>\n",
       "      <td>...</td>\n",
       "      <td>...</td>\n",
       "    </tr>\n",
       "    <tr>\n",
       "      <th>79</th>\n",
       "      <td>서비스</td>\n",
       "      <td>79</td>\n",
       "      <td>서비스</td>\n",
       "      <td>NaN</td>\n",
       "    </tr>\n",
       "    <tr>\n",
       "      <th>80</th>\n",
       "      <td>서비스 - 티켓</td>\n",
       "      <td>80</td>\n",
       "      <td>서비스</td>\n",
       "      <td>티켓</td>\n",
       "    </tr>\n",
       "    <tr>\n",
       "      <th>81</th>\n",
       "      <td>클린 미디어 (첨탑)</td>\n",
       "      <td>81</td>\n",
       "      <td>클린 미디어 (첨탑)</td>\n",
       "      <td>NaN</td>\n",
       "    </tr>\n",
       "    <tr>\n",
       "      <th>82</th>\n",
       "      <td>클린 미디어 (조각)</td>\n",
       "      <td>82</td>\n",
       "      <td>클린 미디어 (조각)</td>\n",
       "      <td>NaN</td>\n",
       "    </tr>\n",
       "    <tr>\n",
       "      <th>83</th>\n",
       "      <td>전원 요소</td>\n",
       "      <td>83</td>\n",
       "      <td>전원 요소</td>\n",
       "      <td>NaN</td>\n",
       "    </tr>\n",
       "  </tbody>\n",
       "</table>\n",
       "<p>84 rows × 4 columns</p>\n",
       "</div>"
      ],
      "text/plain": [
       "   item_category_name  item_category_id    category1  category2\n",
       "0      PC - 헤드셋 / 헤드폰                 0           PC  헤드셋 / 헤드폰\n",
       "1         액세서리 - PS2.                 1         액세서리       PS2.\n",
       "2         액세서리 - PS3.                 2         액세서리       PS3.\n",
       "3         액세서리 - PS4.                 3         액세서리       PS4.\n",
       "4         액세서리 - PSP.                 4         액세서리       PSP.\n",
       "..                ...               ...          ...        ...\n",
       "79                서비스                79          서비스        NaN\n",
       "80           서비스 - 티켓                80          서비스         티켓\n",
       "81        클린 미디어 (첨탑)                81  클린 미디어 (첨탑)        NaN\n",
       "82        클린 미디어 (조각)                82  클린 미디어 (조각)        NaN\n",
       "83              전원 요소                83        전원 요소        NaN\n",
       "\n",
       "[84 rows x 4 columns]"
      ]
     },
     "execution_count": 89,
     "metadata": {},
     "output_type": "execute_result"
    }
   ],
   "source": [
    "cat"
   ]
  },
  {
   "cell_type": "code",
   "execution_count": 92,
   "id": "44e52dab",
   "metadata": {},
   "outputs": [
    {
     "data": {
      "text/html": [
       "<div>\n",
       "<style scoped>\n",
       "    .dataframe tbody tr th:only-of-type {\n",
       "        vertical-align: middle;\n",
       "    }\n",
       "\n",
       "    .dataframe tbody tr th {\n",
       "        vertical-align: top;\n",
       "    }\n",
       "\n",
       "    .dataframe thead th {\n",
       "        text-align: right;\n",
       "    }\n",
       "</style>\n",
       "<table border=\"1\" class=\"dataframe\">\n",
       "  <thead>\n",
       "    <tr style=\"text-align: right;\">\n",
       "      <th></th>\n",
       "      <th>item_category_name</th>\n",
       "      <th>item_category_id</th>\n",
       "      <th>category1</th>\n",
       "      <th>category2</th>\n",
       "      <th>category1_id</th>\n",
       "      <th>category2_id</th>\n",
       "    </tr>\n",
       "  </thead>\n",
       "  <tbody>\n",
       "    <tr>\n",
       "      <th>0</th>\n",
       "      <td>PC - 헤드셋 / 헤드폰</td>\n",
       "      <td>0</td>\n",
       "      <td>PC</td>\n",
       "      <td>헤드셋 / 헤드폰</td>\n",
       "      <td>0</td>\n",
       "      <td>60</td>\n",
       "    </tr>\n",
       "    <tr>\n",
       "      <th>1</th>\n",
       "      <td>액세서리 - PS2.</td>\n",
       "      <td>1</td>\n",
       "      <td>액세서리</td>\n",
       "      <td>PS2.</td>\n",
       "      <td>10</td>\n",
       "      <td>6</td>\n",
       "    </tr>\n",
       "    <tr>\n",
       "      <th>2</th>\n",
       "      <td>액세서리 - PS3.</td>\n",
       "      <td>2</td>\n",
       "      <td>액세서리</td>\n",
       "      <td>PS3.</td>\n",
       "      <td>10</td>\n",
       "      <td>7</td>\n",
       "    </tr>\n",
       "    <tr>\n",
       "      <th>3</th>\n",
       "      <td>액세서리 - PS4.</td>\n",
       "      <td>3</td>\n",
       "      <td>액세서리</td>\n",
       "      <td>PS4.</td>\n",
       "      <td>10</td>\n",
       "      <td>8</td>\n",
       "    </tr>\n",
       "    <tr>\n",
       "      <th>4</th>\n",
       "      <td>액세서리 - PSP.</td>\n",
       "      <td>4</td>\n",
       "      <td>액세서리</td>\n",
       "      <td>PSP.</td>\n",
       "      <td>10</td>\n",
       "      <td>10</td>\n",
       "    </tr>\n",
       "    <tr>\n",
       "      <th>...</th>\n",
       "      <td>...</td>\n",
       "      <td>...</td>\n",
       "      <td>...</td>\n",
       "      <td>...</td>\n",
       "      <td>...</td>\n",
       "      <td>...</td>\n",
       "    </tr>\n",
       "    <tr>\n",
       "      <th>79</th>\n",
       "      <td>서비스</td>\n",
       "      <td>79</td>\n",
       "      <td>서비스</td>\n",
       "      <td>NaN</td>\n",
       "      <td>6</td>\n",
       "      <td>62</td>\n",
       "    </tr>\n",
       "    <tr>\n",
       "      <th>80</th>\n",
       "      <td>서비스 - 티켓</td>\n",
       "      <td>80</td>\n",
       "      <td>서비스</td>\n",
       "      <td>티켓</td>\n",
       "      <td>6</td>\n",
       "      <td>59</td>\n",
       "    </tr>\n",
       "    <tr>\n",
       "      <th>81</th>\n",
       "      <td>클린 미디어 (첨탑)</td>\n",
       "      <td>81</td>\n",
       "      <td>클린 미디어 (첨탑)</td>\n",
       "      <td>NaN</td>\n",
       "      <td>17</td>\n",
       "      <td>62</td>\n",
       "    </tr>\n",
       "    <tr>\n",
       "      <th>82</th>\n",
       "      <td>클린 미디어 (조각)</td>\n",
       "      <td>82</td>\n",
       "      <td>클린 미디어 (조각)</td>\n",
       "      <td>NaN</td>\n",
       "      <td>16</td>\n",
       "      <td>62</td>\n",
       "    </tr>\n",
       "    <tr>\n",
       "      <th>83</th>\n",
       "      <td>전원 요소</td>\n",
       "      <td>83</td>\n",
       "      <td>전원 요소</td>\n",
       "      <td>NaN</td>\n",
       "      <td>12</td>\n",
       "      <td>62</td>\n",
       "    </tr>\n",
       "  </tbody>\n",
       "</table>\n",
       "<p>84 rows × 6 columns</p>\n",
       "</div>"
      ],
      "text/plain": [
       "   item_category_name  item_category_id    category1  category2  category1_id  \\\n",
       "0      PC - 헤드셋 / 헤드폰                 0           PC  헤드셋 / 헤드폰             0   \n",
       "1         액세서리 - PS2.                 1         액세서리       PS2.            10   \n",
       "2         액세서리 - PS3.                 2         액세서리       PS3.            10   \n",
       "3         액세서리 - PS4.                 3         액세서리       PS4.            10   \n",
       "4         액세서리 - PSP.                 4         액세서리       PSP.            10   \n",
       "..                ...               ...          ...        ...           ...   \n",
       "79                서비스                79          서비스        NaN             6   \n",
       "80           서비스 - 티켓                80          서비스         티켓             6   \n",
       "81        클린 미디어 (첨탑)                81  클린 미디어 (첨탑)        NaN            17   \n",
       "82        클린 미디어 (조각)                82  클린 미디어 (조각)        NaN            16   \n",
       "83              전원 요소                83        전원 요소        NaN            12   \n",
       "\n",
       "    category2_id  \n",
       "0             60  \n",
       "1              6  \n",
       "2              7  \n",
       "3              8  \n",
       "4             10  \n",
       "..           ...  \n",
       "79            62  \n",
       "80            59  \n",
       "81            62  \n",
       "82            62  \n",
       "83            62  \n",
       "\n",
       "[84 rows x 6 columns]"
      ]
     },
     "execution_count": 92,
     "metadata": {},
     "output_type": "execute_result"
    }
   ],
   "source": [
    "from sklearn.preprocessing import LabelEncoder\n",
    "LE = LabelEncoder()\n",
    "\n",
    "cat1 = LE.fit_transform(cat.category1)\n",
    "cat2 = LE.fit_transform(cat.category2)\n",
    "\n",
    "cat['category1_id'] = cat1\n",
    "cat['category2_id'] = cat2\n",
    "\n",
    "cat"
   ]
  },
  {
   "cell_type": "code",
   "execution_count": 93,
   "id": "2e1543ec",
   "metadata": {},
   "outputs": [],
   "source": [
    "cat.to_csv('../data/item_splitcat_kor.csv', index=False)"
   ]
  },
  {
   "cell_type": "code",
   "execution_count": null,
   "id": "9c82fc6f",
   "metadata": {},
   "outputs": [],
   "source": []
  }
 ],
 "metadata": {
  "kernelspec": {
   "display_name": "Python 3 (ipykernel)",
   "language": "python",
   "name": "python3"
  },
  "language_info": {
   "codemirror_mode": {
    "name": "ipython",
    "version": 3
   },
   "file_extension": ".py",
   "mimetype": "text/x-python",
   "name": "python",
   "nbconvert_exporter": "python",
   "pygments_lexer": "ipython3",
   "version": "3.9.7"
  }
 },
 "nbformat": 4,
 "nbformat_minor": 5
}
