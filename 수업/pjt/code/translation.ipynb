{
 "cells": [
  {
   "cell_type": "code",
   "execution_count": 17,
   "id": "33a4297b",
   "metadata": {},
   "outputs": [],
   "source": [
    "import pandas as pd\n",
    "import numpy as np\n",
    "from googletrans import Translator\n",
    "import os"
   ]
  },
  {
   "cell_type": "markdown",
   "id": "e87c022c",
   "metadata": {},
   "source": [
    "# 번역파일 생성"
   ]
  },
  {
   "cell_type": "markdown",
   "id": "ac247209",
   "metadata": {},
   "source": [
    "## 1. 번역테스트"
   ]
  },
  {
   "cell_type": "code",
   "execution_count": 3,
   "id": "7c34b771",
   "metadata": {
    "scrolled": true
   },
   "outputs": [
    {
     "name": "stdout",
     "output_type": "stream",
     "text": [
      "안녕하세요\n"
     ]
    }
   ],
   "source": [
    "trans = Translator()\n",
    "result = trans.translate('hello', src='en', dest='ko')\n",
    "print(result.text)"
   ]
  },
  {
   "cell_type": "markdown",
   "id": "56670eb3",
   "metadata": {},
   "source": [
    "## 2. 대상파일"
   ]
  },
  {
   "cell_type": "code",
   "execution_count": 21,
   "id": "5103faa1",
   "metadata": {
    "scrolled": true
   },
   "outputs": [
    {
     "name": "stdout",
     "output_type": "stream",
     "text": [
      "['items.csv', 'items_kor.csv', 'item_categories.csv', 'sales_train.csv', 'sample_submission.csv', 'shops.csv', 'test.csv']\n"
     ]
    }
   ],
   "source": [
    "path = '../data/raw'\n",
    "lst = os.listdir(path)\n",
    "print(lst)\n",
    "\n",
    "category = pd.read_csv(path+'item_categories.csv')"
   ]
  },
  {
   "cell_type": "code",
   "execution_count": 22,
   "id": "327b7a32",
   "metadata": {},
   "outputs": [
    {
     "name": "stdout",
     "output_type": "stream",
     "text": [
      "Index(['item_name', 'item_id', 'item_category_id'], dtype='object')\n",
      "Index(['item_category_name', 'item_category_id'], dtype='object')\n",
      "Index(['shop_name', 'shop_id'], dtype='object')\n"
     ]
    }
   ],
   "source": [
    "print(item.columns)\n",
    "print(category.columns)\n",
    "print(shops.columns)"
   ]
  },
  {
   "cell_type": "markdown",
   "id": "b03996e3",
   "metadata": {},
   "source": [
    "## 3. 번역"
   ]
  },
  {
   "cell_type": "code",
   "execution_count": 29,
   "id": "d4cf2211",
   "metadata": {},
   "outputs": [],
   "source": [
    "trans = Translator()\n",
    "def translate(column):\n",
    "    en_list=[]\n",
    "    for word in column:\n",
    "        en = trans.translate(word, dest='ko')\n",
    "        en_list.append(en.text)\n",
    "    return en_list"
   ]
  },
  {
   "cell_type": "code",
   "execution_count": 31,
   "id": "89bb9177",
   "metadata": {},
   "outputs": [
    {
     "data": {
      "text/html": [
       "<div>\n",
       "<style scoped>\n",
       "    .dataframe tbody tr th:only-of-type {\n",
       "        vertical-align: middle;\n",
       "    }\n",
       "\n",
       "    .dataframe tbody tr th {\n",
       "        vertical-align: top;\n",
       "    }\n",
       "\n",
       "    .dataframe thead th {\n",
       "        text-align: right;\n",
       "    }\n",
       "</style>\n",
       "<table border=\"1\" class=\"dataframe\">\n",
       "  <thead>\n",
       "    <tr style=\"text-align: right;\">\n",
       "      <th></th>\n",
       "      <th>item_category_name</th>\n",
       "      <th>item_category_id</th>\n",
       "    </tr>\n",
       "  </thead>\n",
       "  <tbody>\n",
       "    <tr>\n",
       "      <th>0</th>\n",
       "      <td>PC - 헤드셋 / 헤드폰</td>\n",
       "      <td>0</td>\n",
       "    </tr>\n",
       "    <tr>\n",
       "      <th>1</th>\n",
       "      <td>액세서리 - PS2.</td>\n",
       "      <td>1</td>\n",
       "    </tr>\n",
       "    <tr>\n",
       "      <th>2</th>\n",
       "      <td>액세서리 - PS3.</td>\n",
       "      <td>2</td>\n",
       "    </tr>\n",
       "    <tr>\n",
       "      <th>3</th>\n",
       "      <td>액세서리 - PS4.</td>\n",
       "      <td>3</td>\n",
       "    </tr>\n",
       "    <tr>\n",
       "      <th>4</th>\n",
       "      <td>액세서리 - PSP.</td>\n",
       "      <td>4</td>\n",
       "    </tr>\n",
       "  </tbody>\n",
       "</table>\n",
       "</div>"
      ],
      "text/plain": [
       "  item_category_name  item_category_id\n",
       "0     PC - 헤드셋 / 헤드폰                 0\n",
       "1        액세서리 - PS2.                 1\n",
       "2        액세서리 - PS3.                 2\n",
       "3        액세서리 - PS4.                 3\n",
       "4        액세서리 - PSP.                 4"
      ]
     },
     "execution_count": 31,
     "metadata": {},
     "output_type": "execute_result"
    }
   ],
   "source": [
    "# 상품카테고리\n",
    "category['item_category_name'] = translate(category.item_category_name)\n",
    "category.head()"
   ]
  },
  {
   "cell_type": "code",
   "execution_count": 43,
   "id": "964e73c5",
   "metadata": {},
   "outputs": [],
   "source": [
    "category.to_csv(path+'item_categories_kor.csv', index=False)"
   ]
  },
  {
   "cell_type": "code",
   "execution_count": null,
   "id": "f7bae8a5",
   "metadata": {},
   "outputs": [],
   "source": []
  },
  {
   "cell_type": "code",
   "execution_count": null,
   "id": "ccd4effd",
   "metadata": {},
   "outputs": [],
   "source": []
  }
 ],
 "metadata": {
  "kernelspec": {
   "display_name": "Python 3 (ipykernel)",
   "language": "python",
   "name": "python3"
  },
  "language_info": {
   "codemirror_mode": {
    "name": "ipython",
    "version": 3
   },
   "file_extension": ".py",
   "mimetype": "text/x-python",
   "name": "python",
   "nbconvert_exporter": "python",
   "pygments_lexer": "ipython3",
   "version": "3.9.7"
  }
 },
 "nbformat": 4,
 "nbformat_minor": 5
}
