{
 "cells": [
  {
   "cell_type": "code",
   "execution_count": 1,
   "id": "99265b90",
   "metadata": {
    "ExecuteTime": {
     "end_time": "2022-03-19T16:25:58.004157Z",
     "start_time": "2022-03-19T16:25:57.221825Z"
    }
   },
   "outputs": [],
   "source": [
    "import networkx as nx\n",
    "import matplotlib.pyplot as plt\n",
    "%matplotlib inline "
   ]
  },
  {
   "cell_type": "code",
   "execution_count": 2,
   "id": "792d32cb",
   "metadata": {
    "ExecuteTime": {
     "end_time": "2022-03-19T16:27:48.464351Z",
     "start_time": "2022-03-19T16:27:48.306165Z"
    },
    "scrolled": true
   },
   "outputs": [
    {
     "data": {
      "text/plain": [
       "(-0.9737349428283418,\n",
       " 0.5145801358978349,\n",
       " -1.1637215624566055,\n",
       " 0.722974538233801)"
      ]
     },
     "execution_count": 2,
     "metadata": {},
     "output_type": "execute_result"
    },
    {
     "data": {
      "image/png": "[encoded data removed]",
      "text/plain": [
       "<Figure size 432x288 with 1 Axes>"
      ]
     },
     "metadata": {},
     "output_type": "display_data"
    }
   ],
   "source": [
    "G = nx.Graph()\n",
    "G.add_weighted_edges_from(\n",
    "    [ \n",
    "       ('a','b',10.0), ('b','c',1.0), ('a','c',100.0), ('a','d',10.0)\n",
    "    ]\n",
    ")\n",
    "\n",
    "nx.draw_networkx(G)\n",
    "plt.axis('on')"
   ]
  },
  {
   "cell_type": "code",
   "execution_count": 3,
   "id": "0070a589",
   "metadata": {
    "ExecuteTime": {
     "end_time": "2022-03-19T16:28:36.824604Z",
     "start_time": "2022-03-19T16:28:36.818594Z"
    }
   },
   "outputs": [
    {
     "data": {
      "text/plain": [
       "{'a': 0.8333333333333333, 'b': 0.5, 'c': 0.5, 'd': 0.5}"
      ]
     },
     "execution_count": 3,
     "metadata": {},
     "output_type": "execute_result"
    }
   ],
   "source": [
    "# 문제 \n",
    "# 이 그래프의 중개중심성을 노드별로 구하세요. \n",
    "\n",
    "nx.betweenness_centrality(G, normalized=True, endpoints=True)"
   ]
  },
  {
   "cell_type": "code",
   "execution_count": 4,
   "id": "2c44e14c",
   "metadata": {
    "ExecuteTime": {
     "end_time": "2022-03-19T16:29:19.910022Z",
     "start_time": "2022-03-19T16:29:19.903040Z"
    }
   },
   "outputs": [
    {
     "data": {
      "text/plain": [
       "{'a': 1.0, 'b': 0.75, 'c': 0.75, 'd': 0.6}"
      ]
     },
     "execution_count": 4,
     "metadata": {},
     "output_type": "execute_result"
    }
   ],
   "source": [
    "# 이 그래프의 근접중심성을 노드별로 구하세요 \n",
    "# 사용할 그래프는 G 입니다\n",
    "\n",
    "nx.closeness_centrality(G)"
   ]
  },
  {
   "cell_type": "code",
   "execution_count": 5,
   "id": "e70bdd71",
   "metadata": {
    "ExecuteTime": {
     "end_time": "2022-03-19T16:29:56.563888Z",
     "start_time": "2022-03-19T16:29:56.551906Z"
    }
   },
   "outputs": [
    {
     "data": {
      "text/plain": [
       "{'a': 0.6116286437343044,\n",
       " 'b': 0.5227204550943347,\n",
       " 'c': 0.5227204550943347,\n",
       " 'd': 0.28184579793865727}"
      ]
     },
     "execution_count": 5,
     "metadata": {},
     "output_type": "execute_result"
    }
   ],
   "source": [
    "# 이 그래프의 eigen vector 중심성을 노드별로 구하세요 \n",
    "nx.eigenvector_centrality(G)"
   ]
  },
  {
   "cell_type": "code",
   "execution_count": 6,
   "id": "075743b0",
   "metadata": {
    "ExecuteTime": {
     "end_time": "2022-03-19T16:30:29.042856Z",
     "start_time": "2022-03-19T16:30:29.026860Z"
    }
   },
   "outputs": [
    {
     "data": {
      "text/plain": [
       "[3, 2, 2, 1]"
      ]
     },
     "execution_count": 6,
     "metadata": {},
     "output_type": "execute_result"
    }
   ],
   "source": [
    "# 이 그래프의 degree를 노드별로 구하세요 \n",
    "[G.degree(v) for v in G]"
   ]
  },
  {
   "cell_type": "code",
   "execution_count": 7,
   "id": "2b64b42e",
   "metadata": {
    "ExecuteTime": {
     "end_time": "2022-03-19T16:31:29.930903Z",
     "start_time": "2022-03-19T16:31:29.926913Z"
    }
   },
   "outputs": [],
   "source": [
    "# 가장 큰 컴포넌트는 무엇인가요?\n",
    "\n",
    "components = nx.connected_components(G)\n",
    "largest_componet = max(components, key=len)"
   ]
  },
  {
   "cell_type": "code",
   "execution_count": 8,
   "id": "ee326d96",
   "metadata": {
    "ExecuteTime": {
     "end_time": "2022-03-19T16:31:39.498263Z",
     "start_time": "2022-03-19T16:31:39.488287Z"
    }
   },
   "outputs": [
    {
     "data": {
      "text/plain": [
       "<generator object connected_components at 0x000001A945A5F970>"
      ]
     },
     "execution_count": 8,
     "metadata": {},
     "output_type": "execute_result"
    }
   ],
   "source": [
    "components"
   ]
  },
  {
   "cell_type": "code",
   "execution_count": 9,
   "id": "6235a31f",
   "metadata": {
    "ExecuteTime": {
     "end_time": "2022-03-19T16:31:55.990812Z",
     "start_time": "2022-03-19T16:31:55.980838Z"
    }
   },
   "outputs": [
    {
     "data": {
      "text/plain": [
       "{'a', 'b', 'c', 'd'}"
      ]
     },
     "execution_count": 9,
     "metadata": {},
     "output_type": "execute_result"
    }
   ],
   "source": [
    "largest_componet"
   ]
  }
 ],
 "metadata": {
  "kernelspec": {
   "display_name": "Python 3 (ipykernel)",
   "language": "python",
   "name": "python3"
  },
  "language_info": {
   "codemirror_mode": {
    "name": "ipython",
    "version": 3
   },
   "file_extension": ".py",
   "mimetype": "text/x-python",
   "name": "python",
   "nbconvert_exporter": "python",
   "pygments_lexer": "ipython3",
   "version": "3.9.7"
  },
  "toc": {
   "base_numbering": 1,
   "nav_menu": {},
   "number_sections": true,
   "sideBar": true,
   "skip_h1_title": false,
   "title_cell": "Table of Contents",
   "title_sidebar": "Contents",
   "toc_cell": false,
   "toc_position": {},
   "toc_section_display": true,
   "toc_window_display": false
  }
 },
 "nbformat": 4,
 "nbformat_minor": 5
}
