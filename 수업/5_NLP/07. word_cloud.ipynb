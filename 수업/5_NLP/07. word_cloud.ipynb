{
 "cells": [
  {
   "cell_type": "code",
   "execution_count": 2,
   "metadata": {
    "ExecuteTime": {
     "end_time": "2022-03-13T16:14:50.237712Z",
     "start_time": "2022-03-13T16:14:49.657281Z"
    }
   },
   "outputs": [],
   "source": [
    "import pandas as pd\n",
    "df = pd.read_csv('./data/smartphone.csv', encoding='utf-8')\n",
    "galaxy_posts = df.get('Title') + \" \" + df.get('Description')"
   ]
  },
  {
   "cell_type": "code",
   "execution_count": 3,
   "metadata": {
    "ExecuteTime": {
     "end_time": "2022-03-13T16:14:52.031702Z",
     "start_time": "2022-03-13T16:14:52.006768Z"
    }
   },
   "outputs": [
    {
     "data": {
      "text/html": [
       "<div>\n",
       "<style scoped>\n",
       "    .dataframe tbody tr th:only-of-type {\n",
       "        vertical-align: middle;\n",
       "    }\n",
       "\n",
       "    .dataframe tbody tr th {\n",
       "        vertical-align: top;\n",
       "    }\n",
       "\n",
       "    .dataframe thead th {\n",
       "        text-align: right;\n",
       "    }\n",
       "</style>\n",
       "<table border=\"1\" class=\"dataframe\">\n",
       "  <thead>\n",
       "    <tr style=\"text-align: right;\">\n",
       "      <th></th>\n",
       "      <th>Title</th>\n",
       "      <th>Link</th>\n",
       "      <th>Description</th>\n",
       "      <th>Blogger Name</th>\n",
       "      <th>Blogger Link</th>\n",
       "      <th>Post Date</th>\n",
       "      <th>Post Contents</th>\n",
       "    </tr>\n",
       "  </thead>\n",
       "  <tbody>\n",
       "    <tr>\n",
       "      <th>0</th>\n",
       "      <td>ZEM 초등학생 스마트폰 관리앱으로 걱정 덜어요</td>\n",
       "      <td>https://blog.naver.com/rladbrud8791?Redirect=L...</td>\n",
       "      <td>사실 제가 최근까지도 고민하고 있었던 부분이 바로 아이의 스마트폰 필요성 때문인데요...</td>\n",
       "      <td>갱이랑 정이랑♡</td>\n",
       "      <td>https://blog.naver.com/rladbrud8791</td>\n",
       "      <td>20220226</td>\n",
       "      <td>\\n\\n\\n\\n\\n\\n\\n리뷰\\n\\n\\n\\n\\nZEM 초등학생 스마트폰 관리앱으로 ...</td>\n",
       "    </tr>\n",
       "    <tr>\n",
       "      <th>1</th>\n",
       "      <td>아이폰 SE3 사전예약 출시일 가격 정보! 애플의 보급형 스마트폰</td>\n",
       "      <td>https://blog.naver.com/hongganz?Redirect=Log&amp;l...</td>\n",
       "      <td>애플의 보급형 스마트폰 아이폰 SE3 가 출시한다. 보통 대부분의 스마트폰들은 급나...</td>\n",
       "      <td>이웃삼촌이 들려주는 IT 이야기</td>\n",
       "      <td>https://blog.naver.com/hongganz</td>\n",
       "      <td>20220313</td>\n",
       "      <td>\\n\\n\\n\\n\\n\\n\\n\\n\\n\\n출시 정보\\n\\n\\n\\n\\n아이폰 SE3 사전예...</td>\n",
       "    </tr>\n",
       "    <tr>\n",
       "      <th>2</th>\n",
       "      <td>왜 다들 스마트폰 삼각대 추천 하는지 궁금해서 써본 후기</td>\n",
       "      <td>https://blog.naver.com/tnwpqla?Redirect=Log&amp;lo...</td>\n",
       "      <td>하다가 스마트폰 삼각대 를 구매를 해야겠단 생각을 해서 제대로 된 것을 알아보려고 ...</td>\n",
       "      <td>초컬렛::대학생 블로그</td>\n",
       "      <td>https://blog.naver.com/tnwpqla</td>\n",
       "      <td>20220310</td>\n",
       "      <td>\\n\\n\\n\\n\\n\\n\\n협찬+포스팅알바\\n\\n\\n\\n\\n왜 다들 스마트폰 삼각대 ...</td>\n",
       "    </tr>\n",
       "    <tr>\n",
       "      <th>3</th>\n",
       "      <td>스마트폰 백업 필요하다면 네이버 마이박스(MY BOX)로!</td>\n",
       "      <td>https://blog.naver.com/dogslife78?Redirect=Log...</td>\n",
       "      <td>최근 컴퓨터나 노트북 뿐만 아니라 항상 소지하고 다니는 스마트폰이나 태블릿과 같은 ...</td>\n",
       "      <td>노숙페이스</td>\n",
       "      <td>https://blog.naver.com/dogslife78</td>\n",
       "      <td>20220301</td>\n",
       "      <td>\\n\\n\\n\\n\\n\\n\\n가전, 그리고 IT\\n\\n\\n\\n\\n스마트폰 백업 필요하다...</td>\n",
       "    </tr>\n",
       "    <tr>\n",
       "      <th>4</th>\n",
       "      <td>맥갤럭시 스마트폰 연결, 백업</td>\n",
       "      <td>https://blog.naver.com/yhj5738?Redirect=Log&amp;lo...</td>\n",
       "      <td>스마트폰에 스마트 스위치 앱이 설치되지 않을 경우에는 맥에서 Smaert Switc...</td>\n",
       "      <td>Dream girl's life</td>\n",
       "      <td>https://blog.naver.com/yhj5738</td>\n",
       "      <td>20220304</td>\n",
       "      <td>\\n\\n\\n\\n\\n\\n\\n관리방법\\n\\n\\n\\n\\n맥갤럭시 스마트폰 연결, 백업 \\...</td>\n",
       "    </tr>\n",
       "    <tr>\n",
       "      <th>...</th>\n",
       "      <td>...</td>\n",
       "      <td>...</td>\n",
       "      <td>...</td>\n",
       "      <td>...</td>\n",
       "      <td>...</td>\n",
       "      <td>...</td>\n",
       "      <td>...</td>\n",
       "    </tr>\n",
       "    <tr>\n",
       "      <th>995</th>\n",
       "      <td>스마트폰이 떨어질 땐 휘어진다?</td>\n",
       "      <td>http://news.egloos.com/4161002</td>\n",
       "      <td>일본 후지쯔에서 만든 애로우즈 비-라는 스마트폰 브랜드가 있습니다. 떨어져도 잘 깨...</td>\n",
       "      <td>자그니 블로그 : 거리로 나가자, 키스를 하자</td>\n",
       "      <td>http://news.egloos.com/</td>\n",
       "      <td>20181009</td>\n",
       "      <td>NaN</td>\n",
       "    </tr>\n",
       "    <tr>\n",
       "      <th>996</th>\n",
       "      <td>부품 교체 및 업글 가능한 스마트폰, 페어폰 3 발매</td>\n",
       "      <td>http://news.egloos.com/4175365</td>\n",
       "      <td>모듈화된 스마트폰 프로젝트 '아라'를 진행한 적이 있습니다. 물론 제대로 된 시제품...</td>\n",
       "      <td>자그니 블로그 : 거리로 나가자, 키스를 하자</td>\n",
       "      <td>http://news.egloos.com/</td>\n",
       "      <td>20190909</td>\n",
       "      <td>NaN</td>\n",
       "    </tr>\n",
       "    <tr>\n",
       "      <th>997</th>\n",
       "      <td>MWC2018, 최고와 최악의 스마트폰은 무엇?</td>\n",
       "      <td>https://enjoiyourlife.com/2436?category=581147</td>\n",
       "      <td>상반기 스마트폰 시장에서 어떤 성과를 보여줄 것인지에 관심이 모아지고 있습니다. 특...</td>\n",
       "      <td>HOME</td>\n",
       "      <td>http://enjoiyourlife.com/</td>\n",
       "      <td>20180302</td>\n",
       "      <td>NaN</td>\n",
       "    </tr>\n",
       "    <tr>\n",
       "      <th>998</th>\n",
       "      <td>유튜브 동영상 보기 좋은 스마트폰 리스트 발표</td>\n",
       "      <td>https://photohistory.tistory.com/18077</td>\n",
       "      <td>DRM (디지털 저작권 관리)의 성능이 높은 폰 유튜브는 이 6가지 항목을 토대로 ...</td>\n",
       "      <td>사진은 권력이다</td>\n",
       "      <td>https://photohistory.tistory.com/</td>\n",
       "      <td>20180810</td>\n",
       "      <td>NaN</td>\n",
       "    </tr>\n",
       "    <tr>\n",
       "      <th>999</th>\n",
       "      <td>카카오 5G 스마트폰 ‘STAGE 5G’ 출시, 맘에 들지 않는다</td>\n",
       "      <td>http://news.egloos.com/4177236</td>\n",
       "      <td>카카오 인베스트먼트가 투자한 회사 ‘스테이지파이브’에서, 카카오톡 서비스가 선 탑재...</td>\n",
       "      <td>자그니 블로그 : 거리로 나가자, 키스를 하자</td>\n",
       "      <td>http://news.egloos.com/</td>\n",
       "      <td>20191104</td>\n",
       "      <td>NaN</td>\n",
       "    </tr>\n",
       "  </tbody>\n",
       "</table>\n",
       "<p>1000 rows × 7 columns</p>\n",
       "</div>"
      ],
      "text/plain": [
       "                                    Title  \\\n",
       "0              ZEM 초등학생 스마트폰 관리앱으로 걱정 덜어요   \n",
       "1    아이폰 SE3 사전예약 출시일 가격 정보! 애플의 보급형 스마트폰   \n",
       "2         왜 다들 스마트폰 삼각대 추천 하는지 궁금해서 써본 후기   \n",
       "3        스마트폰 백업 필요하다면 네이버 마이박스(MY BOX)로!   \n",
       "4                        맥갤럭시 스마트폰 연결, 백업   \n",
       "..                                    ...   \n",
       "995                     스마트폰이 떨어질 땐 휘어진다?   \n",
       "996         부품 교체 및 업글 가능한 스마트폰, 페어폰 3 발매   \n",
       "997            MWC2018, 최고와 최악의 스마트폰은 무엇?   \n",
       "998             유튜브 동영상 보기 좋은 스마트폰 리스트 발표   \n",
       "999  카카오 5G 스마트폰 ‘STAGE 5G’ 출시, 맘에 들지 않는다   \n",
       "\n",
       "                                                  Link  \\\n",
       "0    https://blog.naver.com/rladbrud8791?Redirect=L...   \n",
       "1    https://blog.naver.com/hongganz?Redirect=Log&l...   \n",
       "2    https://blog.naver.com/tnwpqla?Redirect=Log&lo...   \n",
       "3    https://blog.naver.com/dogslife78?Redirect=Log...   \n",
       "4    https://blog.naver.com/yhj5738?Redirect=Log&lo...   \n",
       "..                                                 ...   \n",
       "995                     http://news.egloos.com/4161002   \n",
       "996                     http://news.egloos.com/4175365   \n",
       "997     https://enjoiyourlife.com/2436?category=581147   \n",
       "998             https://photohistory.tistory.com/18077   \n",
       "999                     http://news.egloos.com/4177236   \n",
       "\n",
       "                                           Description  \\\n",
       "0    사실 제가 최근까지도 고민하고 있었던 부분이 바로 아이의 스마트폰 필요성 때문인데요...   \n",
       "1    애플의 보급형 스마트폰 아이폰 SE3 가 출시한다. 보통 대부분의 스마트폰들은 급나...   \n",
       "2    하다가 스마트폰 삼각대 를 구매를 해야겠단 생각을 해서 제대로 된 것을 알아보려고 ...   \n",
       "3    최근 컴퓨터나 노트북 뿐만 아니라 항상 소지하고 다니는 스마트폰이나 태블릿과 같은 ...   \n",
       "4    스마트폰에 스마트 스위치 앱이 설치되지 않을 경우에는 맥에서 Smaert Switc...   \n",
       "..                                                 ...   \n",
       "995  일본 후지쯔에서 만든 애로우즈 비-라는 스마트폰 브랜드가 있습니다. 떨어져도 잘 깨...   \n",
       "996  모듈화된 스마트폰 프로젝트 '아라'를 진행한 적이 있습니다. 물론 제대로 된 시제품...   \n",
       "997  상반기 스마트폰 시장에서 어떤 성과를 보여줄 것인지에 관심이 모아지고 있습니다. 특...   \n",
       "998  DRM (디지털 저작권 관리)의 성능이 높은 폰 유튜브는 이 6가지 항목을 토대로 ...   \n",
       "999  카카오 인베스트먼트가 투자한 회사 ‘스테이지파이브’에서, 카카오톡 서비스가 선 탑재...   \n",
       "\n",
       "                  Blogger Name                         Blogger Link  \\\n",
       "0                     갱이랑 정이랑♡  https://blog.naver.com/rladbrud8791   \n",
       "1            이웃삼촌이 들려주는 IT 이야기      https://blog.naver.com/hongganz   \n",
       "2                 초컬렛::대학생 블로그       https://blog.naver.com/tnwpqla   \n",
       "3                        노숙페이스    https://blog.naver.com/dogslife78   \n",
       "4            Dream girl's life       https://blog.naver.com/yhj5738   \n",
       "..                         ...                                  ...   \n",
       "995  자그니 블로그 : 거리로 나가자, 키스를 하자              http://news.egloos.com/   \n",
       "996  자그니 블로그 : 거리로 나가자, 키스를 하자              http://news.egloos.com/   \n",
       "997                       HOME            http://enjoiyourlife.com/   \n",
       "998                   사진은 권력이다    https://photohistory.tistory.com/   \n",
       "999  자그니 블로그 : 거리로 나가자, 키스를 하자              http://news.egloos.com/   \n",
       "\n",
       "     Post Date                                      Post Contents  \n",
       "0     20220226  \\n\\n\\n\\n\\n\\n\\n리뷰\\n\\n\\n\\n\\nZEM 초등학생 스마트폰 관리앱으로 ...  \n",
       "1     20220313  \\n\\n\\n\\n\\n\\n\\n\\n\\n\\n출시 정보\\n\\n\\n\\n\\n아이폰 SE3 사전예...  \n",
       "2     20220310  \\n\\n\\n\\n\\n\\n\\n협찬+포스팅알바\\n\\n\\n\\n\\n왜 다들 스마트폰 삼각대 ...  \n",
       "3     20220301  \\n\\n\\n\\n\\n\\n\\n가전, 그리고 IT\\n\\n\\n\\n\\n스마트폰 백업 필요하다...  \n",
       "4     20220304  \\n\\n\\n\\n\\n\\n\\n관리방법\\n\\n\\n\\n\\n맥갤럭시 스마트폰 연결, 백업 \\...  \n",
       "..         ...                                                ...  \n",
       "995   20181009                                                NaN  \n",
       "996   20190909                                                NaN  \n",
       "997   20180302                                                NaN  \n",
       "998   20180810                                                NaN  \n",
       "999   20191104                                                NaN  \n",
       "\n",
       "[1000 rows x 7 columns]"
      ]
     },
     "execution_count": 3,
     "metadata": {},
     "output_type": "execute_result"
    }
   ],
   "source": [
    "df"
   ]
  },
  {
   "cell_type": "code",
   "execution_count": 4,
   "metadata": {
    "ExecuteTime": {
     "end_time": "2022-03-13T16:18:15.873993Z",
     "start_time": "2022-03-13T16:18:15.856041Z"
    }
   },
   "outputs": [
    {
     "data": {
      "text/plain": [
       "0      ZEM 초등학생 스마트폰 관리앱으로 걱정 덜어요 사실 제가 최근까지도 고민하고 있었...\n",
       "1      아이폰 SE3 사전예약 출시일 가격 정보! 애플의 보급형 스마트폰 애플의 보급형 스...\n",
       "2      왜 다들 스마트폰 삼각대 추천 하는지 궁금해서 써본 후기 하다가 스마트폰 삼각대 를...\n",
       "3      스마트폰 백업 필요하다면 네이버 마이박스(MY BOX)로! 최근 컴퓨터나 노트북 뿐...\n",
       "4      맥갤럭시 스마트폰 연결, 백업 스마트폰에 스마트 스위치 앱이 설치되지 않을 경우에는...\n",
       "                             ...                        \n",
       "995    스마트폰이 떨어질 땐 휘어진다? 일본 후지쯔에서 만든 애로우즈 비-라는 스마트폰 브...\n",
       "996    부품 교체 및 업글 가능한 스마트폰, 페어폰 3 발매 모듈화된 스마트폰 프로젝트 '...\n",
       "997    MWC2018, 최고와 최악의 스마트폰은 무엇? 상반기 스마트폰 시장에서 어떤 성과...\n",
       "998    유튜브 동영상 보기 좋은 스마트폰 리스트 발표 DRM (디지털 저작권 관리)의 성능...\n",
       "999    카카오 5G 스마트폰 ‘STAGE 5G’ 출시, 맘에 들지 않는다 카카오 인베스트먼...\n",
       "Length: 1000, dtype: object"
      ]
     },
     "execution_count": 4,
     "metadata": {},
     "output_type": "execute_result"
    }
   ],
   "source": [
    "galaxy_posts"
   ]
  },
  {
   "cell_type": "code",
   "execution_count": 5,
   "metadata": {
    "ExecuteTime": {
     "end_time": "2022-03-13T16:15:02.156604Z",
     "start_time": "2022-03-13T16:15:02.087789Z"
    }
   },
   "outputs": [],
   "source": [
    "from eunjeon import Mecab\n",
    "tagger = Mecab()"
   ]
  },
  {
   "cell_type": "code",
   "execution_count": 6,
   "metadata": {
    "ExecuteTime": {
     "end_time": "2022-03-13T16:18:45.740101Z",
     "start_time": "2022-03-13T16:18:45.727136Z"
    }
   },
   "outputs": [
    {
     "data": {
      "text/plain": [
       "['은', '이', '것', '등', '더', '를', '좀', '즉', '인', '옹']"
      ]
     },
     "execution_count": 6,
     "metadata": {},
     "output_type": "execute_result"
    }
   ],
   "source": [
    "# 불용어 제거\n",
    "galaxy_stop_words = \"은 이 것 등 더 를 좀 즉 인 옹 때 만 원 이때 개 일 기 시 럭 갤 성 삼 스 폰 트 드 기 이 리 폴 사 전 마 자 플 블 가 중 북 수 팩 년 월 저 탭\"\n",
    "galaxy_stop_words = galaxy_stop_words.split(' ')\n",
    "galaxy_stop_words[0:10]"
   ]
  },
  {
   "cell_type": "code",
   "execution_count": 7,
   "metadata": {
    "ExecuteTime": {
     "end_time": "2022-03-13T16:18:59.184432Z",
     "start_time": "2022-03-13T16:18:58.958339Z"
    }
   },
   "outputs": [
    {
     "data": {
      "text/plain": [
       "['초등학생', '스마트폰', '관리', '앱', '걱정', '제', '최근', '고민', '부분', '아이']"
      ]
     },
     "execution_count": 7,
     "metadata": {},
     "output_type": "execute_result"
    }
   ],
   "source": [
    "# 명사만 추출 \n",
    "\n",
    "galaxy_nouns = []\n",
    "for post in galaxy_posts:\n",
    "    for noun in tagger.nouns(post):\n",
    "        if noun not in galaxy_stop_words:\n",
    "            galaxy_nouns.append(noun)\n",
    "            \n",
    "galaxy_nouns[0:10]"
   ]
  },
  {
   "cell_type": "code",
   "execution_count": 8,
   "metadata": {
    "ExecuteTime": {
     "end_time": "2022-03-13T16:19:28.046352Z",
     "start_time": "2022-03-13T16:19:28.023414Z"
    }
   },
   "outputs": [
    {
     "data": {
      "text/plain": [
       "{'스마트폰': 3133,\n",
       " '강의': 381,\n",
       " '사진': 370,\n",
       " '사용': 316,\n",
       " '갤럭시': 268,\n",
       " '카메라': 212,\n",
       " '동영상': 204,\n",
       " '앱': 190,\n",
       " '제작': 184,\n",
       " '유튜브': 184,\n",
       " '삼성': 180,\n",
       " '반응': 177,\n",
       " '스마트': 176,\n",
       " '활용': 170,\n",
       " '촬영': 165,\n",
       " '방법': 164,\n",
       " '안드로이드': 133,\n",
       " '화면': 117,\n",
       " '강': 116,\n",
       " '영상': 109}"
      ]
     },
     "execution_count": 8,
     "metadata": {},
     "output_type": "execute_result"
    }
   ],
   "source": [
    "from collections import Counter\n",
    "num_top_nouns = 20\n",
    "galaxy_nouns_counter = Counter(galaxy_nouns)\n",
    "galaxy_top_nouns = dict(galaxy_nouns_counter.most_common(num_top_nouns)) # dict() 저장 \n",
    "galaxy_top_nouns"
   ]
  },
  {
   "cell_type": "code",
   "execution_count": 9,
   "metadata": {
    "ExecuteTime": {
     "end_time": "2022-03-13T15:58:13.308595Z",
     "start_time": "2022-03-13T15:58:10.203476Z"
    }
   },
   "outputs": [
    {
     "name": "stdout",
     "output_type": "stream",
     "text": [
      "Collecting wordcloud\n",
      "  Downloading wordcloud-1.8.1-cp37-cp37m-win_amd64.whl (154 kB)\n",
      "Requirement already satisfied: numpy>=1.6.1 in c:\\users\\gw\\anaconda3\\envs\\textmining\\lib\\site-packages (from wordcloud) (1.21.5)\n",
      "Requirement already satisfied: matplotlib in c:\\users\\gw\\anaconda3\\envs\\textmining\\lib\\site-packages (from wordcloud) (3.5.1)\n",
      "Requirement already satisfied: pillow in c:\\users\\gw\\anaconda3\\envs\\textmining\\lib\\site-packages (from wordcloud) (9.0.1)\n",
      "Requirement already satisfied: packaging>=20.0 in c:\\users\\gw\\anaconda3\\envs\\textmining\\lib\\site-packages (from matplotlib->wordcloud) (21.3)\n",
      "Requirement already satisfied: kiwisolver>=1.0.1 in c:\\users\\gw\\anaconda3\\envs\\textmining\\lib\\site-packages (from matplotlib->wordcloud) (1.3.2)\n",
      "Requirement already satisfied: pyparsing>=2.2.1 in c:\\users\\gw\\anaconda3\\envs\\textmining\\lib\\site-packages (from matplotlib->wordcloud) (3.0.7)\n",
      "Requirement already satisfied: fonttools>=4.22.0 in c:\\users\\gw\\anaconda3\\envs\\textmining\\lib\\site-packages (from matplotlib->wordcloud) (4.29.1)\n",
      "Requirement already satisfied: python-dateutil>=2.7 in c:\\users\\gw\\anaconda3\\envs\\textmining\\lib\\site-packages (from matplotlib->wordcloud) (2.8.2)\n",
      "Requirement already satisfied: cycler>=0.10 in c:\\users\\gw\\anaconda3\\envs\\textmining\\lib\\site-packages (from matplotlib->wordcloud) (0.11.0)\n",
      "Requirement already satisfied: six>=1.5 in c:\\users\\gw\\anaconda3\\envs\\textmining\\lib\\site-packages (from python-dateutil>=2.7->matplotlib->wordcloud) (1.16.0)\n",
      "Installing collected packages: wordcloud\n",
      "Successfully installed wordcloud-1.8.1\n"
     ]
    }
   ],
   "source": [
    "!pip install wordcloud"
   ]
  },
  {
   "cell_type": "code",
   "execution_count": 11,
   "metadata": {
    "ExecuteTime": {
     "end_time": "2022-03-13T16:37:01.022786Z",
     "start_time": "2022-03-13T16:37:00.539080Z"
    }
   },
   "outputs": [
    {
     "data": {
      "text/plain": [
       "<wordcloud.wordcloud.WordCloud at 0x24adcbcee08>"
      ]
     },
     "execution_count": 11,
     "metadata": {},
     "output_type": "execute_result"
    }
   ],
   "source": [
    "from wordcloud import WordCloud\n",
    "\n",
    "font = './data/NanumBarunGothic.ttf'\n",
    "\n",
    "galaxy_wc = WordCloud(background_color=\"white\", font_path=font)\n",
    "galaxy_wc.generate_from_frequencies(galaxy_top_nouns)"
   ]
  },
  {
   "cell_type": "code",
   "execution_count": 12,
   "metadata": {
    "ExecuteTime": {
     "end_time": "2022-03-13T16:37:17.485664Z",
     "start_time": "2022-03-13T16:37:17.300269Z"
    }
   },
   "outputs": [
    {
     "data": {
      "text/plain": [
       "<matplotlib.image.AxesImage at 0x24add824a08>"
      ]
     },
     "execution_count": 12,
     "metadata": {},
     "output_type": "execute_result"
    },
    {
     "data": {
      "image/png": "[encoded data removed]",
      "text/plain": [
       "<Figure size 720x720 with 1 Axes>"
      ]
     },
     "metadata": {
      "needs_background": "light"
     },
     "output_type": "display_data"
    }
   ],
   "source": [
    "import matplotlib.pyplot as plt\n",
    "figure = plt.figure()\n",
    "figure.set_size_inches(10, 10)\n",
    "ax = figure.add_subplot(1, 1, 1)\n",
    "ax.axis(\"off\")\n",
    "ax.imshow(galaxy_wc)"
   ]
  },
  {
   "cell_type": "markdown",
   "metadata": {},
   "source": [
    " 값을 곱한 tf-idf는 \n",
    "- 1에 가까울 수록 중요도가 높고 \n",
    "- 0에 가까울 수록 중요도가 낮음"
   ]
  },
  {
   "cell_type": "code",
   "execution_count": 14,
   "metadata": {
    "ExecuteTime": {
     "end_time": "2022-03-13T16:37:41.789589Z",
     "start_time": "2022-03-13T16:37:41.740723Z"
    }
   },
   "outputs": [
    {
     "data": {
      "text/plain": [
       "array([[0.        , 0.        , 0.        , ..., 0.        , 0.        ,\n",
       "        0.        ],\n",
       "       [0.        , 0.        , 0.        , ..., 0.        , 0.        ,\n",
       "        0.        ],\n",
       "       [0.        , 0.        , 0.        , ..., 0.        , 0.        ,\n",
       "        0.        ],\n",
       "       ...,\n",
       "       [0.        , 0.        , 0.        , ..., 0.        , 0.        ,\n",
       "        0.        ],\n",
       "       [0.        , 0.        , 0.57735027, ..., 0.        , 0.        ,\n",
       "        0.        ],\n",
       "       [0.        , 0.        , 0.        , ..., 0.70710678, 0.        ,\n",
       "        0.        ]])"
      ]
     },
     "execution_count": 14,
     "metadata": {},
     "output_type": "execute_result"
    }
   ],
   "source": [
    "from sklearn.feature_extraction.text import TfidfVectorizer\n",
    "galaxy_tfidv = TfidfVectorizer().fit(galaxy_top_nouns)\n",
    "galaxy_tfidv.transform(galaxy_posts).toarray()"
   ]
  },
  {
   "cell_type": "code",
   "execution_count": 15,
   "metadata": {
    "ExecuteTime": {
     "end_time": "2022-03-13T16:37:50.561304Z",
     "start_time": "2022-03-13T16:37:50.499470Z"
    }
   },
   "outputs": [
    {
     "data": {
      "text/html": [
       "<div>\n",
       "<style scoped>\n",
       "    .dataframe tbody tr th:only-of-type {\n",
       "        vertical-align: middle;\n",
       "    }\n",
       "\n",
       "    .dataframe tbody tr th {\n",
       "        vertical-align: top;\n",
       "    }\n",
       "\n",
       "    .dataframe thead th {\n",
       "        text-align: right;\n",
       "    }\n",
       "</style>\n",
       "<table border=\"1\" class=\"dataframe\">\n",
       "  <thead>\n",
       "    <tr style=\"text-align: right;\">\n",
       "      <th></th>\n",
       "      <th>0</th>\n",
       "      <th>1</th>\n",
       "      <th>2</th>\n",
       "      <th>3</th>\n",
       "      <th>4</th>\n",
       "      <th>5</th>\n",
       "      <th>6</th>\n",
       "      <th>7</th>\n",
       "      <th>8</th>\n",
       "      <th>9</th>\n",
       "      <th>10</th>\n",
       "      <th>11</th>\n",
       "      <th>12</th>\n",
       "      <th>13</th>\n",
       "      <th>14</th>\n",
       "      <th>15</th>\n",
       "      <th>16</th>\n",
       "      <th>17</th>\n",
       "    </tr>\n",
       "  </thead>\n",
       "  <tbody>\n",
       "    <tr>\n",
       "      <th>0</th>\n",
       "      <td>0.0</td>\n",
       "      <td>0.0</td>\n",
       "      <td>0.00000</td>\n",
       "      <td>0.0</td>\n",
       "      <td>0.0</td>\n",
       "      <td>0.0</td>\n",
       "      <td>0.0</td>\n",
       "      <td>0.0</td>\n",
       "      <td>0.000000</td>\n",
       "      <td>1.000000</td>\n",
       "      <td>0.0</td>\n",
       "      <td>0.0</td>\n",
       "      <td>0.00000</td>\n",
       "      <td>0.0</td>\n",
       "      <td>0.0</td>\n",
       "      <td>0.000000</td>\n",
       "      <td>0.0</td>\n",
       "      <td>0.0</td>\n",
       "    </tr>\n",
       "    <tr>\n",
       "      <th>1</th>\n",
       "      <td>0.0</td>\n",
       "      <td>0.0</td>\n",
       "      <td>0.00000</td>\n",
       "      <td>0.0</td>\n",
       "      <td>0.0</td>\n",
       "      <td>0.0</td>\n",
       "      <td>0.0</td>\n",
       "      <td>0.0</td>\n",
       "      <td>0.000000</td>\n",
       "      <td>1.000000</td>\n",
       "      <td>0.0</td>\n",
       "      <td>0.0</td>\n",
       "      <td>0.00000</td>\n",
       "      <td>0.0</td>\n",
       "      <td>0.0</td>\n",
       "      <td>0.000000</td>\n",
       "      <td>0.0</td>\n",
       "      <td>0.0</td>\n",
       "    </tr>\n",
       "    <tr>\n",
       "      <th>2</th>\n",
       "      <td>0.0</td>\n",
       "      <td>0.0</td>\n",
       "      <td>0.00000</td>\n",
       "      <td>0.0</td>\n",
       "      <td>0.0</td>\n",
       "      <td>0.0</td>\n",
       "      <td>0.0</td>\n",
       "      <td>0.0</td>\n",
       "      <td>0.000000</td>\n",
       "      <td>1.000000</td>\n",
       "      <td>0.0</td>\n",
       "      <td>0.0</td>\n",
       "      <td>0.00000</td>\n",
       "      <td>0.0</td>\n",
       "      <td>0.0</td>\n",
       "      <td>0.000000</td>\n",
       "      <td>0.0</td>\n",
       "      <td>0.0</td>\n",
       "    </tr>\n",
       "    <tr>\n",
       "      <th>3</th>\n",
       "      <td>0.0</td>\n",
       "      <td>0.0</td>\n",
       "      <td>0.00000</td>\n",
       "      <td>0.0</td>\n",
       "      <td>0.0</td>\n",
       "      <td>0.0</td>\n",
       "      <td>0.0</td>\n",
       "      <td>0.0</td>\n",
       "      <td>0.707107</td>\n",
       "      <td>0.707107</td>\n",
       "      <td>0.0</td>\n",
       "      <td>0.0</td>\n",
       "      <td>0.00000</td>\n",
       "      <td>0.0</td>\n",
       "      <td>0.0</td>\n",
       "      <td>0.000000</td>\n",
       "      <td>0.0</td>\n",
       "      <td>0.0</td>\n",
       "    </tr>\n",
       "    <tr>\n",
       "      <th>4</th>\n",
       "      <td>0.0</td>\n",
       "      <td>0.0</td>\n",
       "      <td>0.00000</td>\n",
       "      <td>0.0</td>\n",
       "      <td>0.0</td>\n",
       "      <td>0.0</td>\n",
       "      <td>0.0</td>\n",
       "      <td>0.0</td>\n",
       "      <td>0.894427</td>\n",
       "      <td>0.447214</td>\n",
       "      <td>0.0</td>\n",
       "      <td>0.0</td>\n",
       "      <td>0.00000</td>\n",
       "      <td>0.0</td>\n",
       "      <td>0.0</td>\n",
       "      <td>0.000000</td>\n",
       "      <td>0.0</td>\n",
       "      <td>0.0</td>\n",
       "    </tr>\n",
       "    <tr>\n",
       "      <th>...</th>\n",
       "      <td>...</td>\n",
       "      <td>...</td>\n",
       "      <td>...</td>\n",
       "      <td>...</td>\n",
       "      <td>...</td>\n",
       "      <td>...</td>\n",
       "      <td>...</td>\n",
       "      <td>...</td>\n",
       "      <td>...</td>\n",
       "      <td>...</td>\n",
       "      <td>...</td>\n",
       "      <td>...</td>\n",
       "      <td>...</td>\n",
       "      <td>...</td>\n",
       "      <td>...</td>\n",
       "      <td>...</td>\n",
       "      <td>...</td>\n",
       "      <td>...</td>\n",
       "    </tr>\n",
       "    <tr>\n",
       "      <th>995</th>\n",
       "      <td>0.0</td>\n",
       "      <td>0.0</td>\n",
       "      <td>0.00000</td>\n",
       "      <td>0.0</td>\n",
       "      <td>0.0</td>\n",
       "      <td>0.0</td>\n",
       "      <td>0.0</td>\n",
       "      <td>0.0</td>\n",
       "      <td>0.000000</td>\n",
       "      <td>1.000000</td>\n",
       "      <td>0.0</td>\n",
       "      <td>0.0</td>\n",
       "      <td>0.00000</td>\n",
       "      <td>0.0</td>\n",
       "      <td>0.0</td>\n",
       "      <td>0.000000</td>\n",
       "      <td>0.0</td>\n",
       "      <td>0.0</td>\n",
       "    </tr>\n",
       "    <tr>\n",
       "      <th>996</th>\n",
       "      <td>0.0</td>\n",
       "      <td>0.0</td>\n",
       "      <td>0.00000</td>\n",
       "      <td>0.0</td>\n",
       "      <td>0.0</td>\n",
       "      <td>0.0</td>\n",
       "      <td>0.0</td>\n",
       "      <td>0.0</td>\n",
       "      <td>0.000000</td>\n",
       "      <td>1.000000</td>\n",
       "      <td>0.0</td>\n",
       "      <td>0.0</td>\n",
       "      <td>0.00000</td>\n",
       "      <td>0.0</td>\n",
       "      <td>0.0</td>\n",
       "      <td>0.000000</td>\n",
       "      <td>0.0</td>\n",
       "      <td>0.0</td>\n",
       "    </tr>\n",
       "    <tr>\n",
       "      <th>997</th>\n",
       "      <td>0.0</td>\n",
       "      <td>0.0</td>\n",
       "      <td>0.00000</td>\n",
       "      <td>0.0</td>\n",
       "      <td>0.0</td>\n",
       "      <td>0.0</td>\n",
       "      <td>0.0</td>\n",
       "      <td>0.0</td>\n",
       "      <td>0.000000</td>\n",
       "      <td>1.000000</td>\n",
       "      <td>0.0</td>\n",
       "      <td>0.0</td>\n",
       "      <td>0.00000</td>\n",
       "      <td>0.0</td>\n",
       "      <td>0.0</td>\n",
       "      <td>0.000000</td>\n",
       "      <td>0.0</td>\n",
       "      <td>0.0</td>\n",
       "    </tr>\n",
       "    <tr>\n",
       "      <th>998</th>\n",
       "      <td>0.0</td>\n",
       "      <td>0.0</td>\n",
       "      <td>0.57735</td>\n",
       "      <td>0.0</td>\n",
       "      <td>0.0</td>\n",
       "      <td>0.0</td>\n",
       "      <td>0.0</td>\n",
       "      <td>0.0</td>\n",
       "      <td>0.000000</td>\n",
       "      <td>0.577350</td>\n",
       "      <td>0.0</td>\n",
       "      <td>0.0</td>\n",
       "      <td>0.57735</td>\n",
       "      <td>0.0</td>\n",
       "      <td>0.0</td>\n",
       "      <td>0.000000</td>\n",
       "      <td>0.0</td>\n",
       "      <td>0.0</td>\n",
       "    </tr>\n",
       "    <tr>\n",
       "      <th>999</th>\n",
       "      <td>0.0</td>\n",
       "      <td>0.0</td>\n",
       "      <td>0.00000</td>\n",
       "      <td>0.0</td>\n",
       "      <td>0.0</td>\n",
       "      <td>0.0</td>\n",
       "      <td>0.0</td>\n",
       "      <td>0.0</td>\n",
       "      <td>0.000000</td>\n",
       "      <td>0.707107</td>\n",
       "      <td>0.0</td>\n",
       "      <td>0.0</td>\n",
       "      <td>0.00000</td>\n",
       "      <td>0.0</td>\n",
       "      <td>0.0</td>\n",
       "      <td>0.707107</td>\n",
       "      <td>0.0</td>\n",
       "      <td>0.0</td>\n",
       "    </tr>\n",
       "  </tbody>\n",
       "</table>\n",
       "<p>1000 rows × 18 columns</p>\n",
       "</div>"
      ],
      "text/plain": [
       "      0    1        2    3    4    5    6    7         8         9    10   11  \\\n",
       "0    0.0  0.0  0.00000  0.0  0.0  0.0  0.0  0.0  0.000000  1.000000  0.0  0.0   \n",
       "1    0.0  0.0  0.00000  0.0  0.0  0.0  0.0  0.0  0.000000  1.000000  0.0  0.0   \n",
       "2    0.0  0.0  0.00000  0.0  0.0  0.0  0.0  0.0  0.000000  1.000000  0.0  0.0   \n",
       "3    0.0  0.0  0.00000  0.0  0.0  0.0  0.0  0.0  0.707107  0.707107  0.0  0.0   \n",
       "4    0.0  0.0  0.00000  0.0  0.0  0.0  0.0  0.0  0.894427  0.447214  0.0  0.0   \n",
       "..   ...  ...      ...  ...  ...  ...  ...  ...       ...       ...  ...  ...   \n",
       "995  0.0  0.0  0.00000  0.0  0.0  0.0  0.0  0.0  0.000000  1.000000  0.0  0.0   \n",
       "996  0.0  0.0  0.00000  0.0  0.0  0.0  0.0  0.0  0.000000  1.000000  0.0  0.0   \n",
       "997  0.0  0.0  0.00000  0.0  0.0  0.0  0.0  0.0  0.000000  1.000000  0.0  0.0   \n",
       "998  0.0  0.0  0.57735  0.0  0.0  0.0  0.0  0.0  0.000000  0.577350  0.0  0.0   \n",
       "999  0.0  0.0  0.00000  0.0  0.0  0.0  0.0  0.0  0.000000  0.707107  0.0  0.0   \n",
       "\n",
       "          12   13   14        15   16   17  \n",
       "0    0.00000  0.0  0.0  0.000000  0.0  0.0  \n",
       "1    0.00000  0.0  0.0  0.000000  0.0  0.0  \n",
       "2    0.00000  0.0  0.0  0.000000  0.0  0.0  \n",
       "3    0.00000  0.0  0.0  0.000000  0.0  0.0  \n",
       "4    0.00000  0.0  0.0  0.000000  0.0  0.0  \n",
       "..       ...  ...  ...       ...  ...  ...  \n",
       "995  0.00000  0.0  0.0  0.000000  0.0  0.0  \n",
       "996  0.00000  0.0  0.0  0.000000  0.0  0.0  \n",
       "997  0.00000  0.0  0.0  0.000000  0.0  0.0  \n",
       "998  0.57735  0.0  0.0  0.000000  0.0  0.0  \n",
       "999  0.00000  0.0  0.0  0.707107  0.0  0.0  \n",
       "\n",
       "[1000 rows x 18 columns]"
      ]
     },
     "execution_count": 15,
     "metadata": {},
     "output_type": "execute_result"
    }
   ],
   "source": [
    "pd.DataFrame(galaxy_tfidv.transform(galaxy_posts).toarray())  # 배열 >> 데이터프레임 "
   ]
  },
  {
   "cell_type": "code",
   "execution_count": null,
   "metadata": {},
   "outputs": [],
   "source": []
  }
 ],
 "metadata": {
  "kernelspec": {
   "display_name": "Python 3 (ipykernel)",
   "language": "python",
   "name": "python3"
  },
  "language_info": {
   "codemirror_mode": {
    "name": "ipython",
    "version": 3
   },
   "file_extension": ".py",
   "mimetype": "text/x-python",
   "name": "python",
   "nbconvert_exporter": "python",
   "pygments_lexer": "ipython3",
   "version": "3.7.11"
  },
  "toc": {
   "base_numbering": 1,
   "nav_menu": {},
   "number_sections": true,
   "sideBar": true,
   "skip_h1_title": false,
   "title_cell": "Table of Contents",
   "title_sidebar": "Contents",
   "toc_cell": false,
   "toc_position": {},
   "toc_section_display": true,
   "toc_window_display": false
  }
 },
 "nbformat": 4,
 "nbformat_minor": 2
}
