{
 "cells": [
  {
   "cell_type": "code",
   "execution_count": 1,
   "id": "f3a0ba55",
   "metadata": {
    "ExecuteTime": {
     "end_time": "2022-02-26T12:23:39.414224Z",
     "start_time": "2022-02-26T12:23:39.395275Z"
    }
   },
   "outputs": [],
   "source": [
    "import codecs\n",
    "from konlpy.tag import Twitter"
   ]
  },
  {
   "cell_type": "code",
   "execution_count": 2,
   "id": "0d987a09",
   "metadata": {
    "ExecuteTime": {
     "end_time": "2022-02-26T12:23:54.285260Z",
     "start_time": "2022-02-26T12:23:53.533096Z"
    }
   },
   "outputs": [
    {
     "name": "stderr",
     "output_type": "stream",
     "text": [
      "C:\\ProgramData\\Anaconda3\\lib\\site-packages\\konlpy\\tag\\_okt.py:17: UserWarning: \"Twitter\" has changed to \"Okt\" since KoNLPy v0.4.5.\n",
      "  warn('\"Twitter\" has changed to \"Okt\" since KoNLPy v0.4.5.')\n"
     ]
    }
   ],
   "source": [
    "twitter = Twitter()"
   ]
  },
  {
   "cell_type": "code",
   "execution_count": 3,
   "id": "affb60ca",
   "metadata": {
    "ExecuteTime": {
     "end_time": "2022-02-26T12:24:30.142269Z",
     "start_time": "2022-02-26T12:24:30.132262Z"
    }
   },
   "outputs": [],
   "source": [
    "line = \"오늘은 날씨가 너무 좋네요. 음.. 이정도 날씨면 저와 데이트 어떠세요? 심쿵하다고요. 당연하지\""
   ]
  },
  {
   "cell_type": "code",
   "execution_count": 4,
   "id": "e8ec28e3",
   "metadata": {
    "ExecuteTime": {
     "end_time": "2022-02-26T12:24:47.684349Z",
     "start_time": "2022-02-26T12:24:47.667361Z"
    }
   },
   "outputs": [],
   "source": [
    "# 문제 (형태소 분석해보세요)\n",
    "malist = None"
   ]
  },
  {
   "cell_type": "code",
   "execution_count": 5,
   "id": "600f9316",
   "metadata": {
    "ExecuteTime": {
     "end_time": "2022-02-26T12:25:12.992474Z",
     "start_time": "2022-02-26T12:25:08.148938Z"
    }
   },
   "outputs": [],
   "source": [
    "malist = twitter.pos(line)"
   ]
  },
  {
   "cell_type": "code",
   "execution_count": 6,
   "id": "acdc0f23",
   "metadata": {
    "ExecuteTime": {
     "end_time": "2022-02-26T12:25:20.051490Z",
     "start_time": "2022-02-26T12:25:20.027554Z"
    }
   },
   "outputs": [
    {
     "data": {
      "text/plain": [
       "[('오늘', 'Noun'),\n",
       " ('은', 'Josa'),\n",
       " ('날씨', 'Noun'),\n",
       " ('가', 'Josa'),\n",
       " ('너무', 'Adverb'),\n",
       " ('좋네요', 'Adjective'),\n",
       " ('.', 'Punctuation'),\n",
       " ('음', 'Noun'),\n",
       " ('..', 'Punctuation'),\n",
       " ('이정', 'Noun'),\n",
       " ('도', 'Josa'),\n",
       " ('날씨', 'Noun'),\n",
       " ('면', 'Josa'),\n",
       " ('저', 'Noun'),\n",
       " ('와', 'Josa'),\n",
       " ('데이트', 'Noun'),\n",
       " ('어떠세요', 'Adjective'),\n",
       " ('?', 'Punctuation'),\n",
       " ('심쿵하다고요', 'Adjective'),\n",
       " ('.', 'Punctuation'),\n",
       " ('당연하지', 'Adjective')]"
      ]
     },
     "execution_count": 6,
     "metadata": {},
     "output_type": "execute_result"
    }
   ],
   "source": [
    "malist"
   ]
  },
  {
   "cell_type": "code",
   "execution_count": 7,
   "id": "af11bccd",
   "metadata": {
    "ExecuteTime": {
     "end_time": "2022-02-26T12:27:01.023328Z",
     "start_time": "2022-02-26T12:27:01.009372Z"
    }
   },
   "outputs": [],
   "source": [
    "# 이 중에서 2글자 이상의 명사만 골라보세요 \n",
    "\n",
    "words_all = [ ]\n",
    "\n",
    "for word in malist: \n",
    "    # 명사만 걸러내기 \n",
    "    if word[1] in ['Noun']:\n",
    "        if len(word[0]) < 2: \n",
    "            continue\n",
    "        else:\n",
    "            words_all.append(word[0])"
   ]
  },
  {
   "cell_type": "code",
   "execution_count": 9,
   "id": "30496278",
   "metadata": {
    "ExecuteTime": {
     "end_time": "2022-02-26T12:33:52.931246Z",
     "start_time": "2022-02-26T12:33:52.914317Z"
    }
   },
   "outputs": [
    {
     "data": {
      "text/plain": [
       "['오늘', '날씨', '이정', '날씨', '데이트']"
      ]
     },
     "execution_count": 9,
     "metadata": {},
     "output_type": "execute_result"
    }
   ],
   "source": [
    "words_all"
   ]
  }
 ],
 "metadata": {
  "kernelspec": {
   "display_name": "Python 3 (ipykernel)",
   "language": "python",
   "name": "python3"
  },
  "language_info": {
   "codemirror_mode": {
    "name": "ipython",
    "version": 3
   },
   "file_extension": ".py",
   "mimetype": "text/x-python",
   "name": "python",
   "nbconvert_exporter": "python",
   "pygments_lexer": "ipython3",
   "version": "3.9.7"
  },
  "toc": {
   "base_numbering": 1,
   "nav_menu": {},
   "number_sections": true,
   "sideBar": true,
   "skip_h1_title": false,
   "title_cell": "Table of Contents",
   "title_sidebar": "Contents",
   "toc_cell": false,
   "toc_position": {},
   "toc_section_display": true,
   "toc_window_display": false
  }
 },
 "nbformat": 4,
 "nbformat_minor": 5
}
