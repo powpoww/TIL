{
 "cells": [
  {
   "cell_type": "code",
   "execution_count": 1,
   "id": "666355d0",
   "metadata": {},
   "outputs": [],
   "source": [
    "import pandas as pd\n",
    "import numpy as np\n",
    "import matplotlib.pyplot as plt"
   ]
  },
  {
   "cell_type": "markdown",
   "id": "8769adfc",
   "metadata": {},
   "source": [
    "# 1. 범주형 자료 요약"
   ]
  },
  {
   "cell_type": "markdown",
   "id": "25db28d9",
   "metadata": {},
   "source": [
    "## 1.1 도수분포표"
   ]
  },
  {
   "cell_type": "code",
   "execution_count": 2,
   "id": "09483c21",
   "metadata": {},
   "outputs": [
    {
     "data": {
      "text/html": [
       "<div>\n",
       "<style scoped>\n",
       "    .dataframe tbody tr th:only-of-type {\n",
       "        vertical-align: middle;\n",
       "    }\n",
       "\n",
       "    .dataframe tbody tr th {\n",
       "        vertical-align: top;\n",
       "    }\n",
       "\n",
       "    .dataframe thead th {\n",
       "        text-align: right;\n",
       "    }\n",
       "</style>\n",
       "<table border=\"1\" class=\"dataframe\">\n",
       "  <thead>\n",
       "    <tr style=\"text-align: right;\">\n",
       "      <th></th>\n",
       "      <th>Attend</th>\n",
       "      <th>Name</th>\n",
       "    </tr>\n",
       "  </thead>\n",
       "  <tbody>\n",
       "    <tr>\n",
       "      <th>0</th>\n",
       "      <td>1</td>\n",
       "      <td>A</td>\n",
       "    </tr>\n",
       "    <tr>\n",
       "      <th>1</th>\n",
       "      <td>0</td>\n",
       "      <td>A</td>\n",
       "    </tr>\n",
       "    <tr>\n",
       "      <th>2</th>\n",
       "      <td>1</td>\n",
       "      <td>A</td>\n",
       "    </tr>\n",
       "    <tr>\n",
       "      <th>3</th>\n",
       "      <td>1</td>\n",
       "      <td>A</td>\n",
       "    </tr>\n",
       "    <tr>\n",
       "      <th>4</th>\n",
       "      <td>1</td>\n",
       "      <td>A</td>\n",
       "    </tr>\n",
       "  </tbody>\n",
       "</table>\n",
       "</div>"
      ],
      "text/plain": [
       "   Attend Name\n",
       "0       1    A\n",
       "1       0    A\n",
       "2       1    A\n",
       "3       1    A\n",
       "4       1    A"
      ]
     },
     "execution_count": 2,
     "metadata": {},
     "output_type": "execute_result"
    }
   ],
   "source": [
    "df = pd.read_csv('./data/drink.csv')\n",
    "df.head()"
   ]
  },
  {
   "cell_type": "code",
   "execution_count": 3,
   "id": "6b34556e",
   "metadata": {},
   "outputs": [
    {
     "name": "stdout",
     "output_type": "stream",
     "text": [
      "<class 'pandas.core.frame.DataFrame'>\n",
      "RangeIndex: 25 entries, 0 to 24\n",
      "Data columns (total 2 columns):\n",
      " #   Column  Non-Null Count  Dtype \n",
      "---  ------  --------------  ----- \n",
      " 0   Attend  25 non-null     int64 \n",
      " 1   Name    25 non-null     object\n",
      "dtypes: int64(1), object(1)\n",
      "memory usage: 528.0+ bytes\n"
     ]
    }
   ],
   "source": [
    "df.info()"
   ]
  },
  {
   "cell_type": "code",
   "execution_count": 18,
   "id": "f3dc6bbc",
   "metadata": {},
   "outputs": [
    {
     "data": {
      "text/plain": [
       "A    4\n",
       "B    3\n",
       "C    2\n",
       "D    2\n",
       "E    1\n",
       "Name: Name, dtype: int64"
      ]
     },
     "execution_count": 18,
     "metadata": {},
     "output_type": "execute_result"
    }
   ],
   "source": [
    "# 도수 계산\n",
    "df[df.Attend==1]['Name'].value_counts()"
   ]
  },
  {
   "cell_type": "markdown",
   "id": "c40c409c",
   "metadata": {},
   "source": [
    "## 1.2 막대그래프"
   ]
  },
  {
   "cell_type": "code",
   "execution_count": 19,
   "id": "d3726464",
   "metadata": {},
   "outputs": [
    {
     "data": {
      "text/plain": [
       "<BarContainer object of 5 artists>"
      ]
     },
     "execution_count": 19,
     "metadata": {},
     "output_type": "execute_result"
    },
    {
     "data": {
      "image/png": "[encoded data removed]",
      "text/plain": [
       "<Figure size 432x288 with 1 Axes>"
      ]
     },
     "metadata": {
      "needs_background": "light"
     },
     "output_type": "display_data"
    }
   ],
   "source": [
    "import matplotlib.pyplot as plt\n",
    "\n",
    "labels = ['A','B','C','D','E']\n",
    "ratio = [4,3,2,2,1]\n",
    "\n",
    "# Bar plot\n",
    "fig, ax = plt.subplots()\n",
    "plt.bar(labels, ratio)"
   ]
  },
  {
   "cell_type": "code",
   "execution_count": 20,
   "id": "652ca34e",
   "metadata": {},
   "outputs": [],
   "source": [
    "fig.savefig('./data/bar_plot.png')"
   ]
  },
  {
   "cell_type": "markdown",
   "id": "d6fa5cbf",
   "metadata": {},
   "source": [
    "# 2. 수치형 자료 요약"
   ]
  },
  {
   "cell_type": "code",
   "execution_count": 26,
   "id": "688ba90f",
   "metadata": {},
   "outputs": [
    {
     "data": {
      "text/plain": [
       "(144.12, 33.16)"
      ]
     },
     "execution_count": 26,
     "metadata": {},
     "output_type": "execute_result"
    }
   ],
   "source": [
    "coffee = np.array([202,177,121,148,89,121,137,158])\n",
    "\n",
    "# 평균, 표준편차\n",
    "cf_mean = np.round(coffee.mean(),2)\n",
    "cf_std = round(np.std(coffee),2)\n",
    "\n",
    "cf_mean, cf_std"
   ]
  },
  {
   "cell_type": "code",
   "execution_count": 33,
   "id": "820b4ae1",
   "metadata": {},
   "outputs": [
    {
     "data": {
      "text/plain": [
       "(array([1., 0., 2., 0., 1., 1., 1., 1., 0., 1.]),\n",
       " array([ 89. , 100.3, 111.6, 122.9, 134.2, 145.5, 156.8, 168.1, 179.4,\n",
       "        190.7, 202. ]),\n",
       " <BarContainer object of 10 artists>)"
      ]
     },
     "execution_count": 33,
     "metadata": {},
     "output_type": "execute_result"
    },
    {
     "data": {
      "image/png": "[encoded data removed]",
      "text/plain": [
       "<Figure size 432x288 with 1 Axes>"
      ]
     },
     "metadata": {
      "needs_background": "light"
     },
     "output_type": "display_data"
    }
   ],
   "source": [
    "fig, ax = plt.subplots()\n",
    "plt.hist(coffee)\n",
    "#plt.hist((coffee-cf_mean)/cf_std, bins=3)"
   ]
  },
  {
   "cell_type": "code",
   "execution_count": null,
   "id": "69d67fdd",
   "metadata": {},
   "outputs": [],
   "source": []
  }
 ],
 "metadata": {
  "kernelspec": {
   "display_name": "Python 3 (ipykernel)",
   "language": "python",
   "name": "python3"
  },
  "language_info": {
   "codemirror_mode": {
    "name": "ipython",
    "version": 3
   },
   "file_extension": ".py",
   "mimetype": "text/x-python",
   "name": "python",
   "nbconvert_exporter": "python",
   "pygments_lexer": "ipython3",
   "version": "3.9.7"
  }
 },
 "nbformat": 4,
 "nbformat_minor": 5
}
