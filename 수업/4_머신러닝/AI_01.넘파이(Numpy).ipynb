{
 "cells": [
  {
   "cell_type": "markdown",
   "id": "a79806bd",
   "metadata": {},
   "source": [
    "# 1. Numpy 기본정보\n",
    "- 연산에 대해 연산시간 단축, matrix간 연산 등 효율적이고 다양한 기능을 가지고 있음."
   ]
  },
  {
   "cell_type": "code",
   "execution_count": 2,
   "id": "a0511ffd",
   "metadata": {},
   "outputs": [
    {
     "name": "stdout",
     "output_type": "stream",
     "text": [
      "0.03693127632141113\n"
     ]
    }
   ],
   "source": [
    "# 내장함수 사용\n",
    "import time\n",
    "\n",
    "time.time()\n",
    "sTime = time.time()\n",
    "L = range(100000)\n",
    "b = [i**2 for i in L]\n",
    "\n",
    "eTime = time.time()\n",
    "print(eTime-sTime)"
   ]
  },
  {
   "cell_type": "code",
   "execution_count": 4,
   "id": "d27beff2",
   "metadata": {},
   "outputs": [
    {
     "name": "stdout",
     "output_type": "stream",
     "text": [
      "0.0009970664978027344\n"
     ]
    }
   ],
   "source": [
    "# Numpy 사용\n",
    "import numpy as np\n",
    "\n",
    "sTime= time.time()\n",
    "c = np.arange(100000)\n",
    "d = c**2\n",
    "\n",
    "eTime = time.time()\n",
    "print(eTime-sTime)"
   ]
  },
  {
   "cell_type": "code",
   "execution_count": 8,
   "id": "2fc530d8",
   "metadata": {},
   "outputs": [
    {
     "name": "stdout",
     "output_type": "stream",
     "text": [
      "<class 'numpy.ndarray'> 1 (3,)\n",
      "<class 'numpy.ndarray'> 2 (2, 3)\n",
      "<class 'numpy.ndarray'> 2 (3, 3)\n"
     ]
    }
   ],
   "source": [
    "# 배열 생성 및 정보 확인\n",
    "\n",
    "arr = np.array([1,2,3])\n",
    "print(type(arr), arr.ndim, arr.shape)\n",
    "\n",
    "arr = np.array([[1,2,3],[4,5,6]])\n",
    "print(type(arr), arr.ndim, arr.shape)\n",
    "\n",
    "arr = np.array([[1,2,3],[4,5,6],[7,8,9]])\n",
    "print(type(arr), arr.ndim, arr.shape)"
   ]
  },
  {
   "cell_type": "code",
   "execution_count": null,
   "id": "73190ab3",
   "metadata": {},
   "outputs": [],
   "source": []
  }
 ],
 "metadata": {
  "kernelspec": {
   "display_name": "Python 3 (ipykernel)",
   "language": "python",
   "name": "python3"
  },
  "language_info": {
   "codemirror_mode": {
    "name": "ipython",
    "version": 3
   },
   "file_extension": ".py",
   "mimetype": "text/x-python",
   "name": "python",
   "nbconvert_exporter": "python",
   "pygments_lexer": "ipython3",
   "version": "3.9.7"
  }
 },
 "nbformat": 4,
 "nbformat_minor": 5
}
