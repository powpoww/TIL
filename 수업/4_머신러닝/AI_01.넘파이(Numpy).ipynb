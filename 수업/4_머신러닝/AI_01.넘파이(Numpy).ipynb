{
 "cells": [
  {
   "cell_type": "code",
   "execution_count": 4,
   "id": "4016b84c",
   "metadata": {},
   "outputs": [],
   "source": [
    "import numpy as np\n",
    "import time\n",
    "\n",
    "from sklearn.datasets import load_iris\n",
    "from matplotlib import pyplot as plt"
   ]
  },
  {
   "cell_type": "markdown",
   "id": "a79806bd",
   "metadata": {},
   "source": [
    "# 1. Numpy 기본정보\n",
    "- 연산에 대해 연산시간 단축, matrix간 연산 등 효율적이고 다양한 기능을 가지고 있음."
   ]
  },
  {
   "cell_type": "code",
   "execution_count": 2,
   "id": "a0511ffd",
   "metadata": {},
   "outputs": [
    {
     "name": "stdout",
     "output_type": "stream",
     "text": [
      "0.024918317794799805\n"
     ]
    }
   ],
   "source": [
    "# 내장함수 사용\n",
    "import time\n",
    "\n",
    "time.time()\n",
    "sTime = time.time()\n",
    "L = range(100000)\n",
    "b = [i**2 for i in L]\n",
    "\n",
    "eTime = time.time()\n",
    "print(eTime-sTime)"
   ]
  },
  {
   "cell_type": "code",
   "execution_count": 3,
   "id": "d27beff2",
   "metadata": {},
   "outputs": [
    {
     "name": "stdout",
     "output_type": "stream",
     "text": [
      "0.000997781753540039\n"
     ]
    }
   ],
   "source": [
    "# Numpy 사용\n",
    "import numpy as np\n",
    "\n",
    "sTime= time.time()\n",
    "c = np.arange(100000)\n",
    "d = c**2\n",
    "\n",
    "eTime = time.time()\n",
    "print(eTime-sTime)"
   ]
  },
  {
   "cell_type": "markdown",
   "id": "a87414f5",
   "metadata": {},
   "source": [
    "## 1.1 배열 정보 확인 및 타입 변경\n"
   ]
  },
  {
   "cell_type": "code",
   "execution_count": 8,
   "id": "2fc530d8",
   "metadata": {},
   "outputs": [
    {
     "name": "stdout",
     "output_type": "stream",
     "text": [
      "<class 'numpy.ndarray'> 1 (3,)\n",
      "<class 'numpy.ndarray'> 2 (2, 3)\n",
      "<class 'numpy.ndarray'> 2 (3, 3)\n"
     ]
    }
   ],
   "source": [
    "arr = np.array([1,2,3])\n",
    "print(type(arr), arr.ndim, arr.shape)\n",
    "\n",
    "arr = np.array([[1,2,3],[4,5,6]])\n",
    "print(type(arr), arr.ndim, arr.shape)\n",
    "\n",
    "arr = np.array([[1,2,3],[4,5,6],[7,8,9]])\n",
    "print(type(arr), arr.ndim, arr.shape)"
   ]
  },
  {
   "cell_type": "code",
   "execution_count": 7,
   "id": "73190ab3",
   "metadata": {},
   "outputs": [
    {
     "data": {
      "text/plain": [
       "array([1., 2., 3.])"
      ]
     },
     "execution_count": 7,
     "metadata": {},
     "output_type": "execute_result"
    }
   ],
   "source": [
    "arr = np.array([1,2,3])\n",
    "arr = arr.astype(np.float64)\n",
    "arr"
   ]
  },
  {
   "cell_type": "markdown",
   "id": "d1ad2407",
   "metadata": {},
   "source": [
    "## 1.2 배열 생성"
   ]
  },
  {
   "cell_type": "code",
   "execution_count": 12,
   "id": "9d9ca3b7",
   "metadata": {},
   "outputs": [
    {
     "name": "stdout",
     "output_type": "stream",
     "text": [
      "[0 1 2 3 4 5 6 7 8 9]\n",
      "[1 2 3 4 5 6 7 8 9]\n",
      "[1 3 5 7 9]\n",
      "[ 1.  4.  7. 10.]\n",
      "[ 10.   5.   0.  -5. -10.]\n",
      "[ 0.          3.33333333  6.66666667 10.        ]\n"
     ]
    }
   ],
   "source": [
    "# arange()\n",
    "print(np.arange(10))\n",
    "print(np.arange(1,10))\n",
    "print(np.arange(1,10,2))\n",
    "\n",
    "# linspace()\n",
    "print(np.linspace(1,10,4))\n",
    "print(np.linspace(10,-10,5))\n",
    "print(np.linspace(0,10,4))"
   ]
  },
  {
   "cell_type": "code",
   "execution_count": 15,
   "id": "01a923dd",
   "metadata": {},
   "outputs": [
    {
     "name": "stdout",
     "output_type": "stream",
     "text": [
      "[[0. 0. 0.]\n",
      " [0. 0. 0.]]\n",
      "[[1. 1. 1.]\n",
      " [1. 1. 1.]]\n",
      "[[10 10 10]\n",
      " [10 10 10]]\n"
     ]
    }
   ],
   "source": [
    "# zeros, ones, full\n",
    "print(np.zeros((2,3)))\n",
    "print(np.ones((2,3)))\n",
    "print(np.full((2,3),10))"
   ]
  },
  {
   "cell_type": "code",
   "execution_count": 20,
   "id": "4b89fb66",
   "metadata": {},
   "outputs": [
    {
     "name": "stdout",
     "output_type": "stream",
     "text": [
      "[[ 0  1  2  3  4]\n",
      " [ 5  6  7  8  9]\n",
      " [10 11 12 13 14]\n",
      " [15 16 17 18 19]]\n",
      "[[ 0  1  2  3  4  5  6  7  8  9]\n",
      " [10 11 12 13 14 15 16 17 18 19]]\n"
     ]
    }
   ],
   "source": [
    "# reshape\n",
    "arr = np.arange(20)\n",
    "print(arr.reshape(4,5))\n",
    "print(arr.reshape(2,-1))"
   ]
  },
  {
   "cell_type": "markdown",
   "id": "867876ea",
   "metadata": {},
   "source": [
    "## 1.3 Indexing"
   ]
  },
  {
   "cell_type": "code",
   "execution_count": 38,
   "id": "2f7307fc",
   "metadata": {
    "scrolled": true
   },
   "outputs": [
    {
     "data": {
      "text/plain": [
       "['.. _iris_dataset:',\n",
       " '',\n",
       " 'Iris plants dataset',\n",
       " '--------------------',\n",
       " '',\n",
       " '**Data Set Characteristics:**',\n",
       " '',\n",
       " '    :Number of Instances: 150 (50 in each of three classes)',\n",
       " '    :Number of Attributes: 4 numeric, predictive attributes and the class',\n",
       " '    :Attribute Information:',\n",
       " '        - sepal length in cm',\n",
       " '        - sepal width in cm',\n",
       " '        - petal length in cm',\n",
       " '        - petal width in cm',\n",
       " '        - class:',\n",
       " '                - Iris-Setosa',\n",
       " '                - Iris-Versicolour',\n",
       " '                - Iris-Virginica',\n",
       " '                ',\n",
       " '    :Summary Statistics:',\n",
       " '',\n",
       " '    ============== ==== ==== ======= ===== ====================',\n",
       " '                    Min  Max   Mean    SD   Class Correlation',\n",
       " '    ============== ==== ==== ======= ===== ====================',\n",
       " '    sepal length:   4.3  7.9   5.84   0.83    0.7826',\n",
       " '    sepal width:    2.0  4.4   3.05   0.43   -0.4194',\n",
       " '    petal length:   1.0  6.9   3.76   1.76    0.9490  (high!)',\n",
       " '    petal width:    0.1  2.5   1.20   0.76    0.9565  (high!)',\n",
       " '    ============== ==== ==== ======= ===== ====================',\n",
       " '',\n",
       " '    :Missing Attribute Values: None',\n",
       " '    :Class Distribution: 33.3% for each of 3 classes.',\n",
       " '    :Creator: R.A. Fisher',\n",
       " '    :Donor: Michael Marshall (MARSHALL%PLU@io.arc.nasa.gov)',\n",
       " '    :Date: July, 1988',\n",
       " '',\n",
       " 'The famous Iris database, first used by Sir R.A. Fisher. The dataset is taken',\n",
       " \"from Fisher's paper. Note that it's the same as in R, but not as in the UCI\",\n",
       " 'Machine Learning Repository, which has two wrong data points.',\n",
       " '',\n",
       " 'This is perhaps the best known database to be found in the',\n",
       " \"pattern recognition literature.  Fisher's paper is a classic in the field and\",\n",
       " 'is referenced frequently to this day.  (See Duda & Hart, for example.)  The',\n",
       " 'data set contains 3 classes of 50 instances each, where each class refers to a',\n",
       " 'type of iris plant.  One class is linearly separable from the other 2; the',\n",
       " 'latter are NOT linearly separable from each other.',\n",
       " '',\n",
       " '.. topic:: References',\n",
       " '',\n",
       " '   - Fisher, R.A. \"The use of multiple measurements in taxonomic problems\"',\n",
       " '     Annual Eugenics, 7, Part II, 179-188 (1936); also in \"Contributions to',\n",
       " '     Mathematical Statistics\" (John Wiley, NY, 1950).',\n",
       " '   - Duda, R.O., & Hart, P.E. (1973) Pattern Classification and Scene Analysis.',\n",
       " '     (Q327.D83) John Wiley & Sons.  ISBN 0-471-22361-1.  See page 218.',\n",
       " '   - Dasarathy, B.V. (1980) \"Nosing Around the Neighborhood: A New System',\n",
       " '     Structure and Classification Rule for Recognition in Partially Exposed',\n",
       " '     Environments\".  IEEE Transactions on Pattern Analysis and Machine',\n",
       " '     Intelligence, Vol. PAMI-2, No. 1, 67-71.',\n",
       " '   - Gates, G.W. (1972) \"The Reduced Nearest Neighbor Rule\".  IEEE Transactions',\n",
       " '     on Information Theory, May 1972, 431-433.',\n",
       " '   - See also: 1988 MLC Proceedings, 54-64.  Cheeseman et al\"s AUTOCLASS II',\n",
       " '     conceptual clustering system finds 3 classes in the data.',\n",
       " '   - Many, many more ...']"
      ]
     },
     "execution_count": 38,
     "metadata": {},
     "output_type": "execute_result"
    }
   ],
   "source": [
    "from sklearn.datasets import load_iris\n",
    "\n",
    "iris= load_iris()\n",
    "x = iris['data']\n",
    "y = iris['target']\n",
    "xcolumns = iris['feature_names']\n",
    "ycolumns = iris['target_names']\n",
    "\n",
    "iris['DESCR'].split('\\n')"
   ]
  },
  {
   "cell_type": "markdown",
   "id": "81565ec3",
   "metadata": {},
   "source": [
    "**1d array**"
   ]
  },
  {
   "cell_type": "code",
   "execution_count": 44,
   "id": "87393463",
   "metadata": {},
   "outputs": [
    {
     "data": {
      "text/plain": [
       "(150,\n",
       " array([0, 0, 0, 0, 0, 0, 0, 0, 0, 0, 0, 0, 0, 0, 0, 0, 0, 0, 0, 0, 0, 0,\n",
       "        0, 0, 0, 0, 0, 0, 0, 0, 0, 0, 0, 0, 0, 0, 0, 0, 0, 0, 0, 0, 0, 0,\n",
       "        0, 0, 0, 0, 0, 0, 1, 1, 1, 1, 1, 1, 1, 1, 1, 1, 1, 1, 1, 1, 1, 1,\n",
       "        1, 1, 1, 1, 1, 1, 1, 1, 1, 1, 1, 1, 1, 1, 1, 1, 1, 1, 1, 1, 1, 1,\n",
       "        1, 1, 1, 1, 1, 1, 1, 1, 1, 1, 1, 1, 2, 2, 2, 2, 2, 2, 2, 2, 2, 2,\n",
       "        2, 2, 2, 2, 2, 2, 2, 2, 2, 2, 2, 2, 2, 2, 2, 2, 2, 2, 2, 2, 2, 2,\n",
       "        2, 2, 2, 2, 2, 2, 2, 2, 2, 2, 2, 2, 2, 2, 2, 2, 2, 2]))"
      ]
     },
     "execution_count": 44,
     "metadata": {},
     "output_type": "execute_result"
    }
   ],
   "source": [
    "len(y), y"
   ]
  },
  {
   "cell_type": "code",
   "execution_count": 42,
   "id": "9c1b1521",
   "metadata": {},
   "outputs": [
    {
     "name": "stdout",
     "output_type": "stream",
     "text": [
      "0 2\n",
      "[0 1]\n",
      "[0 2]\n"
     ]
    }
   ],
   "source": [
    "print(y[49], y[149])\n",
    "print(y[49:51])\n",
    "\n",
    "print(y[[49,149]])"
   ]
  },
  {
   "cell_type": "code",
   "execution_count": 49,
   "id": "f4a44c85",
   "metadata": {},
   "outputs": [
    {
     "name": "stdout",
     "output_type": "stream",
     "text": [
      "[False False False False  True]\n",
      "[2]\n"
     ]
    }
   ],
   "source": [
    "nplist = np.concatenate([np.zeros(149), np.ones(1)])\n",
    "print(nplist.astype('bool')[-5:])\n",
    "print(y[nplist.astype('bool')])"
   ]
  },
  {
   "cell_type": "markdown",
   "id": "dc8f4e62",
   "metadata": {},
   "source": [
    "**2d array**"
   ]
  },
  {
   "cell_type": "code",
   "execution_count": 66,
   "id": "f8f336f2",
   "metadata": {},
   "outputs": [
    {
     "name": "stdout",
     "output_type": "stream",
     "text": [
      "(150, 4)\n"
     ]
    },
    {
     "data": {
      "text/plain": [
       "array([[5.1, 3.5, 1.4, 0.2],\n",
       "       [4.9, 3. , 1.4, 0.2],\n",
       "       [4.7, 3.2, 1.3, 0.2],\n",
       "       [4.6, 3.1, 1.5, 0.2],\n",
       "       [5. , 3.6, 1.4, 0.2]])"
      ]
     },
     "execution_count": 66,
     "metadata": {},
     "output_type": "execute_result"
    }
   ],
   "source": [
    "print(x.shape)\n",
    "x[:5]"
   ]
  },
  {
   "cell_type": "code",
   "execution_count": 60,
   "id": "92936ebf",
   "metadata": {},
   "outputs": [
    {
     "name": "stdout",
     "output_type": "stream",
     "text": [
      "5.1 3.5\n",
      "[5.1 3.5]\n",
      "[[4.9 3. ]\n",
      " [4.6 3.1]]\n",
      "[3.2 0.2]\n",
      "[[1.4 0.2]\n",
      " [1.4 0.2]]\n"
     ]
    }
   ],
   "source": [
    "print(x[0,0], x[0,1])\n",
    "\n",
    "print(x[[0,0], [0,1]]) # (0,0), (0,1)\n",
    "print(x[[1,3], :2])\n",
    "print(x[[2,3], [1,3]]) # (2,1), (3,3)\n",
    "\n",
    "print(x[:2,2:4])"
   ]
  },
  {
   "cell_type": "code",
   "execution_count": 75,
   "id": "20eaa6a9",
   "metadata": {},
   "outputs": [
    {
     "data": {
      "text/plain": [
       "array([7.1, 7.6, 7.3, 7.2, 7.7, 7.7, 7.7, 7.2, 7.2, 7.4, 7.9, 7.7])"
      ]
     },
     "execution_count": 75,
     "metadata": {},
     "output_type": "execute_result"
    }
   ],
   "source": [
    "x[x>7]"
   ]
  },
  {
   "cell_type": "markdown",
   "id": "892fadf9",
   "metadata": {},
   "source": [
    "## 1.4 행렬연산(Broadcast)"
   ]
  },
  {
   "cell_type": "code",
   "execution_count": 103,
   "id": "c619a5f9",
   "metadata": {},
   "outputs": [
    {
     "name": "stdout",
     "output_type": "stream",
     "text": [
      "[[3 3 3]\n",
      " [3 3 3]]\n",
      "\n",
      "[[0 0 0]\n",
      " [0 0 0]]\n"
     ]
    }
   ],
   "source": [
    "arr1 = np.full((2,3),1)\n",
    "arr2 = np.full((2,3),2)\n",
    "\n",
    "# matrix * scalar\n",
    "print(arr1*3)\n",
    "print()\n",
    "print(arr2%1)\n"
   ]
  },
  {
   "cell_type": "code",
   "execution_count": 102,
   "id": "72576eae",
   "metadata": {},
   "outputs": [
    {
     "name": "stdout",
     "output_type": "stream",
     "text": [
      "[[1 1]\n",
      " [1 1]\n",
      " [1 1]]\n",
      "\n",
      "[[1 1]\n",
      " [1 1]\n",
      " [1 1]]\n"
     ]
    }
   ],
   "source": [
    "# transpose\n",
    "print(np.transpose(arr1))\n",
    "print()\n",
    "print(arr1.T)"
   ]
  },
  {
   "cell_type": "code",
   "execution_count": 108,
   "id": "060bfa75",
   "metadata": {},
   "outputs": [
    {
     "name": "stdout",
     "output_type": "stream",
     "text": [
      "[[6 6]\n",
      " [6 6]]\n"
     ]
    }
   ],
   "source": [
    "# dot\n",
    "print(np.dot(arr1, arr2.T))"
   ]
  },
  {
   "cell_type": "markdown",
   "id": "6c5fc7d2",
   "metadata": {},
   "source": [
    "## 1.5 random\n",
    "- np.random.randint() : 균일분포 정수 난수 \n",
    "- np.random.rand() : 0~1 균일분포 \n",
    "- np.random.randn() : 표준정규분포(n : normalization)\n",
    "- np.random.normal() : 정규분포"
   ]
  },
  {
   "cell_type": "code",
   "execution_count": 118,
   "id": "bbd07943",
   "metadata": {},
   "outputs": [
    {
     "data": {
      "text/plain": [
       "array([[9, 3, 7],\n",
       "       [4, 6, 7]])"
      ]
     },
     "execution_count": 118,
     "metadata": {},
     "output_type": "execute_result"
    }
   ],
   "source": [
    "np.random.randint(1,10,(2,3))"
   ]
  },
  {
   "cell_type": "code",
   "execution_count": 111,
   "id": "55d106e3",
   "metadata": {},
   "outputs": [
    {
     "data": {
      "text/plain": [
       "array([[0.31328871, 0.5170177 , 0.4931985 ],\n",
       "       [0.7538647 , 0.87950161, 0.29830433]])"
      ]
     },
     "execution_count": 111,
     "metadata": {},
     "output_type": "execute_result"
    }
   ],
   "source": [
    "np.random.rand(2,3)"
   ]
  },
  {
   "cell_type": "code",
   "execution_count": 112,
   "id": "1403ae7c",
   "metadata": {},
   "outputs": [
    {
     "data": {
      "text/plain": [
       "array([[ 0.48082362, -0.38335029, -1.17434711],\n",
       "       [-0.31686024,  1.78592183,  0.29507071]])"
      ]
     },
     "execution_count": 112,
     "metadata": {},
     "output_type": "execute_result"
    }
   ],
   "source": [
    "np.random.randn(2,3)"
   ]
  },
  {
   "cell_type": "code",
   "execution_count": 136,
   "id": "a61442f1",
   "metadata": {},
   "outputs": [
    {
     "name": "stdout",
     "output_type": "stream",
     "text": [
      "[[ 6.43860791  2.83873312  1.44776734  2.08733644  3.75889133  5.82224307]\n",
      " [ 5.63578124  1.39406227  8.89244552 11.21617808  2.74951012  8.44860167]\n",
      " [ 5.47337283  6.32374149  3.41360664  2.6726366   6.39789374  5.50659411]\n",
      " [ 4.3990244   4.44474515  5.40909392  4.17473352  9.36065227  5.78309474]\n",
      " [ 6.43849816  9.58861188  7.99873884  8.31961041  4.45020403  7.75688951]\n",
      " [ 5.91645272 13.05734884  7.95242051 11.43023477 -0.74796199 -1.51225207]\n",
      " [ 3.49311386  8.60051483  0.72916934  4.19181632  7.40409055  6.02947395]\n",
      " [ 4.81345232  4.49446661  5.29132997  8.70014477  0.71052887  4.44537037]\n",
      " [ 0.54560863  2.61927782  4.60325239  4.38161371 -0.05972202  1.66770615]\n",
      " [ 1.79809148 11.08425283  7.72727775  4.41646416  2.6795553  -1.41249593]]\n",
      "5.061541619269176 3.234236058951927\n"
     ]
    }
   ],
   "source": [
    "a = np.random.normal(5,3,(10,6))\n",
    "print(a)\n",
    "print(a.mean(), a.std())"
   ]
  },
  {
   "cell_type": "markdown",
   "id": "f36699df",
   "metadata": {},
   "source": [
    "## 1.4 기타"
   ]
  },
  {
   "cell_type": "code",
   "execution_count": 88,
   "id": "b7d6867b",
   "metadata": {},
   "outputs": [
    {
     "name": "stdout",
     "output_type": "stream",
     "text": [
      "np.unique: [0 1 2]\n",
      "\n",
      "arr : [8 4 5 3 1 0 8 1 5 9]\n",
      "a np.sort(): [0 1 1 3 4 5 5 8 8 9]\n",
      "b arr.sort(): None\n",
      "a: [8 4 5 3 1 0 8 1 5 9]\n",
      "b: [0 1 1 3 4 5 5 8 8 9]\n"
     ]
    }
   ],
   "source": [
    "# unique\n",
    "print('np.unique:', np.unique(y))\n",
    "print()\n",
    "\n",
    "# sort\n",
    "a = np.random.randint(0,10,10)\n",
    "b = a.copy()\n",
    "print('arr :', a)\n",
    "print('a np.sort():', np.sort(a)) # 결과값 반환\n",
    "print('b arr.sort():', b.sort()) # 원본 어레이에 적용\n",
    "print('a:',a)\n",
    "print('b:',b)"
   ]
  },
  {
   "cell_type": "code",
   "execution_count": 104,
   "id": "020656e8",
   "metadata": {},
   "outputs": [
    {
     "name": "stdout",
     "output_type": "stream",
     "text": [
      "arr:\n",
      " [[2 1 5]\n",
      " [5 4 9]\n",
      " [8 8 4]]\n",
      "\n",
      "[[2 1 4]\n",
      " [5 4 5]\n",
      " [8 8 9]]\n"
     ]
    }
   ],
   "source": [
    "a= np.random.randint(1,10,9).reshape(3,3)\n",
    "print('arr:\\n', a)\n",
    "print()\n",
    "a.sort(axis=0)\n",
    "print(a)"
   ]
  },
  {
   "cell_type": "markdown",
   "id": "96d10823",
   "metadata": {},
   "source": [
    "# 2. Matplotlib\n",
    "- EDA : Exploratory Data Analysis. 탐색적 자료 분석"
   ]
  },
  {
   "cell_type": "code",
   "execution_count": 147,
   "id": "7c548bfc",
   "metadata": {},
   "outputs": [
    {
     "data": {
      "image/png": "[encoded data removed]",
      "text/plain": [
       "<Figure size 432x288 with 1 Axes>"
      ]
     },
     "metadata": {
      "needs_background": "light"
     },
     "output_type": "display_data"
    }
   ],
   "source": [
    "from matplotlib import pyplot as plt\n",
    "plt.hist(x[:,0], color='grey')\n",
    "plt.show()"
   ]
  },
  {
   "cell_type": "code",
   "execution_count": 148,
   "id": "428eba72",
   "metadata": {},
   "outputs": [
    {
     "data": {
      "text/plain": [
       "{'whiskers': [<matplotlib.lines.Line2D at 0x1f50e5574c0>,\n",
       "  <matplotlib.lines.Line2D at 0x1f50e5572b0>],\n",
       " 'caps': [<matplotlib.lines.Line2D at 0x1f50e500b20>,\n",
       "  <matplotlib.lines.Line2D at 0x1f50e500cd0>],\n",
       " 'boxes': [<matplotlib.lines.Line2D at 0x1f50e557b80>],\n",
       " 'medians': [<matplotlib.lines.Line2D at 0x1f50e500610>],\n",
       " 'fliers': [<matplotlib.lines.Line2D at 0x1f50e579520>],\n",
       " 'means': []}"
      ]
     },
     "execution_count": 148,
     "metadata": {},
     "output_type": "execute_result"
    },
    {
     "data": {
      "image/png": "[encoded data removed]",
      "text/plain": [
       "<Figure size 432x288 with 1 Axes>"
      ]
     },
     "metadata": {
      "needs_background": "light"
     },
     "output_type": "display_data"
    }
   ],
   "source": [
    "plt.boxplot(x[:,0])"
   ]
  },
  {
   "cell_type": "code",
   "execution_count": 152,
   "id": "2566dd59",
   "metadata": {},
   "outputs": [
    {
     "name": "stdout",
     "output_type": "stream",
     "text": [
      "['maxbox' 'percent75' 'median' 'percent25' 'minbox'] \n",
      " [8.35 6.4  5.8  5.1  3.15]\n"
     ]
    }
   ],
   "source": [
    "def box_DEXC(x):\n",
    "    median = np.median(x)\n",
    "    percent25 = np.percentile(x,25)\n",
    "    percent75 = np.percentile(x,75)\n",
    "    IQR = percent75-percent25\n",
    "    beard = IQR*1.5\n",
    "    maxbox = percent75+ beard\n",
    "    minbox = percent25- beard\n",
    "    X = np.array(['maxbox','percent75','median','percent25','minbox'])\n",
    "    Y = np.array([maxbox, percent75, median, percent25, minbox])\n",
    "    print(X, '\\n', Y)\n",
    "    \n",
    "box_DEXC(x[:,0])"
   ]
  },
  {
   "cell_type": "code",
   "execution_count": null,
   "id": "3b05ee3b",
   "metadata": {},
   "outputs": [],
   "source": []
  }
 ],
 "metadata": {
  "kernelspec": {
   "display_name": "Python 3 (ipykernel)",
   "language": "python",
   "name": "python3"
  },
  "language_info": {
   "codemirror_mode": {
    "name": "ipython",
    "version": 3
   },
   "file_extension": ".py",
   "mimetype": "text/x-python",
   "name": "python",
   "nbconvert_exporter": "python",
   "pygments_lexer": "ipython3",
   "version": "3.9.7"
  }
 },
 "nbformat": 4,
 "nbformat_minor": 5
}
