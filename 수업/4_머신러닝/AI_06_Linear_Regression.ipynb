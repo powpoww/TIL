{
 "cells": [
  {
   "cell_type": "code",
   "execution_count": 3,
   "id": "7427877f",
   "metadata": {},
   "outputs": [],
   "source": [
    "import pandas as pd\n",
    "import numpy as np\n",
    "import matplotlib.pyplot as plt\n",
    "%matplotlib inline"
   ]
  },
  {
   "cell_type": "code",
   "execution_count": 4,
   "id": "2e76609c",
   "metadata": {},
   "outputs": [],
   "source": [
    "from sklearn import linear_model"
   ]
  },
  {
   "cell_type": "markdown",
   "id": "929428dc",
   "metadata": {},
   "source": [
    "# 1. 주가데이터 회귀분석"
   ]
  },
  {
   "cell_type": "markdown",
   "id": "8ff7350e",
   "metadata": {},
   "source": [
    "## 1. 데이터 불러오기"
   ]
  },
  {
   "cell_type": "code",
   "execution_count": 91,
   "id": "2e760637",
   "metadata": {
    "scrolled": true
   },
   "outputs": [
    {
     "name": "stdout",
     "output_type": "stream",
     "text": [
      "           date  h_price  h_rate\n",
      "0    2015-03-25    45500     NaN\n",
      "1    2015-03-26    45900   0.879\n",
      "2    2015-03-27    45000  -1.961\n",
      "3    2015-03-30    45600   1.333\n",
      "4    2015-03-31    46000   0.877\n",
      "..          ...      ...     ...\n",
      "244  2016-03-21    60100   0.839\n",
      "245  2016-03-22    59200  -1.498\n",
      "246  2016-03-23    58900  -0.507\n",
      "247  2016-03-24    59300   0.679\n",
      "248  2016-03-25    59300   0.000\n",
      "\n",
      "[249 rows x 3 columns]\n",
      "           date  s_price  s_rate\n",
      "0    2015-03-25  1485000     NaN\n",
      "1    2015-03-26  1421000  -4.310\n",
      "2    2015-03-27  1421000   0.000\n",
      "3    2015-03-30  1428000   0.493\n",
      "4    2015-03-31  1441000   0.910\n",
      "..          ...      ...     ...\n",
      "244  2016-03-21  1267000  -0.471\n",
      "245  2016-03-22  1269000   0.158\n",
      "246  2016-03-23  1279000   0.788\n",
      "247  2016-03-24  1282000   0.235\n",
      "248  2016-03-25  1288000   0.468\n",
      "\n",
      "[249 rows x 3 columns]\n",
      "           date    kospi  k_rate\n",
      "0    2015-03-25  2042.81     NaN\n",
      "1    2015-03-26  2022.56  -0.991\n",
      "2    2015-03-27  2019.80  -0.136\n",
      "3    2015-03-30  2030.04   0.507\n",
      "4    2015-03-31  2041.03   0.541\n",
      "..          ...      ...     ...\n",
      "244  2016-03-21  1989.76  -0.118\n",
      "245  2016-03-22  1996.81   0.354\n",
      "246  2016-03-23  1995.12  -0.085\n",
      "247  2016-03-24  1985.97  -0.459\n",
      "248  2016-03-25  1983.81  -0.109\n",
      "\n",
      "[249 rows x 3 columns]\n"
     ]
    }
   ],
   "source": [
    "# 데이터 불러오기\n",
    "h_stock= pd.read_csv('./data/H_stock.csv') # h회사 \n",
    "s_stock= pd.read_csv('./data/S_stock.csv') # s회사\n",
    "k_index= pd.read_csv('./data/K_index.csv') # 코스피\n",
    "\n",
    "print(h_stock)\n",
    "print(s_stock)\n",
    "print(k_index)"
   ]
  },
  {
   "cell_type": "code",
   "execution_count": 92,
   "id": "d47699e7",
   "metadata": {
    "scrolled": true
   },
   "outputs": [
    {
     "name": "stdout",
     "output_type": "stream",
     "text": [
      "<class 'pandas.core.frame.DataFrame'>\n",
      "RangeIndex: 249 entries, 0 to 248\n",
      "Data columns (total 3 columns):\n",
      " #   Column   Non-Null Count  Dtype  \n",
      "---  ------   --------------  -----  \n",
      " 0   date     249 non-null    object \n",
      " 1   h_price  249 non-null    int64  \n",
      " 2   h_rate   248 non-null    float64\n",
      "dtypes: float64(1), int64(1), object(1)\n",
      "memory usage: 6.0+ KB\n",
      "None\n",
      "<class 'pandas.core.frame.DataFrame'>\n",
      "RangeIndex: 249 entries, 0 to 248\n",
      "Data columns (total 3 columns):\n",
      " #   Column   Non-Null Count  Dtype  \n",
      "---  ------   --------------  -----  \n",
      " 0   date     249 non-null    object \n",
      " 1   s_price  249 non-null    int64  \n",
      " 2   s_rate   248 non-null    float64\n",
      "dtypes: float64(1), int64(1), object(1)\n",
      "memory usage: 6.0+ KB\n",
      "None\n",
      "<class 'pandas.core.frame.DataFrame'>\n",
      "RangeIndex: 249 entries, 0 to 248\n",
      "Data columns (total 3 columns):\n",
      " #   Column  Non-Null Count  Dtype  \n",
      "---  ------  --------------  -----  \n",
      " 0   date    249 non-null    object \n",
      " 1   kospi   249 non-null    float64\n",
      " 2   k_rate  248 non-null    float64\n",
      "dtypes: float64(2), object(1)\n",
      "memory usage: 6.0+ KB\n",
      "None\n"
     ]
    }
   ],
   "source": [
    "print(h_stock.info())\n",
    "print(s_stock.info())\n",
    "print(k_index.info())"
   ]
  },
  {
   "cell_type": "code",
   "execution_count": 98,
   "id": "bf651f1f",
   "metadata": {},
   "outputs": [],
   "source": [
    "# NaN 제거 및 자료변환\n",
    "h_rate = np.array(h_stock.h_rate.values[1:]).reshape(-1)\n",
    "s_rate = np.array(s_stock.s_rate.values[1:]).reshape(-1)\n",
    "k_rate = np.array(k_index.k_rate.values[1:]).reshape(-1,1)"
   ]
  },
  {
   "cell_type": "code",
   "execution_count": 106,
   "id": "0b1dc806",
   "metadata": {},
   "outputs": [
    {
     "data": {
      "text/plain": [
       "((248,), (248,), (248, 1))"
      ]
     },
     "execution_count": 106,
     "metadata": {},
     "output_type": "execute_result"
    }
   ],
   "source": [
    "h_rate.shape, s_rate.shape, k_rate.shape"
   ]
  },
  {
   "cell_type": "code",
   "execution_count": 100,
   "id": "a6f44487",
   "metadata": {},
   "outputs": [
    {
     "data": {
      "image/png": "[encoded data removed]",
      "text/plain": [
       "<Figure size 432x288 with 1 Axes>"
      ]
     },
     "metadata": {
      "needs_background": "light"
     },
     "output_type": "display_data"
    }
   ],
   "source": [
    "plt.scatter(h_rate, k_rate, color='blue')\n",
    "plt.show()"
   ]
  },
  {
   "cell_type": "code",
   "execution_count": 110,
   "id": "aed9d3a3",
   "metadata": {},
   "outputs": [
    {
     "data": {
      "image/png": "[encoded data removed]",
      "text/plain": [
       "<Figure size 432x288 with 1 Axes>"
      ]
     },
     "metadata": {
      "needs_background": "light"
     },
     "output_type": "display_data"
    }
   ],
   "source": [
    "plt.scatter(s_rate, k_rate, color='blue')\n",
    "plt.show()"
   ]
  },
  {
   "cell_type": "markdown",
   "id": "661fb4f0",
   "metadata": {},
   "source": [
    "## 2. 모델링"
   ]
  },
  {
   "cell_type": "code",
   "execution_count": 101,
   "id": "fc1103a6",
   "metadata": {
    "scrolled": true
   },
   "outputs": [],
   "source": [
    "# k_rate , h_rate간 회귀분석\n",
    "model = linear_model.LinearRegression()\n",
    "model.fit(k_rate, h_rate)\n",
    "predict = model.predict(k_rate)"
   ]
  },
  {
   "cell_type": "code",
   "execution_count": 107,
   "id": "579f96a8",
   "metadata": {},
   "outputs": [
    {
     "data": {
      "image/png": "[encoded data removed]",
      "text/plain": [
       "<Figure size 432x288 with 1 Axes>"
      ]
     },
     "metadata": {
      "needs_background": "light"
     },
     "output_type": "display_data"
    }
   ],
   "source": [
    "# 자가평가 : 실제값과 예측값 비교\n",
    "plt.figure()\n",
    "plt.plot(k_rate, predict, 'r-.')\n",
    "plt.scatter(k_rate, h_rate, c='blue', s=30, marker='v')\n",
    "plt.show()\n",
    "plt.close()"
   ]
  },
  {
   "cell_type": "code",
   "execution_count": 105,
   "id": "1c35da94",
   "metadata": {
    "scrolled": true
   },
   "outputs": [
    {
     "name": "stdout",
     "output_type": "stream",
     "text": [
      "기울기: [0.63482159]\n",
      "절편: 0.1262845347316865\n",
      "결정계수: 0.1064571423759525\n"
     ]
    }
   ],
   "source": [
    "print('기울기:', model.coef_)\n",
    "print('절편:', model.intercept_)\n",
    "print('결정계수:', model.score(k_rate, h_rate))"
   ]
  },
  {
   "cell_type": "code",
   "execution_count": 109,
   "id": "1e9c635a",
   "metadata": {},
   "outputs": [
    {
     "name": "stdout",
     "output_type": "stream",
     "text": [
      "기울기: [1.00132771]\n",
      "절편: -0.035001432281775026\n",
      "결정계수: 0.2644483831226938\n"
     ]
    },
    {
     "data": {
      "image/png": "[encoded data removed]",
      "text/plain": [
       "<Figure size 432x288 with 1 Axes>"
      ]
     },
     "metadata": {
      "needs_background": "light"
     },
     "output_type": "display_data"
    }
   ],
   "source": [
    "# k_rate , s_rate간 회귀분석\n",
    "plt.scatter(k_rate, s_rate, c='black', s=30, marker='x')\n",
    "\n",
    "model= linear_model.LinearRegression()\n",
    "model.fit(k_rate, s_rate)\n",
    "predict = model.predict(k_rate)\n",
    "\n",
    "plt.plot(k_rate, predict, 'r-.', label='s_stock')\n",
    "\n",
    "print('기울기:', model.coef_)\n",
    "print('절편:', model.intercept_)\n",
    "print('결정계수:', model.score(k_rate, s_rate))"
   ]
  },
  {
   "cell_type": "markdown",
   "id": "eb840a7e",
   "metadata": {},
   "source": [
    "# 2. 당뇨병 데이터 회귀분석"
   ]
  },
  {
   "cell_type": "markdown",
   "id": "9c20ed62",
   "metadata": {},
   "source": [
    "## 1. 데이터 불러오기"
   ]
  },
  {
   "cell_type": "code",
   "execution_count": 112,
   "id": "3618b49c",
   "metadata": {},
   "outputs": [],
   "source": [
    "from sklearn import datasets, linear_model\n",
    "from sklearn.metrics import mean_squared_error, r2_score\n",
    "import numpy as np\n",
    "import pandas as pd\n",
    "import matplotlib.pyplot as plt"
   ]
  },
  {
   "cell_type": "code",
   "execution_count": 114,
   "id": "0f6005be",
   "metadata": {
    "scrolled": true
   },
   "outputs": [
    {
     "data": {
      "text/plain": [
       "{'data': array([[ 0.03807591,  0.05068012,  0.06169621, ..., -0.00259226,\n",
       "          0.01990842, -0.01764613],\n",
       "        [-0.00188202, -0.04464164, -0.05147406, ..., -0.03949338,\n",
       "         -0.06832974, -0.09220405],\n",
       "        [ 0.08529891,  0.05068012,  0.04445121, ..., -0.00259226,\n",
       "          0.00286377, -0.02593034],\n",
       "        ...,\n",
       "        [ 0.04170844,  0.05068012, -0.01590626, ..., -0.01107952,\n",
       "         -0.04687948,  0.01549073],\n",
       "        [-0.04547248, -0.04464164,  0.03906215, ...,  0.02655962,\n",
       "          0.04452837, -0.02593034],\n",
       "        [-0.04547248, -0.04464164, -0.0730303 , ..., -0.03949338,\n",
       "         -0.00421986,  0.00306441]]),\n",
       " 'target': array([151.,  75., 141., 206., 135.,  97., 138.,  63., 110., 310., 101.,\n",
       "         69., 179., 185., 118., 171., 166., 144.,  97., 168.,  68.,  49.,\n",
       "         68., 245., 184., 202., 137.,  85., 131., 283., 129.,  59., 341.,\n",
       "         87.,  65., 102., 265., 276., 252.,  90., 100.,  55.,  61.,  92.,\n",
       "        259.,  53., 190., 142.,  75., 142., 155., 225.,  59., 104., 182.,\n",
       "        128.,  52.,  37., 170., 170.,  61., 144.,  52., 128.,  71., 163.,\n",
       "        150.,  97., 160., 178.,  48., 270., 202., 111.,  85.,  42., 170.,\n",
       "        200., 252., 113., 143.,  51.,  52., 210.,  65., 141.,  55., 134.,\n",
       "         42., 111.,  98., 164.,  48.,  96.,  90., 162., 150., 279.,  92.,\n",
       "         83., 128., 102., 302., 198.,  95.,  53., 134., 144., 232.,  81.,\n",
       "        104.,  59., 246., 297., 258., 229., 275., 281., 179., 200., 200.,\n",
       "        173., 180.,  84., 121., 161.,  99., 109., 115., 268., 274., 158.,\n",
       "        107.,  83., 103., 272.,  85., 280., 336., 281., 118., 317., 235.,\n",
       "         60., 174., 259., 178., 128.,  96., 126., 288.,  88., 292.,  71.,\n",
       "        197., 186.,  25.,  84.,  96., 195.,  53., 217., 172., 131., 214.,\n",
       "         59.,  70., 220., 268., 152.,  47.,  74., 295., 101., 151., 127.,\n",
       "        237., 225.,  81., 151., 107.,  64., 138., 185., 265., 101., 137.,\n",
       "        143., 141.,  79., 292., 178.,  91., 116.,  86., 122.,  72., 129.,\n",
       "        142.,  90., 158.,  39., 196., 222., 277.,  99., 196., 202., 155.,\n",
       "         77., 191.,  70.,  73.,  49.,  65., 263., 248., 296., 214., 185.,\n",
       "         78.,  93., 252., 150.,  77., 208.,  77., 108., 160.,  53., 220.,\n",
       "        154., 259.,  90., 246., 124.,  67.,  72., 257., 262., 275., 177.,\n",
       "         71.,  47., 187., 125.,  78.,  51., 258., 215., 303., 243.,  91.,\n",
       "        150., 310., 153., 346.,  63.,  89.,  50.,  39., 103., 308., 116.,\n",
       "        145.,  74.,  45., 115., 264.,  87., 202., 127., 182., 241.,  66.,\n",
       "         94., 283.,  64., 102., 200., 265.,  94., 230., 181., 156., 233.,\n",
       "         60., 219.,  80.,  68., 332., 248.,  84., 200.,  55.,  85.,  89.,\n",
       "         31., 129.,  83., 275.,  65., 198., 236., 253., 124.,  44., 172.,\n",
       "        114., 142., 109., 180., 144., 163., 147.,  97., 220., 190., 109.,\n",
       "        191., 122., 230., 242., 248., 249., 192., 131., 237.,  78., 135.,\n",
       "        244., 199., 270., 164.,  72.,  96., 306.,  91., 214.,  95., 216.,\n",
       "        263., 178., 113., 200., 139., 139.,  88., 148.,  88., 243.,  71.,\n",
       "         77., 109., 272.,  60.,  54., 221.,  90., 311., 281., 182., 321.,\n",
       "         58., 262., 206., 233., 242., 123., 167.,  63., 197.,  71., 168.,\n",
       "        140., 217., 121., 235., 245.,  40.,  52., 104., 132.,  88.,  69.,\n",
       "        219.,  72., 201., 110.,  51., 277.,  63., 118.,  69., 273., 258.,\n",
       "         43., 198., 242., 232., 175.,  93., 168., 275., 293., 281.,  72.,\n",
       "        140., 189., 181., 209., 136., 261., 113., 131., 174., 257.,  55.,\n",
       "         84.,  42., 146., 212., 233.,  91., 111., 152., 120.,  67., 310.,\n",
       "         94., 183.,  66., 173.,  72.,  49.,  64.,  48., 178., 104., 132.,\n",
       "        220.,  57.]),\n",
       " 'frame': None,\n",
       " 'DESCR': '.. _diabetes_dataset:\\n\\nDiabetes dataset\\n----------------\\n\\nTen baseline variables, age, sex, body mass index, average blood\\npressure, and six blood serum measurements were obtained for each of n =\\n442 diabetes patients, as well as the response of interest, a\\nquantitative measure of disease progression one year after baseline.\\n\\n**Data Set Characteristics:**\\n\\n  :Number of Instances: 442\\n\\n  :Number of Attributes: First 10 columns are numeric predictive values\\n\\n  :Target: Column 11 is a quantitative measure of disease progression one year after baseline\\n\\n  :Attribute Information:\\n      - age     age in years\\n      - sex\\n      - bmi     body mass index\\n      - bp      average blood pressure\\n      - s1      tc, total serum cholesterol\\n      - s2      ldl, low-density lipoproteins\\n      - s3      hdl, high-density lipoproteins\\n      - s4      tch, total cholesterol / HDL\\n      - s5      ltg, possibly log of serum triglycerides level\\n      - s6      glu, blood sugar level\\n\\nNote: Each of these 10 feature variables have been mean centered and scaled by the standard deviation times `n_samples` (i.e. the sum of squares of each column totals 1).\\n\\nSource URL:\\nhttps://www4.stat.ncsu.edu/~boos/var.select/diabetes.html\\n\\nFor more information see:\\nBradley Efron, Trevor Hastie, Iain Johnstone and Robert Tibshirani (2004) \"Least Angle Regression,\" Annals of Statistics (with discussion), 407-499.\\n(https://web.stanford.edu/~hastie/Papers/LARS/LeastAngle_2002.pdf)',\n",
       " 'feature_names': ['age',\n",
       "  'sex',\n",
       "  'bmi',\n",
       "  'bp',\n",
       "  's1',\n",
       "  's2',\n",
       "  's3',\n",
       "  's4',\n",
       "  's5',\n",
       "  's6'],\n",
       " 'data_filename': 'C:\\\\Users\\\\GW\\\\anaconda3\\\\lib\\\\site-packages\\\\sklearn\\\\datasets\\\\data\\\\diabetes_data.csv.gz',\n",
       " 'target_filename': 'C:\\\\Users\\\\GW\\\\anaconda3\\\\lib\\\\site-packages\\\\sklearn\\\\datasets\\\\data\\\\diabetes_target.csv.gz'}"
      ]
     },
     "execution_count": 114,
     "metadata": {},
     "output_type": "execute_result"
    }
   ],
   "source": [
    "# 당뇨병 환자 데이터\n",
    "diabetes = datasets.load_diabetes()\n",
    "diabetes"
   ]
  },
  {
   "cell_type": "code",
   "execution_count": 115,
   "id": "8e01e8b1",
   "metadata": {},
   "outputs": [
    {
     "name": "stdout",
     "output_type": "stream",
     "text": [
      "(442, 10)\n"
     ]
    }
   ],
   "source": [
    "print(diabetes.data.shape)"
   ]
  },
  {
   "cell_type": "code",
   "execution_count": 117,
   "id": "b7d67384",
   "metadata": {},
   "outputs": [
    {
     "name": "stdout",
     "output_type": "stream",
     "text": [
      "(442,)\n"
     ]
    }
   ],
   "source": [
    "print(diabetes.target.shape)"
   ]
  },
  {
   "cell_type": "code",
   "execution_count": 123,
   "id": "c8f30a75",
   "metadata": {},
   "outputs": [],
   "source": [
    "# 2번쨰 col을 변수로 선택 (BMI)\n",
    "diabetes_X = diabetes.data[:,2].reshape(-1,1)\n",
    "target = diabetes.target\n",
    "\n",
    "train_x, test_x = diabetes_X[:-20], diabetes_X[-20:]\n",
    "train_y, test_y = target[:-20], target[-20:]"
   ]
  },
  {
   "cell_type": "markdown",
   "id": "4eccbcde",
   "metadata": {},
   "source": [
    "## 2. 모델생성 및 검증"
   ]
  },
  {
   "cell_type": "code",
   "execution_count": 124,
   "id": "758bd81f",
   "metadata": {},
   "outputs": [
    {
     "data": {
      "text/plain": [
       "LinearRegression()"
      ]
     },
     "execution_count": 124,
     "metadata": {},
     "output_type": "execute_result"
    }
   ],
   "source": [
    "lr = linear_model.LinearRegression()\n",
    "lr.fit(train_x, train_y)"
   ]
  },
  {
   "cell_type": "code",
   "execution_count": 126,
   "id": "fea48d7b",
   "metadata": {},
   "outputs": [
    {
     "name": "stdout",
     "output_type": "stream",
     "text": [
      "coef : [938.23786125]\n",
      "r_square : 0.47257544798227136\n"
     ]
    }
   ],
   "source": [
    "# 테스트데이터 효율\n",
    "pred_y = lr.predict(test_x)\n",
    "print('coef :', lr.coef_)\n",
    "print('r_square :', r2_score(test_y, pred_y))"
   ]
  },
  {
   "cell_type": "code",
   "execution_count": 128,
   "id": "b99fd95c",
   "metadata": {},
   "outputs": [
    {
     "data": {
      "image/png": "[encoded data removed]",
      "text/plain": [
       "<Figure size 432x288 with 1 Axes>"
      ]
     },
     "metadata": {},
     "output_type": "display_data"
    }
   ],
   "source": [
    "# 학습데이터의 x, y 산포도\n",
    "plt.scatter(test_x, test_y, c='black')\n",
    "plt.plot(test_x, pred_y, c='red', linewidth=3)\n",
    "plt.xticks(())\n",
    "plt.yticks(())\n",
    "plt.show()"
   ]
  },
  {
   "cell_type": "code",
   "execution_count": null,
   "id": "f286a322",
   "metadata": {},
   "outputs": [],
   "source": []
  }
 ],
 "metadata": {
  "kernelspec": {
   "display_name": "Python 3 (ipykernel)",
   "language": "python",
   "name": "python3"
  },
  "language_info": {
   "codemirror_mode": {
    "name": "ipython",
    "version": 3
   },
   "file_extension": ".py",
   "mimetype": "text/x-python",
   "name": "python",
   "nbconvert_exporter": "python",
   "pygments_lexer": "ipython3",
   "version": "3.9.7"
  }
 },
 "nbformat": 4,
 "nbformat_minor": 5
}
