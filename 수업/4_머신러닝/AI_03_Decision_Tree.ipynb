{
 "cells": [
  {
   "cell_type": "markdown",
   "id": "d2682750",
   "metadata": {},
   "source": [
    "# Decision Tree - Digits Classifier"
   ]
  },
  {
   "cell_type": "code",
   "execution_count": 25,
   "id": "0e4a53ad",
   "metadata": {},
   "outputs": [],
   "source": [
    "import matplotlib.pyplot as plt\n",
    "import random\n",
    "from sklearn import datasets, tree\n",
    "from sklearn.metrics import confusion_matrix, accuracy_score, recall_score, precision_score, f1_score\n",
    "from sklearn.metrics import classification_report"
   ]
  },
  {
   "cell_type": "markdown",
   "id": "19b60c06",
   "metadata": {},
   "source": [
    "## 1. Preprocessing"
   ]
  },
  {
   "cell_type": "code",
   "execution_count": 7,
   "id": "e7570387",
   "metadata": {},
   "outputs": [
    {
     "name": "stdout",
     "output_type": "stream",
     "text": [
      "dict_keys(['data', 'target', 'frame', 'feature_names', 'target_names', 'images', 'DESCR'])\n"
     ]
    },
    {
     "data": {
      "image/png": "[encoded data removed]",
      "text/plain": [
       "<Figure size 432x288 with 10 Axes>"
      ]
     },
     "metadata": {
      "needs_background": "light"
     },
     "output_type": "display_data"
    }
   ],
   "source": [
    "digits = datasets.load_digits()\n",
    "print(digits.keys())\n",
    "\n",
    "for label, img in zip(digits.target[:10], digits.images[:10]):\n",
    "    plt.subplot(2,5, label+1)\n",
    "    plt.imshow(img, cmap=plt.cm.gray_r, interpolation='nearest')\n",
    "    plt.title('Digit:%d'%label)\n",
    "\n",
    "plt.show()"
   ]
  },
  {
   "cell_type": "code",
   "execution_count": 8,
   "id": "1eddf34c",
   "metadata": {},
   "outputs": [
    {
     "data": {
      "text/plain": [
       "(9,\n",
       " array([[ 0.,  0., 11., 12.,  0.,  0.,  0.,  0.],\n",
       "        [ 0.,  2., 16., 16., 16., 13.,  0.,  0.],\n",
       "        [ 0.,  3., 16., 12., 10., 14.,  0.,  0.],\n",
       "        [ 0.,  1., 16.,  1., 12., 15.,  0.,  0.],\n",
       "        [ 0.,  0., 13., 16.,  9., 15.,  2.,  0.],\n",
       "        [ 0.,  0.,  0.,  3.,  0.,  9., 11.,  0.],\n",
       "        [ 0.,  0.,  0.,  0.,  9., 15.,  4.,  0.],\n",
       "        [ 0.,  0.,  9., 12., 13.,  3.,  0.,  0.]]))"
      ]
     },
     "execution_count": 8,
     "metadata": {},
     "output_type": "execute_result"
    }
   ],
   "source": [
    "# 개별 데이터\n",
    "label, img"
   ]
  },
  {
   "cell_type": "code",
   "execution_count": 20,
   "id": "5f79a513",
   "metadata": {},
   "outputs": [
    {
     "name": "stdout",
     "output_type": "stream",
     "text": [
      "train size : 1198\n",
      "target : 1797 \n",
      " input : 1797\n"
     ]
    }
   ],
   "source": [
    "# reshape train data (n, (8,8)) -> (n, 64) \n",
    "n_samples = len(images)\n",
    "train_size = int(n_samples*2/3)\n",
    "images = digits.images.reshape(n_samples,64)\n",
    "labels = digits.target\n",
    "\n",
    "train_x, train_y = images[:train_size], labels[:train_size]\n",
    "test_x, test_y = images[train_size:], labels[train_size:]\n",
    "\n",
    "print('train size :', train_size)\n",
    "print('target : %d \\n input : %d' %(len(label), len(images)))"
   ]
  },
  {
   "cell_type": "markdown",
   "id": "9d1520eb",
   "metadata": {},
   "source": [
    "## 2. Modeling"
   ]
  },
  {
   "cell_type": "code",
   "execution_count": 21,
   "id": "b878178b",
   "metadata": {},
   "outputs": [
    {
     "data": {
      "text/plain": [
       "DecisionTreeClassifier(max_depth=3)"
      ]
     },
     "execution_count": 21,
     "metadata": {},
     "output_type": "execute_result"
    }
   ],
   "source": [
    "# build and train\n",
    "classifier = tree.DecisionTreeClassifier(max_depth=3)\n",
    "classifier.fit(train_x, train_y)"
   ]
  },
  {
   "cell_type": "code",
   "execution_count": 22,
   "id": "bdb8c323",
   "metadata": {},
   "outputs": [],
   "source": [
    "# predict test data set\n",
    "pred_test = classifier.predict(test_x)"
   ]
  },
  {
   "cell_type": "code",
   "execution_count": 23,
   "id": "23fda62b",
   "metadata": {},
   "outputs": [
    {
     "data": {
      "text/plain": [
       "0.44908180300500833"
      ]
     },
     "execution_count": 23,
     "metadata": {},
     "output_type": "execute_result"
    }
   ],
   "source": [
    "# accuracy score\n",
    "acc = accuracy_score(test_y, pred_test)\n",
    "acc"
   ]
  },
  {
   "cell_type": "markdown",
   "id": "e25b9cfe",
   "metadata": {},
   "source": [
    "**Confusion Matrix**\n",
    "- 예측결과값 : predicted, 실제값: expected\n",
    "- 혼동행렬 결과 (sklearn)\n",
    "- 실제값(actual) 세로방향, 예측값(predicted) 가로방향\n",
    "- 대각선으로 숫자가 몰려 있을 수록 좋은 모델이다.\n"
   ]
  },
  {
   "cell_type": "code",
   "execution_count": 24,
   "id": "32c451e8",
   "metadata": {},
   "outputs": [
    {
     "data": {
      "text/plain": [
       "array([[57,  0,  1,  0,  1,  0,  0,  0,  0,  0],\n",
       "       [ 0,  0, 25, 16,  6,  0,  0, 15,  0,  0],\n",
       "       [ 1,  0, 49,  6,  0,  1,  0,  3,  0,  0],\n",
       "       [ 0,  0, 10, 46,  0,  0,  0,  5,  0,  1],\n",
       "       [ 4,  0, 27,  0, 30,  0,  0,  1,  0,  0],\n",
       "       [ 0,  0,  2, 29, 20,  5,  0,  3,  0,  0],\n",
       "       [ 0,  0, 55,  5,  0,  1,  0,  0,  0,  0],\n",
       "       [ 0,  0,  0,  0,  6,  0,  0, 55,  0,  0],\n",
       "       [ 0,  0, 33,  6,  2,  1,  0, 13,  0,  0],\n",
       "       [ 2,  0,  1, 21,  7,  0,  0,  0,  0, 27]], dtype=int64)"
      ]
     },
     "execution_count": 24,
     "metadata": {},
     "output_type": "execute_result"
    }
   ],
   "source": [
    "# confusion matrix\n",
    "cm_pred = confusion_matrix(test_y, pred_test)\n",
    "cm_pred"
   ]
  },
  {
   "cell_type": "code",
   "execution_count": 27,
   "id": "b9b50a0a",
   "metadata": {},
   "outputs": [
    {
     "name": "stdout",
     "output_type": "stream",
     "text": [
      "              precision    recall  f1-score   support\n",
      "\n",
      "           0       0.89      0.97      0.93        59\n",
      "           1       0.00      0.00      0.00        62\n",
      "           2       0.24      0.82      0.37        60\n",
      "           3       0.36      0.74      0.48        62\n",
      "           4       0.42      0.48      0.45        62\n",
      "           5       0.62      0.08      0.15        59\n",
      "           6       0.00      0.00      0.00        61\n",
      "           7       0.58      0.90      0.71        61\n",
      "           8       0.00      0.00      0.00        55\n",
      "           9       0.96      0.47      0.63        58\n",
      "\n",
      "    accuracy                           0.45       599\n",
      "   macro avg       0.41      0.45      0.37       599\n",
      "weighted avg       0.41      0.45      0.37       599\n",
      "\n"
     ]
    },
    {
     "name": "stderr",
     "output_type": "stream",
     "text": [
      "C:\\Users\\GW\\anaconda3\\lib\\site-packages\\sklearn\\metrics\\_classification.py:1248: UndefinedMetricWarning: Precision and F-score are ill-defined and being set to 0.0 in labels with no predicted samples. Use `zero_division` parameter to control this behavior.\n",
      "  _warn_prf(average, modifier, msg_start, len(result))\n",
      "C:\\Users\\GW\\anaconda3\\lib\\site-packages\\sklearn\\metrics\\_classification.py:1248: UndefinedMetricWarning: Precision and F-score are ill-defined and being set to 0.0 in labels with no predicted samples. Use `zero_division` parameter to control this behavior.\n",
      "  _warn_prf(average, modifier, msg_start, len(result))\n",
      "C:\\Users\\GW\\anaconda3\\lib\\site-packages\\sklearn\\metrics\\_classification.py:1248: UndefinedMetricWarning: Precision and F-score are ill-defined and being set to 0.0 in labels with no predicted samples. Use `zero_division` parameter to control this behavior.\n",
      "  _warn_prf(average, modifier, msg_start, len(result))\n"
     ]
    }
   ],
   "source": [
    "# report\n",
    "print(classification_report(test_y, pred_test))"
   ]
  },
  {
   "cell_type": "code",
   "execution_count": null,
   "id": "5e7261a5",
   "metadata": {},
   "outputs": [],
   "source": []
  }
 ],
 "metadata": {
  "kernelspec": {
   "display_name": "Python 3 (ipykernel)",
   "language": "python",
   "name": "python3"
  },
  "language_info": {
   "codemirror_mode": {
    "name": "ipython",
    "version": 3
   },
   "file_extension": ".py",
   "mimetype": "text/x-python",
   "name": "python",
   "nbconvert_exporter": "python",
   "pygments_lexer": "ipython3",
   "version": "3.9.7"
  }
 },
 "nbformat": 4,
 "nbformat_minor": 5
}
