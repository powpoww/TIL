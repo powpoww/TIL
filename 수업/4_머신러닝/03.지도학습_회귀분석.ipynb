{
 "cells": [
  {
   "cell_type": "code",
   "execution_count": 1,
   "id": "f48d4215",
   "metadata": {},
   "outputs": [],
   "source": [
    "import matplotlib.pyplot as plt\n",
    "import numpy as np\n",
    "import pandas as pd\n",
    "from sklearn.linear_model import LinearRegression"
   ]
  },
  {
   "cell_type": "markdown",
   "id": "3fb7314a",
   "metadata": {},
   "source": [
    "# 1. 선형회귀분석"
   ]
  },
  {
   "cell_type": "markdown",
   "id": "decc1df3",
   "metadata": {},
   "source": [
    "## 1. 모델학습"
   ]
  },
  {
   "cell_type": "code",
   "execution_count": 8,
   "id": "dc1df633",
   "metadata": {},
   "outputs": [
    {
     "data": {
      "text/plain": [
       "<matplotlib.collections.PathCollection at 0x1e483d9dd30>"
      ]
     },
     "execution_count": 8,
     "metadata": {},
     "output_type": "execute_result"
    },
    {
     "data": {
      "image/png": "[encoded data removed]",
      "text/plain": [
       "<Figure size 432x288 with 1 Axes>"
      ]
     },
     "metadata": {
      "needs_background": "light"
     },
     "output_type": "display_data"
    }
   ],
   "source": [
    "X = [8.70153760, 3.90825773, 1.89362433, 3.28730045, 7.39333004, 2.98984649, 2.25757240, 9.84450732, 9.94589513, 5.48321616]\n",
    "Y = [5.64413093, 3.75876583, 3.87233310, 4.40990425, 6.43845020, 4.02827829, 2.26105955, 7.15768995, 6.29097441, 5.19692852]\n",
    "\n",
    "plt.scatter(X,Y)"
   ]
  },
  {
   "cell_type": "code",
   "execution_count": 5,
   "id": "6651501d",
   "metadata": {},
   "outputs": [
    {
     "name": "stdout",
     "output_type": "stream",
     "text": [
      "전 처리한 X 데이터 shape: (10, 1)\n",
      "전 처리한 Y 데이터 shape: (10,)\n"
     ]
    }
   ],
   "source": [
    "train_X = pd.DataFrame(X, columns=['X'])\n",
    "train_Y = pd.Series(Y)\n",
    "\n",
    "print('전 처리한 X 데이터 shape: {}'.format(train_X.shape))\n",
    "print('전 처리한 Y 데이터 shape: {}'.format(train_Y.shape))"
   ]
  },
  {
   "cell_type": "code",
   "execution_count": 18,
   "id": "3968e8ea",
   "metadata": {},
   "outputs": [
    {
     "name": "stdout",
     "output_type": "stream",
     "text": [
      "coef : 0.43, bias : 2.51\n",
      "y = 0.43x + 3\n"
     ]
    }
   ],
   "source": [
    "# 모델 초기화\n",
    "lrmodel = LinearRegression()\n",
    "\n",
    "# 모델 학습\n",
    "lrmodel.fit(train_X, train_Y)\n",
    "coef = lrmodel.coef_[0]\n",
    "bias = lrmodel.intercept_\n",
    "print('coef : %.2f, bias : %.2f' %(coef, bias))\n",
    "print('y = %.2fx +%2.f'%(coef, bias))"
   ]
  },
  {
   "cell_type": "code",
   "execution_count": 15,
   "id": "c6bdcbf1",
   "metadata": {},
   "outputs": [
    {
     "data": {
      "image/png": "[encoded data removed]",
      "text/plain": [
       "<Figure size 432x288 with 1 Axes>"
      ]
     },
     "metadata": {
      "needs_background": "light"
     },
     "output_type": "display_data"
    }
   ],
   "source": [
    "# 학습결과 시각화\n",
    "plt.scatter(X,Y)\n",
    "plt.plot([0,10],[bias, 10*coef + bias], c='r')\n",
    "plt.xlim(0,10)\n",
    "plt.ylim(0,10)\n",
    "plt.title('Result')\n",
    "plt.savefig('./data/scatter_LR.png')\n",
    "plt.show()"
   ]
  },
  {
   "cell_type": "markdown",
   "id": "b48223f5",
   "metadata": {},
   "source": [
    "## 2. 모델 예측"
   ]
  },
  {
   "cell_type": "code",
   "execution_count": 19,
   "id": "fae27f8d",
   "metadata": {},
   "outputs": [
    {
     "data": {
      "text/plain": [
       "LinearRegression()"
      ]
     },
     "execution_count": 19,
     "metadata": {},
     "output_type": "execute_result"
    }
   ],
   "source": [
    "X = [8.70153760, 3.90825773, 1.89362433, 3.28730045, 7.39333004, 2.98984649, 2.25757240, 9.84450732, 9.94589513, 5.48321616]\n",
    "Y = [5.64413093, 3.75876583, 3.87233310, 4.40990425, 6.43845020, 4.02827829, 2.26105955, 7.15768995, 6.29097441, 5.19692852]\n",
    "\n",
    "train_X = pd.DataFrame(X, columns=['X'])\n",
    "train_Y = pd.Series(Y)\n",
    "\n",
    "lrmodel = LinearRegression()\n",
    "lrmodel.fit(train_X, train_Y)"
   ]
  },
  {
   "cell_type": "code",
   "execution_count": 21,
   "id": "96959aeb",
   "metadata": {},
   "outputs": [
    {
     "name": "stdout",
     "output_type": "stream",
     "text": [
      "train_X 예측값:\n",
      "[6.2546398  4.18978504 3.32191889 3.92228833 5.6910886  3.79415077\n",
      " 3.47870087 6.74700964 6.7906856  4.86824749]\n",
      "\n",
      "실제값:\n",
      " [5.64413093, 3.75876583, 3.8723331, 4.40990425, 6.4384502, 4.02827829, 2.26105955, 7.15768995, 6.29097441, 5.19692852]\n"
     ]
    }
   ],
   "source": [
    "pred_X = lrmodel.predict(train_X)\n",
    "print('train_X 예측값:\\n{}\\n'.format(pred_X))\n",
    "print('실제값:\\n',Y)"
   ]
  },
  {
   "cell_type": "markdown",
   "id": "f1b6c279",
   "metadata": {},
   "source": [
    "# 2. 다중회귀분석"
   ]
  },
  {
   "cell_type": "code",
   "execution_count": null,
   "id": "7ff5b36e",
   "metadata": {},
   "outputs": [],
   "source": []
  }
 ],
 "metadata": {
  "kernelspec": {
   "display_name": "Python 3 (ipykernel)",
   "language": "python",
   "name": "python3"
  },
  "language_info": {
   "codemirror_mode": {
    "name": "ipython",
    "version": 3
   },
   "file_extension": ".py",
   "mimetype": "text/x-python",
   "name": "python",
   "nbconvert_exporter": "python",
   "pygments_lexer": "ipython3",
   "version": "3.9.7"
  }
 },
 "nbformat": 4,
 "nbformat_minor": 5
}
