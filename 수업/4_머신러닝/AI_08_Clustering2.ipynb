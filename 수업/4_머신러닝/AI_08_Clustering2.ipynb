{
 "cells": [
  {
   "cell_type": "markdown",
   "id": "d7fa526a",
   "metadata": {},
   "source": [
    "# 1. K-means 클러스터링(비계층적군집분석) : 아카데미자료"
   ]
  },
  {
   "cell_type": "code",
   "execution_count": 1,
   "id": "5ef4d9f8",
   "metadata": {},
   "outputs": [],
   "source": [
    "import pandas as pd\n",
    "import numpy as np\n",
    "%matplotlib inline\n",
    "import matplotlib.pyplot as plt \n",
    "from sklearn import cluster"
   ]
  },
  {
   "cell_type": "code",
   "execution_count": 6,
   "id": "35dc1889",
   "metadata": {},
   "outputs": [
    {
     "data": {
      "text/html": [
       "<div>\n",
       "<style scoped>\n",
       "    .dataframe tbody tr th:only-of-type {\n",
       "        vertical-align: middle;\n",
       "    }\n",
       "\n",
       "    .dataframe tbody tr th {\n",
       "        vertical-align: top;\n",
       "    }\n",
       "\n",
       "    .dataframe thead th {\n",
       "        text-align: right;\n",
       "    }\n",
       "</style>\n",
       "<table border=\"1\" class=\"dataframe\">\n",
       "  <thead>\n",
       "    <tr style=\"text-align: right;\">\n",
       "      <th></th>\n",
       "      <th>kor</th>\n",
       "      <th>math</th>\n",
       "      <th>eng</th>\n",
       "      <th>science</th>\n",
       "      <th>intention</th>\n",
       "    </tr>\n",
       "  </thead>\n",
       "  <tbody>\n",
       "    <tr>\n",
       "      <th>0</th>\n",
       "      <td>90</td>\n",
       "      <td>75</td>\n",
       "      <td>85</td>\n",
       "      <td>60</td>\n",
       "      <td>70</td>\n",
       "    </tr>\n",
       "    <tr>\n",
       "      <th>1</th>\n",
       "      <td>65</td>\n",
       "      <td>90</td>\n",
       "      <td>60</td>\n",
       "      <td>88</td>\n",
       "      <td>80</td>\n",
       "    </tr>\n",
       "    <tr>\n",
       "      <th>2</th>\n",
       "      <td>45</td>\n",
       "      <td>53</td>\n",
       "      <td>48</td>\n",
       "      <td>50</td>\n",
       "      <td>60</td>\n",
       "    </tr>\n",
       "    <tr>\n",
       "      <th>3</th>\n",
       "      <td>77</td>\n",
       "      <td>96</td>\n",
       "      <td>62</td>\n",
       "      <td>92</td>\n",
       "      <td>70</td>\n",
       "    </tr>\n",
       "    <tr>\n",
       "      <th>4</th>\n",
       "      <td>88</td>\n",
       "      <td>89</td>\n",
       "      <td>80</td>\n",
       "      <td>82</td>\n",
       "      <td>90</td>\n",
       "    </tr>\n",
       "  </tbody>\n",
       "</table>\n",
       "</div>"
      ],
      "text/plain": [
       "   kor  math  eng  science  intention\n",
       "0   90    75   85       60         70\n",
       "1   65    90   60       88         80\n",
       "2   45    53   48       50         60\n",
       "3   77    96   62       92         70\n",
       "4   88    89   80       82         90"
      ]
     },
     "execution_count": 6,
     "metadata": {},
     "output_type": "execute_result"
    }
   ],
   "source": [
    "# 학습 데이터\n",
    "academy = pd.read_csv('./data/academy.csv', encoding='cp949')\n",
    "academy.columns = ['num','kor','math','eng','science','intention']\n",
    "academy.drop(columns='num', inplace=True)\n",
    "academy.head()"
   ]
  },
  {
   "cell_type": "code",
   "execution_count": 8,
   "id": "a92eab5f",
   "metadata": {},
   "outputs": [
    {
     "name": "stdout",
     "output_type": "stream",
     "text": [
      "data shape: (52, 5)\n"
     ]
    }
   ],
   "source": [
    "academy_arr = academy.values\n",
    "print('data shape:', academy_arr.shape)"
   ]
  },
  {
   "cell_type": "code",
   "execution_count": 9,
   "id": "e7c8d089",
   "metadata": {},
   "outputs": [
    {
     "data": {
      "text/plain": [
       "KMeans(n_clusters=5)"
      ]
     },
     "execution_count": 9,
     "metadata": {},
     "output_type": "execute_result"
    }
   ],
   "source": [
    "# 모델 생성\n",
    "model = cluster.KMeans(n_clusters=5)\n",
    "model.fit(academy_arr)"
   ]
  },
  {
   "cell_type": "code",
   "execution_count": 11,
   "id": "f83cc425",
   "metadata": {},
   "outputs": [
    {
     "data": {
      "text/plain": [
       "array([1, 0, 2, 0, 3, 3, 4, 0, 2, 1, 0, 3, 1, 2, 1, 0, 0, 3, 0, 0, 0, 0,\n",
       "       2, 4, 0, 4, 1, 3, 4, 1, 0, 3, 1, 1, 2, 4, 0, 3, 3, 4, 1, 3, 1, 4,\n",
       "       2, 0, 1, 4, 3, 1, 2, 0])"
      ]
     },
     "execution_count": 11,
     "metadata": {},
     "output_type": "execute_result"
    }
   ],
   "source": [
    "labels= model.labels_\n",
    "labels"
   ]
  },
  {
   "cell_type": "code",
   "execution_count": 16,
   "id": "1c8e4efa",
   "metadata": {},
   "outputs": [
    {
     "data": {
      "image/png": "[encoded data removed]",
      "text/plain": [
       "<Figure size 432x288 with 1 Axes>"
      ]
     },
     "metadata": {
      "needs_background": "light"
     },
     "output_type": "display_data"
    }
   ],
   "source": [
    "# 산포도\n",
    "ldata = academy_arr[labels==0]\n",
    "plt.scatter(ldata[:,2], ldata[:,3], c='red', alpha=0.5, marker='o')\n",
    "\n",
    "ldata = academy_arr[labels==1]\n",
    "plt.scatter(ldata[:,2], ldata[:,3], c='blue', alpha=0.5, marker='o')\n",
    "\n",
    "ldata = academy_arr[labels==2]\n",
    "plt.scatter(ldata[:,2], ldata[:,3], c='green', alpha=0.5, marker='o')\n",
    "\n",
    "ldata = academy_arr[labels==3]\n",
    "plt.scatter(ldata[:,2], ldata[:,3], c='purple', alpha=0.5, marker='o')\n",
    "\n",
    "ldata = academy_arr[labels==4]\n",
    "plt.scatter(ldata[:,2], ldata[:,3], c='yellow', alpha=0.5, marker='o')\n",
    "\n",
    "plt.xlabel(academy.columns[2], fontsize='large')\n",
    "plt.ylabel(academy.columns[3], fontsize='large')\n",
    "plt.show()"
   ]
  },
  {
   "cell_type": "code",
   "execution_count": 18,
   "id": "5b5c7e7c",
   "metadata": {},
   "outputs": [
    {
     "data": {
      "image/png": "[encoded data removed]",
      "text/plain": [
       "<Figure size 1800x720 with 1 Axes>"
      ]
     },
     "metadata": {
      "needs_background": "light"
     },
     "output_type": "display_data"
    }
   ],
   "source": [
    "# 덴드로그램\n",
    "\n",
    "from scipy.cluster.hierarchy import dendrogram, linkage\n",
    "\n",
    "z = linkage(academy_arr, 'ward')\n",
    "\n",
    "plt.figure(figsize=(25,10))\n",
    "plt.title('Hierarchical Clustering Dendrogram')\n",
    "plt.xlabel('academy', fontsize='large')\n",
    "plt.ylabel('distance')\n",
    "\n",
    "dendrogram(z,\n",
    "          leaf_rotation=90, # rotation x axis\n",
    "          leaf_font_size=8)\n",
    "plt.show()"
   ]
  },
  {
   "cell_type": "code",
   "execution_count": null,
   "id": "a73197f3",
   "metadata": {},
   "outputs": [],
   "source": []
  }
 ],
 "metadata": {
  "kernelspec": {
   "display_name": "Python 3 (ipykernel)",
   "language": "python",
   "name": "python3"
  },
  "language_info": {
   "codemirror_mode": {
    "name": "ipython",
    "version": 3
   },
   "file_extension": ".py",
   "mimetype": "text/x-python",
   "name": "python",
   "nbconvert_exporter": "python",
   "pygments_lexer": "ipython3",
   "version": "3.9.7"
  }
 },
 "nbformat": 4,
 "nbformat_minor": 5
}
