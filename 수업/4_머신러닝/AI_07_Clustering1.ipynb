{
 "cells": [
  {
   "cell_type": "markdown",
   "id": "5f4338f2",
   "metadata": {},
   "source": [
    "# 아이리스 데이터 군집분석"
   ]
  },
  {
   "cell_type": "code",
   "execution_count": 1,
   "id": "39d3a00e",
   "metadata": {},
   "outputs": [],
   "source": [
    "from sklearn.cluster import KMeans\n",
    "from sklearn import cluster\n",
    "import numpy as np\n",
    "import pandas as pd\n",
    "import matplotlib.pyplot as plt\n",
    "import seaborn as sns\n",
    "\n",
    "from sklearn import datasets"
   ]
  },
  {
   "cell_type": "markdown",
   "id": "d0771947",
   "metadata": {},
   "source": [
    "## 1. 데이터셋 불러오기"
   ]
  },
  {
   "cell_type": "code",
   "execution_count": 8,
   "id": "bb0030a0",
   "metadata": {},
   "outputs": [
    {
     "name": "stdout",
     "output_type": "stream",
     "text": [
      "data shape: (150, 4)\n",
      "column names:\n",
      " ['sepal length (cm)', 'sepal width (cm)', 'petal length (cm)', 'petal width (cm)']\n"
     ]
    }
   ],
   "source": [
    "iris = datasets.load_iris()\n",
    "data = iris.data\n",
    "\n",
    "print('data shape:', data.shape)\n",
    "print('column names:\\n',iris.feature_names)"
   ]
  },
  {
   "cell_type": "markdown",
   "id": "bff39b02",
   "metadata": {},
   "source": [
    "## 2. K-means(비계층형 클러스터) 모델링"
   ]
  },
  {
   "cell_type": "code",
   "execution_count": 9,
   "id": "af4283e4",
   "metadata": {},
   "outputs": [
    {
     "data": {
      "text/plain": [
       "KMeans(n_clusters=3)"
      ]
     },
     "execution_count": 9,
     "metadata": {},
     "output_type": "execute_result"
    }
   ],
   "source": [
    "# 비계층형 클러스터 생성(K-means)\n",
    "\n",
    "model = KMeans(n_clusters=3)\n",
    "model.fit(data)"
   ]
  },
  {
   "cell_type": "code",
   "execution_count": 16,
   "id": "757cd641",
   "metadata": {},
   "outputs": [
    {
     "data": {
      "text/plain": [
       "array([0, 0, 0, 0, 0, 0, 0, 0, 0, 0, 0, 0, 0, 0, 0, 0, 0, 0, 0, 0, 0, 0,\n",
       "       0, 0, 0, 0, 0, 0, 0, 0, 0, 0, 0, 0, 0, 0, 0, 0, 0, 0, 0, 0, 0, 0,\n",
       "       0, 0, 0, 0, 0, 0, 2, 2, 1, 2, 2, 2, 2, 2, 2, 2, 2, 2, 2, 2, 2, 2,\n",
       "       2, 2, 2, 2, 2, 2, 2, 2, 2, 2, 2, 1, 2, 2, 2, 2, 2, 2, 2, 2, 2, 2,\n",
       "       2, 2, 2, 2, 2, 2, 2, 2, 2, 2, 2, 2, 1, 2, 1, 1, 1, 1, 2, 1, 1, 1,\n",
       "       1, 1, 1, 2, 2, 1, 1, 1, 1, 2, 1, 2, 1, 2, 1, 1, 2, 2, 1, 1, 1, 1,\n",
       "       1, 2, 1, 1, 1, 1, 2, 1, 1, 1, 2, 1, 1, 1, 2, 1, 1, 2])"
      ]
     },
     "execution_count": 16,
     "metadata": {},
     "output_type": "execute_result"
    }
   ],
   "source": [
    "# 학습결과 라벨 취득(군집확인)\n",
    "labels = model.labels_ # model.predict(data)와 동일\n",
    "labels"
   ]
  },
  {
   "cell_type": "code",
   "execution_count": 25,
   "id": "335ff3f5",
   "metadata": {},
   "outputs": [
    {
     "data": {
      "text/plain": [
       "array([ True,  True,  True,  True,  True,  True,  True,  True,  True,\n",
       "        True,  True,  True,  True,  True,  True,  True,  True,  True,\n",
       "        True,  True,  True,  True,  True,  True,  True,  True,  True,\n",
       "        True,  True,  True,  True,  True,  True,  True,  True,  True,\n",
       "        True,  True,  True,  True,  True,  True,  True,  True,  True,\n",
       "        True,  True,  True,  True,  True, False, False,  True, False,\n",
       "       False, False, False, False, False, False, False, False, False,\n",
       "       False, False, False, False, False, False, False, False, False,\n",
       "       False, False, False, False, False,  True, False, False, False,\n",
       "       False, False, False, False, False, False, False, False, False,\n",
       "       False, False, False, False, False, False, False, False, False,\n",
       "       False, False,  True, False, False, False, False,  True, False,\n",
       "       False, False, False, False, False,  True,  True, False, False,\n",
       "       False, False,  True, False,  True, False,  True, False, False,\n",
       "        True,  True, False, False, False, False, False,  True, False,\n",
       "       False, False, False,  True, False, False, False,  True, False,\n",
       "       False, False,  True, False, False,  True])"
      ]
     },
     "execution_count": 25,
     "metadata": {},
     "output_type": "execute_result"
    }
   ],
   "source": [
    "# 타겟값과 비교\n",
    "iris.target == labels"
   ]
  },
  {
   "cell_type": "code",
   "execution_count": 24,
   "id": "6acfb461",
   "metadata": {},
   "outputs": [
    {
     "data": {
      "image/png": "[encoded data removed]",
      "text/plain": [
       "<Figure size 432x288 with 1 Axes>"
      ]
     },
     "metadata": {
      "needs_background": "light"
     },
     "output_type": "display_data"
    }
   ],
   "source": [
    "# 그래프 그리기\n",
    "# petal length와 petal width의 모델군집간 차이\n",
    "\n",
    "ldata = data[labels==0]\n",
    "plt.scatter(ldata[:,2], ldata[:,3], alpha=0.3, s=100, label=0)\n",
    "\n",
    "ldata = data[labels==1]\n",
    "plt.scatter(ldata[:,2], ldata[:,3], alpha=0.3, s=100, label=1)\n",
    "\n",
    "ldata = data[labels==2]\n",
    "plt.scatter(ldata[:,2], ldata[:,3], alpha=0.3, s=100, label=2)\n",
    "\n",
    "plt.xlabel(iris.feature_names[2], fontsize='large')\n",
    "plt.ylabel(iris.feature_names[3], fontsize='large')\n",
    "plt.legend()\n",
    "plt.show()"
   ]
  },
  {
   "cell_type": "markdown",
   "id": "f687279b",
   "metadata": {},
   "source": [
    "## 3. 계층형 클러스터 모델링"
   ]
  },
  {
   "cell_type": "code",
   "execution_count": 28,
   "id": "2cd84597",
   "metadata": {},
   "outputs": [
    {
     "data": {
      "text/plain": [
       "AgglomerativeClustering(n_clusters=3)"
      ]
     },
     "execution_count": 28,
     "metadata": {},
     "output_type": "execute_result"
    }
   ],
   "source": [
    "# 계층형 클러스터 생성\n",
    "\n",
    "model_agg = cluster.AgglomerativeClustering(n_clusters=3, linkage='ward') # 와드법\n",
    "model_agg.fit(data)"
   ]
  },
  {
   "cell_type": "code",
   "execution_count": 29,
   "id": "4163daa6",
   "metadata": {},
   "outputs": [
    {
     "data": {
      "text/plain": [
       "array([1, 1, 1, 1, 1, 1, 1, 1, 1, 1, 1, 1, 1, 1, 1, 1, 1, 1, 1, 1, 1, 1,\n",
       "       1, 1, 1, 1, 1, 1, 1, 1, 1, 1, 1, 1, 1, 1, 1, 1, 1, 1, 1, 1, 1, 1,\n",
       "       1, 1, 1, 1, 1, 1, 0, 0, 0, 0, 0, 0, 0, 0, 0, 0, 0, 0, 0, 0, 0, 0,\n",
       "       0, 0, 0, 0, 0, 0, 0, 0, 0, 0, 0, 2, 0, 0, 0, 0, 0, 0, 0, 0, 0, 0,\n",
       "       0, 0, 0, 0, 0, 0, 0, 0, 0, 0, 0, 0, 2, 0, 2, 2, 2, 2, 0, 2, 2, 2,\n",
       "       2, 2, 2, 0, 0, 2, 2, 2, 2, 0, 2, 0, 2, 0, 2, 2, 0, 0, 2, 2, 2, 2,\n",
       "       2, 0, 0, 2, 2, 2, 0, 2, 2, 2, 0, 2, 2, 2, 0, 2, 2, 0], dtype=int64)"
      ]
     },
     "execution_count": 29,
     "metadata": {},
     "output_type": "execute_result"
    }
   ],
   "source": [
    "# 학습결과 라벨 취득(군집확인)\n",
    "labels = model_agg.labels_\n",
    "labels"
   ]
  },
  {
   "cell_type": "code",
   "execution_count": 31,
   "id": "33414244",
   "metadata": {},
   "outputs": [
    {
     "data": {
      "text/plain": [
       "array([False, False, False, False, False, False, False, False, False,\n",
       "       False, False, False, False, False, False, False, False, False,\n",
       "       False, False, False, False, False, False, False, False, False,\n",
       "       False, False, False, False, False, False, False, False, False,\n",
       "       False, False, False, False, False, False, False, False, False,\n",
       "       False, False, False, False, False, False, False, False, False,\n",
       "       False, False, False, False, False, False, False, False, False,\n",
       "       False, False, False, False, False, False, False, False, False,\n",
       "       False, False, False, False, False, False, False, False, False,\n",
       "       False, False, False, False, False, False, False, False, False,\n",
       "       False, False, False, False, False, False, False, False, False,\n",
       "       False,  True, False,  True,  True,  True,  True, False,  True,\n",
       "        True,  True,  True,  True,  True, False, False,  True,  True,\n",
       "        True,  True, False,  True, False,  True, False,  True,  True,\n",
       "       False, False,  True,  True,  True,  True,  True, False, False,\n",
       "        True,  True,  True, False,  True,  True,  True, False,  True,\n",
       "        True,  True, False,  True,  True, False])"
      ]
     },
     "execution_count": 31,
     "metadata": {},
     "output_type": "execute_result"
    }
   ],
   "source": [
    "iris.target==labels"
   ]
  },
  {
   "cell_type": "code",
   "execution_count": 39,
   "id": "70126a07",
   "metadata": {},
   "outputs": [
    {
     "data": {
      "image/png": "[encoded data removed]",
      "text/plain": [
       "<Figure size 432x288 with 1 Axes>"
      ]
     },
     "metadata": {
      "needs_background": "light"
     },
     "output_type": "display_data"
    }
   ],
   "source": [
    "# 그래프 그리기\n",
    "# petal length와 petal width의 모델군집간 차이\n",
    "x_index=2\n",
    "y_index=3\n",
    "data_x = data[:,x_index]\n",
    "data_y = data[:,y_index]\n",
    "x_label = iris.feature_names[x_index]\n",
    "y_label = iris.feature_names[y_index]\n",
    "\n",
    "plt.scatter(data_x[labels==0], data_y[labels==0], color='red', \n",
    "            alpha=0.2, s=30, marker='o', label=0)\n",
    "plt.scatter(data_x[labels==1], data_y[labels==1], color='blue', \n",
    "            alpha=0.2, s=30, marker='o', label=1)\n",
    "plt.scatter(data_x[labels==2], data_y[labels==2], color='green', \n",
    "            alpha=0.2, s=30, marker='o', label=2)\n",
    "\n",
    "plt.title('Agg_clustering_ward', fontsize='large')\n",
    "plt.xlabel(x_label)\n",
    "plt.ylabel(y_label)\n",
    "plt.legend()\n",
    "plt.show()"
   ]
  },
  {
   "cell_type": "code",
   "execution_count": 42,
   "id": "dd828b8a",
   "metadata": {},
   "outputs": [
    {
     "data": {
      "image/png": "[encoded data removed]",
      "text/plain": [
       "<Figure size 1800x720 with 1 Axes>"
      ]
     },
     "metadata": {
      "needs_background": "light"
     },
     "output_type": "display_data"
    }
   ],
   "source": [
    "# 덴드로그램\n",
    "from scipy.cluster.hierarchy import dendrogram, linkage\n",
    "\n",
    "z = linkage(data, 'ward')\n",
    "\n",
    "plt.figure(figsize=(25,10))\n",
    "plt.title('Hierarchical Clustering Dendrogram')\n",
    "plt.xlabel('iris')\n",
    "plt.ylabel('distance')\n",
    "\n",
    "dendrogram(z,\n",
    "          leaf_rotation=90, # rotation x axis\n",
    "          leaf_font_size=8)\n",
    "plt.show()"
   ]
  },
  {
   "cell_type": "code",
   "execution_count": null,
   "id": "808a4b9d",
   "metadata": {},
   "outputs": [],
   "source": []
  }
 ],
 "metadata": {
  "kernelspec": {
   "display_name": "Python 3 (ipykernel)",
   "language": "python",
   "name": "python3"
  },
  "language_info": {
   "codemirror_mode": {
    "name": "ipython",
    "version": 3
   },
   "file_extension": ".py",
   "mimetype": "text/x-python",
   "name": "python",
   "nbconvert_exporter": "python",
   "pygments_lexer": "ipython3",
   "version": "3.9.7"
  }
 },
 "nbformat": 4,
 "nbformat_minor": 5
}
