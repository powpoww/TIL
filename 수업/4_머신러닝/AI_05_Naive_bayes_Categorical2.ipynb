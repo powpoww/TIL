{
 "cells": [
  {
   "cell_type": "code",
   "execution_count": 1,
   "id": "06bec604",
   "metadata": {},
   "outputs": [
    {
     "name": "stdout",
     "output_type": "stream",
     "text": [
      "Populating the interactive namespace from numpy and matplotlib\n"
     ]
    }
   ],
   "source": [
    "import numpy as np\n",
    "import pandas as pd\n",
    "\n",
    "%pylab inline"
   ]
  },
  {
   "cell_type": "markdown",
   "id": "fcd102e2",
   "metadata": {},
   "source": [
    "## 1. Load data\n",
    "- IMDB 데이터 사용\n",
    "- column : type, review, label, file\n",
    "- 10만개 데이터 중 NaN 데이터 없음.\n",
    "- label의 경우 unsup, neg, pos가 각각 5만개, 2.5만, 2.5만개 있음"
   ]
  },
  {
   "cell_type": "code",
   "execution_count": 2,
   "id": "5fb1f38b",
   "metadata": {},
   "outputs": [
    {
     "data": {
      "text/html": [
       "<div>\n",
       "<style scoped>\n",
       "    .dataframe tbody tr th:only-of-type {\n",
       "        vertical-align: middle;\n",
       "    }\n",
       "\n",
       "    .dataframe tbody tr th {\n",
       "        vertical-align: top;\n",
       "    }\n",
       "\n",
       "    .dataframe thead th {\n",
       "        text-align: right;\n",
       "    }\n",
       "</style>\n",
       "<table border=\"1\" class=\"dataframe\">\n",
       "  <thead>\n",
       "    <tr style=\"text-align: right;\">\n",
       "      <th></th>\n",
       "      <th>Unnamed: 0</th>\n",
       "      <th>type</th>\n",
       "      <th>review</th>\n",
       "      <th>label</th>\n",
       "      <th>file</th>\n",
       "    </tr>\n",
       "  </thead>\n",
       "  <tbody>\n",
       "    <tr>\n",
       "      <th>0</th>\n",
       "      <td>0</td>\n",
       "      <td>test</td>\n",
       "      <td>Once again Mr. Costner has dragged out a movie...</td>\n",
       "      <td>neg</td>\n",
       "      <td>0_2.txt</td>\n",
       "    </tr>\n",
       "    <tr>\n",
       "      <th>1</th>\n",
       "      <td>1</td>\n",
       "      <td>test</td>\n",
       "      <td>This is an example of why the majority of acti...</td>\n",
       "      <td>neg</td>\n",
       "      <td>10000_4.txt</td>\n",
       "    </tr>\n",
       "    <tr>\n",
       "      <th>2</th>\n",
       "      <td>2</td>\n",
       "      <td>test</td>\n",
       "      <td>First of all I hate those moronic rappers, who...</td>\n",
       "      <td>neg</td>\n",
       "      <td>10001_1.txt</td>\n",
       "    </tr>\n",
       "    <tr>\n",
       "      <th>3</th>\n",
       "      <td>3</td>\n",
       "      <td>test</td>\n",
       "      <td>Not even the Beatles could write songs everyon...</td>\n",
       "      <td>neg</td>\n",
       "      <td>10002_3.txt</td>\n",
       "    </tr>\n",
       "    <tr>\n",
       "      <th>4</th>\n",
       "      <td>4</td>\n",
       "      <td>test</td>\n",
       "      <td>Brass pictures (movies is not a fitting word f...</td>\n",
       "      <td>neg</td>\n",
       "      <td>10003_3.txt</td>\n",
       "    </tr>\n",
       "  </tbody>\n",
       "</table>\n",
       "</div>"
      ],
      "text/plain": [
       "   Unnamed: 0  type                                             review label  \\\n",
       "0           0  test  Once again Mr. Costner has dragged out a movie...   neg   \n",
       "1           1  test  This is an example of why the majority of acti...   neg   \n",
       "2           2  test  First of all I hate those moronic rappers, who...   neg   \n",
       "3           3  test  Not even the Beatles could write songs everyon...   neg   \n",
       "4           4  test  Brass pictures (movies is not a fitting word f...   neg   \n",
       "\n",
       "          file  \n",
       "0      0_2.txt  \n",
       "1  10000_4.txt  \n",
       "2  10001_1.txt  \n",
       "3  10002_3.txt  \n",
       "4  10003_3.txt  "
      ]
     },
     "execution_count": 2,
     "metadata": {},
     "output_type": "execute_result"
    }
   ],
   "source": [
    "import chardet\n",
    "\n",
    "# open data\n",
    "with open('./data/imdb_master.csv', 'rb') as f:\n",
    "    result= chardet.detect(f.read())\n",
    "    \n",
    "train = pd.read_csv('./data/imdb_master.csv', encoding=result['encoding'])\n",
    "train.head()"
   ]
  },
  {
   "cell_type": "code",
   "execution_count": 30,
   "id": "af067e4a",
   "metadata": {},
   "outputs": [
    {
     "name": "stdout",
     "output_type": "stream",
     "text": [
      "<class 'pandas.core.frame.DataFrame'>\n",
      "RangeIndex: 100000 entries, 0 to 99999\n",
      "Data columns (total 5 columns):\n",
      " #   Column      Non-Null Count   Dtype \n",
      "---  ------      --------------   ----- \n",
      " 0   Unnamed: 0  100000 non-null  int64 \n",
      " 1   type        100000 non-null  object\n",
      " 2   review      100000 non-null  object\n",
      " 3   label       100000 non-null  object\n",
      " 4   file        100000 non-null  object\n",
      "dtypes: int64(1), object(4)\n",
      "memory usage: 3.8+ MB\n"
     ]
    }
   ],
   "source": [
    "# check dtype, NaN\n",
    "train.info()"
   ]
  },
  {
   "cell_type": "code",
   "execution_count": 64,
   "id": "c587f913",
   "metadata": {},
   "outputs": [
    {
     "data": {
      "text/plain": [
       "unsup    50000\n",
       "neg      25000\n",
       "pos      25000\n",
       "Name: label, dtype: int64"
      ]
     },
     "execution_count": 64,
     "metadata": {},
     "output_type": "execute_result"
    }
   ],
   "source": [
    "# check label value counts\n",
    "train.label.value_counts()"
   ]
  },
  {
   "cell_type": "code",
   "execution_count": 39,
   "id": "999fefdc",
   "metadata": {},
   "outputs": [
    {
     "data": {
      "text/html": [
       "<div>\n",
       "<style scoped>\n",
       "    .dataframe tbody tr th:only-of-type {\n",
       "        vertical-align: middle;\n",
       "    }\n",
       "\n",
       "    .dataframe tbody tr th {\n",
       "        vertical-align: top;\n",
       "    }\n",
       "\n",
       "    .dataframe thead th {\n",
       "        text-align: right;\n",
       "    }\n",
       "</style>\n",
       "<table border=\"1\" class=\"dataframe\">\n",
       "  <thead>\n",
       "    <tr style=\"text-align: right;\">\n",
       "      <th></th>\n",
       "      <th>review</th>\n",
       "      <th>label</th>\n",
       "    </tr>\n",
       "  </thead>\n",
       "  <tbody>\n",
       "    <tr>\n",
       "      <th>0</th>\n",
       "      <td>Once again Mr. Costner has dragged out a movie...</td>\n",
       "      <td>neg</td>\n",
       "    </tr>\n",
       "    <tr>\n",
       "      <th>1</th>\n",
       "      <td>This is an example of why the majority of acti...</td>\n",
       "      <td>neg</td>\n",
       "    </tr>\n",
       "    <tr>\n",
       "      <th>2</th>\n",
       "      <td>First of all I hate those moronic rappers, who...</td>\n",
       "      <td>neg</td>\n",
       "    </tr>\n",
       "    <tr>\n",
       "      <th>3</th>\n",
       "      <td>Not even the Beatles could write songs everyon...</td>\n",
       "      <td>neg</td>\n",
       "    </tr>\n",
       "    <tr>\n",
       "      <th>4</th>\n",
       "      <td>Brass pictures (movies is not a fitting word f...</td>\n",
       "      <td>neg</td>\n",
       "    </tr>\n",
       "  </tbody>\n",
       "</table>\n",
       "</div>"
      ],
      "text/plain": [
       "                                              review label\n",
       "0  Once again Mr. Costner has dragged out a movie...   neg\n",
       "1  This is an example of why the majority of acti...   neg\n",
       "2  First of all I hate those moronic rappers, who...   neg\n",
       "3  Not even the Beatles could write songs everyon...   neg\n",
       "4  Brass pictures (movies is not a fitting word f...   neg"
      ]
     },
     "execution_count": 39,
     "metadata": {},
     "output_type": "execute_result"
    }
   ],
   "source": [
    "# change columns name\n",
    "train_ = train.drop(columns= train.columns[[0,1,4]], axis=0)\n",
    "train_.head()"
   ]
  },
  {
   "cell_type": "code",
   "execution_count": 40,
   "id": "74a43c5f",
   "metadata": {},
   "outputs": [
    {
     "data": {
      "text/html": [
       "<div>\n",
       "<style scoped>\n",
       "    .dataframe tbody tr th:only-of-type {\n",
       "        vertical-align: middle;\n",
       "    }\n",
       "\n",
       "    .dataframe tbody tr th {\n",
       "        vertical-align: top;\n",
       "    }\n",
       "\n",
       "    .dataframe thead th {\n",
       "        text-align: right;\n",
       "    }\n",
       "</style>\n",
       "<table border=\"1\" class=\"dataframe\">\n",
       "  <thead>\n",
       "    <tr style=\"text-align: right;\">\n",
       "      <th></th>\n",
       "      <th>user_review</th>\n",
       "      <th>positive</th>\n",
       "    </tr>\n",
       "  </thead>\n",
       "  <tbody>\n",
       "    <tr>\n",
       "      <th>0</th>\n",
       "      <td>Once again Mr. Costner has dragged out a movie...</td>\n",
       "      <td>0</td>\n",
       "    </tr>\n",
       "    <tr>\n",
       "      <th>1</th>\n",
       "      <td>This is an example of why the majority of acti...</td>\n",
       "      <td>0</td>\n",
       "    </tr>\n",
       "    <tr>\n",
       "      <th>2</th>\n",
       "      <td>First of all I hate those moronic rappers, who...</td>\n",
       "      <td>0</td>\n",
       "    </tr>\n",
       "    <tr>\n",
       "      <th>3</th>\n",
       "      <td>Not even the Beatles could write songs everyon...</td>\n",
       "      <td>0</td>\n",
       "    </tr>\n",
       "    <tr>\n",
       "      <th>4</th>\n",
       "      <td>Brass pictures (movies is not a fitting word f...</td>\n",
       "      <td>0</td>\n",
       "    </tr>\n",
       "  </tbody>\n",
       "</table>\n",
       "</div>"
      ],
      "text/plain": [
       "                                         user_review  positive\n",
       "0  Once again Mr. Costner has dragged out a movie...         0\n",
       "1  This is an example of why the majority of acti...         0\n",
       "2  First of all I hate those moronic rappers, who...         0\n",
       "3  Not even the Beatles could write songs everyon...         0\n",
       "4  Brass pictures (movies is not a fitting word f...         0"
      ]
     },
     "execution_count": 40,
     "metadata": {},
     "output_type": "execute_result"
    }
   ],
   "source": [
    "# labeling : neg=negative(0) else=positive(1)\n",
    "train_.label = [(l!='neg')*1 for l in train_.label]\n",
    "train_.columns = ['user_review', 'positive']\n",
    "train_.head()"
   ]
  },
  {
   "cell_type": "code",
   "execution_count": 82,
   "id": "58c35257",
   "metadata": {},
   "outputs": [
    {
     "name": "stdout",
     "output_type": "stream",
     "text": [
      "data shape\n",
      "train : (70000, 2)\n",
      "1    45000\n",
      "0    25000\n",
      "Name: positive, dtype: int64\n",
      "test : (70000, 2)\n",
      "1    62500\n",
      "0     7500\n",
      "Name: positive, dtype: int64\n"
     ]
    }
   ],
   "source": [
    "# split data set : train, test\n",
    "split = int(0.7*len(train_))\n",
    "d_train = train_[:split]\n",
    "d_test = train_[-split:]\n",
    "\n",
    "print('data shape')\n",
    "print('train :', d_train.shape)\n",
    "print(d_train.positive.value_counts())\n",
    "print('test :', d_test.shape)\n",
    "print(d_test.positive.value_counts())"
   ]
  },
  {
   "cell_type": "markdown",
   "id": "7c78227e",
   "metadata": {},
   "source": [
    "## 2. Preprocessing Data"
   ]
  },
  {
   "cell_type": "code",
   "execution_count": 83,
   "id": "edf66376",
   "metadata": {},
   "outputs": [
    {
     "data": {
      "text/plain": [
       "<70000x121229 sparse matrix of type '<class 'numpy.int64'>'\n",
       "\twith 9598445 stored elements in Compressed Sparse Row format>"
      ]
     },
     "execution_count": 83,
     "metadata": {},
     "output_type": "execute_result"
    }
   ],
   "source": [
    "from sklearn.feature_extraction.text import CountVectorizer\n",
    "\n",
    "# Vectorize text : \n",
    "vectorize = CountVectorizer()\n",
    "features = vectorize.fit_transform(d_train.user_review)\n",
    "features"
   ]
  },
  {
   "cell_type": "code",
   "execution_count": 96,
   "id": "1610dc99",
   "metadata": {},
   "outputs": [
    {
     "name": "stdout",
     "output_type": "stream",
     "text": [
      "number of features: 121229\n",
      "feature name:\n",
      "['00', '000', '0000', '00000000000', '0000000000001', '000000003', '00000001', '00001', '0001', '00015']\n"
     ]
    }
   ],
   "source": [
    "print('number of features:', len(vectorize.get_feature_names()))\n",
    "print('feature name:')\n",
    "print(vectorize.get_feature_names()[:10])"
   ]
  },
  {
   "cell_type": "code",
   "execution_count": 86,
   "id": "2b3f5cd2",
   "metadata": {},
   "outputs": [
    {
     "data": {
      "text/html": [
       "<div>\n",
       "<style scoped>\n",
       "    .dataframe tbody tr th:only-of-type {\n",
       "        vertical-align: middle;\n",
       "    }\n",
       "\n",
       "    .dataframe tbody tr th {\n",
       "        vertical-align: top;\n",
       "    }\n",
       "\n",
       "    .dataframe thead th {\n",
       "        text-align: right;\n",
       "    }\n",
       "</style>\n",
       "<table border=\"1\" class=\"dataframe\">\n",
       "  <thead>\n",
       "    <tr style=\"text-align: right;\">\n",
       "      <th></th>\n",
       "      <th>dimanche</th>\n",
       "      <th>dimartino</th>\n",
       "      <th>dimas</th>\n",
       "      <th>dimbleby</th>\n",
       "      <th>dimbulb</th>\n",
       "      <th>dime</th>\n",
       "      <th>dimeco</th>\n",
       "      <th>dimension</th>\n",
       "      <th>dimensional</th>\n",
       "      <th>dimensionality</th>\n",
       "      <th>...</th>\n",
       "      <th>diminution</th>\n",
       "      <th>diminutive</th>\n",
       "      <th>dimitri</th>\n",
       "      <th>dimitriades</th>\n",
       "      <th>dimitrij</th>\n",
       "      <th>dimitrios</th>\n",
       "      <th>dimitrius</th>\n",
       "      <th>dimitrova</th>\n",
       "      <th>dimitru</th>\n",
       "      <th>dimitry</th>\n",
       "    </tr>\n",
       "  </thead>\n",
       "  <tbody>\n",
       "    <tr>\n",
       "      <th>0</th>\n",
       "      <td>0</td>\n",
       "      <td>0</td>\n",
       "      <td>0</td>\n",
       "      <td>0</td>\n",
       "      <td>0</td>\n",
       "      <td>0</td>\n",
       "      <td>0</td>\n",
       "      <td>0</td>\n",
       "      <td>0</td>\n",
       "      <td>0</td>\n",
       "      <td>...</td>\n",
       "      <td>0</td>\n",
       "      <td>0</td>\n",
       "      <td>0</td>\n",
       "      <td>0</td>\n",
       "      <td>0</td>\n",
       "      <td>0</td>\n",
       "      <td>0</td>\n",
       "      <td>0</td>\n",
       "      <td>0</td>\n",
       "      <td>0</td>\n",
       "    </tr>\n",
       "    <tr>\n",
       "      <th>1</th>\n",
       "      <td>0</td>\n",
       "      <td>0</td>\n",
       "      <td>0</td>\n",
       "      <td>0</td>\n",
       "      <td>0</td>\n",
       "      <td>0</td>\n",
       "      <td>0</td>\n",
       "      <td>0</td>\n",
       "      <td>0</td>\n",
       "      <td>0</td>\n",
       "      <td>...</td>\n",
       "      <td>0</td>\n",
       "      <td>0</td>\n",
       "      <td>0</td>\n",
       "      <td>0</td>\n",
       "      <td>0</td>\n",
       "      <td>0</td>\n",
       "      <td>0</td>\n",
       "      <td>0</td>\n",
       "      <td>0</td>\n",
       "      <td>0</td>\n",
       "    </tr>\n",
       "    <tr>\n",
       "      <th>2</th>\n",
       "      <td>0</td>\n",
       "      <td>0</td>\n",
       "      <td>0</td>\n",
       "      <td>0</td>\n",
       "      <td>0</td>\n",
       "      <td>0</td>\n",
       "      <td>0</td>\n",
       "      <td>0</td>\n",
       "      <td>0</td>\n",
       "      <td>0</td>\n",
       "      <td>...</td>\n",
       "      <td>0</td>\n",
       "      <td>0</td>\n",
       "      <td>0</td>\n",
       "      <td>0</td>\n",
       "      <td>0</td>\n",
       "      <td>0</td>\n",
       "      <td>0</td>\n",
       "      <td>0</td>\n",
       "      <td>0</td>\n",
       "      <td>0</td>\n",
       "    </tr>\n",
       "    <tr>\n",
       "      <th>3</th>\n",
       "      <td>0</td>\n",
       "      <td>0</td>\n",
       "      <td>0</td>\n",
       "      <td>0</td>\n",
       "      <td>0</td>\n",
       "      <td>0</td>\n",
       "      <td>0</td>\n",
       "      <td>0</td>\n",
       "      <td>0</td>\n",
       "      <td>0</td>\n",
       "      <td>...</td>\n",
       "      <td>0</td>\n",
       "      <td>0</td>\n",
       "      <td>0</td>\n",
       "      <td>0</td>\n",
       "      <td>0</td>\n",
       "      <td>0</td>\n",
       "      <td>0</td>\n",
       "      <td>0</td>\n",
       "      <td>0</td>\n",
       "      <td>0</td>\n",
       "    </tr>\n",
       "    <tr>\n",
       "      <th>4</th>\n",
       "      <td>0</td>\n",
       "      <td>0</td>\n",
       "      <td>0</td>\n",
       "      <td>0</td>\n",
       "      <td>0</td>\n",
       "      <td>0</td>\n",
       "      <td>0</td>\n",
       "      <td>0</td>\n",
       "      <td>0</td>\n",
       "      <td>0</td>\n",
       "      <td>...</td>\n",
       "      <td>0</td>\n",
       "      <td>0</td>\n",
       "      <td>0</td>\n",
       "      <td>0</td>\n",
       "      <td>0</td>\n",
       "      <td>0</td>\n",
       "      <td>0</td>\n",
       "      <td>0</td>\n",
       "      <td>0</td>\n",
       "      <td>0</td>\n",
       "    </tr>\n",
       "    <tr>\n",
       "      <th>5</th>\n",
       "      <td>0</td>\n",
       "      <td>0</td>\n",
       "      <td>0</td>\n",
       "      <td>0</td>\n",
       "      <td>0</td>\n",
       "      <td>0</td>\n",
       "      <td>0</td>\n",
       "      <td>0</td>\n",
       "      <td>0</td>\n",
       "      <td>0</td>\n",
       "      <td>...</td>\n",
       "      <td>0</td>\n",
       "      <td>0</td>\n",
       "      <td>0</td>\n",
       "      <td>0</td>\n",
       "      <td>0</td>\n",
       "      <td>0</td>\n",
       "      <td>0</td>\n",
       "      <td>0</td>\n",
       "      <td>0</td>\n",
       "      <td>0</td>\n",
       "    </tr>\n",
       "    <tr>\n",
       "      <th>6</th>\n",
       "      <td>0</td>\n",
       "      <td>0</td>\n",
       "      <td>0</td>\n",
       "      <td>0</td>\n",
       "      <td>0</td>\n",
       "      <td>0</td>\n",
       "      <td>0</td>\n",
       "      <td>0</td>\n",
       "      <td>0</td>\n",
       "      <td>0</td>\n",
       "      <td>...</td>\n",
       "      <td>0</td>\n",
       "      <td>0</td>\n",
       "      <td>0</td>\n",
       "      <td>0</td>\n",
       "      <td>0</td>\n",
       "      <td>0</td>\n",
       "      <td>0</td>\n",
       "      <td>0</td>\n",
       "      <td>0</td>\n",
       "      <td>0</td>\n",
       "    </tr>\n",
       "    <tr>\n",
       "      <th>7</th>\n",
       "      <td>0</td>\n",
       "      <td>0</td>\n",
       "      <td>0</td>\n",
       "      <td>0</td>\n",
       "      <td>0</td>\n",
       "      <td>0</td>\n",
       "      <td>0</td>\n",
       "      <td>0</td>\n",
       "      <td>0</td>\n",
       "      <td>0</td>\n",
       "      <td>...</td>\n",
       "      <td>0</td>\n",
       "      <td>0</td>\n",
       "      <td>0</td>\n",
       "      <td>0</td>\n",
       "      <td>0</td>\n",
       "      <td>0</td>\n",
       "      <td>0</td>\n",
       "      <td>0</td>\n",
       "      <td>0</td>\n",
       "      <td>0</td>\n",
       "    </tr>\n",
       "    <tr>\n",
       "      <th>8</th>\n",
       "      <td>0</td>\n",
       "      <td>0</td>\n",
       "      <td>0</td>\n",
       "      <td>0</td>\n",
       "      <td>0</td>\n",
       "      <td>0</td>\n",
       "      <td>0</td>\n",
       "      <td>0</td>\n",
       "      <td>0</td>\n",
       "      <td>0</td>\n",
       "      <td>...</td>\n",
       "      <td>0</td>\n",
       "      <td>0</td>\n",
       "      <td>0</td>\n",
       "      <td>0</td>\n",
       "      <td>0</td>\n",
       "      <td>0</td>\n",
       "      <td>0</td>\n",
       "      <td>0</td>\n",
       "      <td>0</td>\n",
       "      <td>0</td>\n",
       "    </tr>\n",
       "    <tr>\n",
       "      <th>9</th>\n",
       "      <td>0</td>\n",
       "      <td>0</td>\n",
       "      <td>0</td>\n",
       "      <td>0</td>\n",
       "      <td>0</td>\n",
       "      <td>0</td>\n",
       "      <td>0</td>\n",
       "      <td>0</td>\n",
       "      <td>0</td>\n",
       "      <td>0</td>\n",
       "      <td>...</td>\n",
       "      <td>0</td>\n",
       "      <td>1</td>\n",
       "      <td>0</td>\n",
       "      <td>0</td>\n",
       "      <td>0</td>\n",
       "      <td>0</td>\n",
       "      <td>0</td>\n",
       "      <td>0</td>\n",
       "      <td>0</td>\n",
       "      <td>0</td>\n",
       "    </tr>\n",
       "  </tbody>\n",
       "</table>\n",
       "<p>10 rows × 30 columns</p>\n",
       "</div>"
      ],
      "text/plain": [
       "   dimanche  dimartino  dimas  dimbleby  dimbulb  dime  dimeco  dimension  \\\n",
       "0         0          0      0         0        0     0       0          0   \n",
       "1         0          0      0         0        0     0       0          0   \n",
       "2         0          0      0         0        0     0       0          0   \n",
       "3         0          0      0         0        0     0       0          0   \n",
       "4         0          0      0         0        0     0       0          0   \n",
       "5         0          0      0         0        0     0       0          0   \n",
       "6         0          0      0         0        0     0       0          0   \n",
       "7         0          0      0         0        0     0       0          0   \n",
       "8         0          0      0         0        0     0       0          0   \n",
       "9         0          0      0         0        0     0       0          0   \n",
       "\n",
       "   dimensional  dimensionality  ...  diminution  diminutive  dimitri  \\\n",
       "0            0               0  ...           0           0        0   \n",
       "1            0               0  ...           0           0        0   \n",
       "2            0               0  ...           0           0        0   \n",
       "3            0               0  ...           0           0        0   \n",
       "4            0               0  ...           0           0        0   \n",
       "5            0               0  ...           0           0        0   \n",
       "6            0               0  ...           0           0        0   \n",
       "7            0               0  ...           0           0        0   \n",
       "8            0               0  ...           0           0        0   \n",
       "9            0               0  ...           0           1        0   \n",
       "\n",
       "   dimitriades  dimitrij  dimitrios  dimitrius  dimitrova  dimitru  dimitry  \n",
       "0            0         0          0          0          0        0        0  \n",
       "1            0         0          0          0          0        0        0  \n",
       "2            0         0          0          0          0        0        0  \n",
       "3            0         0          0          0          0        0        0  \n",
       "4            0         0          0          0          0        0        0  \n",
       "5            0         0          0          0          0        0        0  \n",
       "6            0         0          0          0          0        0        0  \n",
       "7            0         0          0          0          0        0        0  \n",
       "8            0         0          0          0          0        0        0  \n",
       "9            0         0          0          0          0        0        0  \n",
       "\n",
       "[10 rows x 30 columns]"
      ]
     },
     "execution_count": 86,
     "metadata": {},
     "output_type": "execute_result"
    }
   ],
   "source": [
    "# 3만건에서 10개 데이터와 100번째에서 130번째 feature까지 확인\n",
    "i = 30000\n",
    "j = 100\n",
    "words = vectorize.get_feature_names()[i:i+30]\n",
    "pd.DataFrame(features[j:j+10,i:i+30].todense(), columns=words)"
   ]
  },
  {
   "cell_type": "markdown",
   "id": "476578d4",
   "metadata": {},
   "source": [
    "## 3. Modeling"
   ]
  },
  {
   "cell_type": "code",
   "execution_count": 87,
   "id": "c459de47",
   "metadata": {},
   "outputs": [
    {
     "data": {
      "text/plain": [
       "MultinomialNB()"
      ]
     },
     "execution_count": 87,
     "metadata": {},
     "output_type": "execute_result"
    }
   ],
   "source": [
    "from sklearn.naive_bayes import MultinomialNB\n",
    "\n",
    "# Build and Train Model : Multinominal Naive Bayes\n",
    "model1 = MultinomialNB()\n",
    "model1.fit(features, d_train.positive) "
   ]
  },
  {
   "cell_type": "code",
   "execution_count": 97,
   "id": "139ba4ed",
   "metadata": {},
   "outputs": [
    {
     "name": "stdout",
     "output_type": "stream",
     "text": [
      "predict prob : test data\n",
      "[[1.   0.  ]\n",
      " [1.   0.  ]\n",
      " [1.   0.  ]\n",
      " ...\n",
      " [1.   0.  ]\n",
      " [0.71 0.29]\n",
      " [0.   1.  ]]\n"
     ]
    }
   ],
   "source": [
    "# predict data\n",
    "pred_train = model1.predict_proba(features)\n",
    "pred_test = model1.predict_proba(vectorize.transform(d_test.user_review))\n",
    "\n",
    "print('predict prob : test data')\n",
    "print(np.round(pred_test,2))"
   ]
  },
  {
   "cell_type": "code",
   "execution_count": 113,
   "id": "437c38ba",
   "metadata": {},
   "outputs": [],
   "source": [
    "from sklearn.metrics import accuracy_score, roc_auc_score, classification_report, roc_curve\n",
    "\n",
    "# Estimation\n",
    "\n",
    "def performance(y_true, pred, color='blue', ann=True):\n",
    "    acc = accuracy_score(y_true, pred[:,1]>0.5)\n",
    "    auc = roc_auc_score(y_true, pred[:,1])\n",
    "    fpr, tpr, thr = roc_curve(y_true, pred[:,1])\n",
    "    plot(fpr, tpr, color, linewidth='3')\n",
    "    xlabel('False Positive Rate')\n",
    "    ylabel('True Positive Rate')\n",
    "    \n",
    "    if ann:\n",
    "        annotate('ACC: %.2f' %acc, (0.1,0.7), size=14)\n",
    "        annotate('AUC: %.2f' %auc, (0.1,0.6), size=14)"
   ]
  },
  {
   "cell_type": "code",
   "execution_count": 119,
   "id": "a5016af6",
   "metadata": {
    "scrolled": true
   },
   "outputs": [
    {
     "name": "stdout",
     "output_type": "stream",
     "text": [
      "ROC curve : train data\n"
     ]
    },
    {
     "data": {
      "image/png": "[encoded data removed]",
      "text/plain": [
       "<Figure size 432x288 with 1 Axes>"
      ]
     },
     "metadata": {
      "needs_background": "light"
     },
     "output_type": "display_data"
    }
   ],
   "source": [
    "# train data\n",
    "print('ROC curve : train data')\n",
    "performance(d_train.positive.values, pred_train)"
   ]
  },
  {
   "cell_type": "code",
   "execution_count": 118,
   "id": "c9641f27",
   "metadata": {
    "scrolled": true
   },
   "outputs": [
    {
     "name": "stdout",
     "output_type": "stream",
     "text": [
      "ROC curve : test data\n"
     ]
    },
    {
     "data": {
      "image/png": "[encoded data removed]",
      "text/plain": [
       "<Figure size 432x288 with 1 Axes>"
      ]
     },
     "metadata": {
      "needs_background": "light"
     },
     "output_type": "display_data"
    }
   ],
   "source": [
    "# test data\n",
    "print('ROC curve : test data')\n",
    "performance(d_test.positive.values, pred_test)"
   ]
  },
  {
   "cell_type": "code",
   "execution_count": null,
   "id": "128c3d21",
   "metadata": {},
   "outputs": [],
   "source": []
  }
 ],
 "metadata": {
  "kernelspec": {
   "display_name": "Python 3 (ipykernel)",
   "language": "python",
   "name": "python3"
  },
  "language_info": {
   "codemirror_mode": {
    "name": "ipython",
    "version": 3
   },
   "file_extension": ".py",
   "mimetype": "text/x-python",
   "name": "python",
   "nbconvert_exporter": "python",
   "pygments_lexer": "ipython3",
   "version": "3.9.7"
  }
 },
 "nbformat": 4,
 "nbformat_minor": 5
}
