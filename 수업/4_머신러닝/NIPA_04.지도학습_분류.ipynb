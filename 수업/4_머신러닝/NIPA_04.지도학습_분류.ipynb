{
 "cells": [
  {
   "cell_type": "code",
   "execution_count": 1,
   "id": "87f15a1b",
   "metadata": {},
   "outputs": [],
   "source": [
    "import pandas as pd\n",
    "import numpy as np"
   ]
  },
  {
   "cell_type": "markdown",
   "id": "7d11ab0b",
   "metadata": {},
   "source": [
    "# 1. 의사결정나무(Decision Tree)"
   ]
  },
  {
   "cell_type": "markdown",
   "id": "a1555bd1",
   "metadata": {},
   "source": [
    "- 풍속을 threshold 값에 따라 분리되는 의사결정나무 함수 생성"
   ]
  },
  {
   "cell_type": "code",
   "execution_count": 28,
   "id": "a4b136f7",
   "metadata": {},
   "outputs": [],
   "source": [
    "def binary_tree(data, threshold):\n",
    "    #초기화\n",
    "    yes, no = [], []\n",
    "    \n",
    "    # data로부터 값마다 비교하기 위한 반복문\n",
    "    for wind in data['풍속']:\n",
    "\n",
    "        # threshold 값과 비교하기 위해 분리\n",
    "        if wind > threshold:\n",
    "            yes.append(wind)\n",
    "        else:\n",
    "            no.append(wind)\n",
    "\n",
    "        # 예측 결과를 데이터 프레임 형태로 저장\n",
    "        data_yes = pd.DataFrame({'풍속': yes, '예상지연여부': ['Yes']*len(yes)})\n",
    "        data_no = pd.DataFrame({'풍속': no, '예상지연여부': ['No']*len(no)})\n",
    "        \n",
    "    return data_no.append(data_yes, ignore_index=True)"
   ]
  },
  {
   "cell_type": "code",
   "execution_count": 29,
   "id": "fd173d36",
   "metadata": {},
   "outputs": [
    {
     "data": {
      "text/html": [
       "<div>\n",
       "<style scoped>\n",
       "    .dataframe tbody tr th:only-of-type {\n",
       "        vertical-align: middle;\n",
       "    }\n",
       "\n",
       "    .dataframe tbody tr th {\n",
       "        vertical-align: top;\n",
       "    }\n",
       "\n",
       "    .dataframe thead th {\n",
       "        text-align: right;\n",
       "    }\n",
       "</style>\n",
       "<table border=\"1\" class=\"dataframe\">\n",
       "  <thead>\n",
       "    <tr style=\"text-align: right;\">\n",
       "      <th></th>\n",
       "      <th>풍속</th>\n",
       "      <th>예상지연여부</th>\n",
       "    </tr>\n",
       "  </thead>\n",
       "  <tbody>\n",
       "    <tr>\n",
       "      <th>0</th>\n",
       "      <td>1.0</td>\n",
       "      <td>No</td>\n",
       "    </tr>\n",
       "    <tr>\n",
       "      <th>1</th>\n",
       "      <td>1.5</td>\n",
       "      <td>No</td>\n",
       "    </tr>\n",
       "    <tr>\n",
       "      <th>2</th>\n",
       "      <td>2.5</td>\n",
       "      <td>No</td>\n",
       "    </tr>\n",
       "    <tr>\n",
       "      <th>3</th>\n",
       "      <td>5.0</td>\n",
       "      <td>Yes</td>\n",
       "    </tr>\n",
       "    <tr>\n",
       "      <th>4</th>\n",
       "      <td>5.5</td>\n",
       "      <td>Yes</td>\n",
       "    </tr>\n",
       "    <tr>\n",
       "      <th>5</th>\n",
       "      <td>6.5</td>\n",
       "      <td>Yes</td>\n",
       "    </tr>\n",
       "  </tbody>\n",
       "</table>\n",
       "</div>"
      ],
      "text/plain": [
       "    풍속 예상지연여부\n",
       "0  1.0     No\n",
       "1  1.5     No\n",
       "2  2.5     No\n",
       "3  5.0    Yes\n",
       "4  5.5    Yes\n",
       "5  6.5    Yes"
      ]
     },
     "execution_count": 29,
     "metadata": {},
     "output_type": "execute_result"
    }
   ],
   "source": [
    "# 풍속에 따른 항공지연 데이터\n",
    "Wind = [1, 1.5, 2.5, 5, 5.5, 6.5]\n",
    "Delay  = ['No', 'No', 'No', 'Yes', 'Yes', 'Yes']\n",
    "\n",
    "data = pd.DataFrame({'풍속': Wind, '예상지연여부': Delay})\n",
    "data"
   ]
  },
  {
   "cell_type": "code",
   "execution_count": 30,
   "id": "3a5b9aa1",
   "metadata": {},
   "outputs": [
    {
     "data": {
      "text/html": [
       "<div>\n",
       "<style scoped>\n",
       "    .dataframe tbody tr th:only-of-type {\n",
       "        vertical-align: middle;\n",
       "    }\n",
       "\n",
       "    .dataframe tbody tr th {\n",
       "        vertical-align: top;\n",
       "    }\n",
       "\n",
       "    .dataframe thead th {\n",
       "        text-align: right;\n",
       "    }\n",
       "</style>\n",
       "<table border=\"1\" class=\"dataframe\">\n",
       "  <thead>\n",
       "    <tr style=\"text-align: right;\">\n",
       "      <th></th>\n",
       "      <th>풍속</th>\n",
       "      <th>예상지연여부</th>\n",
       "    </tr>\n",
       "  </thead>\n",
       "  <tbody>\n",
       "    <tr>\n",
       "      <th>0</th>\n",
       "      <td>1.0</td>\n",
       "      <td>No</td>\n",
       "    </tr>\n",
       "    <tr>\n",
       "      <th>1</th>\n",
       "      <td>1.5</td>\n",
       "      <td>No</td>\n",
       "    </tr>\n",
       "    <tr>\n",
       "      <th>2</th>\n",
       "      <td>2.5</td>\n",
       "      <td>No</td>\n",
       "    </tr>\n",
       "    <tr>\n",
       "      <th>3</th>\n",
       "      <td>5.0</td>\n",
       "      <td>Yes</td>\n",
       "    </tr>\n",
       "    <tr>\n",
       "      <th>4</th>\n",
       "      <td>5.5</td>\n",
       "      <td>Yes</td>\n",
       "    </tr>\n",
       "    <tr>\n",
       "      <th>5</th>\n",
       "      <td>6.5</td>\n",
       "      <td>Yes</td>\n",
       "    </tr>\n",
       "  </tbody>\n",
       "</table>\n",
       "</div>"
      ],
      "text/plain": [
       "    풍속 예상지연여부\n",
       "0  1.0     No\n",
       "1  1.5     No\n",
       "2  2.5     No\n",
       "3  5.0    Yes\n",
       "4  5.5    Yes\n",
       "5  6.5    Yes"
      ]
     },
     "execution_count": 30,
     "metadata": {},
     "output_type": "execute_result"
    }
   ],
   "source": [
    "\"\"\"\n",
    "1. binary_tree 모델을 사용하여 항공 지연 여부를 예측합니다.\n",
    "   data의 지연 여부와 예상 지연 여부가 같은 값이 나오도록 의사결정나무의 \n",
    "   결과물을 data_pred에 저장하세요.\n",
    "\"\"\"\n",
    "a = binary_tree(data, 3)\n",
    "a"
   ]
  },
  {
   "cell_type": "markdown",
   "id": "009b0069",
   "metadata": {},
   "source": [
    "## 1.1 Scikit-learn -  iris data"
   ]
  },
  {
   "cell_type": "code",
   "execution_count": 49,
   "id": "96131796",
   "metadata": {},
   "outputs": [],
   "source": [
    "from sklearn.datasets import load_iris\n",
    "from sklearn import tree\n",
    "from sklearn.tree import DecisionTreeClassifier\n",
    "from sklearn.model_selection import train_test_split\n",
    "from sklearn.metrics import accuracy_score\n",
    "\n",
    "import matplotlib.pyplot as plt"
   ]
  },
  {
   "cell_type": "markdown",
   "id": "8081a7d2",
   "metadata": {},
   "source": [
    "### 1.1.1 데이터 준비"
   ]
  },
  {
   "cell_type": "code",
   "execution_count": 41,
   "id": "89469789",
   "metadata": {},
   "outputs": [
    {
     "data": {
      "text/html": [
       "<div>\n",
       "<style scoped>\n",
       "    .dataframe tbody tr th:only-of-type {\n",
       "        vertical-align: middle;\n",
       "    }\n",
       "\n",
       "    .dataframe tbody tr th {\n",
       "        vertical-align: top;\n",
       "    }\n",
       "\n",
       "    .dataframe thead th {\n",
       "        text-align: right;\n",
       "    }\n",
       "</style>\n",
       "<table border=\"1\" class=\"dataframe\">\n",
       "  <thead>\n",
       "    <tr style=\"text-align: right;\">\n",
       "      <th></th>\n",
       "      <th>꽃받침길이</th>\n",
       "      <th>꽃받침넓이</th>\n",
       "      <th>꽃잎길이</th>\n",
       "      <th>꽃잎넓이</th>\n",
       "      <th>Target</th>\n",
       "    </tr>\n",
       "  </thead>\n",
       "  <tbody>\n",
       "    <tr>\n",
       "      <th>0</th>\n",
       "      <td>5.1</td>\n",
       "      <td>3.5</td>\n",
       "      <td>1.4</td>\n",
       "      <td>0.2</td>\n",
       "      <td>0</td>\n",
       "    </tr>\n",
       "    <tr>\n",
       "      <th>1</th>\n",
       "      <td>4.9</td>\n",
       "      <td>3.0</td>\n",
       "      <td>1.4</td>\n",
       "      <td>0.2</td>\n",
       "      <td>0</td>\n",
       "    </tr>\n",
       "    <tr>\n",
       "      <th>2</th>\n",
       "      <td>4.7</td>\n",
       "      <td>3.2</td>\n",
       "      <td>1.3</td>\n",
       "      <td>0.2</td>\n",
       "      <td>0</td>\n",
       "    </tr>\n",
       "    <tr>\n",
       "      <th>3</th>\n",
       "      <td>4.6</td>\n",
       "      <td>3.1</td>\n",
       "      <td>1.5</td>\n",
       "      <td>0.2</td>\n",
       "      <td>0</td>\n",
       "    </tr>\n",
       "    <tr>\n",
       "      <th>4</th>\n",
       "      <td>5.0</td>\n",
       "      <td>3.6</td>\n",
       "      <td>1.4</td>\n",
       "      <td>0.2</td>\n",
       "      <td>0</td>\n",
       "    </tr>\n",
       "  </tbody>\n",
       "</table>\n",
       "</div>"
      ],
      "text/plain": [
       "   꽃받침길이  꽃받침넓이  꽃잎길이  꽃잎넓이  Target\n",
       "0    5.1    3.5   1.4   0.2       0\n",
       "1    4.9    3.0   1.4   0.2       0\n",
       "2    4.7    3.2   1.3   0.2       0\n",
       "3    4.6    3.1   1.5   0.2       0\n",
       "4    5.0    3.6   1.4   0.2       0"
      ]
     },
     "execution_count": 41,
     "metadata": {},
     "output_type": "execute_result"
    }
   ],
   "source": [
    "# load iris data\n",
    "X, Y = load_iris(return_X_y=True)\n",
    "df = pd.DataFrame(X, columns=['꽃받침길이', '꽃받침넓이', '꽃잎길이','꽃잎넓이'])\n",
    "df['Target'] = Y\n",
    "df.head()"
   ]
  },
  {
   "cell_type": "code",
   "execution_count": 96,
   "id": "1877581f",
   "metadata": {},
   "outputs": [],
   "source": [
    "# split data set : train, test\n",
    "train_X, test_X, train_Y, test_Y = train_test_split(X,Y, test_size=0.2, random_state=42)"
   ]
  },
  {
   "cell_type": "markdown",
   "id": "915357c7",
   "metadata": {},
   "source": [
    "### 1.1.2 모델 생성 및 학습"
   ]
  },
  {
   "cell_type": "code",
   "execution_count": 97,
   "id": "3a467f54",
   "metadata": {},
   "outputs": [
    {
     "data": {
      "text/plain": [
       "DecisionTreeClassifier(max_depth=2)"
      ]
     },
     "execution_count": 97,
     "metadata": {},
     "output_type": "execute_result"
    }
   ],
   "source": [
    "# 모델 생성 및 학습\n",
    "DTmodel = DecisionTreeClassifier(max_depth=2)\n",
    "DTmodel.fit(train_X,train_Y)"
   ]
  },
  {
   "cell_type": "code",
   "execution_count": 60,
   "id": "ed80a550",
   "metadata": {},
   "outputs": [
    {
     "data": {
      "image/png": "[encoded data removed]",
      "text/plain": [
       "<Figure size 576x576 with 1 Axes>"
      ]
     },
     "metadata": {
      "needs_background": "light"
     },
     "output_type": "display_data"
    }
   ],
   "source": [
    "# 학습결과 출력\n",
    "plt.rc('font', family='NanumGothic')\n",
    "fig = plt.figure(figsize=(8,8))\n",
    "tree.plot_tree(DTmodel, \n",
    "               feature_names= df.columns,\n",
    "               class_names= ['setosa', 'versicolor', 'virginica'],\n",
    "              filled= True\n",
    "              )\n",
    "plt.show()"
   ]
  },
  {
   "cell_type": "code",
   "execution_count": 61,
   "id": "adae112d",
   "metadata": {},
   "outputs": [
    {
     "data": {
      "text/plain": [
       "array([1, 0, 2, 1, 2, 0, 1, 2, 1, 1, 2, 0, 0, 0, 0, 1, 2, 1, 1, 2, 0, 2,\n",
       "       0, 2, 2, 2, 2, 2, 0, 0])"
      ]
     },
     "execution_count": 61,
     "metadata": {},
     "output_type": "execute_result"
    }
   ],
   "source": [
    "# 검증 데이터 사용\n",
    "DTmodel.predict(test_X)"
   ]
  },
  {
   "cell_type": "markdown",
   "id": "c7df605a",
   "metadata": {},
   "source": [
    "## 1.2 Scikit-learn - breast cancer data"
   ]
  },
  {
   "cell_type": "code",
   "execution_count": 98,
   "id": "1906dc30",
   "metadata": {},
   "outputs": [],
   "source": [
    "import numpy as np\n",
    "import pandas as pd\n",
    "import seaborn as sns\n",
    "import matplotlib.pyplot as plt\n",
    "from sklearn.datasets import load_breast_cancer\n",
    "from sklearn.tree import DecisionTreeClassifier\n",
    "from sklearn.model_selection import train_test_split\n",
    "from sklearn.metrics import accuracy_score, precision_score, recall_score, confusion_matrix\n",
    "from sklearn import tree\n",
    "from sklearn.utils.multiclass import unique_labels\n",
    "\n",
    "from sklearn.metrics import classification_report"
   ]
  },
  {
   "cell_type": "markdown",
   "id": "3cbe4250",
   "metadata": {},
   "source": [
    "### 1.2.1 데이터 준비"
   ]
  },
  {
   "cell_type": "code",
   "execution_count": 74,
   "id": "593c1ac2",
   "metadata": {},
   "outputs": [
    {
     "name": "stdout",
     "output_type": "stream",
     "text": [
      "X data shape : (569, 30)\n",
      "Y data shape : (569,)\n",
      "Length : train(455), test(114)\n"
     ]
    }
   ],
   "source": [
    "# load breast cancer data\n",
    "X,Y = load_breast_cancer(return_X_y=True)\n",
    "print('X data shape :', X.shape)\n",
    "print('Y data shape :', Y.shape)\n",
    "\n",
    "# split data set : train data, test data\n",
    "train_X, test_X, train_Y, test_Y = train_test_split(X,Y, test_size=0.2, random_state=42)\n",
    "print('Length : train(%d), test(%d)' %(len(train_X), len(test_X)))"
   ]
  },
  {
   "cell_type": "markdown",
   "id": "c47ab5d4",
   "metadata": {},
   "source": [
    "### 1.2.2 모델 생성 및 학습"
   ]
  },
  {
   "cell_type": "code",
   "execution_count": 78,
   "id": "09dce9a4",
   "metadata": {},
   "outputs": [
    {
     "name": "stdout",
     "output_type": "stream",
     "text": [
      "[1 0 0 1 1 0 0 0 0 1 1 0 1 1 1 0 1 1 1 0 1 1 0 1 1 1 1 1 1 0 1 1 1 1 1 1 0\n",
      " 1 0 1 1 0 1 1 1 1 0 1 1 1 0 0 1 1 1 1 1 0 0 1 1 0 0 1 1 1 0 0 1 1 0 0 1 0\n",
      " 1 1 1 1 1 1 0 1 1 0 0 0 0 0 1 1 1 1 1 1 1 1 0 0 1 0 0 1 0 0 1 1 1 0 0 1 0\n",
      " 1 1 0]\n"
     ]
    }
   ],
   "source": [
    "# model build and train\n",
    "DTmodel = DecisionTreeClassifier()\n",
    "DTmodel.fit(train_X, train_Y)\n",
    "\n",
    "# predict test data\n",
    "y_pred= DTmodel.predict(test_X)\n",
    "print(y_pred)"
   ]
  },
  {
   "cell_type": "code",
   "execution_count": 82,
   "id": "c3457447",
   "metadata": {},
   "outputs": [
    {
     "name": "stdout",
     "output_type": "stream",
     "text": [
      "Confusion Matrix : \n",
      " [[39  4]\n",
      " [ 3 68]]\n"
     ]
    },
    {
     "data": {
      "image/png": "[encoded data removed]",
      "text/plain": [
       "<Figure size 360x360 with 2 Axes>"
      ]
     },
     "metadata": {
      "needs_background": "light"
     },
     "output_type": "display_data"
    }
   ],
   "source": [
    "# Confusion Matrix\n",
    "cm = confusion_matrix(test_Y, y_pred)\n",
    "print('Confusion Matrix : \\n {}'.format(cm))\n",
    "\n",
    "# 혼동 행렬을 출력합니다\n",
    "fig = plt.figure(figsize=(5,5))\n",
    "ax = sns.heatmap(cm, annot=True)\n",
    "ax.set(title='Confusion Matrix',\n",
    "            ylabel='True label',\n",
    "            xlabel='Predicted label')\n",
    "fig.savefig(\"./data/decistion_tree.png\")"
   ]
  },
  {
   "cell_type": "markdown",
   "id": "b29e8e2a",
   "metadata": {},
   "source": [
    "### 1.2.3 모델 평가"
   ]
  },
  {
   "cell_type": "code",
   "execution_count": 84,
   "id": "697ee8f4",
   "metadata": {},
   "outputs": [
    {
     "name": "stdout",
     "output_type": "stream",
     "text": [
      "train_X confusion matrix \n",
      " [[169   0]\n",
      " [  0 286]]\n",
      "test_X confusion matrix \n",
      " [[39  4]\n",
      " [ 3 68]]\n"
     ]
    }
   ],
   "source": [
    "# Estimate model performance\n",
    "y_pred_train = DTmodel.predict(train_X)\n",
    "y_pred_test = DTmodel.predict(test_X)\n",
    "\n",
    "# Confusion Matrix\n",
    "cm_train = confusion_matrix(train_Y, y_pred_train)\n",
    "cm_test = confusion_matrix(test_Y, y_pred_test)\n",
    "\n",
    "print('train_X confusion matrix \\n', cm_train)\n",
    "print('test_X confusion matrix \\n', cm_test)"
   ]
  },
  {
   "cell_type": "code",
   "execution_count": 88,
   "id": "cb167dda",
   "metadata": {},
   "outputs": [
    {
     "name": "stdout",
     "output_type": "stream",
     "text": [
      "train_X Accuracy: 1.00\n",
      "test_X Accuracy: 0.94\n"
     ]
    }
   ],
   "source": [
    "# accuracy\n",
    "acc_train = DTmodel.score(train_X, train_Y)\n",
    "acc_test = DTmodel.score(test_X, test_Y)\n",
    "\n",
    "# 위와 동일\n",
    "accuracy_score(train_Y, y_pred_train)\n",
    "accuracy_score(test_Y, y_pred_test)\n",
    "\n",
    "print('train_X Accuracy: %.2f' % (acc_train))\n",
    "print('test_X Accuracy: %.2f' % (acc_test))"
   ]
  },
  {
   "cell_type": "code",
   "execution_count": 91,
   "id": "4f2aa88a",
   "metadata": {},
   "outputs": [
    {
     "name": "stdout",
     "output_type": "stream",
     "text": [
      "train_X Precision: 1.00\n",
      "test_X Precision: 0.94\n"
     ]
    }
   ],
   "source": [
    "# precision\n",
    "precision_train = precision_score(train_Y, y_pred_train)\n",
    "precision_test = precision_score(test_Y, y_pred_test)\n",
    "\n",
    "print('train_X Precision: %.2f' % (precision_train))\n",
    "print('test_X Precision: %.2f' % (precision_test))"
   ]
  },
  {
   "cell_type": "code",
   "execution_count": 95,
   "id": "b0b48d0b",
   "metadata": {},
   "outputs": [
    {
     "name": "stdout",
     "output_type": "stream",
     "text": [
      "train_X Recall: 1.00\n",
      "test_X Recall: 0.96\n"
     ]
    }
   ],
   "source": [
    "# recall\n",
    "recall_train = recall_score(train_Y, y_pred_train)\n",
    "recall_test = recall_score(test_Y, y_pred_test)\n",
    "\n",
    "print('train_X Recall: %.2f' % (recall_train))\n",
    "print('test_X Recall: %.2f' % (recall_test))"
   ]
  },
  {
   "cell_type": "markdown",
   "id": "14e9c1f4",
   "metadata": {},
   "source": [
    "- 함수 사용 :Classfication report"
   ]
  },
  {
   "cell_type": "code",
   "execution_count": 103,
   "id": "16c041b2",
   "metadata": {},
   "outputs": [
    {
     "name": "stdout",
     "output_type": "stream",
     "text": [
      "Train data\n",
      "              precision    recall  f1-score   support\n",
      "\n",
      "           0       1.00      1.00      1.00       169\n",
      "           1       1.00      1.00      1.00       286\n",
      "\n",
      "    accuracy                           1.00       455\n",
      "   macro avg       1.00      1.00      1.00       455\n",
      "weighted avg       1.00      1.00      1.00       455\n",
      "\n",
      "Test data \n",
      "              precision    recall  f1-score   support\n",
      "\n",
      "           0       0.93      0.91      0.92        43\n",
      "           1       0.94      0.96      0.95        71\n",
      "\n",
      "    accuracy                           0.94       114\n",
      "   macro avg       0.94      0.93      0.93       114\n",
      "weighted avg       0.94      0.94      0.94       114\n",
      "\n"
     ]
    }
   ],
   "source": [
    "print('Train data')\n",
    "print(classification_report(train_Y, y_pred_train, target_names=['0', '1']))\n",
    "print('Test data ')\n",
    "print(classification_report(test_Y, y_pred_test, target_names=['0', '1']))"
   ]
  },
  {
   "cell_type": "code",
   "execution_count": null,
   "id": "e2cef498",
   "metadata": {},
   "outputs": [],
   "source": []
  }
 ],
 "metadata": {
  "kernelspec": {
   "display_name": "Python 3 (ipykernel)",
   "language": "python",
   "name": "python3"
  },
  "language_info": {
   "codemirror_mode": {
    "name": "ipython",
    "version": 3
   },
   "file_extension": ".py",
   "mimetype": "text/x-python",
   "name": "python",
   "nbconvert_exporter": "python",
   "pygments_lexer": "ipython3",
   "version": "3.9.7"
  }
 },
 "nbformat": 4,
 "nbformat_minor": 5
}
