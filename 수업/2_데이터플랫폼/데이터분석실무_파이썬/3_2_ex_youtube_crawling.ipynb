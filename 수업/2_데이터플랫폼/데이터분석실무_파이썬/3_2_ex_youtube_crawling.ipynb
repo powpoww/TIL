{
 "cells": [
  {
   "cell_type": "markdown",
   "id": "d805a3f6",
   "metadata": {},
   "source": [
    "# 1. Youtube 구독자 랭킹 크롤링"
   ]
  },
  {
   "cell_type": "code",
   "execution_count": 1,
   "id": "dabae784",
   "metadata": {},
   "outputs": [],
   "source": [
    "from selenium import webdriver\n",
    "from selenium.webdriver.chrome.service import Service\n",
    "from bs4 import BeautifulSoup\n",
    "import pandas as pd\n",
    "import numpy as np"
   ]
  },
  {
   "cell_type": "code",
   "execution_count": 2,
   "id": "0f5852ad",
   "metadata": {},
   "outputs": [],
   "source": [
    "ser = Service('../../chromedriver/chromedriver.exe')\n",
    "driver = webdriver.Chrome(service = ser)\n",
    "url = 'https://youtube-rank.com/board/bbs/board.php?bo_table=youtube'\n",
    "driver.get(url)"
   ]
  },
  {
   "cell_type": "code",
   "execution_count": 3,
   "id": "256b2860",
   "metadata": {},
   "outputs": [],
   "source": [
    "html = driver.page_source\n",
    "soup = BeautifulSoup(html, 'html.parser')\n",
    "songs = soup.select('form > table > tbody > tr')\n",
    "\n",
    "songs_data = []\n",
    "for song in songs:\n",
    "    rank = song.select('td.rank')[0].text.strip()\n",
    "    category = song.select('td > h1 > p.category')[0].text.strip()\n",
    "    artist = song.select('td.subject > h1 > a')[0].text.strip()\n",
    "    subscribers = song.select('td.subscriber_cnt')[0].text\n",
    "    view = song.select('td.view_cnt')[0].text\n",
    "    videos = song.select('td.video_cnt')[0].text\n",
    "    \n",
    "    songs_data.append([rank, category, artist, subscribers, view, videos])"
   ]
  },
  {
   "cell_type": "code",
   "execution_count": 4,
   "id": "eea6e5e5",
   "metadata": {
    "scrolled": true
   },
   "outputs": [
    {
     "data": {
      "text/plain": [
       "[['1', '[음악/댄스/가수]', 'BLACKPINK', '7130만', '220억2860만', '395개'],\n",
       " ['2', '[음악/댄스/가수]', 'HYBE LABELS', '6360만', '210억1371만', '786개'],\n",
       " ['3', '[음악/댄스/가수]', 'BANGTANTV', '6290만', '146억8130만', '1,665개'],\n",
       " ['4', '[음악/댄스/가수]', 'SMTOWN', '2970만', '234억3321만', '3,841개'],\n",
       " ['5',\n",
       "  '[키즈/어린이]',\n",
       "  'Boram Tube Vlog [보람튜브 브이로그]',\n",
       "  '2650만',\n",
       "  '110억5288만',\n",
       "  '223개'],\n",
       " ['6', '[음악/댄스/가수]', '1MILLION Dance Studio', '2470만', '70억0543만', '3,517개'],\n",
       " ['7', '[음악/댄스/가수]', '1theK (원더케이)', '2380만', '215억4518만', '15,835개'],\n",
       " ['8', '[음악/댄스/가수]', 'JYP Entertainment', '2340만', '153억5057만', '1,435개'],\n",
       " ['9', '[음악/댄스/가수]', 'Mnet K-POP', '1920만', '142억1584만', '27,027개'],\n",
       " ['11', '[TV/방송]', 'KBS WORLD TV', '1740만', '130억6970만', '54,764개'],\n",
       " ['10', '[음악/댄스/가수]', 'JFlaMusic', '1740만', '35억3017만', '282개'],\n",
       " ['12', '[음식/요리/레시피]', 'Jane ASMR 제인', '1580만', '56억9872만', '1,338개'],\n",
       " ['13', '[음악/댄스/가수]', 'officialpsy', '1540만', '89억1662만', '91개'],\n",
       " ['14', '[음악/댄스/가수]', 'BIGBANG', '1400만', '68억8615만', '773개'],\n",
       " ['15', '[음악/댄스/가수]', 'TWICE', '1290만', '28억7342만', '727개'],\n",
       " ['16', '[음식/요리/레시피]', 'Hongyu ASMR 홍유', '1120만', '32억8533만', '432개'],\n",
       " ['17', '[키즈/어린이]', 'Nao FunFun', '1070만', '460만', '37개'],\n",
       " ['19',\n",
       "  '[음악/댄스/가수]',\n",
       "  'Stone Music Entertainment',\n",
       "  '1020만',\n",
       "  '83억8295만',\n",
       "  '8,445개'],\n",
       " ['18', '[키즈/어린이]', 'DuDuPopTOY', '1020만', '45억7518만', '1,960개'],\n",
       " ['20', '[키즈/어린이]', '핑크퐁 (인기 동요・동화)', '1010만', '61억1787만', '2,441개'],\n",
       " ['21', '[키즈/어린이]', 'Toymong tv 토이몽TV', '974만', '40억2001만', '1,953개'],\n",
       " ['22', '[TV/방송]', 'MBCkpop', '971만', '77억5833만', '42,104개'],\n",
       " ['23', '[키즈/어린이]', 'Larva TUBA', '957만', '41억8816만', '2,974개'],\n",
       " ['24', '[키즈/어린이]', '서은이야기[SeoeunStory]', '943만', '40억7152만', '1,037개'],\n",
       " ['25', '[음악/댄스/가수]', 'Mnet TV', '875만', '103억4766만', '19,491개'],\n",
       " ['26', '[음식/요리/레시피]', '[햄지]Hamzy', '869만', '26억1660만', '380개'],\n",
       " ['27', '[음악/댄스/가수]', 'EXO', '862만', '5억5346만', '240개'],\n",
       " ['28', '[뉴스/정치/사회]', 'MBCentertainment', '854만', '150억8563만', '88,844개'],\n",
       " ['29',\n",
       "  '[음악/댄스/가수]',\n",
       "  'TOMORROW X TOGETHER OFFICIAL',\n",
       "  '852만',\n",
       "  '6억3092만',\n",
       "  '941개'],\n",
       " ['30', '[음악/댄스/가수]', 'iKON', '845만', '21억8210만', '475개'],\n",
       " ['31', '[음악/댄스/가수]', 'Stray Kids', '839만', '14억1031만', '538개'],\n",
       " ['32', '[TV/방송]', 'M2', '791만', '60억5227만', '15,098개'],\n",
       " ['33', '[해외]', 'Serie A', '781만', '26억6736만', '21,598개'],\n",
       " ['34', '[키즈/어린이]', 'MariAndKids', '755만', '23억2910만', '810개'],\n",
       " ['35', '[음악/댄스/가수]', 'SEVENTEEN', '739만', '24억8645만', '991개'],\n",
       " ['36', '[음식/요리/레시피]', '쏘영 Ssoyoung', '736만', '7억5240만', '530개'],\n",
       " ['37', '[키즈/어린이]', 'SonicToy소닉토이', '728만', '30억2714만', '163개'],\n",
       " ['38', '[음악/댄스/가수]', '이지금 [IU Official]', '726만', '12억2765만', '139개'],\n",
       " ['39', '[음식/요리/레시피]', '문복희 Eat with Boki', '717만', '17억0724만', '513개'],\n",
       " ['40', '[뉴스/정치/사회]', 'JTBC Entertainment', '710만', '102억9657만', '67,549개'],\n",
       " ['41', '[음악/댄스/가수]', 'Sungha Jung', '680만', '18억9597만', '1,301개'],\n",
       " ['42', '[TV/방송]', 'KBS Kpop', '665만', '52억1937만', '31,157개'],\n",
       " ['43', '[미분류]', 'Pixar', '655만', '32억4455만', '695개'],\n",
       " ['45', '[음악/댄스/가수]', 'ITZY', '654만', '12억5214만', '521개'],\n",
       " ['44', '[음악/댄스/가수]', 'YG ENTERTAINMENT', '654만', '16억6658만', '389개'],\n",
       " ['46', '[음악/댄스/가수]', 'ALL THE K-POP', '653만', '40억3666만', '21,260개'],\n",
       " ['47', '[음악/댄스/가수]', 'MAMAMOO', '644만', '18억2727만', '633개'],\n",
       " ['48', '[TV/방송]', '스브스케이팝 / SBS KPOP', '628만', '43억5120만', '27,883개'],\n",
       " ['49', '[음악/댄스/가수]', 'GOT7', '614만', '7억8583만', '579개'],\n",
       " ['50', '[TV/방송]', 'SBS Entertainment', '606만', '71억9905만', '219,201개'],\n",
       " ['51', '[TV/방송]', 'tvN drama', '599만', '61억4655만', '38,861개'],\n",
       " ['52', '[회사/오피셜]', 'Samsung', '595만', '13억1879만', '1,634개'],\n",
       " ['53', '[패션/미용]', 'PONY Syndrome', '592만', '3억4649만', '198개'],\n",
       " ['54', '[키즈/어린이]', '[장난감티비]TOYTV', '586만', '28억7435만', '1,545개'],\n",
       " ['55', '[TV/방송]', 'SBS Drama', '585만', '61억7267만', '341,975개'],\n",
       " ['56', '[키즈/어린이]', '미니특공대TV', '583만', '32억8217만', '1,208개'],\n",
       " ['57', '[음식/요리/레시피]', '야미보이 Yummyboy', '580만', '21억3466만', '911개'],\n",
       " ['58', '[키즈/어린이]', '스위트티비 SweetTV', '562만', '27억3075만', '513개'],\n",
       " ['59', '[음악/댄스/가수]', '2NE1', '539만', '20억0710만', '321개'],\n",
       " ['61', '[음식/요리/레시피]', \"백종원의 요리비책 Paik's Cuisine\", '526만', '5억9360만', '373개'],\n",
       " ['60', '[음식/요리/레시피]', 'tzuyang쯔양', '526만', '8억5221만', '308개'],\n",
       " ['62', '[키즈/어린이]', '콩순이 Kongsuni', '520만', '46억4845만', '1,296개'],\n",
       " ['63', '[BJ/인물/연예인]', '[Awesome Haeun]어썸하은', '518만', '8억2337만', '521개'],\n",
       " ['64', '[음악/댄스/가수]', 'starshipTV', '508만', '29억4523만', '1,999개'],\n",
       " ['65', '[키즈/어린이]', '베이비버스 -인기 동요・동화', '492만', '33억4406만', '1,357개'],\n",
       " ['66', '[키즈/어린이]', 'ToyMart TV', '491만', '21억4933만', '651개'],\n",
       " ['67', '[음악/댄스/가수]', 'TREASURE (트레저)', '490만', '9억7809만', '316개'],\n",
       " ['69', '[음악/댄스/가수]', 'BT21', '489만', '4억0378만', '220개'],\n",
       " ['68', '[키즈/어린이]', 'TOY GUMA', '489만', '16억1396만', '306개'],\n",
       " ['70', '[뉴스/정치/사회]', 'SBS NOW / SBS 공식 채널', '479만', '48억0676만', '20,621개'],\n",
       " ['71', '[음악/댄스/가수]', 'NCT', '477만', '3억8207만', '293개'],\n",
       " ['72',\n",
       "  '[키즈/어린이]',\n",
       "  'With Kids Playground [위드키즈 놀이터]',\n",
       "  '474만',\n",
       "  '17억8165만',\n",
       "  '416개'],\n",
       " ['73', '[음악/댄스/가수]', 'Red Velvet', '468만', '7억4214만', '154개'],\n",
       " ['74', '[음식/요리/레시피]', '푸메Fume', '464만', '9억6115만', '513개'],\n",
       " ['75', '[TV/방송]', 'KBS Entertain', '463만', '75억0905만', '103,370개'],\n",
       " ['76', '[음식/요리/레시피]', '떵개떵', '460만', '26억3354만', '4,474개'],\n",
       " ['77', '[음악/댄스/가수]', 'ASTRO 아스트로', '457만', '4억5619만', '475개'],\n",
       " ['79', '[TV/방송]', 'MBCdrama', '454만', '51억2523만', '55,247개'],\n",
       " ['78', '[BJ/인물/연예인]', '영국남자 Korean Englishman', '454만', '14억8114만', '447개'],\n",
       " ['80', '[키즈/어린이]', '뽀로로(Pororo)', '450만', '61억3635만', '3,734개'],\n",
       " ['81', '[음식/요리/레시피]', '하루한끼 one meal a day', '440만', '4억3182만', '176개'],\n",
       " ['82', '[음악/댄스/가수]', 'NCT 127', '436만', '5억1086만', '297개'],\n",
       " ['83', '[TV/방송]', 'JTBC Drama', '435만', '44억2272만', '23,899개'],\n",
       " ['84', '[TV/방송]', '채널 NCT DAILY', '434만', '7억7380만', '467개'],\n",
       " ['85', '[음악/댄스/가수]', 'NCT DREAM', '432만', '5억0057만', '245개'],\n",
       " ['87', '[애완/반려동물]', 'SBS TV동물농장x애니멀봐', '431만', '39억4209만', '3,249개'],\n",
       " ['86', '[음식/요리/레시피]', 'Cooking tree 쿠킹트리', '431만', '4억0526만', '1,192개'],\n",
       " ['88', '[키즈/어린이]', '슈슈토이 Shushu ToysReview', '429만', '16억1604만', '656개'],\n",
       " ['89', '[게임]', 'EA SPORTS FIFA', '426만', '8억0475만', '796개'],\n",
       " ['90', '[음식/요리/레시피]', '까니짱 [ G-NI ]', '425만', '11억3391만', '554개'],\n",
       " ['91', '[음악/댄스/가수]', 'Raon Lee', '424만', '9억7013만', '301개'],\n",
       " ['92', '[키즈/어린이]', '로미유 스토리[Romiyu Story]', '419만', '11억0449만', '434개'],\n",
       " ['93', '[음식/요리/레시피]', '[Dorothy]도로시', '416만', '10억0227만', '907개'],\n",
       " ['94', '[취미/라이프]', 'JaeYeol ASMR 재열', '400만', '11억1348만', '1,037개'],\n",
       " ['95', '[키즈/어린이]', 'CoCosToy 꼬꼬스토이', '396만', '22억5115만', '664개'],\n",
       " ['96', '[BJ/인물/연예인]', '허팝Heopop', '385만', '33억0441만', '1,912개'],\n",
       " ['98', '[TV/방송]', '워크맨-Workman', '381만', '7억7678만', '163개'],\n",
       " ['97', '[음악/댄스/가수]', 'WINNER', '381만', '12억2780만', '461개'],\n",
       " ['99', '[애완/반려동물]', '크림히어로즈', '377만', '14억3043만', '1,027개'],\n",
       " ['100', '[키즈/어린이]', 'Lime Tube[라임튜브]', '375만', '26억6897만', '1,833개']]"
      ]
     },
     "execution_count": 4,
     "metadata": {},
     "output_type": "execute_result"
    }
   ],
   "source": [
    "songs_data"
   ]
  },
  {
   "cell_type": "code",
   "execution_count": 6,
   "id": "84c7cce7",
   "metadata": {
    "scrolled": true
   },
   "outputs": [],
   "source": [
    "df_songs_data = pd.DataFrame(songs_data, columns = ['rank', 'category', 'singer', 'subscriber', 'viewer', 'videos'])\n",
    "df_songs_data.to_excel('./files/youtube_rank_prac.xlsx', index=None)"
   ]
  },
  {
   "cell_type": "markdown",
   "id": "c4322195",
   "metadata": {},
   "source": [
    "# 2. 데이터 시각화"
   ]
  },
  {
   "cell_type": "markdown",
   "id": "7efc741d",
   "metadata": {},
   "source": [
    "## 2.1 데이터 전처리"
   ]
  },
  {
   "cell_type": "code",
   "execution_count": 7,
   "id": "858e56df",
   "metadata": {},
   "outputs": [],
   "source": [
    "# 한글폰트설정\n",
    "from matplotlib import rc, font_manager\n",
    "path = 'c:/Windows/Fonts/malgun.ttf'\n",
    "font_name = font_manager.FontProperties(fname=path).get_name()\n",
    "rc('font', family= font_name)"
   ]
  },
  {
   "cell_type": "code",
   "execution_count": 14,
   "id": "de83538e",
   "metadata": {},
   "outputs": [
    {
     "data": {
      "text/html": [
       "<div>\n",
       "<style scoped>\n",
       "    .dataframe tbody tr th:only-of-type {\n",
       "        vertical-align: middle;\n",
       "    }\n",
       "\n",
       "    .dataframe tbody tr th {\n",
       "        vertical-align: top;\n",
       "    }\n",
       "\n",
       "    .dataframe thead th {\n",
       "        text-align: right;\n",
       "    }\n",
       "</style>\n",
       "<table border=\"1\" class=\"dataframe\">\n",
       "  <thead>\n",
       "    <tr style=\"text-align: right;\">\n",
       "      <th></th>\n",
       "      <th>rank</th>\n",
       "      <th>category</th>\n",
       "      <th>singer</th>\n",
       "      <th>subscriber</th>\n",
       "      <th>viewer</th>\n",
       "      <th>videos</th>\n",
       "    </tr>\n",
       "  </thead>\n",
       "  <tbody>\n",
       "    <tr>\n",
       "      <th>0</th>\n",
       "      <td>1</td>\n",
       "      <td>[음악/댄스/가수]</td>\n",
       "      <td>BLACKPINK</td>\n",
       "      <td>7130만</td>\n",
       "      <td>220억2860만</td>\n",
       "      <td>395개</td>\n",
       "    </tr>\n",
       "    <tr>\n",
       "      <th>1</th>\n",
       "      <td>2</td>\n",
       "      <td>[음악/댄스/가수]</td>\n",
       "      <td>HYBE LABELS</td>\n",
       "      <td>6360만</td>\n",
       "      <td>210억1371만</td>\n",
       "      <td>786개</td>\n",
       "    </tr>\n",
       "    <tr>\n",
       "      <th>2</th>\n",
       "      <td>3</td>\n",
       "      <td>[음악/댄스/가수]</td>\n",
       "      <td>BANGTANTV</td>\n",
       "      <td>6290만</td>\n",
       "      <td>146억8130만</td>\n",
       "      <td>1,665개</td>\n",
       "    </tr>\n",
       "    <tr>\n",
       "      <th>3</th>\n",
       "      <td>4</td>\n",
       "      <td>[음악/댄스/가수]</td>\n",
       "      <td>SMTOWN</td>\n",
       "      <td>2970만</td>\n",
       "      <td>234억3321만</td>\n",
       "      <td>3,841개</td>\n",
       "    </tr>\n",
       "    <tr>\n",
       "      <th>4</th>\n",
       "      <td>5</td>\n",
       "      <td>[키즈/어린이]</td>\n",
       "      <td>Boram Tube Vlog [보람튜브 브이로그]</td>\n",
       "      <td>2650만</td>\n",
       "      <td>110억5288만</td>\n",
       "      <td>223개</td>\n",
       "    </tr>\n",
       "  </tbody>\n",
       "</table>\n",
       "</div>"
      ],
      "text/plain": [
       "   rank    category                       singer subscriber     viewer  videos\n",
       "0     1  [음악/댄스/가수]                    BLACKPINK      7130만  220억2860만    395개\n",
       "1     2  [음악/댄스/가수]                  HYBE LABELS      6360만  210억1371만    786개\n",
       "2     3  [음악/댄스/가수]                    BANGTANTV      6290만  146억8130만  1,665개\n",
       "3     4  [음악/댄스/가수]                       SMTOWN      2970만  234억3321만  3,841개\n",
       "4     5    [키즈/어린이]  Boram Tube Vlog [보람튜브 브이로그]      2650만  110억5288만    223개"
      ]
     },
     "execution_count": 14,
     "metadata": {},
     "output_type": "execute_result"
    }
   ],
   "source": [
    "df = pd.read_excel('./files/youtube_rank_prac.xlsx')\n",
    "df.head()"
   ]
  },
  {
   "cell_type": "code",
   "execution_count": 15,
   "id": "70f6296d",
   "metadata": {},
   "outputs": [
    {
     "data": {
      "text/plain": [
       "[음악/댄스/가수]     37\n",
       "[키즈/어린이]       22\n",
       "[음식/요리/레시피]    14\n",
       "[TV/방송]        13\n",
       "[뉴스/정치/사회]      3\n",
       "[BJ/인물/연예인]     3\n",
       "[애완/반려동물]       2\n",
       "[해외]            1\n",
       "[미분류]           1\n",
       "[회사/오피셜]        1\n",
       "[패션/미용]         1\n",
       "[게임]            1\n",
       "[취미/라이프]        1\n",
       "Name: category, dtype: int64"
      ]
     },
     "execution_count": 15,
     "metadata": {},
     "output_type": "execute_result"
    }
   ],
   "source": [
    "df.category.value_counts()"
   ]
  },
  {
   "cell_type": "code",
   "execution_count": 16,
   "id": "24e06483",
   "metadata": {},
   "outputs": [
    {
     "data": {
      "text/plain": [
       "0    7130만\n",
       "1    6360만\n",
       "2    6290만\n",
       "3    2970만\n",
       "4    2650만\n",
       "Name: subscriber, dtype: object"
      ]
     },
     "execution_count": 16,
     "metadata": {},
     "output_type": "execute_result"
    }
   ],
   "source": [
    "df.subscriber.head()"
   ]
  },
  {
   "cell_type": "code",
   "execution_count": 17,
   "id": "2db3fdcb",
   "metadata": {},
   "outputs": [
    {
     "name": "stdout",
     "output_type": "stream",
     "text": [
      "<class 'pandas.core.frame.DataFrame'>\n",
      "RangeIndex: 100 entries, 0 to 99\n",
      "Data columns (total 7 columns):\n",
      " #   Column               Non-Null Count  Dtype \n",
      "---  ------               --------------  ----- \n",
      " 0   rank                 100 non-null    int64 \n",
      " 1   category             100 non-null    object\n",
      " 2   singer               100 non-null    object\n",
      " 3   subscriber           100 non-null    object\n",
      " 4   viewer               100 non-null    object\n",
      " 5   videos               100 non-null    object\n",
      " 6   replaced_subscriber  100 non-null    int32 \n",
      "dtypes: int32(1), int64(1), object(5)\n",
      "memory usage: 5.2+ KB\n"
     ]
    }
   ],
   "source": [
    "df['replaced_subscriber'] = df.subscriber.str.replace('만', '0000').astype(int)\n",
    "df.info()"
   ]
  },
  {
   "cell_type": "code",
   "execution_count": 19,
   "id": "81d252a6",
   "metadata": {},
   "outputs": [
    {
     "data": {
      "text/html": [
       "<div>\n",
       "<style scoped>\n",
       "    .dataframe tbody tr th:only-of-type {\n",
       "        vertical-align: middle;\n",
       "    }\n",
       "\n",
       "    .dataframe tbody tr th {\n",
       "        vertical-align: top;\n",
       "    }\n",
       "\n",
       "    .dataframe thead th {\n",
       "        text-align: right;\n",
       "    }\n",
       "</style>\n",
       "<table border=\"1\" class=\"dataframe\">\n",
       "  <thead>\n",
       "    <tr style=\"text-align: right;\">\n",
       "      <th></th>\n",
       "      <th>rank</th>\n",
       "      <th>category</th>\n",
       "      <th>singer</th>\n",
       "      <th>subscriber</th>\n",
       "      <th>viewer</th>\n",
       "      <th>videos</th>\n",
       "      <th>replaced_subscriber</th>\n",
       "    </tr>\n",
       "  </thead>\n",
       "  <tbody>\n",
       "    <tr>\n",
       "      <th>0</th>\n",
       "      <td>1</td>\n",
       "      <td>[음악/댄스/가수]</td>\n",
       "      <td>BLACKPINK</td>\n",
       "      <td>7130만</td>\n",
       "      <td>220억2860만</td>\n",
       "      <td>395개</td>\n",
       "      <td>71300000</td>\n",
       "    </tr>\n",
       "    <tr>\n",
       "      <th>1</th>\n",
       "      <td>2</td>\n",
       "      <td>[음악/댄스/가수]</td>\n",
       "      <td>HYBE LABELS</td>\n",
       "      <td>6360만</td>\n",
       "      <td>210억1371만</td>\n",
       "      <td>786개</td>\n",
       "      <td>63600000</td>\n",
       "    </tr>\n",
       "    <tr>\n",
       "      <th>2</th>\n",
       "      <td>3</td>\n",
       "      <td>[음악/댄스/가수]</td>\n",
       "      <td>BANGTANTV</td>\n",
       "      <td>6290만</td>\n",
       "      <td>146억8130만</td>\n",
       "      <td>1,665개</td>\n",
       "      <td>62900000</td>\n",
       "    </tr>\n",
       "    <tr>\n",
       "      <th>3</th>\n",
       "      <td>4</td>\n",
       "      <td>[음악/댄스/가수]</td>\n",
       "      <td>SMTOWN</td>\n",
       "      <td>2970만</td>\n",
       "      <td>234억3321만</td>\n",
       "      <td>3,841개</td>\n",
       "      <td>29700000</td>\n",
       "    </tr>\n",
       "    <tr>\n",
       "      <th>4</th>\n",
       "      <td>5</td>\n",
       "      <td>[키즈/어린이]</td>\n",
       "      <td>Boram Tube Vlog [보람튜브 브이로그]</td>\n",
       "      <td>2650만</td>\n",
       "      <td>110억5288만</td>\n",
       "      <td>223개</td>\n",
       "      <td>26500000</td>\n",
       "    </tr>\n",
       "  </tbody>\n",
       "</table>\n",
       "</div>"
      ],
      "text/plain": [
       "   rank    category                       singer subscriber     viewer  \\\n",
       "0     1  [음악/댄스/가수]                    BLACKPINK      7130만  220억2860만   \n",
       "1     2  [음악/댄스/가수]                  HYBE LABELS      6360만  210억1371만   \n",
       "2     3  [음악/댄스/가수]                    BANGTANTV      6290만  146억8130만   \n",
       "3     4  [음악/댄스/가수]                       SMTOWN      2970만  234억3321만   \n",
       "4     5    [키즈/어린이]  Boram Tube Vlog [보람튜브 브이로그]      2650만  110억5288만   \n",
       "\n",
       "   videos  replaced_subscriber  \n",
       "0    395개             71300000  \n",
       "1    786개             63600000  \n",
       "2  1,665개             62900000  \n",
       "3  3,841개             29700000  \n",
       "4    223개             26500000  "
      ]
     },
     "execution_count": 19,
     "metadata": {},
     "output_type": "execute_result"
    }
   ],
   "source": [
    "df.head()"
   ]
  },
  {
   "cell_type": "code",
   "execution_count": 48,
   "id": "14ff7fb6",
   "metadata": {},
   "outputs": [
    {
     "data": {
      "text/html": [
       "<div>\n",
       "<style scoped>\n",
       "    .dataframe tbody tr th:only-of-type {\n",
       "        vertical-align: middle;\n",
       "    }\n",
       "\n",
       "    .dataframe tbody tr th {\n",
       "        vertical-align: top;\n",
       "    }\n",
       "\n",
       "    .dataframe thead th {\n",
       "        text-align: right;\n",
       "    }\n",
       "</style>\n",
       "<table border=\"1\" class=\"dataframe\">\n",
       "  <thead>\n",
       "    <tr style=\"text-align: right;\">\n",
       "      <th></th>\n",
       "      <th>category</th>\n",
       "      <th>subscriber_sum</th>\n",
       "      <th>subscriber_count</th>\n",
       "    </tr>\n",
       "  </thead>\n",
       "  <tbody>\n",
       "    <tr>\n",
       "      <th>0</th>\n",
       "      <td>[음악/댄스/가수]</td>\n",
       "      <td>535880000</td>\n",
       "      <td>37</td>\n",
       "    </tr>\n",
       "    <tr>\n",
       "      <th>1</th>\n",
       "      <td>[키즈/어린이]</td>\n",
       "      <td>163730000</td>\n",
       "      <td>22</td>\n",
       "    </tr>\n",
       "    <tr>\n",
       "      <th>2</th>\n",
       "      <td>[음식/요리/레시피]</td>\n",
       "      <td>92900000</td>\n",
       "      <td>14</td>\n",
       "    </tr>\n",
       "    <tr>\n",
       "      <th>3</th>\n",
       "      <td>[TV/방송]</td>\n",
       "      <td>87520000</td>\n",
       "      <td>13</td>\n",
       "    </tr>\n",
       "    <tr>\n",
       "      <th>4</th>\n",
       "      <td>[뉴스/정치/사회]</td>\n",
       "      <td>20430000</td>\n",
       "      <td>3</td>\n",
       "    </tr>\n",
       "    <tr>\n",
       "      <th>5</th>\n",
       "      <td>[BJ/인물/연예인]</td>\n",
       "      <td>13570000</td>\n",
       "      <td>3</td>\n",
       "    </tr>\n",
       "    <tr>\n",
       "      <th>6</th>\n",
       "      <td>[애완/반려동물]</td>\n",
       "      <td>8080000</td>\n",
       "      <td>2</td>\n",
       "    </tr>\n",
       "    <tr>\n",
       "      <th>7</th>\n",
       "      <td>[해외]</td>\n",
       "      <td>7810000</td>\n",
       "      <td>1</td>\n",
       "    </tr>\n",
       "    <tr>\n",
       "      <th>8</th>\n",
       "      <td>[미분류]</td>\n",
       "      <td>6550000</td>\n",
       "      <td>1</td>\n",
       "    </tr>\n",
       "    <tr>\n",
       "      <th>9</th>\n",
       "      <td>[회사/오피셜]</td>\n",
       "      <td>5950000</td>\n",
       "      <td>1</td>\n",
       "    </tr>\n",
       "    <tr>\n",
       "      <th>10</th>\n",
       "      <td>[패션/미용]</td>\n",
       "      <td>5920000</td>\n",
       "      <td>1</td>\n",
       "    </tr>\n",
       "    <tr>\n",
       "      <th>11</th>\n",
       "      <td>[게임]</td>\n",
       "      <td>4260000</td>\n",
       "      <td>1</td>\n",
       "    </tr>\n",
       "    <tr>\n",
       "      <th>12</th>\n",
       "      <td>[취미/라이프]</td>\n",
       "      <td>4000000</td>\n",
       "      <td>1</td>\n",
       "    </tr>\n",
       "  </tbody>\n",
       "</table>\n",
       "</div>"
      ],
      "text/plain": [
       "       category  subscriber_sum  subscriber_count\n",
       "0    [음악/댄스/가수]       535880000                37\n",
       "1      [키즈/어린이]       163730000                22\n",
       "2   [음식/요리/레시피]        92900000                14\n",
       "3       [TV/방송]        87520000                13\n",
       "4    [뉴스/정치/사회]        20430000                 3\n",
       "5   [BJ/인물/연예인]        13570000                 3\n",
       "6     [애완/반려동물]         8080000                 2\n",
       "7          [해외]         7810000                 1\n",
       "8         [미분류]         6550000                 1\n",
       "9      [회사/오피셜]         5950000                 1\n",
       "10      [패션/미용]         5920000                 1\n",
       "11         [게임]         4260000                 1\n",
       "12     [취미/라이프]         4000000                 1"
      ]
     },
     "execution_count": 48,
     "metadata": {},
     "output_type": "execute_result"
    }
   ],
   "source": [
    "# pivot 생성\n",
    "pivot_df = df.pivot_table(values='replaced_subscriber', \n",
    "                          index = 'category', aggfunc=['sum','count'])\n",
    "# column 재설정\n",
    "pivot_df.columns = ['subscriber_sum','subscriber_count']\n",
    "# index reset. 기존 index 컬럼화\n",
    "pivot_df.reset_index(inplace=True)\n",
    "# 내림차순 정렬 : ascending = False\n",
    "pivot_df.sort_values(by='subscriber_sum', ascending = False, inplace=True)\n",
    "# 인덱스 재정렬\n",
    "pivot_df.reset_index(drop=True, inplace=True)\n",
    "pivot_df"
   ]
  },
  {
   "cell_type": "markdown",
   "id": "18a1c3ed",
   "metadata": {},
   "source": [
    "## Pie 차트 생성"
   ]
  },
  {
   "cell_type": "code",
   "execution_count": 72,
   "id": "0ff7c91f",
   "metadata": {},
   "outputs": [
    {
     "data": {
      "image/png": "[encoded data removed]",
      "text/plain": [
       "<Figure size 432x432 with 1 Axes>"
      ]
     },
     "metadata": {},
     "output_type": "display_data"
    }
   ],
   "source": [
    "# 예시\n",
    "import matplotlib.pyplot as plt\n",
    "\n",
    "# ref\n",
    "plt.rcParams['font.size'] =  16\n",
    "ratio = [34, 32, 16, 18]\n",
    "labels = ['Apple', 'Banana', 'Melon', 'Grapes']\n",
    "explodes = [0, 0.1, 0, 0]\n",
    "colors = ['#e042f5', '#3a24c9', '#4fed37', '#de3207']\n",
    "\n",
    "# plot\n",
    "plt.figure(figsize = (6, 6))\n",
    "plt.pie(ratio, labels = labels, \n",
    "       autopct = '%.1f%%', counterclock= False,\n",
    "       startangle= 90, explode = explodes, shadow = True,\n",
    "       colors = colors)\n",
    "plt.show()"
   ]
  },
  {
   "cell_type": "code",
   "execution_count": 71,
   "id": "51318a91",
   "metadata": {},
   "outputs": [
    {
     "data": {
      "image/png": "[encoded data removed]",
      "text/plain": [
       "<Figure size 432x432 with 1 Axes>"
      ]
     },
     "metadata": {},
     "output_type": "display_data"
    }
   ],
   "source": [
    "# Youtube chart\n",
    "_ = pivot_df.head()\n",
    "plt.rcParams['font.size'] = 10\n",
    "plt.figure(figsize=(6,6))\n",
    "plt.pie(_['subscriber_sum'], labels = _['category'], autopct='%.1f%%')\n",
    "plt.show()"
   ]
  },
  {
   "cell_type": "code",
   "execution_count": null,
   "id": "7413dea7",
   "metadata": {},
   "outputs": [],
   "source": []
  }
 ],
 "metadata": {
  "kernelspec": {
   "display_name": "Python 3 (ipykernel)",
   "language": "python",
   "name": "python3"
  },
  "language_info": {
   "codemirror_mode": {
    "name": "ipython",
    "version": 3
   },
   "file_extension": ".py",
   "mimetype": "text/x-python",
   "name": "python",
   "nbconvert_exporter": "python",
   "pygments_lexer": "ipython3",
   "version": "3.9.7"
  }
 },
 "nbformat": 4,
 "nbformat_minor": 5
}
