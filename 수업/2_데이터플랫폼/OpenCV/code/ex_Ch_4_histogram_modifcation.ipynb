{
 "cells": [
  {
   "cell_type": "markdown",
   "id": "b28895bb",
   "metadata": {},
   "source": [
    "# 히스토그램 변환"
   ]
  },
  {
   "cell_type": "code",
   "execution_count": 1,
   "id": "aaddf7c8",
   "metadata": {},
   "outputs": [],
   "source": [
    "import numpy as np\n",
    "import sys\n",
    "import cv2"
   ]
  },
  {
   "cell_type": "markdown",
   "id": "38079faa",
   "metadata": {},
   "source": [
    "## 1. 영상의 명암비 조절\n",
    "- cv2.normalize(src, dst=None, alpha=None, beta=None, norm_type=None, dtype=None, mask=None) -> dst\n",
    "    - src: 입력영상\n",
    "    - dst: 결과영상\n",
    "    - alpha: 정규화 최소값 (예, 0)\n",
    "    - beta: 정규화 최댓값 (예, 155)\n",
    "    - norm_type: cv2.NORM_MINMAX\n",
    "    - dtype =  -1, src와 같은 type\n",
    "- cv2.equalizeHist(src) -> dst"
   ]
  },
  {
   "cell_type": "code",
   "execution_count": 2,
   "id": "14c8432e",
   "metadata": {},
   "outputs": [],
   "source": [
    "src = cv2.imread('./fig/Hawkes.jpg',0)\n",
    "\n",
    "# 정규화\n",
    "# dst = np.clip(255*(src-smin)/(smax-smin) + 0, 0, 255).astype(np.uint8) 동일\n",
    "dst_norm =cv2.normalize(src, None, 0, 255, cv2.NORM_MINMAX, dtype=-1)\n",
    "# 평활화\n",
    "dst_equal = cv2.equalizeHist(src)\n",
    "\n",
    "cv2.imshow('src',src)\n",
    "cv2.imshow('dst_norm',dst_norm)\n",
    "cv2.imshow('dst_equal', dst_equal)\n",
    "\n",
    "cv2.waitKey()\n",
    "cv2.destroyAllWindows()"
   ]
  },
  {
   "cell_type": "code",
   "execution_count": 3,
   "id": "5cb0cc86",
   "metadata": {},
   "outputs": [],
   "source": [
    "# HSV\n",
    "src = cv2.imread('./fig/field.bmp')\n",
    "src_hsv = cv2.cvtColor(src, cv2.COLOR_BGR2HSV)\n",
    "\n",
    "h,s,v = cv2.split(src_hsv)\n",
    "v_eq = cv2.equalizeHist(v)\n",
    "\n",
    "src_hsv_eq = cv2.merge((h,s,v_eq))\n",
    "src_hsv_eq_bgr = cv2.cvtColor(src_hsv_eq, cv2.COLOR_HSV2BGR)\n",
    "\n",
    "cv2.imshow('src', src)\n",
    "cv2.imshow('src_eq', src_hsv_eq_bgr)\n",
    "\n",
    "cv2.waitKey()\n",
    "cv2.destroyAllWindows()"
   ]
  },
  {
   "cell_type": "markdown",
   "id": "6b634659",
   "metadata": {},
   "source": [
    "# Excercise"
   ]
  },
  {
   "cell_type": "code",
   "execution_count": 47,
   "id": "fd62b3f0",
   "metadata": {},
   "outputs": [],
   "source": [
    "src = cv2.imread('./fig/wow.jpg')\n",
    "hat = cv2.imread('../Ch_2_Opencv_basic/fig/imgbin_hat.png', cv2.IMREAD_UNCHANGED)\n",
    "hat = np.flip(hat, axis=1)\n",
    "w,h = 240, 360\n",
    "hat = cv2.resize(hat, (w,h))\n",
    "hat_rgb = hat[:,:,:3]\n",
    "hat_mask = hat[:,:,-1]\n",
    "\n",
    "crop = src[:, 175:175+w]\n",
    "cv2.copyTo(hat_rgb, hat_mask,crop)\n",
    "\n",
    "cv2.imwrite('./fig/practice.png', src)\n",
    "\n",
    "cv2.imshow('src', src)\n",
    "cv2.imshow('hat', hat)\n",
    "cv2.imshow('mask', hat_mask)\n",
    "cv2.imshow('copyTo', src)\n",
    "\n",
    "\n",
    "cv2.waitKey()\n",
    "cv2.destroyAllWindows()"
   ]
  },
  {
   "cell_type": "code",
   "execution_count": null,
   "id": "ab835e3a",
   "metadata": {},
   "outputs": [],
   "source": []
  }
 ],
 "metadata": {
  "kernelspec": {
   "display_name": "Python 3 (ipykernel)",
   "language": "python",
   "name": "python3"
  },
  "language_info": {
   "codemirror_mode": {
    "name": "ipython",
    "version": 3
   },
   "file_extension": ".py",
   "mimetype": "text/x-python",
   "name": "python",
   "nbconvert_exporter": "python",
   "pygments_lexer": "ipython3",
   "version": "3.9.7"
  }
 },
 "nbformat": 4,
 "nbformat_minor": 5
}
