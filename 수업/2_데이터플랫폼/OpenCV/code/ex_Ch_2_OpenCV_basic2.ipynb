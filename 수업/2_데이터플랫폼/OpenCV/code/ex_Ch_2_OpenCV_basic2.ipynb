{
 "cells": [
  {
   "cell_type": "markdown",
   "id": "a4cf81ad",
   "metadata": {},
   "source": [
    "# OpenCV 기초 사용법 2"
   ]
  },
  {
   "cell_type": "code",
   "execution_count": 1,
   "id": "5d8c95ab",
   "metadata": {},
   "outputs": [],
   "source": [
    "import numpy as np\n",
    "import cv2\n",
    "import sys"
   ]
  },
  {
   "cell_type": "markdown",
   "id": "206775dd",
   "metadata": {},
   "source": [
    "## 1. 알파채널 사용\n",
    "- RGB + mask 로 shape는 (x,y,4)로 구성"
   ]
  },
  {
   "cell_type": "code",
   "execution_count": 34,
   "id": "32c49149",
   "metadata": {},
   "outputs": [
    {
     "name": "stdout",
     "output_type": "stream",
     "text": [
      "image shape - dog : (480, 640, 3)\n",
      "image shape - sunglass : (480, 960, 4)\n"
     ]
    }
   ],
   "source": [
    "dog = cv2.imread('./fig/puppy.bmp',1)\n",
    "sg = cv2.imread('./fig/imgbin_sunglasses_1.png',cv2.IMREAD_UNCHANGED)\n",
    "\n",
    "print('image shape - dog :', dog.shape)\n",
    "print('image shape - sunglass :',sg.shape)"
   ]
  },
  {
   "cell_type": "code",
   "execution_count": 47,
   "id": "aca2eb23",
   "metadata": {},
   "outputs": [],
   "source": [
    "dog = cv2.imread('./fig/puppy.bmp',1)\n",
    "sg = cv2.imread('./fig/imgbin_sunglasses_1.png',cv2.IMREAD_UNCHANGED)\n",
    "h, w = 150, 300\n",
    "sg = cv2.resize(sg, (w, h))\n",
    "\n",
    "if dog is None and sg is None:\n",
    "    print('error')\n",
    "    sys.exit()\n",
    "\n",
    "\n",
    "glass = sg[:,:,0:3]\n",
    "mask = sg[:,:,-1]\n",
    "crop = dog[150:150+h, 250:250+w]\n",
    "\n",
    "cv2.copyTo(glass, mask, crop)\n",
    "\n",
    "# # change color\n",
    "# crop[mask>0] = (0,0,255)\n",
    "\n",
    "cv2.imshow('dog',dog)\n",
    "cv2.imshow('glass',glass)\n",
    "cv2.imshow('mask',mask)\n",
    "\n",
    "\n",
    "\n",
    "cv2.waitKey()\n",
    "cv2.destroyAllWindows()"
   ]
  },
  {
   "cell_type": "markdown",
   "id": "8dfe91bc",
   "metadata": {},
   "source": [
    "## 2. 도형 만들기\n",
    "1. cv2.line(img, pt1, pt2, color, thickness=None, lineType=None, shift=None) retval:img\n",
    "2. cv2.arrowedLine() : cv2.line과 유사\n",
    "    - img : 그림을 그릴 영상\n",
    "    - pt1, pt2: 직선의 시작, 끝점. (x,y)\n",
    "    - color : 직선의 색(BGR)\n",
    "    - thickness : 선두께(default=1)\n",
    "    - lineType : cv2.LINE_4, 8, AA\n",
    "3. cv2.rectangle(img, pt1,pt2, color, thickness=None, lineType=None) retval : img\n",
    "    - pt1,pt2 : 좌상단, 우하단의 포인트. 혹은 (x,y,w,h)로도 사용할 수 있다.\n",
    "    - thickness : -1의 경우 박스에 색을 채움.\n",
    "4. cv2.circle(src, (fx, fy), radius, color, thickness, linetype) : retval img\n",
    "    - center : x,y축 순서.\n",
    "    - thickness : -1 (fullfill)\n",
    "5. cv2.ellips(img, center, axes, angle, startAngle, endAnlge, color, thickness, lineType) retval : img\n",
    "    - center : 원의 중심좌표\n",
    "    - axes : 축의 반지름\n",
    "    - angle : 타원의 기울기 (ex.10 : 우측 10도)\n",
    "    - startAngle : 타원을 그리는 시작각도 (0도 : 3시 방향)\n",
    "    - enAngle : 타원을 그리는 종료 각도\n",
    "6. putText(img, text, org, fontFace, fontScale, color[, thickness[, lineType[, bottomLeftOrigin]]]) -> img\n",
    "    - org : 중심좌표(x,y)\n",
    "    - fontFace : 폰트 스타일\n",
    "    - fontScale : 크기"
   ]
  },
  {
   "cell_type": "code",
   "execution_count": 63,
   "id": "00637243",
   "metadata": {},
   "outputs": [],
   "source": [
    "from matplotlib import rc, font_manager\n",
    "path = 'c:/Windows/Fonts/malgun.ttf'\n",
    "font_name = font_manager.FontProperties(fname=path).get_name()\n",
    "rc('font', family= font_name)"
   ]
  },
  {
   "cell_type": "code",
   "execution_count": 65,
   "id": "7367d5f4",
   "metadata": {},
   "outputs": [],
   "source": [
    "img = np.full((800,1200,3), 255, np.uint8)\n",
    "\n",
    "# line\n",
    "cv2.line(img, (100,50), (300,50), (0,0,255), 4)\n",
    "cv2.line(img, (100,50), (300,100), (0,0,255), 4, cv2.LINE_AA)\n",
    "\n",
    "# arrowline\n",
    "cv2.arrowedLine(img, (400,50), (400,250), (0,0,255),10)\n",
    "\n",
    "# rectangle\n",
    "cv2.rectangle(img, (100,300),(400,400), (0,0,255), -1)\n",
    "cv2.rectangle(img, (100,300,300,100), (0,255,0), 10)\n",
    "\n",
    "# circle\n",
    "cv2.circle(img, (110,90), 50, (0,0,255), 3, cv2.LINE_AA)\n",
    "\n",
    "# ellipse\n",
    "cv2.ellipse(img, (600,300), (50,100), 10, 0, 360, (0,0,0), 10)\n",
    "\n",
    "# text\n",
    "text = 'Opencv version =' + cv2.__version__\n",
    "cv2.putText(img, text, (800,100), cv2.FONT_HERSHEY_SIMPLEX, 0.8, (0,0,0), 1, cv2.LINE_AA)\n",
    "\n",
    "cv2.imshow('img', img)\n",
    "\n",
    "cv2.waitKey()\n",
    "cv2.destroyAllWindows()"
   ]
  },
  {
   "cell_type": "code",
   "execution_count": 92,
   "id": "d6db68f1",
   "metadata": {},
   "outputs": [],
   "source": [
    "# test\n",
    "img = np.full((800,1200,3), 255, np.uint8)\n",
    "\n",
    "cv2.circle(img, (200,200), 50, (0,0,0), 2, cv2.LINE_AA)\n",
    "cv2.line(img, (300,100), (300,300), (0,0,0), 2)\n",
    "cv2.line(img, (200,300), (200,350), (0,0,0), 2)\n",
    "cv2.line(img, (200,350), (300,350), (0,0,0), 2)\n",
    "\n",
    "cv2.line(img, (400, 150), (350,250), (0,0,0), 2)\n",
    "cv2.line(img, (400, 150), (450,250), (0,0,0), 2)\n",
    "cv2.line(img, (500, 100), (500,300), (0,0,0), 2)\n",
    "cv2.line(img, (500, 200), (550,200), (0,0,0), 2)\n",
    "\n",
    "cv2.rectangle(img, (400,300), (480,350), (0,0,0), 2)\n",
    "\n",
    "cv2.imshow('img', img)\n",
    "\n",
    "cv2.waitKey()\n",
    "cv2.destroyAllWindows()"
   ]
  },
  {
   "cell_type": "markdown",
   "id": "abf49b21",
   "metadata": {},
   "source": [
    "## 3. 카메라 영상\n",
    "- cv2.VideoCapture(index, apiPreference) : 카메라를 연다. 시스템 기본 카메라를 열 때는 0을 전달함.\n",
    "- cv2.VideoWriter_fourcc() : 코덱 설정. MJPG, DIVX 등 설정 가능. 각 OS가 지원하는 코덱이 제한되며 윈도우는 DIVX다.\n",
    "- cv2.VideoWriter(outputFile, fourcc, frame, size) : 아우숲ㅅ파일명, Codec 정보, frame, 사이즈를 입력한다."
   ]
  },
  {
   "cell_type": "code",
   "execution_count": 5,
   "id": "4db2acdd",
   "metadata": {},
   "outputs": [],
   "source": [
    "cap = cv2.VideoCapture(0)\n",
    "\n",
    "if not cap.isOpened():\n",
    "    print('Videocap open failed')\n",
    "    sys.exit()\n",
    "    \n",
    "w = int(cap.get(cv2.CAP_PROP_FRAME_WIDTH))\n",
    "h = int(cap.get(cv2.CAP_PROP_FRAME_HEIGHT))\n",
    "fps = int(cap.get(cv2.CAP_PROP_FPS)*0.7) # fps 조정으로 속도 조절 가능\n",
    "fourcc = cv2.VideoWriter_fourcc(*'DIVX')\n",
    "# print(w,h,fps)\n",
    "\n",
    "out = cv2.VideoWriter('output_class.avi', fourcc, fps, (w,h))\n",
    "out2 = cv2.VideoWriter('output_class2.avi', fourcc, fps, (w,h))\n",
    "out3 = cv2.VideoWriter('output_class3.avi', fourcc, fps, (w,h))\n",
    "out4 = cv2.VideoWriter('output_class4.avi', fourcc, fps, (w,h))\n",
    "\n",
    "while True:\n",
    "    ret, frame = cap.read()\n",
    "    \n",
    "    if not ret:\n",
    "        print('video read failed')\n",
    "        break\n",
    "    \n",
    "    # 동영상 편집\n",
    "    inverse = ~frame # 255 -  frame과 동일.\n",
    "    edge = cv2.Canny(frame, 30, 150)\n",
    "    edge_color = cv2.cvtColor(edge, cv2.COLOR_GRAY2BGR) # GRAY는 저장되지 않는다.\n",
    "    edge_inverse = ~edge_color\n",
    "    \n",
    "    cv2.imshow('img', frame)\n",
    "    cv2.imshow('inverse', inverse)\n",
    "    cv2.imshow('edge', edge) # 저장 불가능\n",
    "    cv2.imshow('edge_inverse', edge_inverse)\n",
    "    \n",
    "    out.write(frame)\n",
    "    out2.write(inverse)\n",
    "    out3.write(edge_color)\n",
    "    out4.write(edge_inverse)\n",
    "    \n",
    "    if cv2.waitKey(20)==27:\n",
    "        break\n",
    "\n",
    "out.release()\n",
    "cap.release()\n",
    "cv2.destroyAllWindows()"
   ]
  },
  {
   "cell_type": "code",
   "execution_count": null,
   "id": "4961740e",
   "metadata": {},
   "outputs": [],
   "source": []
  }
 ],
 "metadata": {
  "kernelspec": {
   "display_name": "Python 3 (ipykernel)",
   "language": "python",
   "name": "python3"
  },
  "language_info": {
   "codemirror_mode": {
    "name": "ipython",
    "version": 3
   },
   "file_extension": ".py",
   "mimetype": "text/x-python",
   "name": "python",
   "nbconvert_exporter": "python",
   "pygments_lexer": "ipython3",
   "version": "3.9.7"
  }
 },
 "nbformat": 4,
 "nbformat_minor": 5
}
