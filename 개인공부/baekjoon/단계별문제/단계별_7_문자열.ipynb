{
 "cells": [
  {
   "cell_type": "code",
   "execution_count": 9,
   "id": "6f2c5fa2",
   "metadata": {},
   "outputs": [
    {
     "name": "stdout",
     "output_type": "stream",
     "text": [
      "A\n"
     ]
    },
    {
     "data": {
      "text/plain": [
       "65"
      ]
     },
     "execution_count": 9,
     "metadata": {},
     "output_type": "execute_result"
    }
   ],
   "source": [
    "# 아스키 코드\n",
    "n = ord(input())\n",
    "n"
   ]
  },
  {
   "cell_type": "code",
   "execution_count": 1,
   "id": "671eab2b",
   "metadata": {},
   "outputs": [
    {
     "name": "stdout",
     "output_type": "stream",
     "text": [
      "5\n",
      "54321\n",
      "15\n"
     ]
    }
   ],
   "source": [
    "# 숫자의 합\n",
    "n = int(input())\n",
    "lst = list(map(int, str(input())))\n",
    "print(sum(lst))"
   ]
  },
  {
   "cell_type": "code",
   "execution_count": 63,
   "id": "1104ce6e",
   "metadata": {},
   "outputs": [
    {
     "name": "stdout",
     "output_type": "stream",
     "text": [
      "baekjoon\n",
      "1 0 -1 -1 2 -1 -1 -1 -1 4 3 -1 -1 7 5 -1 -1 -1 -1 -1 -1 -1 -1 -1 -1 -1 "
     ]
    }
   ],
   "source": [
    "# 알파벳 찾기\n",
    "S = input()\n",
    "letters = [ -1 for _ in range(26) ]\n",
    "\n",
    "# a:0 b:1\n",
    "for loc, s in enumerate(S):\n",
    "    idx = ord(s) - ord('a')\n",
    "    if letters[idx] == -1:\n",
    "        letters[idx] = loc\n",
    "    \n",
    "for i in letters:\n",
    "    print(i, end=' ')"
   ]
  },
  {
   "cell_type": "code",
   "execution_count": 64,
   "id": "d3f1d6a8",
   "metadata": {},
   "outputs": [
    {
     "name": "stdout",
     "output_type": "stream",
     "text": [
      "2\n",
      "3 ABC\n",
      "AAABBBCCC\n",
      "5 /HTP\n",
      "/////HHHHHTTTTTPPPPP\n"
     ]
    }
   ],
   "source": [
    "# 문자열 반복\n",
    "n = int(input())\n",
    "\n",
    "for i in range(n):\n",
    "    mul, str_ = input().split()\n",
    "    \n",
    "    for s in str_:\n",
    "        print(s*int(mul), end='')\n",
    "    print()"
   ]
  },
  {
   "cell_type": "code",
   "execution_count": 86,
   "id": "0e1b7208",
   "metadata": {},
   "outputs": [
    {
     "name": "stdout",
     "output_type": "stream",
     "text": [
      "baaa\n",
      "A\n"
     ]
    }
   ],
   "source": [
    "# 단어공부\n",
    "import collections\n",
    "s = input().upper()\n",
    "count = collections.Counter(s).most_common(2)\n",
    "\n",
    "if len(s) == 1:\n",
    "    print(s)\n",
    "elif count[0][1] == count[1][1]:\n",
    "    print('?')\n",
    "else:\n",
    "    print(count[0][0])"
   ]
  },
  {
   "cell_type": "code",
   "execution_count": null,
   "id": "f667e211",
   "metadata": {},
   "outputs": [],
   "source": [
    "# 단어공부 - 해\n",
    "s,a=input().lower(),[]\n",
    "for i in range(97,123):\n",
    " a.append(s.count(chr(i)))\n",
    "print('?'if a.count(max(a))>1 else chr(a.index(max(a))+97).upper())"
   ]
  },
  {
   "cell_type": "code",
   "execution_count": 123,
   "id": "c475be03",
   "metadata": {},
   "outputs": [
    {
     "name": "stdout",
     "output_type": "stream",
     "text": [
      "Mississipi\n",
      "?\n"
     ]
    }
   ],
   "source": [
    "# 단어공부 - 해2\n",
    "word = input().lower()\n",
    "word_list = list(set(word))\n",
    "cnt = []\n",
    "\n",
    "for i in word_list:\n",
    "    count = word.count(i)\n",
    "    cnt.append(count)\n",
    "if cnt.count(max(cnt)) > 1 :\n",
    "    print('?')\n",
    "else:\n",
    "    print(word_list[cnt.index(max(cnt))].upper())"
   ]
  },
  {
   "cell_type": "code",
   "execution_count": 9,
   "id": "bb7c128c",
   "metadata": {},
   "outputs": [
    {
     "name": "stdout",
     "output_type": "stream",
     "text": [
      " The first character is a blank\n",
      "6\n"
     ]
    }
   ],
   "source": [
    "# 단어의 개수\n",
    "n = input().split()\n",
    "print(len(n))\n"
   ]
  },
  {
   "cell_type": "code",
   "execution_count": 91,
   "id": "a30408a8",
   "metadata": {},
   "outputs": [
    {
     "name": "stdout",
     "output_type": "stream",
     "text": [
      "734 893\n",
      "437\n"
     ]
    }
   ],
   "source": [
    "# 상수\n",
    "a,b = input().split()\n",
    "a,b = int(a[::-1]), int(b[::-1])\n",
    "print(max(a,b))"
   ]
  },
  {
   "cell_type": "code",
   "execution_count": 115,
   "id": "2df78150",
   "metadata": {},
   "outputs": [
    {
     "name": "stdout",
     "output_type": "stream",
     "text": [
      "WA\n",
      "13\n"
     ]
    }
   ],
   "source": [
    "# 다이얼\n",
    "s = input()\n",
    "alphas = ['ABC','DEF','GHI','JKL','MNO','PQRS','TUV','WXYZ']\n",
    "\n",
    "sum_ = 0\n",
    "for i in s:\n",
    "    for e, alpha in enumerate(alphas):\n",
    "        if i in alpha:\n",
    "            sum_ += e+3\n",
    "print(sum_)"
   ]
  },
  {
   "cell_type": "code",
   "execution_count": 134,
   "id": "fdcad334",
   "metadata": {},
   "outputs": [
    {
     "name": "stdout",
     "output_type": "stream",
     "text": [
      "WA\n",
      "13\n"
     ]
    }
   ],
   "source": [
    "# 다이얼 - 해\n",
    "a = {c: i for i, cs in enumerate((\"ABC\", \"DEF\", \"GHI\", \"JKL\", \"MNO\", \"PQRS\", \"TUV\", \"WXYZ\"), 3) for c in cs}\n",
    "print(sum(a[c] for c in input()))"
   ]
  },
  {
   "cell_type": "code",
   "execution_count": 171,
   "id": "8e5cf271",
   "metadata": {},
   "outputs": [
    {
     "name": "stdout",
     "output_type": "stream",
     "text": [
      "nljj\n",
      "3\n"
     ]
    }
   ],
   "source": [
    "# 크로아티아 알파벳\n",
    "lst = ['c=', 'c-', 'dz=', 'd-', 'lj', 'nj', 's=', 'z=']\n",
    "s = input()\n",
    "sum_ = 0\n",
    "\n",
    "for i in lst:\n",
    "    if i in s:\n",
    "        cnt = s.count(i)\n",
    "        s = s.replace(str(i),' ')\n",
    "        \n",
    "        sum_ += cnt\n",
    "            \n",
    "sum_ += len(s.replace(' ', ''))\n",
    "print(sum_)\n"
   ]
  },
  {
   "cell_type": "code",
   "execution_count": 155,
   "id": "74060d80",
   "metadata": {},
   "outputs": [
    {
     "data": {
      "text/plain": [
       "'sdscsc'"
      ]
     },
     "execution_count": 155,
     "metadata": {},
     "output_type": "execute_result"
    }
   ],
   "source": [
    "# 크로아티아 알파벳 - 해\n",
    "s=input()\n",
    "print(len(s)-sum(map(s.count,['c=','c-','dz=','d-','lj','nj','s=','z='])))"
   ]
  },
  {
   "cell_type": "code",
   "execution_count": 2,
   "id": "6d6042cf",
   "metadata": {},
   "outputs": [
    {
     "name": "stdout",
     "output_type": "stream",
     "text": [
      "4\n",
      "aba\n",
      "abab\n",
      "abcabc\n",
      "a\n",
      "1\n"
     ]
    }
   ],
   "source": [
    "N = int(input())\n",
    "count = N\n",
    "\n",
    "for _ in range(N):\n",
    "    word = input()\n",
    "\n",
    "    for i in range(len(word)-1):\n",
    "        if word.find(word[i]) > word.find(word[i+1]):\n",
    "            count -= 1\n",
    "            break\n",
    "print(count)"
   ]
  },
  {
   "cell_type": "code",
   "execution_count": null,
   "id": "cb76f933",
   "metadata": {},
   "outputs": [],
   "source": []
  },
  {
   "cell_type": "code",
   "execution_count": null,
   "id": "3cce0cd1",
   "metadata": {},
   "outputs": [],
   "source": []
  }
 ],
 "metadata": {
  "kernelspec": {
   "display_name": "Python 3 (ipykernel)",
   "language": "python",
   "name": "python3"
  },
  "language_info": {
   "codemirror_mode": {
    "name": "ipython",
    "version": 3
   },
   "file_extension": ".py",
   "mimetype": "text/x-python",
   "name": "python",
   "nbconvert_exporter": "python",
   "pygments_lexer": "ipython3",
   "version": "3.9.7"
  }
 },
 "nbformat": 4,
 "nbformat_minor": 5
}
