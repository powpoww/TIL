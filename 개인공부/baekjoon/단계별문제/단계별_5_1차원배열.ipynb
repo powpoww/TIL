{
 "cells": [
  {
   "cell_type": "code",
   "execution_count": 1,
   "id": "c0f83d46",
   "metadata": {},
   "outputs": [
    {
     "name": "stdout",
     "output_type": "stream",
     "text": [
      "5\n",
      "20 10 35 30 7\n",
      "7 35\n"
     ]
    }
   ],
   "source": [
    "# 최소 최대\n",
    "n = int(input())\n",
    "lst = list(map(int, input().split()))\n",
    "print(min(lst), max(lst))\n"
   ]
  },
  {
   "cell_type": "code",
   "execution_count": 9,
   "id": "fa15c303",
   "metadata": {},
   "outputs": [
    {
     "name": "stdout",
     "output_type": "stream",
     "text": [
      "3\n",
      "29\n",
      "2 29\n",
      "38\n",
      "3 38\n",
      "12\n",
      "3 38\n",
      "57\n",
      "5 57\n",
      "74\n",
      "6 74\n",
      "40\n",
      "6 74\n",
      "85\n",
      "8 85\n",
      "61\n",
      "8 85\n",
      "85\n",
      "9\n"
     ]
    }
   ],
   "source": [
    "# 최댓값\n",
    "max_ = int(input())\n",
    "idx = 1\n",
    "\n",
    "for i in range(2,10):\n",
    "    _ = int(input())\n",
    "    \n",
    "    if max_ < _ :\n",
    "        max_ = _\n",
    "        idx = i\n",
    "        \n",
    "print(max_)\n",
    "print(idx)"
   ]
  },
  {
   "cell_type": "code",
   "execution_count": 10,
   "id": "1e06fa82",
   "metadata": {},
   "outputs": [
    {
     "name": "stdout",
     "output_type": "stream",
     "text": [
      "150\n",
      "266\n",
      "427\n",
      "3\n",
      "1\n",
      "0\n",
      "2\n",
      "0\n",
      "0\n",
      "0\n",
      "2\n",
      "0\n",
      "0\n"
     ]
    }
   ],
   "source": [
    "# 숫자의 개수\n",
    "A = int(input())\n",
    "B = int(input())\n",
    "C = int(input())\n",
    "\n",
    "n = str(A*B*C)\n",
    "lst = [0 for _ in range(10)]\n",
    "\n",
    "for i in n:\n",
    "    lst[int(i)] +=1\n",
    "    \n",
    "for i in lst:\n",
    "    print(i)"
   ]
  },
  {
   "cell_type": "code",
   "execution_count": 21,
   "id": "3f77d2e5",
   "metadata": {},
   "outputs": [
    {
     "name": "stdout",
     "output_type": "stream",
     "text": [
      "1\n",
      "2\n",
      "3\n",
      "4\n",
      "5\n",
      "6\n",
      "7\n",
      "8\n",
      "9\n",
      "10\n",
      "10\n"
     ]
    }
   ],
   "source": [
    "# 나머지\n",
    "lst = []\n",
    "for i in range(10):\n",
    "    n = int(input()) % 42\n",
    "    lst.append(n)\n",
    "\n",
    "print(len(set(lst)))\n",
    "\n",
    "# 내가쓴것\n",
    "import collections\n",
    "lst = []\n",
    "for i in range(10):\n",
    "    n = int(input())\n",
    "    x = n%42\n",
    "    \n",
    "    lst.append(x)\n",
    "\n",
    "print(len(collections.Counter(lst)))"
   ]
  },
  {
   "cell_type": "code",
   "execution_count": 39,
   "id": "f808cb2f",
   "metadata": {},
   "outputs": [
    {
     "name": "stdout",
     "output_type": "stream",
     "text": [
      "3\n",
      "40 80 60\n",
      "75.0\n"
     ]
    }
   ],
   "source": [
    "# 평균\n",
    "n = int(input())\n",
    "lst = list(map(int, input().split()))\n",
    "M = max(lst)\n",
    "\n",
    "sum_ = (sum(lst) / M * 100)\n",
    "avg_ = sum_/n\n",
    "print(avg_)"
   ]
  },
  {
   "cell_type": "code",
   "execution_count": 46,
   "id": "701dd35c",
   "metadata": {},
   "outputs": [
    {
     "name": "stdout",
     "output_type": "stream",
     "text": [
      "5\n",
      "OOXXOXXOOO\n",
      "OOXXOOXXOO\n",
      "OXOXOXOXOXOXOX\n",
      "OOOOOOOOOO\n",
      "OOOOXOOOOXOOOOX\n",
      "10\n",
      "9\n",
      "7\n",
      "55\n",
      "30\n"
     ]
    }
   ],
   "source": [
    "n = int(input())\n",
    "sum_arr = []\n",
    "for i in range(n):\n",
    "    ox_ = input()\n",
    "    sum_ = 0\n",
    "    add = 0\n",
    "\n",
    "    for ox in ox_ :\n",
    "        if ox == 'O':\n",
    "            add += 1\n",
    "            sum_ += add\n",
    "        else:\n",
    "            add = 0\n",
    "    sum_arr.append(sum_)\n",
    "\n",
    "for i in sum_arr:\n",
    "    print(i)"
   ]
  },
  {
   "cell_type": "code",
   "execution_count": 50,
   "id": "eb03d480",
   "metadata": {},
   "outputs": [
    {
     "name": "stdout",
     "output_type": "stream",
     "text": [
      "2\n",
      "5 50 50 70 80 100\n",
      "40.000\n",
      "7 100 95 90 80 70 60 50\n",
      "57.143\n"
     ]
    }
   ],
   "source": [
    "# 평균은 넘겠지\n",
    "C = int(input())\n",
    "\n",
    "for i in range(C):\n",
    "    lst = list(map(int, input().split()))\n",
    "    n = lst[0]\n",
    "    scores = lst[1:]\n",
    "    \n",
    "    avg_ = sum(scores)/len(scores)\n",
    "    over_mean = [x for x in scores if x > avg_]\n",
    "    percent = round(len(over_mean)/len(scores)*100, 3)\n",
    "    print('%.3f%%' %percent)\n"
   ]
  },
  {
   "cell_type": "code",
   "execution_count": null,
   "id": "ca12c951",
   "metadata": {},
   "outputs": [],
   "source": []
  }
 ],
 "metadata": {
  "kernelspec": {
   "display_name": "Python 3 (ipykernel)",
   "language": "python",
   "name": "python3"
  },
  "language_info": {
   "codemirror_mode": {
    "name": "ipython",
    "version": 3
   },
   "file_extension": ".py",
   "mimetype": "text/x-python",
   "name": "python",
   "nbconvert_exporter": "python",
   "pygments_lexer": "ipython3",
   "version": "3.9.7"
  }
 },
 "nbformat": 4,
 "nbformat_minor": 5
}
