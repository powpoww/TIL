{
 "cells": [
  {
   "cell_type": "markdown",
   "id": "8b641662",
   "metadata": {},
   "source": [
    "# 6063 : [기초-3항연산] 정수 2개 입력받아 큰 값 출력하기(설명)(py)\n",
    "시간 제한: 1 Sec  메모리 제한: 128 MB\n",
    "\n",
    "입력된 두 정수(a, b) 중 큰 값을 출력하는 프로그램을 작성해보자.\n",
    "단, 3항 연산을 사용한다.\n"
   ]
  },
  {
   "cell_type": "markdown",
   "id": "8900d2c7",
   "metadata": {},
   "source": [
    "참고\n",
    "3개의 요소로 이루어지는 3항 연산은\n",
    "\"x if C else y\" 의 형태로 작성이 된다.\n",
    "- C : True 또는 False 를 평가할 조건식(conditional expression) 또는 값\n",
    "- x : C의 평가 결과가 True 일 때 사용할 값\n",
    "- y : C의 평가 결과가 True 가 아닐 때 사용할 값\n",
    "\n",
    "조건식 또는 값이 True 이면 x 값이 사용되고, True가 아니면 y 값이 사용되도록 하는 코드이다.\n"
   ]
  },
  {
   "cell_type": "code",
   "execution_count": 2,
   "id": "acddd961",
   "metadata": {},
   "outputs": [
    {
     "name": "stdout",
     "output_type": "stream",
     "text": [
      "123 456\n",
      "456\n"
     ]
    }
   ],
   "source": [
    "a,b = input().split()\n",
    "a = int(a)\n",
    "b = int(b)\n",
    "c = a if a>b else b\n",
    "print(c)"
   ]
  },
  {
   "cell_type": "markdown",
   "id": "bd466393",
   "metadata": {},
   "source": [
    "# 6064 : [기초-3항연산] 정수 3개 입력받아 가장 작은 값 출력하기(설명)(py)\n",
    "시간 제한: 1 Sec  메모리 제한: 128 MB\n",
    "\n",
    "입력된 세 정수 a, b, c 중 가장 작은 값을 출력하는 프로그램을 작성해보자.\n",
    "단, 3항 연산을 사용한다."
   ]
  },
  {
   "cell_type": "markdown",
   "id": "d86ee5d6",
   "metadata": {},
   "source": [
    "참고\n",
    "프로그래밍언어 소스코드 작성시 모든 요소들은\n",
    "\"순서에 따라 한 단계씩 실행\"\n",
    "\"미리 정해진 순서에 따라 하나씩 연산 수행\"\n",
    "\"그 때까지 연산된 결과를 이용해 다시 순서에 따라 하나씩 연산\"\n",
    "...\n",
    "등의 원리가 적용된다.\n",
    "\n",
    "따라서 3항 연산을 중첩해(괄호로 묶는 등..) 이용하면 여러 값들을 순서대로 비교해 가장 큰/작은 값을 계산할 수 있다.\n",
    "\n",
    "예를 들어\n",
    "(a if a>b else b) if ((a if a>b else b)>c) else c\n",
    "와 같은 계산식은 a, b, c 의 값 중 가장 큰 값으로 계산된다.\n",
    "\n",
    "잘 이해가 되지 않는다면 어떤 순서에 따라 계산될 지 생각해보고\n",
    "여러 가지 연산자가 동시에 사용된 식이 있을 때, 어떤 우선순위에 따라 순서대로 계산이 되는지 찾아보도록 한다."
   ]
  },
  {
   "cell_type": "code",
   "execution_count": 5,
   "id": "5cb030dc",
   "metadata": {},
   "outputs": [
    {
     "name": "stdout",
     "output_type": "stream",
     "text": [
      "3 -1 5\n",
      "-1\n"
     ]
    }
   ],
   "source": [
    "a,b,c = input().split()\n",
    "a = int(a)\n",
    "b = int(b)\n",
    "c = int(c)\n",
    "\n",
    "d = (a if a<b else b) if ((a if a<b else b)<c) else c\n",
    "print(d)"
   ]
  },
  {
   "cell_type": "code",
   "execution_count": null,
   "id": "7e663a7f",
   "metadata": {},
   "outputs": [],
   "source": []
  }
 ],
 "metadata": {
  "kernelspec": {
   "display_name": "Python 3 (ipykernel)",
   "language": "python",
   "name": "python3"
  },
  "language_info": {
   "codemirror_mode": {
    "name": "ipython",
    "version": 3
   },
   "file_extension": ".py",
   "mimetype": "text/x-python",
   "name": "python",
   "nbconvert_exporter": "python",
   "pygments_lexer": "ipython3",
   "version": "3.9.7"
  }
 },
 "nbformat": 4,
 "nbformat_minor": 5
}
