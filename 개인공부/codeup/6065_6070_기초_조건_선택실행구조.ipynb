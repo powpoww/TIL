{
 "cells": [
  {
   "cell_type": "markdown",
   "id": "d9754473",
   "metadata": {},
   "source": [
    "# 6065 : [기초-조건/선택실행구조] 정수 3개 입력받아 짝수만 출력하기(설명)(py)\n",
    "시간 제한: 1 Sec  메모리 제한: 128 MB\n",
    "\n",
    "3개의 정수(a, b, c)가 입력되었을 때, 짝수만 출력해보자.\n"
   ]
  },
  {
   "cell_type": "code",
   "execution_count": 3,
   "id": "e92bda30",
   "metadata": {},
   "outputs": [
    {
     "name": "stdout",
     "output_type": "stream",
     "text": [
      "1 2 4\n",
      "2\n",
      "4\n"
     ]
    }
   ],
   "source": [
    "a,b,c = input().split()\n",
    "a = int(a)\n",
    "b = int(b)\n",
    "c = int(c)\n",
    "\n",
    "for i in [a,b,c]:\n",
    "    if i%2==0:\n",
    "        print(i)"
   ]
  },
  {
   "cell_type": "markdown",
   "id": "8f002e0a",
   "metadata": {},
   "source": [
    "# 6066 : [기초-조건/선택실행구조] 정수 3개 입력받아 짝/홀 출력하기(설명)(py)\n",
    "시간 제한: 1 Sec  메모리 제한: 128 MB\n",
    "\n",
    "3개의 정수(a, b, c)가 입력되었을 때, 짝(even)/홀(odd)을 출력해보자."
   ]
  },
  {
   "cell_type": "code",
   "execution_count": 4,
   "id": "70b30f3b",
   "metadata": {},
   "outputs": [
    {
     "name": "stdout",
     "output_type": "stream",
     "text": [
      "1 2 8\n",
      "odd\n",
      "even\n",
      "even\n"
     ]
    }
   ],
   "source": [
    "a,b,c = input().split()\n",
    "a = int(a)\n",
    "b = int(b)\n",
    "c = int(c)\n",
    "\n",
    "for i in [a,b,c]:\n",
    "    if i%2==0:\n",
    "        print('even')\n",
    "    else:\n",
    "        print('odd')"
   ]
  },
  {
   "cell_type": "markdown",
   "id": "60942bde",
   "metadata": {},
   "source": [
    "# 6067 : [기초-조건/선택실행구조] 정수 1개 입력받아 분류하기(설명)(py)\n",
    "시간 제한: 1 Sec  메모리 제한: 128 MB\n",
    "\n",
    "0이 아닌 정수 1개가 입력되었을 때, 음(-)/양(+)과 짝(even)/홀(odd)을 구분해 분류해보자.\\\n",
    "음수이면서 짝수이면, A\\\n",
    "음수이면서 홀수이면, B\\\n",
    "양수이면서 짝수이면, C\\\n",
    "양수이면서 홀수이면, D\\\n",
    "를 출력한다."
   ]
  },
  {
   "cell_type": "code",
   "execution_count": 5,
   "id": "3cf5f3c1",
   "metadata": {},
   "outputs": [
    {
     "name": "stdout",
     "output_type": "stream",
     "text": [
      "-2147483648\n",
      "A\n"
     ]
    }
   ],
   "source": [
    "a = int(input())\n",
    "\n",
    "if a <0 :\n",
    "    if a%2 == 0 :\n",
    "        print('A')\n",
    "    else:\n",
    "        print('B')\n",
    "else:\n",
    "    if a%2 == 0:\n",
    "        print('C')\n",
    "    else:\n",
    "        print('D')"
   ]
  },
  {
   "cell_type": "markdown",
   "id": "3399f775",
   "metadata": {},
   "source": [
    "# 6068 : [기초-조건/선택실행구조] 점수 입력받아 평가 출력하기(설명)(py)\n",
    "시간 제한: 1 Sec  메모리 제한: 128 MB\n",
    "\n",
    "점수(정수, 0 ~ 100)를 입력받아 평가를 출력해보자.\n",
    "평가 기준\\\n",
    "점수 범위 : 평가\\\n",
    " 90 ~ 100 : A\\\n",
    " 70 ~   89 : B\\\n",
    " 40 ~   69 : C\\\n",
    "   0 ~   39 : D\\\n",
    "로 평가되어야 한다.\n"
   ]
  },
  {
   "cell_type": "code",
   "execution_count": 6,
   "id": "0dd28c5e",
   "metadata": {},
   "outputs": [
    {
     "name": "stdout",
     "output_type": "stream",
     "text": [
      "73\n",
      "B\n"
     ]
    }
   ],
   "source": [
    "a = int(input())\n",
    "b = None\n",
    "if a <= 39:\n",
    "    b = 'D'\n",
    "elif a <=69:\n",
    "    b = 'C'\n",
    "elif a <= 89:\n",
    "    b = 'B'\n",
    "else:\n",
    "    b = 'A'\n",
    "print(b)"
   ]
  },
  {
   "cell_type": "markdown",
   "id": "3bcee076",
   "metadata": {},
   "source": [
    "# 6069 : [기초-조건/선택실행구조] 평가 입력받아 다르게 출력하기(py)\n",
    "시간 제한: 1 Sec  메모리 제한: 128 MB\n",
    "\n",
    "평가를 문자(A, B, C, D, ...)로 입력받아 내용을 다르게 출력해보자.\n",
    "\n",
    "평가 내용\\\n",
    "평가 : 내용\\\n",
    "A : best!!!\\\n",
    "B : good!!\\\n",
    "C : run!\\\n",
    "D : slowly~\\\n",
    "나머지 문자들 : what?"
   ]
  },
  {
   "cell_type": "code",
   "execution_count": 8,
   "id": "a467bbcd",
   "metadata": {},
   "outputs": [
    {
     "name": "stdout",
     "output_type": "stream",
     "text": [
      "A\n",
      "best!!!\n"
     ]
    }
   ],
   "source": [
    "a = input()\n",
    "b = None\n",
    "\n",
    "if a =='A':\n",
    "    b = 'best!!!'\n",
    "elif a=='B':\n",
    "    b='good!!'\n",
    "elif a=='C':\n",
    "    b='run!'\n",
    "elif a=='D':\n",
    "    b='slowly~'\n",
    "else:\n",
    "    b='what?'\n",
    "print(b)"
   ]
  },
  {
   "cell_type": "markdown",
   "id": "053707da",
   "metadata": {},
   "source": [
    "# 6070 : [기초-조건/선택실행구조] 월 입력받아 계절 출력하기(설명)(py)\n",
    "시간 제한: 1 Sec  메모리 제한: 128 MB\n",
    "\n",
    "월이 입력될 때 계절 이름이 출력되도록 해보자.\n",
    "\n",
    "월 : 계절 이름\\\n",
    "12, 1, 2 : winter\\\n",
    "  3, 4, 5 : spring\\\n",
    "  6, 7, 8 : summer\\\n",
    "  9, 10, 11 : fall"
   ]
  },
  {
   "cell_type": "code",
   "execution_count": 11,
   "id": "79dc5e3b",
   "metadata": {},
   "outputs": [
    {
     "name": "stdout",
     "output_type": "stream",
     "text": [
      "12\n",
      "winter\n"
     ]
    }
   ],
   "source": [
    "a = int(input())\n",
    "b = None\n",
    "\n",
    "if a//3==3:\n",
    "    b = 'fall'\n",
    "elif a//3==1:\n",
    "    b='spring'\n",
    "elif a//3==2:\n",
    "    b='summer'\n",
    "else:\n",
    "    b='winter'\n",
    "print(b)"
   ]
  },
  {
   "cell_type": "code",
   "execution_count": null,
   "id": "be114a0e",
   "metadata": {},
   "outputs": [],
   "source": []
  }
 ],
 "metadata": {
  "kernelspec": {
   "display_name": "Python 3 (ipykernel)",
   "language": "python",
   "name": "python3"
  },
  "language_info": {
   "codemirror_mode": {
    "name": "ipython",
    "version": 3
   },
   "file_extension": ".py",
   "mimetype": "text/x-python",
   "name": "python",
   "nbconvert_exporter": "python",
   "pygments_lexer": "ipython3",
   "version": "3.9.7"
  }
 },
 "nbformat": 4,
 "nbformat_minor": 5
}
