{
 "cells": [
  {
   "cell_type": "markdown",
   "id": "2ce77a11",
   "metadata": {},
   "source": [
    "# 6025 : [기초-값변환] 정수 2개 입력받아 합 계산하기(설명)(py)\n",
    "시간 제한: 1 Sec  메모리 제한: 128 MB"
   ]
  },
  {
   "cell_type": "markdown",
   "id": "feceb224",
   "metadata": {},
   "source": [
    "정수 2개를 입력받아\n",
    "합을 출력하는 프로그램을 작성해보자.\n",
    "\n",
    "예시\n",
    "a, b = input().split()\n",
    "c = int(a) + int(b)\n",
    "print(c)\n",
    "\n",
    "참고\n",
    "입력되는 값은 기본적으로 문자열로 인식된다.\n",
    "\n",
    "문자열 + 문자열은 두 문자열을 합친 문자열을 만든다.\n",
    "숫자로 구성된 문자열이나 실수를 정수(integer) 값으로 바꾸기 위해서는 int( ) 를 사용할 수 있다.\n",
    "수 + 수의 결과는 합(addition)이 계산된다."
   ]
  },
  {
   "cell_type": "code",
   "execution_count": 2,
   "id": "7fd56d39",
   "metadata": {},
   "outputs": [
    {
     "name": "stdout",
     "output_type": "stream",
     "text": [
      "1 2\n",
      "3\n"
     ]
    }
   ],
   "source": [
    "a,b = input().split()\n",
    "c = int(a) + int(b)\n",
    "print(c)"
   ]
  },
  {
   "cell_type": "markdown",
   "id": "762951b1",
   "metadata": {},
   "source": [
    "# 6026 : [기초-값변환] 실수 2개 입력받아 합 계산하기(설명)(py)\n",
    "시간 제한: 1 Sec  메모리 제한: 128 MB\n",
    "\n",
    "\n",
    "실수 2개를 입력받아\n",
    "합을 출력하는 프로그램을 작성해보자.\n",
    "\n",
    "참고\n",
    "입력되는 값은 기본적으로 문자열로 인식된다.\n",
    "\n",
    "숫자로 구성된 문자열이나 정수를 실수(real number) 값으로 바꾸기 위해서는 float( ) 를 사용할 수 있다.\n",
    "소숫점(.)은 그 위치가 정해져있지 않고 이리저리 둥둥 떠다니므로, floating point라고 부른다.\n"
   ]
  },
  {
   "cell_type": "code",
   "execution_count": 5,
   "id": "27af3153",
   "metadata": {},
   "outputs": [
    {
     "name": "stdout",
     "output_type": "stream",
     "text": [
      "0.1\n",
      "0.9\n",
      "1.0\n"
     ]
    }
   ],
   "source": [
    "a = input()\n",
    "b = input()\n",
    "c = float(a) + float(b)\n",
    "print(c)"
   ]
  },
  {
   "cell_type": "markdown",
   "id": "64784132",
   "metadata": {},
   "source": [
    "# 6027 : [기초-출력변환] 10진 정수 입력받아 16진수로 출력하기1(설명)(py)\n",
    "시간 제한: 1 Sec  메모리 제한: 128 MB\n",
    "\n",
    "10진수를 입력받아 16진수(hexadecimal)로 출력해보자."
   ]
  },
  {
   "cell_type": "markdown",
   "id": "cac3988f",
   "metadata": {},
   "source": [
    "예시\n",
    "a = input()\n",
    "n = int(a)            #입력된 a를 10진수 값으로 변환해 변수 n에 저장\n",
    "print('%x'% n)  #n에 저장되어있는 값을 16진수(hexadecimal) 소문자 형태 문자열로 출력\n",
    "\n",
    "참고\n",
    "10진수 형태로 입력받고\n",
    "%x로 출력하면 16진수(hexadecimal) 소문자로 출력된다.\n",
    "(%o로 출력하면 8진수(octal) 문자열로 출력된다.)\n",
    "\n",
    "10진법은 한 자리에 10개(0 1 2 3 4 5 6 7 8 9)의 문자를 사용하고,\n",
    "16진법은 영문 소문자를 사용하는 경우에 한 자리에 16개(0 1 2 3 4 5 6 7 8 9 a b c d e f)의 문자를 사용한다.\n",
    "16진수 a는 10진수의 10, b는 11, c는 12 ... 와 같다."
   ]
  },
  {
   "cell_type": "code",
   "execution_count": 6,
   "id": "829d0e24",
   "metadata": {},
   "outputs": [
    {
     "name": "stdout",
     "output_type": "stream",
     "text": [
      "255\n",
      "ff\n"
     ]
    }
   ],
   "source": [
    "a = input()\n",
    "print('%x' %int(a))"
   ]
  },
  {
   "cell_type": "markdown",
   "id": "a054fd81",
   "metadata": {},
   "source": [
    "# 6028 : [기초-출력변환] 10진 정수 입력받아 16진수로 출력하기2(설명)(py)\n",
    "시간 제한: 1 Sec  메모리 제한: 128 MB"
   ]
  },
  {
   "cell_type": "markdown",
   "id": "36b4b939",
   "metadata": {},
   "source": [
    "10진수를 입력받아 16진수(hexadecimal)로 출력해보자.\n",
    "\n",
    "예시\n",
    "print('%X' % n)  #n에 저장되어있는 값을 16진수 대문자 형태 문자열로 출력\n",
    "\n",
    "참고\n",
    "10진수 형태로 입력받고\n",
    "%X로 출력하면 16진수(hexadecimal)대문자로 출력된다.\n",
    "\n",
    "16진법은 영문 소문자를 사용하는 경우에 한 자리에 16개(0 1 2 3 4 5 6 7 8 9 A B C D E F)의 문자를 사용한다.\n",
    "16진수 A는 10진수의 10, B는 11, C는 12 ... 와 같다."
   ]
  },
  {
   "cell_type": "code",
   "execution_count": 7,
   "id": "29709d24",
   "metadata": {},
   "outputs": [
    {
     "name": "stdout",
     "output_type": "stream",
     "text": [
      "255\n",
      "FF\n"
     ]
    }
   ],
   "source": [
    "a = input()\n",
    "print('%X' %int(a))"
   ]
  },
  {
   "cell_type": "markdown",
   "id": "5ab14f75",
   "metadata": {},
   "source": [
    "# 6029 : [기초-값변환] 16진 정수 입력받아 8진수로 출력하기(설명)(py)\n",
    "시간 제한: 1 Sec  메모리 제한: 128 MB"
   ]
  },
  {
   "cell_type": "markdown",
   "id": "c824fa9c",
   "metadata": {},
   "source": [
    "16진수를 입력받아 8진수(octal)로 출력해보자.\n",
    "\n",
    "예시\n",
    "a = input()\n",
    "n = int(a, 16)      #입력된 a를 16진수로 인식해 변수 n에 저장\n",
    "print('%o' % n)  #n에 저장되어있는 값을 8진수(octal) 형태 문자열로 출력\n",
    "\n",
    "참고\n",
    "8진법은 한 자리에 8개(0 1 2 3 4 5 6 7)의 문자를 사용한다.\n",
    "8진수 10은 10진수의 8, 11은 9, 12는 10 ... 와 같다."
   ]
  },
  {
   "cell_type": "code",
   "execution_count": 8,
   "id": "797f207d",
   "metadata": {},
   "outputs": [
    {
     "name": "stdout",
     "output_type": "stream",
     "text": [
      "f\n",
      "17\n"
     ]
    }
   ],
   "source": [
    "a = input()\n",
    "n = int(a, 16)\n",
    "print('%o' %n)"
   ]
  },
  {
   "cell_type": "markdown",
   "id": "348184ad",
   "metadata": {},
   "source": [
    "# 6030 : [기초-값변환] 영문자 1개 입력받아 10진수로 변환하기(설명)(py)\n",
    "시간 제한: 1 Sec  메모리 제한: 128 MB\n",
    "\n",
    "영문자 1개를 입력받아 10진수 유니코드(Unicode) 값으로 출력해보자."
   ]
  },
  {
   "cell_type": "markdown",
   "id": "d2b36277",
   "metadata": {},
   "source": [
    "예시\n",
    "n = ord(input())\n",
    "print(n)\n",
    "\n",
    "참고\n",
    "n = ord(input())  #입력받은 문자를 10진수 유니코드 값으로 변환한 후, n에 저장한다.\n",
    "\n",
    "ord( ) 는 어떤 문자의 순서 위치(ordinal position) 값을 의미한다.  \n",
    "실제로 각각의 문자들에는 연속된 정수 값이 순서에 따라 부여 되어 있다. A:65, B:66, C:67 .... \n",
    "ord(c) : 문자 c 를 10진수로 변환한 값 \n",
    "\n",
    "컴퓨터로 저장되고 처리되는 모든 데이터들은 2진수 형태로 정수화 되어야 하는데,\n",
    "컴퓨터에 문자를 저장하는 방법으로 아스키코드(ASCII Code)나 유니코드(Unicode)가 자주 사용된다.\n",
    "\n",
    "예를 들어, 영문 대문자 'A'는 10진수 값 65 로 표현하고, \n",
    "2진수(binary digit) 값 1000001 로 바꾸어 컴퓨터 내부에 저장한다. \n",
    "\n",
    "유니코드(unicode)는 세계 여러 나라의 문자를 공통된 코드 값으로 저장할 때 사용하는 표준 코드이다."
   ]
  },
  {
   "cell_type": "code",
   "execution_count": 9,
   "id": "7b47d148",
   "metadata": {},
   "outputs": [
    {
     "name": "stdout",
     "output_type": "stream",
     "text": [
      "A\n",
      "65\n"
     ]
    }
   ],
   "source": [
    "n = ord(input())\n",
    "print(n)"
   ]
  },
  {
   "cell_type": "markdown",
   "id": "1d4e50fe",
   "metadata": {},
   "source": [
    "# 6031 : [기초-값변환] 정수 입력받아 유니코드 문자로 변환하기(설명)(py)\n",
    "시간 제한: 1 Sec  메모리 제한: 128 MB\n",
    "\n",
    "10진 정수 1개를 입력받아\n",
    "유니코드 문자로 출력해보자.\n"
   ]
  },
  {
   "cell_type": "markdown",
   "id": "9e7b004d",
   "metadata": {},
   "source": [
    "예시\n",
    "c = int(input())\n",
    "print(chr(c))  #c에 저장되어 있는 정수 값을 유니코드 문자(chracter)로 바꿔 출력한다. \n",
    "\n",
    "\n",
    "참고\n",
    "입력은 기본적으로 모두 문자열로 입력되는 것이라고 할 수 있다. \n",
    "따라서, 입력 값이 문자/문자열/정수/실수인지에 따라서 먼저 정확하게 변환시킨 다음에 사용하거나 계산하는 것이 좋다.\n",
    "\n",
    "예를 들어 123 이 입력 되었다고 한다면, 이건 정수일까? 문자열일까?\n",
    "조금 생각해보면, 입력된 것만 보고는 그 값이 어떤 데이터인지 알 수 없다는 것을 쉽게 이해할 수 있다.\n",
    "따라서, 그 입력 값을 어떻게 해석하고 변환할 지에 대해서 명확하게 작성해 주어야 하는 것이다. \n",
    "\n",
    "chr( )는 정수값->문자, ord( )는 문자->정수값 형태로 바꿔주는 서로 반대 방향으로 바꾸어 주는 기능을 한다."
   ]
  },
  {
   "cell_type": "code",
   "execution_count": 10,
   "id": "61039f0d",
   "metadata": {},
   "outputs": [
    {
     "name": "stdout",
     "output_type": "stream",
     "text": [
      "65\n",
      "A\n"
     ]
    }
   ],
   "source": [
    "a = input()\n",
    "n = chr(int(a, 10))\n",
    "print(n)"
   ]
  },
  {
   "cell_type": "markdown",
   "id": "5e429111",
   "metadata": {},
   "source": [
    "# 6042 : [기초-값변환] 실수 1개 입력받아 소숫점이하 자리 변환하기(설명)(py)\n",
    "시간 제한: 1 Sec  메모리 제한: 128 MB\n",
    "\n",
    "실수 1개를 입력받아\n",
    "소숫점 이하 두 번째 자리까지의 정확도로 반올림한 값을 출력해보자."
   ]
  },
  {
   "cell_type": "markdown",
   "id": "22ebbfc3",
   "metadata": {},
   "source": [
    "예시\n",
    "\n",
    "a=float(input())\n",
    "print( format(a, \".2f\") )\n",
    "\n",
    "\n",
    "참고\n",
    "format(수, \".2f\") 를 사용하면 원하는 자리까지의 정확도로 반올림 된 실수 값을 만들어 준다. \n",
    "\n",
    "여기서 만들어진 값은 소수점 아래 3번째 자리에서 반올림한 값이다.\n",
    "\n",
    "컴퓨터 프로그래밍에서 실수 변환이나 실수를 사용하는 계산은\n",
    "정확하게 변환되거나 계산되는 것이 아니라, 거의 모두 근사값으로 계산되는 것이라고 할 수 있다. \n",
    "\n",
    "실수가 컴퓨터로 저장되기 위해서는 디지털방식으로 2진 정수화되어 저장되어야 하는데,\n",
    "그 과정에서 아주 작은 부분이 저장되지 않고 사라지는 잘림(truncation) 오차가 자주 발생하기 때문이다."
   ]
  },
  {
   "cell_type": "code",
   "execution_count": 12,
   "id": "ef546a71",
   "metadata": {},
   "outputs": [
    {
     "name": "stdout",
     "output_type": "stream",
     "text": [
      "3.141592\n",
      "3.14\n"
     ]
    }
   ],
   "source": [
    "a = float(input())\n",
    "print('%.2f' %a)"
   ]
  },
  {
   "cell_type": "code",
   "execution_count": null,
   "id": "e2147dea",
   "metadata": {},
   "outputs": [],
   "source": []
  }
 ],
 "metadata": {
  "kernelspec": {
   "display_name": "Python 3 (ipykernel)",
   "language": "python",
   "name": "python3"
  },
  "language_info": {
   "codemirror_mode": {
    "name": "ipython",
    "version": 3
   },
   "file_extension": ".py",
   "mimetype": "text/x-python",
   "name": "python",
   "nbconvert_exporter": "python",
   "pygments_lexer": "ipython3",
   "version": "3.9.7"
  }
 },
 "nbformat": 4,
 "nbformat_minor": 5
}
