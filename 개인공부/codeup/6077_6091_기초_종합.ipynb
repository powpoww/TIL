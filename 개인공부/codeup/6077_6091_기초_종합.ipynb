{
 "cells": [
  {
   "cell_type": "markdown",
   "id": "6b3140d0",
   "metadata": {},
   "source": [
    "# 6077 : [기초-종합] 짝수 합 구하기(설명)(py)\n",
    "시간 제한: 1 Sec  메모리 제한: 128 MB\n",
    "\n",
    "정수(1 ~ 100) 1개를 입력받아 1부터 그 수까지 짝수의 합을 구해보자."
   ]
  },
  {
   "cell_type": "code",
   "execution_count": 1,
   "id": "cdd9dece",
   "metadata": {},
   "outputs": [
    {
     "name": "stdout",
     "output_type": "stream",
     "text": [
      "5\n",
      "6\n"
     ]
    }
   ],
   "source": [
    "n = int(input())\n",
    "sum_ = 0\n",
    "\n",
    "for i in range(1,n+1):\n",
    "    if i%2 ==0:\n",
    "        sum_ += i\n",
    "print(sum_)"
   ]
  },
  {
   "cell_type": "markdown",
   "id": "f081fdb2",
   "metadata": {},
   "source": [
    "# 6078 : [기초-종합] 원하는 문자가 입력될 때까지 반복 출력하기(py)\n",
    "시간 제한: 1 Sec  메모리 제한: 128 MB\n",
    "\n",
    "영문 소문자 'q'가 입력될 때까지\n",
    "입력한 문자를 계속 출력하는 프로그램을 작성해보자."
   ]
  },
  {
   "cell_type": "code",
   "execution_count": 3,
   "id": "6c03ce1b",
   "metadata": {},
   "outputs": [
    {
     "name": "stdout",
     "output_type": "stream",
     "text": [
      "x\n",
      "x\n",
      "b\n",
      "b\n",
      "k\n",
      "k\n",
      "d\n",
      "d\n",
      "l\n",
      "l\n",
      "q\n",
      "q\n"
     ]
    }
   ],
   "source": [
    "while True:\n",
    "    a = input()\n",
    "    print(a)\n",
    "    if a == 'q':\n",
    "        break"
   ]
  },
  {
   "cell_type": "markdown",
   "id": "fc2519f1",
   "metadata": {},
   "source": [
    "# 6079 : [기초-종합] 언제까지 더해야 할까?(py)\n",
    "시간 제한: 1 Sec  메모리 제한: 128 MB\n",
    "\n",
    "1, 2, 3 ... 을 계속 더해 나갈 때,\n",
    "그 합이 입력한 정수(0 ~ 1000)보다 같거나 작을 때까지만\n",
    "계속 더하는 프로그램을 작성해보자."
   ]
  },
  {
   "cell_type": "code",
   "execution_count": 42,
   "id": "6b839724",
   "metadata": {
    "scrolled": true
   },
   "outputs": [
    {
     "name": "stdout",
     "output_type": "stream",
     "text": [
      "55\n",
      "10\n"
     ]
    }
   ],
   "source": [
    "n = int(input())\n",
    "sum_= 0\n",
    "i = 0\n",
    "while True:\n",
    "    if sum_ >= n:\n",
    "        break\n",
    "    else:\n",
    "        i += 1\n",
    "        sum_ +=i\n",
    "    \n",
    "print(i)"
   ]
  },
  {
   "cell_type": "markdown",
   "id": "b7ab67d3",
   "metadata": {},
   "source": [
    "# 6080 : [기초-종합] 주사위 2개 던지기(설명)(py)\n",
    "시간 제한: 1 Sec  메모리 제한: 128 MB\n",
    "\n",
    "1부터 n까지, 1부터 m까지 숫자가 적힌 서로 다른 주사위 2개를 던졌을 때,\n",
    "나올 수 있는 모든 경우를 출력해보자.\n"
   ]
  },
  {
   "cell_type": "code",
   "execution_count": 46,
   "id": "911b33e6",
   "metadata": {},
   "outputs": [
    {
     "name": "stdout",
     "output_type": "stream",
     "text": [
      "2 3\n",
      "1 1\n",
      "1 2\n",
      "1 3\n",
      "2 1\n",
      "2 2\n",
      "2 3\n"
     ]
    }
   ],
   "source": [
    "n,m = input().split()\n",
    "\n",
    "for i in range(1, int(n)+1):\n",
    "    for j in range(1, int(m)+1):\n",
    "        print(i,j)"
   ]
  },
  {
   "cell_type": "markdown",
   "id": "4a56470e",
   "metadata": {},
   "source": [
    "# 6081 : [기초-종합] 16진수 구구단 출력하기(py)\n",
    "시간 제한: 1 Sec  메모리 제한: 128 MB\n",
    "\n",
    "16진수(0, 1, 2, 3, 4, 5, 6, 7, 8, 9, A, B, C, D, E, F)를 배운\n",
    "영일이는 16진수끼리 곱하는 16진수 구구단?에 대해서 궁금해졌다.\n",
    "\n",
    "A, B, C, D, E, F 중 하나가 입력될 때,\n",
    "1부터 F까지 곱한 16진수 구구단의 내용을 출력해보자.\n",
    "(단, A ~ F 까지만 입력된다.)"
   ]
  },
  {
   "cell_type": "code",
   "execution_count": 60,
   "id": "57101270",
   "metadata": {
    "scrolled": false
   },
   "outputs": [
    {
     "name": "stdout",
     "output_type": "stream",
     "text": [
      "B\n",
      "B*1=B\n",
      "B*2=16\n",
      "B*3=21\n",
      "B*4=2C\n",
      "B*5=37\n",
      "B*6=42\n",
      "B*7=4D\n",
      "B*8=58\n",
      "B*9=63\n",
      "B*A=6E\n",
      "B*B=79\n",
      "B*C=84\n",
      "B*D=8F\n",
      "B*E=9A\n",
      "B*F=A5\n"
     ]
    }
   ],
   "source": [
    "n = int(input(), 16)\n",
    "\n",
    "for i in range(1,16):\n",
    "    print('{:X}*{:X}={:X}'.format(n,i,n*i))"
   ]
  },
  {
   "cell_type": "markdown",
   "id": "fb9b423e",
   "metadata": {},
   "source": [
    "# 6082 : [기초-종합] 3 6 9 게임의 왕이 되자(설명)(py)\n",
    "시간 제한: 1 Sec  메모리 제한: 128 MB\n",
    "\n",
    "친구들과 함께 3 6 9 게임을 하던 영일이는 잦은 실수 때문에 계속해서 벌칙을 받게 되었다.\n",
    "3 6 9 게임의 왕이 되기 위한 369 마스터 프로그램을 작성해 보자.\n"
   ]
  },
  {
   "cell_type": "markdown",
   "id": "5fd48f28",
   "metadata": {},
   "source": [
    "** 3 6 9 게임은?\n",
    "여러 사람이 순서를 정한 후, 순서대로 수를 부르는 게임이다.\n",
    "만약 3, 6, 9 가 들어간 수를 자신이 불러야 하는 상황이라면, 수를 부르는 대신 \"박수(X)\" 를 쳐야 한다.\n",
    "33과 같이 3,6,9가 두 번 들어간 수 일때, \"짝짝\"과 같이 박수를 두 번 치는 형태도 있다. \n",
    "\n",
    "참고 \n",
    "...\n",
    "for i in range(1, n+1) :\n",
    "  if i%10==3 :\n",
    "    print(\"X\", end=' ')    #출력 후 공백문자(빈칸, ' ')로 끝냄\n",
    "..."
   ]
  },
  {
   "cell_type": "code",
   "execution_count": 63,
   "id": "5b36859d",
   "metadata": {},
   "outputs": [
    {
     "name": "stdout",
     "output_type": "stream",
     "text": [
      "9\n",
      "1\n",
      "2\n",
      "X\n",
      "4\n",
      "5\n",
      "X\n",
      "7\n",
      "8\n",
      "X\n"
     ]
    }
   ],
   "source": [
    "n = int(input())\n",
    "for i in range(1,n+1):\n",
    "    if i%10 in [3,6,9]:\n",
    "        print('X')\n",
    "    else:\n",
    "        print(i)\n"
   ]
  },
  {
   "cell_type": "markdown",
   "id": "924bbcb2",
   "metadata": {},
   "source": [
    "# 6083 : [기초-종합] 빛 섞어 색 만들기(설명)(py)\n",
    "시간 제한: 2 Sec   메모리 제한: 128 MB\n",
    "\n",
    "빨강(red), 초록(green), 파랑(blue) 빛을 섞어 여러 가지 다른 색 빛을 만들어 내려고 한다.\n",
    "\n",
    "빨강(r), 초록(g), 파랑(b) 각 빛의 가짓수가 주어질 때,\n",
    "주어진 rgb 빛들을 섞어 만들 수 있는 모든 경우의 조합(r g b)과 만들 수 있는 색의 가짓 수를 계산해보자.  \n",
    "\n",
    "모니터, 스마트폰과 같은 디스플레이에서 각 픽셀의 색을 만들어내기 위해서 r, g, b 색을 조합할 수 있다.\n",
    "\n",
    "픽셀(pixel)은 그림(picture)을 구성하는 셀(cell)에서 이름이 만들어졌다."
   ]
  },
  {
   "cell_type": "code",
   "execution_count": 66,
   "id": "9220170a",
   "metadata": {},
   "outputs": [
    {
     "name": "stdout",
     "output_type": "stream",
     "text": [
      "2 2 2\n",
      "0 0 0\n",
      "0 0 1\n",
      "0 1 0\n",
      "0 1 1\n",
      "1 0 0\n",
      "1 0 1\n",
      "1 1 0\n",
      "1 1 1\n",
      "8\n"
     ]
    }
   ],
   "source": [
    "r,g,b = input().split()\n",
    "cnt = 0\n",
    "for i in range(int(r)):\n",
    "    for j in range(int(g)):\n",
    "        for k in range(int(b)):\n",
    "            print(i,j,k)\n",
    "            cnt+=1\n",
    "print(cnt)"
   ]
  },
  {
   "cell_type": "markdown",
   "id": "8a6a8e9f",
   "metadata": {},
   "source": [
    "# 6084 : [기초-종합] 소리 파일 저장용량 계산하기(py)\n",
    "시간 제한: 1 Sec  메모리 제한: 128 MB\n",
    "\n",
    "소리가 컴퓨터에 저장될 때에는 디지털 데이터화 되어 저장된다.\n",
    "\n",
    "마이크를 통해 1초에 적게는 수십 번, 많게는 수만 번 소리의 강약을 체크하고,\n",
    "한 번씩 체크할 때 마다 그 값을 정수값으로 바꾸어 저장하는 방식으로 소리를 파일로 저장할 수 있다.\n",
    "\n",
    "값을 저장할 때에는 비트를 사용하는 정도에 따라 세세한 녹음 정도를 결정할 수 있고,\n",
    "좌우(스테레오) 채널로 저장하면 2배… 5.1채널이면 6배의 저장공간이 필요하고,\n",
    "녹음 시간이 길면 그 만큼 더 많은 저장공간이 필요하다.\n",
    "\n",
    "1초 동안 마이크로 소리강약을 체크하는 횟수를 h\n",
    "(헤르쯔, Hz 는 1초에 몇 번? 체크하는가를 의미한다.)\n",
    "\n",
    "한 번 체크한 값을 저장할 때 사용하는 비트수를 b\n",
    "(2비트를 사용하면 0 또는 1 두 가지, 16비트를 사용하면 65536가지..)\n",
    "\n",
    "좌우 등 소리를 저장할 트랙 개수인 채널 개수를 c\n",
    "(모노는 1개, 스테레오는 2개의 트랙으로 저장함을 의미한다.)\n",
    "\n",
    "녹음할 시간(초) s가 주어질 때,\n",
    "\n",
    "필요한 저장 용량을 계산하는 프로그램을 작성해보자.\n",
    "\n",
    "실제로, 일반적인 CD 음질(44.1KHz, 16bit, 스테레오)로 1초 동안 저장하려면\n",
    "44100 * 16 * 2 * 1 bit의 저장공간이 필요한데,\n",
    "44100*16*2*1/8/1024/1024 로 계산하면 약 0.168 MB 정도가 필요하다.\n",
    "\n",
    "이렇게 녹음하는 방식을 PCM(Pulse Code Modulation) 방법이라고 하는데,\n",
    "압축하지 않은 순수한(raw) 소리 데이터 파일은 대표적으로 *.wav 가 있다."
   ]
  },
  {
   "cell_type": "code",
   "execution_count": 80,
   "id": "5974050c",
   "metadata": {},
   "outputs": [
    {
     "name": "stdout",
     "output_type": "stream",
     "text": [
      "44100 16 2 10\n",
      "13.5 MB\n"
     ]
    }
   ],
   "source": [
    "h, b, c, s = input().split()\n",
    "n = int(h) * int(b) * int(c) * int(s)\n",
    "print('%.1f MB' %(n/(8*2**20)) )"
   ]
  },
  {
   "cell_type": "markdown",
   "id": "504efe08",
   "metadata": {},
   "source": [
    "# 6085 : [기초-종합] 그림 파일 저장용량 계산하기(py)\n",
    "시간 제한: 1 Sec  메모리 제한: 128 MB\n",
    "\n",
    "이미지가 컴퓨터에 저장될 때에도 디지털 데이터화 되어 저장된다.\n",
    "\n",
    "가장 기본적인 방법으로는 그림을 구성하는 한 점(pixel, 픽셀)의 색상을\n",
    "빨강(r), 초록(g), 파랑(b)의 3가지의 빛의 세기 값으로 따로 변환하여 저장하는 것인데,\n",
    "\n",
    "예를 들어 r, g, b 각 색에 대해서 8비트(0~255, 256가지 가능)씩을 사용한다고 하면,\n",
    "\n",
    "한 점의 색상은 3가지 r, g, b의 8비트+8비트+8비트로 총 24비트로 표현해서\n",
    "총 2^24 가지의 서로 다른 빛의 색깔을 사용할 수 있는 것이다.\n",
    "\n",
    "그렇게 저장하는 점을 모아 하나의 큰 이미지를 저장할 수 있게 되는데,\n",
    "1024 * 768 사이즈에 각 점에 대해 24비트로 저장하면 그 이미지를 저장하기 위한\n",
    "저장 용량을 계산할 수 있다.\n",
    "\n",
    "이렇게 이미지의 원래(raw) 데이터를 압축하지 않고 그대로 저장하는 대표적인 이미지 파일이\n",
    "*.bmp 파일이며, 비트로 그림을 구성한다고 하여 비트맵 방식 또는 래스터 방식이라고 한다.\n",
    "\n",
    "이미지의 가로 해상도 w, 세로 해상도 h, 한 픽셀을 저장하기 위한 비트 b 가 주어질 때,\n",
    "압축하지 않고 저장하기 위해 필요한 저장 용량을 계산하는 프로그램을 작성해 보자.\n",
    "\n",
    "예를 들어\n",
    "일반적인 1024 * 768 사이즈(해상도)의 각점에 대해\n",
    "24비트(rgb 각각 8비트씩 3개)로 저장하려면\n",
    "1024 * 768 * 24 bit의 저장공간이 필요한데,\n",
    "1024*768*24/8/1024/1024 로 계산하면 약 2.25 MB 정도가 필요하다.\n",
    "\n",
    "실제 그런지 확인하고 싶다면, 간단한 그림 편집/수정 프로그램을 통해 확인할 수 있다.\n"
   ]
  },
  {
   "cell_type": "code",
   "execution_count": 86,
   "id": "e325d178",
   "metadata": {},
   "outputs": [
    {
     "name": "stdout",
     "output_type": "stream",
     "text": [
      "1024 768 24\n",
      "2.25\n"
     ]
    }
   ],
   "source": [
    "w,h,b, = input().split()\n",
    "n = int(w)*int(h)*int(b)\n",
    "print('%.2f MB' %(n/(8*2**20)))"
   ]
  },
  {
   "cell_type": "markdown",
   "id": "97287ba5",
   "metadata": {},
   "source": [
    "# 6086 : [기초-종합] 거기까지! 이제 그만~(설명)(py)\n",
    "시간 제한: 1 Sec  메모리 제한: 128 MB\n",
    "\n",
    "1, 2, 3 ... 을 순서대로 계속 더해 합을 만드는데,\n",
    "그 합이 입력한 정수보다 작을 동안만 계속 더하는 프로그램을 작성해보자.\n",
    "\n",
    "즉, 1부터 n까지 정수를 하나씩 더해 합을 만드는데,\n",
    "어디까지 더해야 입력한 수보다 같거나 커지는지 알아보고자 하는 문제이다.\n",
    "\n",
    "하지만, 이번에는 그 때 까지의 합을 출력해야 한다.\n",
    "\n",
    "예를 들어, 57을 입력하면\n",
    "1+2+3+...+8+9+10=55에서 그 다음 수인 11을 더해 66이 될 때,\n",
    "그 값 66이 출력되어야 한다.\n"
   ]
  },
  {
   "cell_type": "code",
   "execution_count": 89,
   "id": "1c84fb66",
   "metadata": {},
   "outputs": [
    {
     "name": "stdout",
     "output_type": "stream",
     "text": [
      "57\n",
      "66\n"
     ]
    }
   ],
   "source": [
    "n = int(input())\n",
    "i = 1\n",
    "sum_ = 0\n",
    "while True:\n",
    "    sum_ += i\n",
    "    if sum_ >= n:\n",
    "        break\n",
    "    i += 1\n",
    "print(sum_)\n"
   ]
  },
  {
   "cell_type": "markdown",
   "id": "6041a43d",
   "metadata": {},
   "source": [
    "# 6087 : [기초-종합] 3의 배수는 통과(설명)(py)\n",
    "시간 제한: 1 Sec  메모리 제한: 128 MB\n",
    "\n",
    "1부터 입력한 정수까지 1씩 증가시켜 출력하는 프로그램을 작성하되,\n",
    "3의 배수인 경우는 출력하지 않도록 만들어보자.\n",
    "\n",
    "예를 들면,\n",
    "1 2 4 5 7 8 10 11 13 14 ...\n",
    "와 같이 출력하는 것이다."
   ]
  },
  {
   "cell_type": "code",
   "execution_count": 98,
   "id": "ab27a5e7",
   "metadata": {},
   "outputs": [
    {
     "name": "stdout",
     "output_type": "stream",
     "text": [
      "10\n",
      "1\n",
      "2\n",
      "4\n",
      "5\n",
      "7\n",
      "8\n",
      "10\n"
     ]
    }
   ],
   "source": [
    "n = int(input())\n",
    "i = 1\n",
    "while i <= n:\n",
    "    if i % 3 != 0:\n",
    "        print(i)\n",
    "    i += 1"
   ]
  },
  {
   "cell_type": "markdown",
   "id": "9f24fb35",
   "metadata": {},
   "source": [
    "# 6088 : [기초-종합] 수 나열하기1(py)\n",
    "시간 제한: 1 Sec  메모리 제한: 128 MB\n",
    "\n",
    "어떤 규칙에 따라 수를 순서대로 나열한 것을 수열(sequences)이라고 한다.\n",
    "\n",
    "예를 들어\n",
    "1 4 7 10 13 16 19 22 25 ... 은\n",
    "1부터 시작해 이전에 만든 수에 3을 더해 다음 수를 만든 수열이다.\n",
    "이러한 것을 수학에서는 앞뒤 수들의 차이가 같다고 하여\n",
    "\n",
    "등차(차이가 같다의 한문 말) 수열이라고 한다. (등차수열 : arithmetic progression/sequence)\n",
    "수열을 알게 된 영일이는 갑자기 궁금해졌다.\n",
    "\n",
    "\"그럼.... 123번째 나오는 수는 뭘까?\"\n",
    "\n",
    "영일이는 프로그램을 만들어 더 큰 수도 자동으로 계산하고 싶어졌다.\n",
    "\n",
    "시작 값(a), 등차(d), 몇 번째인지를 나타내는 정수(n)가 입력될 때\n",
    "n번째 수를 출력하는 프로그램을 만들어보자."
   ]
  },
  {
   "cell_type": "code",
   "execution_count": 90,
   "id": "95010c96",
   "metadata": {},
   "outputs": [
    {
     "name": "stdout",
     "output_type": "stream",
     "text": [
      "1 3 5\n",
      "13\n"
     ]
    }
   ],
   "source": [
    "a, d, n = input().split()\n",
    "\n",
    "print(int(a) + int(d)*(int(n)-1))"
   ]
  },
  {
   "cell_type": "markdown",
   "id": "2e365470",
   "metadata": {},
   "source": [
    "# 6089 : [기초-종합] 수 나열하기2(py)\n",
    "시간 제한: 1 Sec  메모리 제한: 128 MB\n",
    "\n",
    "어떤 규칙에 따라 수를 순서대로 나열한 것을 수열(sequences)이라고 한다.\n",
    "\n",
    "예를 들어\n",
    "2 6 18 54 162 486 ... 은\n",
    "2부터 시작해 이전에 만든 수에 3을 곱해 다음 수를 만든 수열이다.\n",
    "\n",
    "이러한 것을 수학에서는 앞뒤 수들의 비율이 같다고 하여\n",
    "등비(비율이 같다의 한문 말) 수열이라고 한다. (등비수열 : geometric progression/sequence)\n",
    "\n",
    "등비 수열을 알게된 영일이는 갑자기 궁금해졌다.\n",
    "\"그럼.... 13번째 나오는 수는 뭘까?\"\n",
    "영일이는 프로그램을 만들어 더 큰 수도 자동으로 계산하고 싶어졌다.\n",
    "\n",
    "시작 값(a), 등비(r), 몇 번째인지를 나타내는 정수(n)가 입력될 때\n",
    "n번째 수를 출력하는 프로그램을 만들어보자.\n"
   ]
  },
  {
   "cell_type": "code",
   "execution_count": 91,
   "id": "290b362f",
   "metadata": {},
   "outputs": [
    {
     "name": "stdout",
     "output_type": "stream",
     "text": [
      "2 3 7\n",
      "1458\n"
     ]
    }
   ],
   "source": [
    "a,r,n = input().split()\n",
    "a = int(a)\n",
    "r = int(r)\n",
    "n = int(n)\n",
    "\n",
    "print(a*r**(n-1))"
   ]
  },
  {
   "cell_type": "markdown",
   "id": "e2db4910",
   "metadata": {},
   "source": [
    "# 6090 : [기초-종합] 수 나열하기3(py)\n",
    "시간 제한: 1 Sec  메모리 제한: 128 MB\n",
    "\n",
    "어떤 규칙에 따라 수를 순서대로 나열한 것을 수열(sequences)이라고 한다.\n",
    "\n",
    "예를 들어\n",
    "1 -1 3 -5 11 -21 43 ... 은\n",
    "1부터 시작해 이전에 만든 수에 -2를 곱한 다음 1을 더해 다음 수를 만든 수열이다.\n",
    "\n",
    "이런 이상한 수열을 알게 된 영일이는 또 궁금해졌다.\n",
    "\"그럼.... 13번째 나오는 수는 뭘까?\"\n",
    "\n",
    "영일이는 물론 수학을 아주 잘하지만 이런 문제는 본 적이 거의 없었다...\n",
    "그래서 프로그램을 만들어 더 큰 수도 자동으로 계산하고 싶어졌다.\n",
    "\n",
    "시작 값(a), 곱할 값(m), 더할 값(d), 몇 번째인지를 나타내는 정수(n)가 입력될 때,\n",
    "n번째 수를 출력하는 프로그램을 만들어보자."
   ]
  },
  {
   "cell_type": "code",
   "execution_count": 92,
   "id": "13f8f5a6",
   "metadata": {},
   "outputs": [
    {
     "name": "stdout",
     "output_type": "stream",
     "text": [
      "1 -2 1 8\n",
      "-85\n"
     ]
    }
   ],
   "source": [
    "a,m,d,n = input().split()\n",
    "a = int(a)\n",
    "m = int(m)\n",
    "d = int(d)\n",
    "n = int(n)\n",
    "\n",
    "f = a\n",
    "for i in range(1,n):\n",
    "    f = f*m +d\n",
    "\n",
    "print(f)"
   ]
  },
  {
   "cell_type": "markdown",
   "id": "50429000",
   "metadata": {},
   "source": [
    "#  6091 : [기초-종합] 함께 문제 푸는 날(설명)(py)\n",
    "시간 제한: 1 Sec  메모리 제한: 128 MB\n",
    "\n",
    "온라인 채점시스템에는 초등학생, 중고등학생, 대학생, 대학원생,\n",
    "일반인, 군인, 프로그래머, 탑코더 등 아주 많은 사람들이 들어와 문제를 풀고 있는데,\n",
    "\n",
    "실시간 채점 정보는 메뉴의 채점기록(Judge Status)을 통해 살펴볼 수 있다.\n",
    "\n",
    "자! 여기서...잠깐..\n",
    "같은 날 동시에 가입한 3명의 사람들이 온라인 채점시스템에 들어와 문제를 푸는 날짜가\n",
    "매우 규칙적이라고 할 때, 다시 모두 함께 문제를 풀게 되는 그날은 언제일까?\n",
    "\n",
    "예를 들어 3명이 같은 날 가입/등업하고, 각각 3일마다, 7일마다, 9일마다\n",
    "한 번씩 들어온다면, 처음 가입하고 63일 만에 다시 3명이 함께 문제를 풀게 된다.\n",
    "\n",
    "갑자기 힌트?\n",
    "왠지 어려워 보이지 않는가?\n",
    "수학에서 배운 최소공배수를 생각한 사람들도 있을 것이다. 하지만, 정보에서 배우고 경험하는\n",
    "정보과학의 세상은 때때로 컴퓨터의 힘을 빌려 간단한 방법으로 해결할 수 있게 한다.\n",
    "\n",
    "아래의 코드를 읽고 이해한 후 도전해 보자.\n",
    "day는 날 수, a/b/c는 방문 주기이다."
   ]
  },
  {
   "cell_type": "markdown",
   "id": "f6fd8190",
   "metadata": {},
   "source": [
    "...\n",
    "d = 1\n",
    "while d%a!=0 or d%b!=0 or d%c!=0 :\n",
    "  d += 1\n",
    "print(d)\n",
    "..."
   ]
  },
  {
   "cell_type": "code",
   "execution_count": 94,
   "id": "d24b79ca",
   "metadata": {},
   "outputs": [
    {
     "name": "stdout",
     "output_type": "stream",
     "text": [
      "3 7 9\n",
      "63\n"
     ]
    }
   ],
   "source": [
    "a,b,c = input().split()\n",
    "a = int(a)\n",
    "b = int(b)\n",
    "c = int(c)\n",
    "\n",
    "d = 1\n",
    "while d%a != 0 or d%b != 0 or d%c != 0 :\n",
    "    d += 1 \n",
    "print(d)"
   ]
  },
  {
   "cell_type": "code",
   "execution_count": null,
   "id": "dc2e9eee",
   "metadata": {},
   "outputs": [],
   "source": []
  }
 ],
 "metadata": {
  "kernelspec": {
   "display_name": "Python 3 (ipykernel)",
   "language": "python",
   "name": "python3"
  },
  "language_info": {
   "codemirror_mode": {
    "name": "ipython",
    "version": 3
   },
   "file_extension": ".py",
   "mimetype": "text/x-python",
   "name": "python",
   "nbconvert_exporter": "python",
   "pygments_lexer": "ipython3",
   "version": "3.9.7"
  }
 },
 "nbformat": 4,
 "nbformat_minor": 5
}
