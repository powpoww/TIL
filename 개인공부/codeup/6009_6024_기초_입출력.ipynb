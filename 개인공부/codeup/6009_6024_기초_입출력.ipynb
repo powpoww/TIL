{
 "cells": [
  {
   "cell_type": "markdown",
   "id": "96678bb8",
   "metadata": {},
   "source": [
    "# 6009 : [기초-입출력] 문자 1개 입력받아 그대로 출력하기(설명)(py)\n",
    "시간 제한: 1 Sec  메모리 제한: 128 MB"
   ]
  },
  {
   "cell_type": "markdown",
   "id": "804dd76f",
   "metadata": {},
   "source": [
    "문자(character)는\n",
    "0~9, a~z, A~Z, !, @, #, {, [, <, ... 과 같이 \n",
    "길이가 1인 기호라고 할 수 있다.\n",
    "\n",
    "변수에 문자 1개를 저장한 후\n",
    "변수에 저장되어 있는 문자를 그대로 출력해보자.\n",
    "\n",
    "예시\n",
    "c = input()\n",
    "print(c)\n",
    "\n",
    "와 같은 형태로 가능하다."
   ]
  },
  {
   "cell_type": "code",
   "execution_count": 2,
   "id": "a23d68b9",
   "metadata": {},
   "outputs": [
    {
     "name": "stdout",
     "output_type": "stream",
     "text": [
      "a\n",
      "a\n"
     ]
    }
   ],
   "source": [
    "c = str(input())\n",
    "print(c)"
   ]
  },
  {
   "cell_type": "markdown",
   "id": "65f70b43",
   "metadata": {},
   "source": [
    "# 6010 : [기초-입출력] 정수 1개 입력받아 int로 변환하여 출력하기(설명)(py)\n",
    "시간 제한: 1 Sec  메모리 제한: 128 MB"
   ]
  },
  {
   "cell_type": "markdown",
   "id": "6e784434",
   "metadata": {},
   "source": [
    "정수(integer)는\n",
    "양의 정수(1, 2, 3, 4, 5, ...), 음의 정수(-1, -2, -3, -4, -5, ...), 0 과 같이\n",
    "소숫점 아래에 수가 없는 수라고 할 수 있다.\n",
    "\n",
    "변수에 정수값을 저장한 후 정수로 변환하여 출력해보자.\n",
    "\n",
    "예시\n",
    "n = input()\n",
    "n = int(n)\n",
    "print(n)\n",
    "와 같은 형태로 가능하다."
   ]
  },
  {
   "cell_type": "code",
   "execution_count": 3,
   "id": "373d913a",
   "metadata": {},
   "outputs": [
    {
     "name": "stdout",
     "output_type": "stream",
     "text": [
      "1\n",
      "1\n"
     ]
    }
   ],
   "source": [
    "n = int(input())\n",
    "print(n)"
   ]
  },
  {
   "cell_type": "markdown",
   "id": "0550faf1",
   "metadata": {},
   "source": [
    "# 6011 : [기초-입출력] 실수 1개 입력받아 변환하여 출력하기(설명)(py)\n",
    "시간 제한: 1 Sec  메모리 제한: 128 MB"
   ]
  },
  {
   "cell_type": "code",
   "execution_count": null,
   "id": "8344c73e",
   "metadata": {},
   "outputs": [],
   "source": [
    "숫자(0~9)와 소수점(.)을 사용해 표현한 수를 실수(real number)라고 한다.\n",
    "\n",
    "변수에 실수값을 저장한 후\n",
    "변수에 저장되어 있는 값을 그대로 출력해보자.\n",
    "\n",
    "예시\n",
    "f = input()\n",
    "f = float(f)\n",
    "print(f)\n",
    "와 같은 형태로 가능하다."
   ]
  },
  {
   "cell_type": "code",
   "execution_count": 4,
   "id": "40465681",
   "metadata": {},
   "outputs": [
    {
     "name": "stdout",
     "output_type": "stream",
     "text": [
      "3.2\n",
      "3.2\n"
     ]
    }
   ],
   "source": [
    "f = float(input())\n",
    "print(f)"
   ]
  },
  {
   "cell_type": "markdown",
   "id": "df06b202",
   "metadata": {},
   "source": [
    "# 6012 : [기초-입출력] 정수 2개 입력받아 그대로 출력하기1(설명)(py)\n",
    "시간 제한: 1 Sec  메모리 제한: 128 MB\n",
    "\n",
    "줄을 바꿔 정수(integer) 2개를 입력받아 줄을 바꿔 출력해보자.\n",
    "\n",
    "예시\n",
    "a = input() \n",
    "b = input()\n",
    "print(a)\n",
    "print(b)\n",
    "과 같은 방법으로 가능하다."
   ]
  },
  {
   "cell_type": "code",
   "execution_count": 5,
   "id": "a64da4cb",
   "metadata": {},
   "outputs": [
    {
     "name": "stdout",
     "output_type": "stream",
     "text": [
      "1\n",
      "2\n",
      "1\n",
      "2\n"
     ]
    }
   ],
   "source": [
    "a = input()\n",
    "b = input()\n",
    "print(a)\n",
    "print(b)"
   ]
  },
  {
   "cell_type": "markdown",
   "id": "360c8611",
   "metadata": {},
   "source": [
    "# 6013 : [기초-입출력] 문자 2개 입력받아 순서 바꿔 출력하기1(py)\n",
    "시간 제한: 1 Sec  메모리 제한: 128 MB\n",
    "\n",
    "줄을 바꿔 문자(character) 2개를 입력받고, 순서를 바꿔 한 줄씩 출력해보자.\n"
   ]
  },
  {
   "cell_type": "code",
   "execution_count": 6,
   "id": "fbee8094",
   "metadata": {},
   "outputs": [
    {
     "name": "stdout",
     "output_type": "stream",
     "text": [
      "a\n",
      "b\n",
      "b\n",
      "a\n"
     ]
    }
   ],
   "source": [
    "a = input()\n",
    "b = input()\n",
    "print(b)\n",
    "print(a)"
   ]
  },
  {
   "cell_type": "markdown",
   "id": "29fc915b",
   "metadata": {},
   "source": [
    "# 6014 : [기초-입출력] 실수 1개 입력받아 3번 출력하기(py)\n",
    "시간 제한: 1 Sec  메모리 제한: 128 MB\n",
    "\n",
    "실수(real number) 1개를 입력받아 줄을 바꿔 3번 출력해보자.\n"
   ]
  },
  {
   "cell_type": "code",
   "execution_count": 7,
   "id": "30be83c8",
   "metadata": {},
   "outputs": [
    {
     "name": "stdout",
     "output_type": "stream",
     "text": [
      "3.4\n",
      "3.4\n",
      "3.4\n",
      "3.4\n"
     ]
    }
   ],
   "source": [
    "f = input()\n",
    "print(f)\n",
    "print(f)\n",
    "print(f)"
   ]
  },
  {
   "cell_type": "markdown",
   "id": "ed27c886",
   "metadata": {},
   "source": [
    "# 6015 : [기초-입출력] 정수 2개 입력받아 그대로 출력하기2(설명)(py)\n",
    "시간 제한: 1 Sec  메모리 제한: 128 MB"
   ]
  },
  {
   "cell_type": "markdown",
   "id": "4c4edd41",
   "metadata": {},
   "source": [
    "공백을 두고 입력된정수(integer) 2개를 입력받아 줄을 바꿔 출력해보자.\n",
    "\n",
    "예시\n",
    "a, b = input().split()\n",
    "print(a)\n",
    "print(b)\n",
    "과 같은 방법으로 두 정수를 입력받아 출력할 수 있다."
   ]
  },
  {
   "cell_type": "code",
   "execution_count": 9,
   "id": "c9d83ed1",
   "metadata": {},
   "outputs": [
    {
     "name": "stdout",
     "output_type": "stream",
     "text": [
      "1 2\n",
      "1\n",
      "2\n"
     ]
    }
   ],
   "source": [
    "a, b = input().split()\n",
    "print(a)\n",
    "print(b)"
   ]
  },
  {
   "cell_type": "markdown",
   "id": "2b5774c7",
   "metadata": {},
   "source": [
    "# 6016 : [기초-입출력] 문자 2개 입력받아 순서 바꿔 출력하기2(설명)(py)\n",
    "시간 제한: 1 Sec  메모리 제한: 128 MB\n",
    "\n",
    "공백을 두고 문자(character) 2개를 입력받아 순서를 바꿔 출력해보자."
   ]
  },
  {
   "cell_type": "code",
   "execution_count": 10,
   "id": "68cccf27",
   "metadata": {},
   "outputs": [
    {
     "name": "stdout",
     "output_type": "stream",
     "text": [
      "a b\n",
      "b\n",
      "a\n"
     ]
    }
   ],
   "source": [
    "a,b = input().split()\n",
    "print(b)\n",
    "print(a)"
   ]
  },
  {
   "cell_type": "markdown",
   "id": "918fe63a",
   "metadata": {},
   "source": [
    "# 6017 : [기초-입출력] 문장 1개 입력받아 3번 출력하기(설명)(py)\n",
    "시간 제한: 1 Sec  메모리 제한: 128 MB\n",
    "\n",
    "정수(integer), 실수, 문자(character), 문자열(string) 등 1개만 입력받아 한 줄로 3번 출력해보자.\n"
   ]
  },
  {
   "cell_type": "code",
   "execution_count": 11,
   "id": "36370db5",
   "metadata": {},
   "outputs": [
    {
     "name": "stdout",
     "output_type": "stream",
     "text": [
      "1\n",
      "1 1 1\n"
     ]
    }
   ],
   "source": [
    "a = input()\n",
    "print(a, a, a)"
   ]
  },
  {
   "cell_type": "markdown",
   "id": "52f836be",
   "metadata": {},
   "source": [
    "# 6018 : [기초-입출력] 시간 입력받아 그대로 출력하기(설명)(py)\n",
    "시간 제한: 1 Sec  메모리 제한: 128 MB"
   ]
  },
  {
   "cell_type": "markdown",
   "id": "9ae6fdbd",
   "metadata": {},
   "source": [
    "24시간 시:분 형식으로 시간이 입력될 때, 그대로 출력하는 연습을 해보자.\n",
    "\n",
    "예시\n",
    "a, b = input().split(':')\n",
    "print(a, b, sep=':')\n",
    "와 같은 방법으로 가능하다."
   ]
  },
  {
   "cell_type": "code",
   "execution_count": 13,
   "id": "433bb898",
   "metadata": {},
   "outputs": [
    {
     "name": "stdout",
     "output_type": "stream",
     "text": [
      "12:24\n",
      "12:24\n"
     ]
    }
   ],
   "source": [
    "a,b = input().split(':')\n",
    "print(a,b,sep=':')"
   ]
  },
  {
   "cell_type": "markdown",
   "id": "e649b51d",
   "metadata": {},
   "source": [
    "# 6019 : [기초-입출력] 연월일 입력받아 순서 바꿔 출력하기(py)\n",
    "시간 제한: 1 Sec  메모리 제한: 128 MB\n",
    "\n",
    "\"연도.월.일\"을 입력받아 \"일-월-연도\" 순서로 바꿔 출력해보자."
   ]
  },
  {
   "cell_type": "code",
   "execution_count": 14,
   "id": "bd6429b6",
   "metadata": {},
   "outputs": [
    {
     "name": "stdout",
     "output_type": "stream",
     "text": [
      "2003.12.24\n",
      "24-12-2003\n"
     ]
    }
   ],
   "source": [
    "year,month,day = input().split('.')\n",
    "print(day,month,year, sep='-')"
   ]
  },
  {
   "cell_type": "markdown",
   "id": "e643d5b3",
   "metadata": {},
   "source": [
    "# 6020 : [기초-입출력] 주민번호 입력받아 형태 바꿔 출력하기(py)\n",
    "시간 제한: 1 Sec  메모리 제한: 128 MB\n",
    "\n",
    "주민번호는 다음과 같이 구성된다.\n",
    "XXXXXX-XXXXXXX\n",
    "\n",
    "왼쪽 6자리는 생년월일(YYMMDD)이고, 오른쪽 7자리는 성별,출생지역,확인코드로 구성되어있다.\n",
    "주민번호를 입력받아 형태를 바꿔 출력해보자.\n"
   ]
  },
  {
   "cell_type": "code",
   "execution_count": 16,
   "id": "92de61ba",
   "metadata": {},
   "outputs": [
    {
     "name": "stdout",
     "output_type": "stream",
     "text": [
      "111111-2222222\n",
      "1111112222222\n"
     ]
    }
   ],
   "source": [
    "id_a, id_b = input().split('-')\n",
    "print(id_a, id_b, sep='')"
   ]
  },
  {
   "cell_type": "markdown",
   "id": "bc1aba46",
   "metadata": {},
   "source": [
    "# 6021 : [기초-입출력] 단어 1개 입력받아 나누어 출력하기(설명)(py)\n",
    "시간 제한: 1 Sec  메모리 제한: 128 MB"
   ]
  },
  {
   "cell_type": "markdown",
   "id": "d718ea2e",
   "metadata": {},
   "source": [
    "알파벳과 숫자로 이루어진 단어 1개가 입력된다.\n",
    "입력받은 단어의 각 문자를 한 줄에 한 문자씩 분리해 출력한다.\n",
    "\n",
    "예시\n",
    "s = input()\n",
    "print(s[0])\n",
    "print(s[1])\n",
    "...\n",
    "\n",
    "참고\n",
    "s[0] 은 첫 번째 문자를 의미한다."
   ]
  },
  {
   "cell_type": "code",
   "execution_count": 20,
   "id": "1c061283",
   "metadata": {},
   "outputs": [
    {
     "name": "stdout",
     "output_type": "stream",
     "text": [
      "a123sd\n",
      "a\n",
      "1\n",
      "2\n",
      "3\n",
      "s\n",
      "d\n"
     ]
    }
   ],
   "source": [
    "s = str(input())\n",
    "\n",
    "for i in s:\n",
    "    print(i)"
   ]
  },
  {
   "cell_type": "markdown",
   "id": "24ead600",
   "metadata": {},
   "source": [
    "# 6022 : [기초-입출력] 연월일 입력받아 나누어 출력하기(설명)(py)\n",
    "시간 제한: 1 Sec  메모리 제한: 128 MB\n",
    "\n",
    "6자리의 연월일(YYMMDD)을 입력받아 나누어 출력해보자.\n"
   ]
  },
  {
   "cell_type": "code",
   "execution_count": 21,
   "id": "6c9c97d6",
   "metadata": {},
   "outputs": [
    {
     "name": "stdout",
     "output_type": "stream",
     "text": [
      "930616\n",
      "93\n",
      "06\n",
      "16\n"
     ]
    }
   ],
   "source": [
    "birth = input()\n",
    "print(birth[:2])\n",
    "print(birth[2:4])\n",
    "print(birth[-2:])"
   ]
  },
  {
   "cell_type": "markdown",
   "id": "2d32f3ef",
   "metadata": {},
   "source": [
    "# 6023 : [기초-입출력] 시분초 입력받아 분만 출력하기(py)\n",
    "시간 제한: 1 Sec  메모리 제한: 128 MB\n",
    "\n",
    "시:분:초 형식으로 시간이 입력될 때 분만 출력해보자.\n",
    "\n",
    "어떻게 분만 출력해야 할지 주의 깊게 생각해야한다.\n"
   ]
  },
  {
   "cell_type": "code",
   "execution_count": 22,
   "id": "bf4bd6b9",
   "metadata": {},
   "outputs": [
    {
     "name": "stdout",
     "output_type": "stream",
     "text": [
      "1:2:3\n",
      "2\n"
     ]
    }
   ],
   "source": [
    "h,m,s = input().split(':')\n",
    "print(m)"
   ]
  },
  {
   "cell_type": "markdown",
   "id": "0c616b9e",
   "metadata": {},
   "source": [
    "# 6024 : [기초-입출력] 단어 2개 입력받아 이어 붙이기(설명)(py)\n",
    "시간 제한: 1 Sec  메모리 제한: 128 MB"
   ]
  },
  {
   "cell_type": "markdown",
   "id": "71aed3b0",
   "metadata": {},
   "source": [
    "알파벳 문자와 숫자로 이루어진 단어 2개를 입력받아\n",
    "순서대로 붙여 출력하는 프로그램을 작성해보자.\n",
    "\n",
    "예시\n",
    "w1, w2 = input().split()\n",
    "s = w1 + w2\n",
    "print(s)\n",
    "\n",
    "ex) hello world"
   ]
  },
  {
   "cell_type": "code",
   "execution_count": 23,
   "id": "bf6c9c99",
   "metadata": {},
   "outputs": [
    {
     "name": "stdout",
     "output_type": "stream",
     "text": [
      "hello world\n",
      "helloworld\n"
     ]
    }
   ],
   "source": [
    "w1, w2 = input().split()\n",
    "s = w1+w2\n",
    "print(s)"
   ]
  },
  {
   "cell_type": "code",
   "execution_count": null,
   "id": "5793b0e0",
   "metadata": {},
   "outputs": [],
   "source": []
  }
 ],
 "metadata": {
  "kernelspec": {
   "display_name": "Python 3 (ipykernel)",
   "language": "python",
   "name": "python3"
  },
  "language_info": {
   "codemirror_mode": {
    "name": "ipython",
    "version": 3
   },
   "file_extension": ".py",
   "mimetype": "text/x-python",
   "name": "python",
   "nbconvert_exporter": "python",
   "pygments_lexer": "ipython3",
   "version": "3.9.7"
  }
 },
 "nbformat": 4,
 "nbformat_minor": 5
}
