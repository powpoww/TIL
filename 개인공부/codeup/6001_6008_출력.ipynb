{
 "cells": [
  {
   "cell_type": "markdown",
   "id": "9abf51fc",
   "metadata": {},
   "source": [
    "# 6001 : [기초-출력] 출력하기01(설명)(py)\n",
    "\n",
    "python 언어에서 가장 기본적인 명령이 출력문이다.\n",
    "print( )를 이용해 다음 단어를 출력하시오.\n",
    "\n",
    "Hello"
   ]
  },
  {
   "cell_type": "code",
   "execution_count": 1,
   "id": "55044c43",
   "metadata": {},
   "outputs": [
    {
     "name": "stdout",
     "output_type": "stream",
     "text": [
      "Hello\n"
     ]
    }
   ],
   "source": [
    "print('Hello')"
   ]
  },
  {
   "cell_type": "markdown",
   "id": "1ea7476b",
   "metadata": {},
   "source": [
    "# 6002 : [기초-출력] 출력하기02(설명)(py)\n",
    "\n",
    "이번에는 공백( )을 포함한 문장을 출력한다.\n",
    "다음 문장을 출력해보자.\n",
    "\n",
    "Hello World\n",
    "(대소문자에 주의한다.)"
   ]
  },
  {
   "cell_type": "code",
   "execution_count": 2,
   "id": "fb7663db",
   "metadata": {},
   "outputs": [
    {
     "name": "stdout",
     "output_type": "stream",
     "text": [
      "Hello World\n"
     ]
    }
   ],
   "source": [
    "print('Hello World')"
   ]
  },
  {
   "cell_type": "markdown",
   "id": "6437e918",
   "metadata": {},
   "source": [
    "# 6003 : [기초-출력] 출력하기03(설명)(py)\n",
    "시간 제한: 1 Sec  메모리 제한: 128 MB\n",
    "\n",
    "이번에는 줄을 바꿔 출력하는 출력문을 연습해보자.\n",
    "다음과 같이 줄을 바꿔 출력해야 한다.\n",
    "\n",
    "Hello\\\n",
    "World\n",
    "(두 줄에 걸쳐 줄을 바꿔 출력)"
   ]
  },
  {
   "cell_type": "code",
   "execution_count": 3,
   "id": "fcdcef7b",
   "metadata": {},
   "outputs": [
    {
     "name": "stdout",
     "output_type": "stream",
     "text": [
      "Hello\n",
      "World\n"
     ]
    }
   ],
   "source": [
    "print('Hello')\n",
    "print('World')"
   ]
  },
  {
   "cell_type": "markdown",
   "id": "ff0a33e7",
   "metadata": {},
   "source": [
    "# 6004 : [기초-출력] 출력하기04(설명)(py)\n",
    "시간 제한: 1 Sec  메모리 제한: 128 MB\n",
    "\n",
    "이번에는 작은 따옴표(')(single quotation mark)가 들어있는\n",
    "출력문 연습을 해보자.\n",
    "\n",
    "다음 문장을 출력하시오.\n",
    "\n",
    "'Hello'"
   ]
  },
  {
   "cell_type": "code",
   "execution_count": 4,
   "id": "3591b17a",
   "metadata": {},
   "outputs": [
    {
     "name": "stdout",
     "output_type": "stream",
     "text": [
      "'Hello'\n"
     ]
    }
   ],
   "source": [
    "print(\"'Hello'\")"
   ]
  },
  {
   "cell_type": "markdown",
   "id": "01c9534d",
   "metadata": {},
   "source": [
    "# 6005 : [기초-출력] 출력하기05(설명)(py)\n",
    "시간 제한: 1 Sec  메모리 제한: 128 MB\n",
    "\n",
    "이번에는 큰따옴표(\")(double quotation mark)가 포함된 출력문을 연습해보자.\n",
    "\n",
    "다음 문장을 출력하시오.\n",
    "\n",
    "\"Hello World\"\n",
    "(단, 큰따옴표도 함께 출력한다.)"
   ]
  },
  {
   "cell_type": "code",
   "execution_count": 5,
   "id": "580e627f",
   "metadata": {},
   "outputs": [
    {
     "name": "stdout",
     "output_type": "stream",
     "text": [
      "\"Hello World\"\n"
     ]
    }
   ],
   "source": [
    "print('\"Hello World\"')"
   ]
  },
  {
   "cell_type": "markdown",
   "id": "c3132a11",
   "metadata": {},
   "source": [
    "# 6006 : [기초-출력] 출력하기06(py)\n",
    "시간 제한: 1 Sec  메모리 제한: 128 MB\n",
    "\n",
    "이번에는 특수문자 출력에 도전하자!!\n",
    "\n",
    "다음 문장을 출력하시오.\n",
    "\n",
    "\"!@#$%^&*()'\n",
    "(단, 큰따옴표와 작은따옴표도 함께 출력한다.)"
   ]
  },
  {
   "cell_type": "code",
   "execution_count": 6,
   "id": "c6e03357",
   "metadata": {},
   "outputs": [
    {
     "name": "stdout",
     "output_type": "stream",
     "text": [
      "\"!@#$%^&*()'\n"
     ]
    }
   ],
   "source": [
    "print(\"\\\"!@#$%^&*()'\")"
   ]
  },
  {
   "cell_type": "markdown",
   "id": "9f27a272",
   "metadata": {},
   "source": [
    "# 6007 : [기초-출력] 출력하기07(py)\n",
    "시간 제한: 1 Sec  메모리 제한: 128 MB\n",
    "\n",
    "윈도우 운영체제의 파일 경로를 출력하는 연습을 해보자.\n",
    " \n",
    "파일 경로에는 특수문자들이 포함된다.\n",
    "\n",
    "다음 경로를 출력하시오.\n",
    "\n",
    "\"C:\\Download\\\\'hello'.py\"\n",
    "(단, 따옴표도 함께 출력한다.)"
   ]
  },
  {
   "cell_type": "code",
   "execution_count": 8,
   "id": "2a5c68a3",
   "metadata": {},
   "outputs": [
    {
     "name": "stdout",
     "output_type": "stream",
     "text": [
      "\"C:\\Download\\'hello'.py\"\n"
     ]
    }
   ],
   "source": [
    "print('\"C:\\Download\\\\\\'hello\\'.py\"')"
   ]
  },
  {
   "cell_type": "markdown",
   "id": "f8ced127",
   "metadata": {},
   "source": [
    "# 6008 : [기초-출력] 출력하기08(py)\n",
    "시간 제한: 1 Sec  메모리 제한: 128 MB\n",
    "\n",
    "출력문 연습의 마지막 문제이다.\n",
    "(생각과 시도를 많이 해야하는 문제들은 한 두 문제씩 넘겼다가 나중에 풀어보면 된다.)\n",
    "\n",
    "이번에는 다음과 같은 python프로그램의 소스코드를 출력해보자.\n",
    "\n",
    "print(\"Hello\\nWorld\")\n",
    "\n",
    "위 코드를 정확히 그대로 출력하시오.(공백문자 주의)"
   ]
  },
  {
   "cell_type": "code",
   "execution_count": 9,
   "id": "f8fbc979",
   "metadata": {},
   "outputs": [
    {
     "name": "stdout",
     "output_type": "stream",
     "text": [
      "print(\"Hello\\nWorld\")\n"
     ]
    }
   ],
   "source": [
    "print('print(\"Hello\\\\nWorld\")')"
   ]
  },
  {
   "cell_type": "code",
   "execution_count": null,
   "id": "169a7542",
   "metadata": {},
   "outputs": [],
   "source": []
  }
 ],
 "metadata": {
  "kernelspec": {
   "display_name": "Python 3 (ipykernel)",
   "language": "python",
   "name": "python3"
  },
  "language_info": {
   "codemirror_mode": {
    "name": "ipython",
    "version": 3
   },
   "file_extension": ".py",
   "mimetype": "text/x-python",
   "name": "python",
   "nbconvert_exporter": "python",
   "pygments_lexer": "ipython3",
   "version": "3.9.7"
  }
 },
 "nbformat": 4,
 "nbformat_minor": 5
}
