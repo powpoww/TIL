{
 "cells": [
  {
   "cell_type": "markdown",
   "id": "03404aa8",
   "metadata": {},
   "source": [
    "# 6048 : [기초-비교연산] 정수 2개 입력받아 비교하기1(설명)(py)\n",
    "시간 제한: 1 Sec  메모리 제한: 128 MB\n",
    "\n",
    "두 정수(a, b)를 입력받아\n",
    "a가 b보다 작으면 True 를, a가 b보다 크거나 같으면 False 를 출력하는 프로그램을 작성해보자."
   ]
  },
  {
   "cell_type": "code",
   "execution_count": 3,
   "id": "67952981",
   "metadata": {},
   "outputs": [
    {
     "name": "stdout",
     "output_type": "stream",
     "text": [
      "10 3\n",
      "False\n"
     ]
    }
   ],
   "source": [
    "a,b = input().split()\n",
    "if int(a) < int(b) :\n",
    "    c = True\n",
    "else :\n",
    "    c = False\n",
    "print(c)"
   ]
  },
  {
   "cell_type": "markdown",
   "id": "f4cfc824",
   "metadata": {},
   "source": [
    "# 6049 : [기초-비교연산] 정수 2개 입력받아 비교하기2(설명)(py)\n",
    "시간 제한: 1 Sec  메모리 제한: 128 MB\n",
    "\n",
    "두 정수(a, b)를 입력받아\n",
    "a와 b의 값이 같으면 True 를, 같지 않으면 False 를 출력하는 프로그램을 작성해보자.\n"
   ]
  },
  {
   "cell_type": "code",
   "execution_count": 4,
   "id": "09161bab",
   "metadata": {},
   "outputs": [
    {
     "name": "stdout",
     "output_type": "stream",
     "text": [
      "0 0\n",
      "True\n"
     ]
    }
   ],
   "source": [
    "a,b = input().split()\n",
    "if int(a) == int(b) :\n",
    "    c = True\n",
    "else :\n",
    "    c = False\n",
    "print(c)"
   ]
  },
  {
   "cell_type": "markdown",
   "id": "1234bbc3",
   "metadata": {},
   "source": [
    "# 6050 : [기초-비교연산] 정수 2개 입력받아 비교하기3(설명)(py)\n",
    "시간 제한: 1 Sec  메모리 제한: 128 MB\n",
    "\n",
    "두 정수(a, b)를 입력받아\n",
    "b의 값이 a의 값 보다 크거나 같으면 True 를, 같지 않으면 False 를 출력하는 프로그램을 작성해보자.\n"
   ]
  },
  {
   "cell_type": "code",
   "execution_count": 5,
   "id": "93da79b0",
   "metadata": {},
   "outputs": [
    {
     "name": "stdout",
     "output_type": "stream",
     "text": [
      "0 -1\n",
      "False\n"
     ]
    }
   ],
   "source": [
    "a,b = input().split()\n",
    "if int(a) <= int(b) :\n",
    "    c = True\n",
    "elif int(a) != int(b) :\n",
    "    c = False\n",
    "print(c)"
   ]
  },
  {
   "cell_type": "markdown",
   "id": "a19953ee",
   "metadata": {},
   "source": [
    "# 6051 : [기초-비교연산] 정수 2개 입력받아 비교하기4(설명)(py)\n",
    "시간 제한: 1 Sec  메모리 제한: 128 MB\n",
    "\n",
    "두 정수(a, b)를 입력받아\n",
    "a의 값이 b의 값과 서로 다르면 True 를, 같으면 False 를 출력하는 프로그램을 작성해보자."
   ]
  },
  {
   "cell_type": "code",
   "execution_count": 6,
   "id": "e269f106",
   "metadata": {},
   "outputs": [
    {
     "name": "stdout",
     "output_type": "stream",
     "text": [
      "0 1\n",
      "True\n"
     ]
    }
   ],
   "source": [
    "a,b = input().split()\n",
    "if int(a) != int(b) :\n",
    "    c = True\n",
    "elif int(a) == int(b) :\n",
    "    c = False\n",
    "print(c)"
   ]
  },
  {
   "cell_type": "code",
   "execution_count": null,
   "id": "1d650502",
   "metadata": {},
   "outputs": [],
   "source": []
  }
 ],
 "metadata": {
  "kernelspec": {
   "display_name": "Python 3 (ipykernel)",
   "language": "python",
   "name": "python3"
  },
  "language_info": {
   "codemirror_mode": {
    "name": "ipython",
    "version": 3
   },
   "file_extension": ".py",
   "mimetype": "text/x-python",
   "name": "python",
   "nbconvert_exporter": "python",
   "pygments_lexer": "ipython3",
   "version": "3.9.7"
  }
 },
 "nbformat": 4,
 "nbformat_minor": 5
}
